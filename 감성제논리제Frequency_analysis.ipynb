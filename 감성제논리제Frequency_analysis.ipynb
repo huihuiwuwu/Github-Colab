{
  "nbformat": 4,
  "nbformat_minor": 0,
  "metadata": {
    "colab": {
      "provenance": [],
      "collapsed_sections": [
        "0hFLPaMQRdXj",
        "xD0te0e8StgO"
      ],
      "authorship_tag": "ABX9TyNSIkX6RvDB0BM+iS15cEc9",
      "include_colab_link": true
    },
    "kernelspec": {
      "name": "python3",
      "display_name": "Python 3"
    },
    "language_info": {
      "name": "python"
    },
    "accelerator": "TPU"
  },
  "cells": [
    {
      "cell_type": "markdown",
      "metadata": {
        "id": "view-in-github",
        "colab_type": "text"
      },
      "source": [
        "<a href=\"https://colab.research.google.com/github/huihuiwuwu/Github-Colab/blob/main/%EA%B0%90%EC%84%B1%EC%A0%9C%EB%85%BC%EB%A6%AC%EC%A0%9CFrequency_analysis.ipynb\" target=\"_parent\"><img src=\"https://colab.research.google.com/assets/colab-badge.svg\" alt=\"Open In Colab\"/></a>"
      ]
    },
    {
      "cell_type": "markdown",
      "source": [
        "## 논리제"
      ],
      "metadata": {
        "id": "0hFLPaMQRdXj"
      }
    },
    {
      "cell_type": "code",
      "source": [
        "from google.colab import drive\n",
        "drive.mount(\"/content/drive\")"
      ],
      "metadata": {
        "colab": {
          "base_uri": "https://localhost:8080/"
        },
        "id": "QuC83WT73zfa",
        "outputId": "d46bac15-06b1-44e9-ce70-188f2378fbc7"
      },
      "execution_count": 1,
      "outputs": [
        {
          "output_type": "stream",
          "name": "stdout",
          "text": [
            "Mounted at /content/drive\n"
          ]
        }
      ]
    },
    {
      "cell_type": "code",
      "source": [
        "import warnings\n",
        "warnings.filterwarnings(\"ignore\", category=DeprecationWarning)"
      ],
      "metadata": {
        "id": "7760BD0wkuF6"
      },
      "execution_count": 2,
      "outputs": []
    },
    {
      "cell_type": "code",
      "source": [
        "import pandas as pd\n",
        "import os"
      ],
      "metadata": {
        "id": "KWt6ULqMhPgI"
      },
      "execution_count": 3,
      "outputs": []
    },
    {
      "cell_type": "code",
      "source": [
        "folder_path = \"/content/drive/MyDrive/졸업논문/논리재 감정제_논문_/raw data_news/논리제\"\n",
        "files = os.listdir(folder_path)"
      ],
      "metadata": {
        "id": "xZwtZk_HhIi6"
      },
      "execution_count": null,
      "outputs": []
    },
    {
      "cell_type": "code",
      "source": [
        "files"
      ],
      "metadata": {
        "colab": {
          "base_uri": "https://localhost:8080/"
        },
        "id": "7PnqJBDyip6b",
        "outputId": "a2c96813-755f-4c75-f75c-b2e6cd608918"
      },
      "execution_count": null,
      "outputs": [
        {
          "output_type": "execute_result",
          "data": {
            "text/plain": [
              "['컴퓨터_20220709-20230709.xlsx',\n",
              " '휴대폰_20220101-20230709.xlsx',\n",
              " '자동차_20220101-20230709-2.xlsx',\n",
              " '아파트_20220101-20230709-3.xlsx',\n",
              " '세탁기_20190601-20230709.xlsx',\n",
              " '냉장고_20210701-20230709.xlsx',\n",
              " '보험_20230109-20230709.xlsx',\n",
              " '증권_20220709-20230709-2.xlsx',\n",
              " '신용카드_20210601-20230709.xlsx',\n",
              " '세제_20220301-20230709.xlsx']"
            ]
          },
          "metadata": {},
          "execution_count": 9
        }
      ]
    },
    {
      "cell_type": "code",
      "source": [
        "files_excel = [f for f in files if f.endswith('.xlsx')]"
      ],
      "metadata": {
        "id": "5W1Ias3JiqCF"
      },
      "execution_count": null,
      "outputs": []
    },
    {
      "cell_type": "code",
      "source": [
        "files_excel"
      ],
      "metadata": {
        "colab": {
          "base_uri": "https://localhost:8080/"
        },
        "id": "AX3Xn-ajjgt4",
        "outputId": "ccd9e730-c9b3-4c69-e210-1185ccf865da"
      },
      "execution_count": null,
      "outputs": [
        {
          "output_type": "execute_result",
          "data": {
            "text/plain": [
              "['컴퓨터_20220709-20230709.xlsx',\n",
              " '휴대폰_20220101-20230709.xlsx',\n",
              " '자동차_20220101-20230709-2.xlsx',\n",
              " '아파트_20220101-20230709-3.xlsx',\n",
              " '세탁기_20190601-20230709.xlsx',\n",
              " '냉장고_20210701-20230709.xlsx',\n",
              " '보험_20230109-20230709.xlsx',\n",
              " '증권_20220709-20230709-2.xlsx',\n",
              " '신용카드_20210601-20230709.xlsx',\n",
              " '세제_20220301-20230709.xlsx']"
            ]
          },
          "metadata": {},
          "execution_count": 18
        }
      ]
    },
    {
      "cell_type": "code",
      "source": [
        "df_combined = pd.DataFrame()"
      ],
      "metadata": {
        "id": "_POfm4juiqFN"
      },
      "execution_count": null,
      "outputs": []
    },
    {
      "cell_type": "code",
      "source": [
        "for idx, file in enumerate(files_excel, start=1):\n",
        "    path = os.path.join(folder_path, file)\n",
        "    df_temp = pd.read_excel(path, engine='openpyxl')\n",
        "    df_temp['label'] = idx\n",
        "    df_combined = pd.concat([df_combined, df_temp])"
      ],
      "metadata": {
        "colab": {
          "base_uri": "https://localhost:8080/"
        },
        "id": "rCD79yg7i6Sj",
        "outputId": "c379015b-198a-4edd-ac77-a666325399ed"
      },
      "execution_count": null,
      "outputs": [
        {
          "output_type": "stream",
          "name": "stderr",
          "text": [
            "/usr/local/lib/python3.10/dist-packages/openpyxl/styles/stylesheet.py:226: UserWarning: Workbook contains no default style, apply openpyxl's default\n",
            "  warn(\"Workbook contains no default style, apply openpyxl's default\")\n",
            "/usr/local/lib/python3.10/dist-packages/openpyxl/styles/stylesheet.py:226: UserWarning: Workbook contains no default style, apply openpyxl's default\n",
            "  warn(\"Workbook contains no default style, apply openpyxl's default\")\n",
            "/usr/local/lib/python3.10/dist-packages/openpyxl/styles/stylesheet.py:226: UserWarning: Workbook contains no default style, apply openpyxl's default\n",
            "  warn(\"Workbook contains no default style, apply openpyxl's default\")\n",
            "/usr/local/lib/python3.10/dist-packages/openpyxl/styles/stylesheet.py:226: UserWarning: Workbook contains no default style, apply openpyxl's default\n",
            "  warn(\"Workbook contains no default style, apply openpyxl's default\")\n",
            "/usr/local/lib/python3.10/dist-packages/openpyxl/styles/stylesheet.py:226: UserWarning: Workbook contains no default style, apply openpyxl's default\n",
            "  warn(\"Workbook contains no default style, apply openpyxl's default\")\n",
            "/usr/local/lib/python3.10/dist-packages/openpyxl/styles/stylesheet.py:226: UserWarning: Workbook contains no default style, apply openpyxl's default\n",
            "  warn(\"Workbook contains no default style, apply openpyxl's default\")\n",
            "/usr/local/lib/python3.10/dist-packages/openpyxl/styles/stylesheet.py:226: UserWarning: Workbook contains no default style, apply openpyxl's default\n",
            "  warn(\"Workbook contains no default style, apply openpyxl's default\")\n",
            "/usr/local/lib/python3.10/dist-packages/openpyxl/styles/stylesheet.py:226: UserWarning: Workbook contains no default style, apply openpyxl's default\n",
            "  warn(\"Workbook contains no default style, apply openpyxl's default\")\n",
            "/usr/local/lib/python3.10/dist-packages/openpyxl/styles/stylesheet.py:226: UserWarning: Workbook contains no default style, apply openpyxl's default\n",
            "  warn(\"Workbook contains no default style, apply openpyxl's default\")\n",
            "/usr/local/lib/python3.10/dist-packages/openpyxl/styles/stylesheet.py:226: UserWarning: Workbook contains no default style, apply openpyxl's default\n",
            "  warn(\"Workbook contains no default style, apply openpyxl's default\")\n"
          ]
        }
      ]
    },
    {
      "cell_type": "code",
      "source": [
        "print(df_combined)"
      ],
      "metadata": {
        "colab": {
          "base_uri": "https://localhost:8080/"
        },
        "id": "_PCvSklri6Z6",
        "outputId": "15820465-3026-4d02-8a91-f0f26b61b7fd"
      },
      "execution_count": null,
      "outputs": [
        {
          "output_type": "stream",
          "name": "stdout",
          "text": [
            "             뉴스 식별자        일자     언론사                            기고자  \\\n",
            "0      1.400401e+06  20230709    중부매일                           중부매일   \n",
            "1      1.600801e+06  20230709    전남일보   곽지혜 기자 jihye.kwak@jnilbo.com   \n",
            "2      1.400401e+06  20230709    중부매일                         문영호 기자   \n",
            "3      2.100601e+06  20230709    한국경제                            홍민성   \n",
            "4      2.100501e+06  20230709  파이낸셜뉴스  배한글 기자 (koreanbae@fnnews.com)   \n",
            "...             ...       ...     ...                            ...   \n",
            "19995  1.500801e+06  20220601    영남일보                             임훈   \n",
            "19996  2.100311e+06  20220601    서울경제                    워싱턴=윤홍우 특파원   \n",
            "19997  1.100701e+06  20220601    세계일보                            배민영   \n",
            "19998  1.100611e+06  20220601    서울신문                        이영준,박기석   \n",
            "19999  2.100801e+06  20220601   아시아경제                        뉴욕=조슬기나   \n",
            "\n",
            "                                                제목     통합 분류1      통합 분류2  \\\n",
            "0                                  오장칠부(五臟七腑)와 디지털  IT_과학>모바일   IT_과학>콘텐츠   \n",
            "1                  ‘반도체 점검’ 정의선 회장, 인텔 아일랜드 캠퍼스 방문     경제>반도체      경제>자동차   \n",
            "2                    아산시, 관내 공중화장실 96개소 전체에 비상벨 설치      지역>경남       지역>전북   \n",
            "3                    드라마 속 '덕달이 나무' 관심 폭발 정체 알고 보니  문화>학술_문화재    문화>방송_연예   \n",
            "4                 송영길 檢소환 임박했나...윤관석 이성만 영장 재청구 가닥   사회>사건_사고    정치>국회_정당   \n",
            "...                                            ...        ...         ...   \n",
            "19995               대구 4월 전월세거래만 급증 부동산규제해제 기대감 영향     경제>부동산     지역>지역일반   \n",
            "19996        바이든, 파월과 이례적 회동 \"인플레 해소 위해 연준 독립성 보장\"     국제>중남미    국제>미국_북미   \n",
            "19997  김병준 “지방정부가 발전 전략 디자인하면 중앙정부는 지원할 것” [세계초대석]     정치>청와대    정치>국회_정당   \n",
            "19998             “당분간 5%대 물가상승 지속 세수 추계는 민간전문가에게”    정치>정치일반       경제>외환   \n",
            "19999            파월 만난 바이든 \"인플레 대응 논의..Fed 독립성 존중\"     국제>중남미    국제>미국_북미   \n",
            "\n",
            "               통합 분류3   사건/사고 분류1 사건/사고 분류2 사건/사고 분류3  \\\n",
            "0       IT_과학>인터넷_SNS  사회>사회문제>중독       NaN       NaN   \n",
            "1               경제>유통  사고>산업사고>폭발       NaN       NaN   \n",
            "2               지역>강원         NaN       NaN       NaN   \n",
            "3               문화>출판         NaN       NaN       NaN   \n",
            "4              사회>미디어         NaN       NaN       NaN   \n",
            "...               ...         ...       ...       ...   \n",
            "19995        경제>증권_증시         NaN       NaN       NaN   \n",
            "19996           정치>외교         NaN       NaN       NaN   \n",
            "19997             NaN         NaN       NaN       NaN   \n",
            "19998             NaN         NaN       NaN       NaN   \n",
            "19999          국제>아시아         NaN       NaN       NaN   \n",
            "\n",
            "                                            인물  \\\n",
            "0                                          NaN   \n",
            "1                                          정의선   \n",
            "2                                          NaN   \n",
            "3                                          NaN   \n",
            "4                    송영길,윤관석,송,이정근,김영철,이성만,박용수   \n",
            "...                                        ...   \n",
            "19995                                  김대명,양도세   \n",
            "19996                  바이든,조 바이든,브라이언 디스,제롬 파월   \n",
            "19997  노무현,이명박,문재인정부,박근혜,문재인,윤석열,이우승,김병준,윤석열정부   \n",
            "19998                              방기선,문재인,추경호   \n",
            "19999          바이든,조 바이든,브라이언 디스,도널드 트럼프,제롬 파월   \n",
            "\n",
            "                                                위치  \\\n",
            "0                                       키오크스,대전,오남   \n",
            "1                          레익슬립,고성,유럽,아일랜드,킬데어주,요동   \n",
            "2                                          아산시,지구대   \n",
            "3                                의령,성황리,의령군,소덕동,경남   \n",
            "4                                        서울,재청,서초구   \n",
            "...                                            ...   \n",
            "19995                                  수성구,대구,대구지역   \n",
            "19996                                     미국,파월,경기   \n",
            "19997  경북,영등포구,서울,세종,충남권,기회,대한민국,교육자,고령,교육자유특구,수도권   \n",
            "19998                                        우크라이나   \n",
            "19999                                     미국,경기,뉴욕   \n",
            "\n",
            "                                                      기관  \\\n",
            "0                                    애플,충북도,오장칠부,정보통신,유공   \n",
            "1        EU,기아,현대자동차,현대자동차그룹,현대차,보스반도체,현대모비스,현대차그룹,현대오트론   \n",
            "2                                       기자 〕아산시,아산시장,경찰서   \n",
            "3                  SBS,문화재청,연합뉴스,문화관광,문화재위원회,의령군,우영우,제작사   \n",
            "4      민주당,검찰,하드디스크,청구,더불어민주당,JTBC,국회,서울중앙지검,상임감사위원,서...   \n",
            "...                                                  ...   \n",
            "19995                              정부,국토부,국토교통부,대구,대구과학대   \n",
            "19996                                  파월,Fed,백악관,연준,행정부   \n",
            "19997  독일,국가균형발전위원회,델라웨어대,새천년민주당,중앙선거대책위원회,수도권,베드타운,경...   \n",
            "19998  국세청,기재부,정부,기획재정부,한국조세재정연구원,금융감독원,한국개발연구원(KDI),...   \n",
            "19999                                      파월,미국,Fed,백악관   \n",
            "\n",
            "                                                     키워드  \\\n",
            "0      오장칠부,五臟七腑,디지털,인체,기관,표현,용어,오장육부,오장,간장,심장,비장,폐장,...   \n",
            "1      반도체,점검,정의선,회장,인텔,아일랜드,캠퍼스,방문,반도체,세계,최대,기지,유럽,핵...   \n",
            "2      아산시,96개소,관내,공중,화장실,개소,비상벨,설치,중부매일,문영호,아산시,공중화장...   \n",
            "3      드라마,드라마,덕달이,나무,관심,폭발,정체,악귀,SBS,드라마,등장,덕달이,나무,실...   \n",
            "4      송영길,소환,윤관석,이성,가닥,영장,전당대회,봉투,전당,대회,의혹,송영길,더불어민주...   \n",
            "...                                                  ...   \n",
            "19995  전월세거래,대구,전월세,거래,급증,부동산규제해제,기대감,영향,6800건,1년,38%...   \n",
            "19996  바이든,파월,이례,회동,인플레,해소,보장,연준,독립,미국,대통령,31일,현지시간,연...   \n",
            "19997  김병준,지방,정부,디자인,발전,전략,중앙정부,지원,세계초대석,김병준,대통령,인수,위...   \n",
            "19998  지속,물가,상승,세수,추계,민간전문가,추경호,부총리,간담회,유동성,원자재값,통제,부...   \n",
            "19999  파월,논의,인플레,대응,Fed,독립,존중,인플레이션,대응,계획,연방준비제도,Fed,...   \n",
            "\n",
            "                                       특성추출(가중치순 상위 50개)  \\\n",
            "0      스마트폰,사용법,장애인,취약계층,실시간,코로나19,오장육부,휴대폰,충북도,시티폰,서...   \n",
            "1                   반도체,인텔,아일랜드,유럽,내재화,공급망,현대오트론,스타트업,핀펫   \n",
            "2      비상벨,공중화장실,아산시,음성인식,박경귀,시민들,문영호,중부매일,화장실,96개소,지...   \n",
            "3      천연기념물,문화재,의령군,자연유산,위원회,제작사,의령,문화재청,관계자,변호사,덕달이...   \n",
            "4      박씨,민주당,서울중앙지검,송영길,재청구,비회기,윤관석,더불어민주당,전당대회,박용수,...   \n",
            "...                                                  ...   \n",
            "19995  대구,전월세,부동산,거래량,6천,기대감,주택가격,하락세,조정대상지역,다주택자,김대명...   \n",
            "19996     연준,인플레이션,바이든,파월,미국,백악관,독립성,기자들,브라이언,행정부,제롬,건설적   \n",
            "19997  위원장,위원회,김병준,균형발전,비수도권,교육부,윤석열,정치학,윤석열정부,지방정부,노...   \n",
            "19998  부총리,추경호,간담회,기재부,원자재,법인세,상증세,전문가,보유세,우크라이나,유동성,...   \n",
            "19999  인플레이션,fed,미국,파월,바이든,백악관,빅스텝,관심사,브라이언,독립성,영향력,제...   \n",
            "\n",
            "                                                      본문  \\\n",
            "0      인체의 주요 기관을 표현하는 용어 중 흔히 쓰는 것에 오장육부가 있다. 오장은 간장...   \n",
            "1      현대자동차그룹은 정의선 회장이 지난 7일(현지시간) 세계 최대 반도체 회사 인텔의 ...   \n",
            "2      〔중부매일 문영호 기자 〕아산시가 공중화장실을 이용하는 시민들의 긴급 상황과 범죄 ...   \n",
            "3      SBS 드라마 '악귀'에 등장하는 '덕달이 나무'가 실재하는 나무인 것으로 알려져 ...   \n",
            "4      '전당대회 돈 봉투' 의혹을 받는 송영길 전 더불어민주당 대표가 7일 서울 서초구 ...   \n",
            "...                                                  ...   \n",
            "19995  대구지역 주택거래량이 줄었지만 전월세 거래량은 늘어난 것으로 집계됐다. '부동산 규...   \n",
            "19996  조 바이든 미국 대통령이 31일(현지시간) 제롬 파월 연방준비제도(Fed 연준) 의...   \n",
            "19997  김병준 전 대통령직인수위원회 지역균형발전특별위원장이 지난 24일 서울 영등포구 사무...   \n",
            "19998  추경호 경제부총리 겸 기획재정부 장관이 “당분간 5%대 물가상승률을 보게 될 것”이...   \n",
            "19999  [아시아경제 뉴욕=조슬기나 특파원] \"인플레이션 대응을 위한 내 계획은 연방준비제도...   \n",
            "\n",
            "                                                     URL  분석제외 여부  label  \n",
            "0      www.jbnews.com/news/articleView.html?idxno=140...      NaN      1  \n",
            "1                      http://www.jnilbo.com/70931295017      NaN      1  \n",
            "2      www.jbnews.com/news/articleView.html?idxno=140...      NaN      1  \n",
            "3      https://www.hankyung.com/society/article/20230...      NaN      1  \n",
            "4          http://www.fnnews.com/news/202307091426206978      NaN      1  \n",
            "...                                                  ...      ...    ...  \n",
            "19995  https://www.yeongnam.com/web/view.php?key=2022...      NaN     10  \n",
            "19996         http://www.sedaily.com/NewsView/2672QJ4TSH      NaN     10  \n",
            "19997  http://www.segye.com/content/html/2022/05/31/2...      NaN     10  \n",
            "19998  http://www.seoul.co.kr/news/newsView.php?id=20...      NaN     10  \n",
            "19999  https://view.asiae.co.kr/article/2022060104471...      NaN     10  \n",
            "\n",
            "[280000 rows x 20 columns]\n"
          ]
        }
      ]
    },
    {
      "cell_type": "code",
      "source": [
        "selected_data = df_combined[['본문', 'label']]"
      ],
      "metadata": {
        "id": "gdkO5Q2PjJaA"
      },
      "execution_count": null,
      "outputs": []
    },
    {
      "cell_type": "code",
      "source": [
        "selected_data.head()"
      ],
      "metadata": {
        "colab": {
          "base_uri": "https://localhost:8080/",
          "height": 206
        },
        "id": "MaziXy7ZnR1R",
        "outputId": "42a13810-5cc1-4262-dd69-51e75918ae45"
      },
      "execution_count": null,
      "outputs": [
        {
          "output_type": "execute_result",
          "data": {
            "text/plain": [
              "                                                  본문  label\n",
              "0  인체의 주요 기관을 표현하는 용어 중 흔히 쓰는 것에 오장육부가 있다. 오장은 간장...      1\n",
              "1  현대자동차그룹은 정의선 회장이 지난 7일(현지시간) 세계 최대 반도체 회사 인텔의 ...      1\n",
              "2  〔중부매일 문영호 기자 〕아산시가 공중화장실을 이용하는 시민들의 긴급 상황과 범죄 ...      1\n",
              "3  SBS 드라마 '악귀'에 등장하는 '덕달이 나무'가 실재하는 나무인 것으로 알려져 ...      1\n",
              "4  '전당대회 돈 봉투' 의혹을 받는 송영길 전 더불어민주당 대표가 7일 서울 서초구 ...      1"
            ],
            "text/html": [
              "\n",
              "  <div id=\"df-13dd1cc2-66db-4acc-8aaf-862638356b9b\" class=\"colab-df-container\">\n",
              "    <div>\n",
              "<style scoped>\n",
              "    .dataframe tbody tr th:only-of-type {\n",
              "        vertical-align: middle;\n",
              "    }\n",
              "\n",
              "    .dataframe tbody tr th {\n",
              "        vertical-align: top;\n",
              "    }\n",
              "\n",
              "    .dataframe thead th {\n",
              "        text-align: right;\n",
              "    }\n",
              "</style>\n",
              "<table border=\"1\" class=\"dataframe\">\n",
              "  <thead>\n",
              "    <tr style=\"text-align: right;\">\n",
              "      <th></th>\n",
              "      <th>본문</th>\n",
              "      <th>label</th>\n",
              "    </tr>\n",
              "  </thead>\n",
              "  <tbody>\n",
              "    <tr>\n",
              "      <th>0</th>\n",
              "      <td>인체의 주요 기관을 표현하는 용어 중 흔히 쓰는 것에 오장육부가 있다. 오장은 간장...</td>\n",
              "      <td>1</td>\n",
              "    </tr>\n",
              "    <tr>\n",
              "      <th>1</th>\n",
              "      <td>현대자동차그룹은 정의선 회장이 지난 7일(현지시간) 세계 최대 반도체 회사 인텔의 ...</td>\n",
              "      <td>1</td>\n",
              "    </tr>\n",
              "    <tr>\n",
              "      <th>2</th>\n",
              "      <td>〔중부매일 문영호 기자 〕아산시가 공중화장실을 이용하는 시민들의 긴급 상황과 범죄 ...</td>\n",
              "      <td>1</td>\n",
              "    </tr>\n",
              "    <tr>\n",
              "      <th>3</th>\n",
              "      <td>SBS 드라마 '악귀'에 등장하는 '덕달이 나무'가 실재하는 나무인 것으로 알려져 ...</td>\n",
              "      <td>1</td>\n",
              "    </tr>\n",
              "    <tr>\n",
              "      <th>4</th>\n",
              "      <td>'전당대회 돈 봉투' 의혹을 받는 송영길 전 더불어민주당 대표가 7일 서울 서초구 ...</td>\n",
              "      <td>1</td>\n",
              "    </tr>\n",
              "  </tbody>\n",
              "</table>\n",
              "</div>\n",
              "    <div class=\"colab-df-buttons\">\n",
              "\n",
              "  <div class=\"colab-df-container\">\n",
              "    <button class=\"colab-df-convert\" onclick=\"convertToInteractive('df-13dd1cc2-66db-4acc-8aaf-862638356b9b')\"\n",
              "            title=\"Convert this dataframe to an interactive table.\"\n",
              "            style=\"display:none;\">\n",
              "\n",
              "  <svg xmlns=\"http://www.w3.org/2000/svg\" height=\"24px\" viewBox=\"0 -960 960 960\">\n",
              "    <path d=\"M120-120v-720h720v720H120Zm60-500h600v-160H180v160Zm220 220h160v-160H400v160Zm0 220h160v-160H400v160ZM180-400h160v-160H180v160Zm440 0h160v-160H620v160ZM180-180h160v-160H180v160Zm440 0h160v-160H620v160Z\"/>\n",
              "  </svg>\n",
              "    </button>\n",
              "\n",
              "  <style>\n",
              "    .colab-df-container {\n",
              "      display:flex;\n",
              "      gap: 12px;\n",
              "    }\n",
              "\n",
              "    .colab-df-convert {\n",
              "      background-color: #E8F0FE;\n",
              "      border: none;\n",
              "      border-radius: 50%;\n",
              "      cursor: pointer;\n",
              "      display: none;\n",
              "      fill: #1967D2;\n",
              "      height: 32px;\n",
              "      padding: 0 0 0 0;\n",
              "      width: 32px;\n",
              "    }\n",
              "\n",
              "    .colab-df-convert:hover {\n",
              "      background-color: #E2EBFA;\n",
              "      box-shadow: 0px 1px 2px rgba(60, 64, 67, 0.3), 0px 1px 3px 1px rgba(60, 64, 67, 0.15);\n",
              "      fill: #174EA6;\n",
              "    }\n",
              "\n",
              "    .colab-df-buttons div {\n",
              "      margin-bottom: 4px;\n",
              "    }\n",
              "\n",
              "    [theme=dark] .colab-df-convert {\n",
              "      background-color: #3B4455;\n",
              "      fill: #D2E3FC;\n",
              "    }\n",
              "\n",
              "    [theme=dark] .colab-df-convert:hover {\n",
              "      background-color: #434B5C;\n",
              "      box-shadow: 0px 1px 3px 1px rgba(0, 0, 0, 0.15);\n",
              "      filter: drop-shadow(0px 1px 2px rgba(0, 0, 0, 0.3));\n",
              "      fill: #FFFFFF;\n",
              "    }\n",
              "  </style>\n",
              "\n",
              "    <script>\n",
              "      const buttonEl =\n",
              "        document.querySelector('#df-13dd1cc2-66db-4acc-8aaf-862638356b9b button.colab-df-convert');\n",
              "      buttonEl.style.display =\n",
              "        google.colab.kernel.accessAllowed ? 'block' : 'none';\n",
              "\n",
              "      async function convertToInteractive(key) {\n",
              "        const element = document.querySelector('#df-13dd1cc2-66db-4acc-8aaf-862638356b9b');\n",
              "        const dataTable =\n",
              "          await google.colab.kernel.invokeFunction('convertToInteractive',\n",
              "                                                    [key], {});\n",
              "        if (!dataTable) return;\n",
              "\n",
              "        const docLinkHtml = 'Like what you see? Visit the ' +\n",
              "          '<a target=\"_blank\" href=https://colab.research.google.com/notebooks/data_table.ipynb>data table notebook</a>'\n",
              "          + ' to learn more about interactive tables.';\n",
              "        element.innerHTML = '';\n",
              "        dataTable['output_type'] = 'display_data';\n",
              "        await google.colab.output.renderOutput(dataTable, element);\n",
              "        const docLink = document.createElement('div');\n",
              "        docLink.innerHTML = docLinkHtml;\n",
              "        element.appendChild(docLink);\n",
              "      }\n",
              "    </script>\n",
              "  </div>\n",
              "\n",
              "\n",
              "<div id=\"df-f8ac422a-7eb5-4012-b94e-0754bda5ab26\">\n",
              "  <button class=\"colab-df-quickchart\" onclick=\"quickchart('df-f8ac422a-7eb5-4012-b94e-0754bda5ab26')\"\n",
              "            title=\"Suggest charts.\"\n",
              "            style=\"display:none;\">\n",
              "\n",
              "<svg xmlns=\"http://www.w3.org/2000/svg\" height=\"24px\"viewBox=\"0 0 24 24\"\n",
              "     width=\"24px\">\n",
              "    <g>\n",
              "        <path d=\"M19 3H5c-1.1 0-2 .9-2 2v14c0 1.1.9 2 2 2h14c1.1 0 2-.9 2-2V5c0-1.1-.9-2-2-2zM9 17H7v-7h2v7zm4 0h-2V7h2v10zm4 0h-2v-4h2v4z\"/>\n",
              "    </g>\n",
              "</svg>\n",
              "  </button>\n",
              "\n",
              "<style>\n",
              "  .colab-df-quickchart {\n",
              "      --bg-color: #E8F0FE;\n",
              "      --fill-color: #1967D2;\n",
              "      --hover-bg-color: #E2EBFA;\n",
              "      --hover-fill-color: #174EA6;\n",
              "      --disabled-fill-color: #AAA;\n",
              "      --disabled-bg-color: #DDD;\n",
              "  }\n",
              "\n",
              "  [theme=dark] .colab-df-quickchart {\n",
              "      --bg-color: #3B4455;\n",
              "      --fill-color: #D2E3FC;\n",
              "      --hover-bg-color: #434B5C;\n",
              "      --hover-fill-color: #FFFFFF;\n",
              "      --disabled-bg-color: #3B4455;\n",
              "      --disabled-fill-color: #666;\n",
              "  }\n",
              "\n",
              "  .colab-df-quickchart {\n",
              "    background-color: var(--bg-color);\n",
              "    border: none;\n",
              "    border-radius: 50%;\n",
              "    cursor: pointer;\n",
              "    display: none;\n",
              "    fill: var(--fill-color);\n",
              "    height: 32px;\n",
              "    padding: 0;\n",
              "    width: 32px;\n",
              "  }\n",
              "\n",
              "  .colab-df-quickchart:hover {\n",
              "    background-color: var(--hover-bg-color);\n",
              "    box-shadow: 0 1px 2px rgba(60, 64, 67, 0.3), 0 1px 3px 1px rgba(60, 64, 67, 0.15);\n",
              "    fill: var(--button-hover-fill-color);\n",
              "  }\n",
              "\n",
              "  .colab-df-quickchart-complete:disabled,\n",
              "  .colab-df-quickchart-complete:disabled:hover {\n",
              "    background-color: var(--disabled-bg-color);\n",
              "    fill: var(--disabled-fill-color);\n",
              "    box-shadow: none;\n",
              "  }\n",
              "\n",
              "  .colab-df-spinner {\n",
              "    border: 2px solid var(--fill-color);\n",
              "    border-color: transparent;\n",
              "    border-bottom-color: var(--fill-color);\n",
              "    animation:\n",
              "      spin 1s steps(1) infinite;\n",
              "  }\n",
              "\n",
              "  @keyframes spin {\n",
              "    0% {\n",
              "      border-color: transparent;\n",
              "      border-bottom-color: var(--fill-color);\n",
              "      border-left-color: var(--fill-color);\n",
              "    }\n",
              "    20% {\n",
              "      border-color: transparent;\n",
              "      border-left-color: var(--fill-color);\n",
              "      border-top-color: var(--fill-color);\n",
              "    }\n",
              "    30% {\n",
              "      border-color: transparent;\n",
              "      border-left-color: var(--fill-color);\n",
              "      border-top-color: var(--fill-color);\n",
              "      border-right-color: var(--fill-color);\n",
              "    }\n",
              "    40% {\n",
              "      border-color: transparent;\n",
              "      border-right-color: var(--fill-color);\n",
              "      border-top-color: var(--fill-color);\n",
              "    }\n",
              "    60% {\n",
              "      border-color: transparent;\n",
              "      border-right-color: var(--fill-color);\n",
              "    }\n",
              "    80% {\n",
              "      border-color: transparent;\n",
              "      border-right-color: var(--fill-color);\n",
              "      border-bottom-color: var(--fill-color);\n",
              "    }\n",
              "    90% {\n",
              "      border-color: transparent;\n",
              "      border-bottom-color: var(--fill-color);\n",
              "    }\n",
              "  }\n",
              "</style>\n",
              "\n",
              "  <script>\n",
              "    async function quickchart(key) {\n",
              "      const quickchartButtonEl =\n",
              "        document.querySelector('#' + key + ' button');\n",
              "      quickchartButtonEl.disabled = true;  // To prevent multiple clicks.\n",
              "      quickchartButtonEl.classList.add('colab-df-spinner');\n",
              "      try {\n",
              "        const charts = await google.colab.kernel.invokeFunction(\n",
              "            'suggestCharts', [key], {});\n",
              "      } catch (error) {\n",
              "        console.error('Error during call to suggestCharts:', error);\n",
              "      }\n",
              "      quickchartButtonEl.classList.remove('colab-df-spinner');\n",
              "      quickchartButtonEl.classList.add('colab-df-quickchart-complete');\n",
              "    }\n",
              "    (() => {\n",
              "      let quickchartButtonEl =\n",
              "        document.querySelector('#df-f8ac422a-7eb5-4012-b94e-0754bda5ab26 button');\n",
              "      quickchartButtonEl.style.display =\n",
              "        google.colab.kernel.accessAllowed ? 'block' : 'none';\n",
              "    })();\n",
              "  </script>\n",
              "</div>\n",
              "    </div>\n",
              "  </div>\n"
            ]
          },
          "metadata": {},
          "execution_count": 27
        }
      ]
    },
    {
      "cell_type": "code",
      "source": [
        "selected_data.tail()"
      ],
      "metadata": {
        "colab": {
          "base_uri": "https://localhost:8080/",
          "height": 206
        },
        "id": "-wNz9t7knVwB",
        "outputId": "d4c8b266-9e8a-46a7-d238-79f5b2a18009"
      },
      "execution_count": null,
      "outputs": [
        {
          "output_type": "execute_result",
          "data": {
            "text/plain": [
              "                                                      본문  label\n",
              "19995  대구지역 주택거래량이 줄었지만 전월세 거래량은 늘어난 것으로 집계됐다. '부동산 규...     10\n",
              "19996  조 바이든 미국 대통령이 31일(현지시간) 제롬 파월 연방준비제도(Fed 연준) 의...     10\n",
              "19997  김병준 전 대통령직인수위원회 지역균형발전특별위원장이 지난 24일 서울 영등포구 사무...     10\n",
              "19998  추경호 경제부총리 겸 기획재정부 장관이 “당분간 5%대 물가상승률을 보게 될 것”이...     10\n",
              "19999  [아시아경제 뉴욕=조슬기나 특파원] \"인플레이션 대응을 위한 내 계획은 연방준비제도...     10"
            ],
            "text/html": [
              "\n",
              "  <div id=\"df-932e11e1-346a-4f27-a0bf-0c8eae8f0ec7\" class=\"colab-df-container\">\n",
              "    <div>\n",
              "<style scoped>\n",
              "    .dataframe tbody tr th:only-of-type {\n",
              "        vertical-align: middle;\n",
              "    }\n",
              "\n",
              "    .dataframe tbody tr th {\n",
              "        vertical-align: top;\n",
              "    }\n",
              "\n",
              "    .dataframe thead th {\n",
              "        text-align: right;\n",
              "    }\n",
              "</style>\n",
              "<table border=\"1\" class=\"dataframe\">\n",
              "  <thead>\n",
              "    <tr style=\"text-align: right;\">\n",
              "      <th></th>\n",
              "      <th>본문</th>\n",
              "      <th>label</th>\n",
              "    </tr>\n",
              "  </thead>\n",
              "  <tbody>\n",
              "    <tr>\n",
              "      <th>19995</th>\n",
              "      <td>대구지역 주택거래량이 줄었지만 전월세 거래량은 늘어난 것으로 집계됐다. '부동산 규...</td>\n",
              "      <td>10</td>\n",
              "    </tr>\n",
              "    <tr>\n",
              "      <th>19996</th>\n",
              "      <td>조 바이든 미국 대통령이 31일(현지시간) 제롬 파월 연방준비제도(Fed 연준) 의...</td>\n",
              "      <td>10</td>\n",
              "    </tr>\n",
              "    <tr>\n",
              "      <th>19997</th>\n",
              "      <td>김병준 전 대통령직인수위원회 지역균형발전특별위원장이 지난 24일 서울 영등포구 사무...</td>\n",
              "      <td>10</td>\n",
              "    </tr>\n",
              "    <tr>\n",
              "      <th>19998</th>\n",
              "      <td>추경호 경제부총리 겸 기획재정부 장관이 “당분간 5%대 물가상승률을 보게 될 것”이...</td>\n",
              "      <td>10</td>\n",
              "    </tr>\n",
              "    <tr>\n",
              "      <th>19999</th>\n",
              "      <td>[아시아경제 뉴욕=조슬기나 특파원] \"인플레이션 대응을 위한 내 계획은 연방준비제도...</td>\n",
              "      <td>10</td>\n",
              "    </tr>\n",
              "  </tbody>\n",
              "</table>\n",
              "</div>\n",
              "    <div class=\"colab-df-buttons\">\n",
              "\n",
              "  <div class=\"colab-df-container\">\n",
              "    <button class=\"colab-df-convert\" onclick=\"convertToInteractive('df-932e11e1-346a-4f27-a0bf-0c8eae8f0ec7')\"\n",
              "            title=\"Convert this dataframe to an interactive table.\"\n",
              "            style=\"display:none;\">\n",
              "\n",
              "  <svg xmlns=\"http://www.w3.org/2000/svg\" height=\"24px\" viewBox=\"0 -960 960 960\">\n",
              "    <path d=\"M120-120v-720h720v720H120Zm60-500h600v-160H180v160Zm220 220h160v-160H400v160Zm0 220h160v-160H400v160ZM180-400h160v-160H180v160Zm440 0h160v-160H620v160ZM180-180h160v-160H180v160Zm440 0h160v-160H620v160Z\"/>\n",
              "  </svg>\n",
              "    </button>\n",
              "\n",
              "  <style>\n",
              "    .colab-df-container {\n",
              "      display:flex;\n",
              "      gap: 12px;\n",
              "    }\n",
              "\n",
              "    .colab-df-convert {\n",
              "      background-color: #E8F0FE;\n",
              "      border: none;\n",
              "      border-radius: 50%;\n",
              "      cursor: pointer;\n",
              "      display: none;\n",
              "      fill: #1967D2;\n",
              "      height: 32px;\n",
              "      padding: 0 0 0 0;\n",
              "      width: 32px;\n",
              "    }\n",
              "\n",
              "    .colab-df-convert:hover {\n",
              "      background-color: #E2EBFA;\n",
              "      box-shadow: 0px 1px 2px rgba(60, 64, 67, 0.3), 0px 1px 3px 1px rgba(60, 64, 67, 0.15);\n",
              "      fill: #174EA6;\n",
              "    }\n",
              "\n",
              "    .colab-df-buttons div {\n",
              "      margin-bottom: 4px;\n",
              "    }\n",
              "\n",
              "    [theme=dark] .colab-df-convert {\n",
              "      background-color: #3B4455;\n",
              "      fill: #D2E3FC;\n",
              "    }\n",
              "\n",
              "    [theme=dark] .colab-df-convert:hover {\n",
              "      background-color: #434B5C;\n",
              "      box-shadow: 0px 1px 3px 1px rgba(0, 0, 0, 0.15);\n",
              "      filter: drop-shadow(0px 1px 2px rgba(0, 0, 0, 0.3));\n",
              "      fill: #FFFFFF;\n",
              "    }\n",
              "  </style>\n",
              "\n",
              "    <script>\n",
              "      const buttonEl =\n",
              "        document.querySelector('#df-932e11e1-346a-4f27-a0bf-0c8eae8f0ec7 button.colab-df-convert');\n",
              "      buttonEl.style.display =\n",
              "        google.colab.kernel.accessAllowed ? 'block' : 'none';\n",
              "\n",
              "      async function convertToInteractive(key) {\n",
              "        const element = document.querySelector('#df-932e11e1-346a-4f27-a0bf-0c8eae8f0ec7');\n",
              "        const dataTable =\n",
              "          await google.colab.kernel.invokeFunction('convertToInteractive',\n",
              "                                                    [key], {});\n",
              "        if (!dataTable) return;\n",
              "\n",
              "        const docLinkHtml = 'Like what you see? Visit the ' +\n",
              "          '<a target=\"_blank\" href=https://colab.research.google.com/notebooks/data_table.ipynb>data table notebook</a>'\n",
              "          + ' to learn more about interactive tables.';\n",
              "        element.innerHTML = '';\n",
              "        dataTable['output_type'] = 'display_data';\n",
              "        await google.colab.output.renderOutput(dataTable, element);\n",
              "        const docLink = document.createElement('div');\n",
              "        docLink.innerHTML = docLinkHtml;\n",
              "        element.appendChild(docLink);\n",
              "      }\n",
              "    </script>\n",
              "  </div>\n",
              "\n",
              "\n",
              "<div id=\"df-8fbef02e-d73e-4c92-a3c4-1cfd43370945\">\n",
              "  <button class=\"colab-df-quickchart\" onclick=\"quickchart('df-8fbef02e-d73e-4c92-a3c4-1cfd43370945')\"\n",
              "            title=\"Suggest charts.\"\n",
              "            style=\"display:none;\">\n",
              "\n",
              "<svg xmlns=\"http://www.w3.org/2000/svg\" height=\"24px\"viewBox=\"0 0 24 24\"\n",
              "     width=\"24px\">\n",
              "    <g>\n",
              "        <path d=\"M19 3H5c-1.1 0-2 .9-2 2v14c0 1.1.9 2 2 2h14c1.1 0 2-.9 2-2V5c0-1.1-.9-2-2-2zM9 17H7v-7h2v7zm4 0h-2V7h2v10zm4 0h-2v-4h2v4z\"/>\n",
              "    </g>\n",
              "</svg>\n",
              "  </button>\n",
              "\n",
              "<style>\n",
              "  .colab-df-quickchart {\n",
              "      --bg-color: #E8F0FE;\n",
              "      --fill-color: #1967D2;\n",
              "      --hover-bg-color: #E2EBFA;\n",
              "      --hover-fill-color: #174EA6;\n",
              "      --disabled-fill-color: #AAA;\n",
              "      --disabled-bg-color: #DDD;\n",
              "  }\n",
              "\n",
              "  [theme=dark] .colab-df-quickchart {\n",
              "      --bg-color: #3B4455;\n",
              "      --fill-color: #D2E3FC;\n",
              "      --hover-bg-color: #434B5C;\n",
              "      --hover-fill-color: #FFFFFF;\n",
              "      --disabled-bg-color: #3B4455;\n",
              "      --disabled-fill-color: #666;\n",
              "  }\n",
              "\n",
              "  .colab-df-quickchart {\n",
              "    background-color: var(--bg-color);\n",
              "    border: none;\n",
              "    border-radius: 50%;\n",
              "    cursor: pointer;\n",
              "    display: none;\n",
              "    fill: var(--fill-color);\n",
              "    height: 32px;\n",
              "    padding: 0;\n",
              "    width: 32px;\n",
              "  }\n",
              "\n",
              "  .colab-df-quickchart:hover {\n",
              "    background-color: var(--hover-bg-color);\n",
              "    box-shadow: 0 1px 2px rgba(60, 64, 67, 0.3), 0 1px 3px 1px rgba(60, 64, 67, 0.15);\n",
              "    fill: var(--button-hover-fill-color);\n",
              "  }\n",
              "\n",
              "  .colab-df-quickchart-complete:disabled,\n",
              "  .colab-df-quickchart-complete:disabled:hover {\n",
              "    background-color: var(--disabled-bg-color);\n",
              "    fill: var(--disabled-fill-color);\n",
              "    box-shadow: none;\n",
              "  }\n",
              "\n",
              "  .colab-df-spinner {\n",
              "    border: 2px solid var(--fill-color);\n",
              "    border-color: transparent;\n",
              "    border-bottom-color: var(--fill-color);\n",
              "    animation:\n",
              "      spin 1s steps(1) infinite;\n",
              "  }\n",
              "\n",
              "  @keyframes spin {\n",
              "    0% {\n",
              "      border-color: transparent;\n",
              "      border-bottom-color: var(--fill-color);\n",
              "      border-left-color: var(--fill-color);\n",
              "    }\n",
              "    20% {\n",
              "      border-color: transparent;\n",
              "      border-left-color: var(--fill-color);\n",
              "      border-top-color: var(--fill-color);\n",
              "    }\n",
              "    30% {\n",
              "      border-color: transparent;\n",
              "      border-left-color: var(--fill-color);\n",
              "      border-top-color: var(--fill-color);\n",
              "      border-right-color: var(--fill-color);\n",
              "    }\n",
              "    40% {\n",
              "      border-color: transparent;\n",
              "      border-right-color: var(--fill-color);\n",
              "      border-top-color: var(--fill-color);\n",
              "    }\n",
              "    60% {\n",
              "      border-color: transparent;\n",
              "      border-right-color: var(--fill-color);\n",
              "    }\n",
              "    80% {\n",
              "      border-color: transparent;\n",
              "      border-right-color: var(--fill-color);\n",
              "      border-bottom-color: var(--fill-color);\n",
              "    }\n",
              "    90% {\n",
              "      border-color: transparent;\n",
              "      border-bottom-color: var(--fill-color);\n",
              "    }\n",
              "  }\n",
              "</style>\n",
              "\n",
              "  <script>\n",
              "    async function quickchart(key) {\n",
              "      const quickchartButtonEl =\n",
              "        document.querySelector('#' + key + ' button');\n",
              "      quickchartButtonEl.disabled = true;  // To prevent multiple clicks.\n",
              "      quickchartButtonEl.classList.add('colab-df-spinner');\n",
              "      try {\n",
              "        const charts = await google.colab.kernel.invokeFunction(\n",
              "            'suggestCharts', [key], {});\n",
              "      } catch (error) {\n",
              "        console.error('Error during call to suggestCharts:', error);\n",
              "      }\n",
              "      quickchartButtonEl.classList.remove('colab-df-spinner');\n",
              "      quickchartButtonEl.classList.add('colab-df-quickchart-complete');\n",
              "    }\n",
              "    (() => {\n",
              "      let quickchartButtonEl =\n",
              "        document.querySelector('#df-8fbef02e-d73e-4c92-a3c4-1cfd43370945 button');\n",
              "      quickchartButtonEl.style.display =\n",
              "        google.colab.kernel.accessAllowed ? 'block' : 'none';\n",
              "    })();\n",
              "  </script>\n",
              "</div>\n",
              "    </div>\n",
              "  </div>\n"
            ]
          },
          "metadata": {},
          "execution_count": 28
        }
      ]
    },
    {
      "cell_type": "code",
      "source": [
        "selected_data.to_excel('/content/drive/MyDrive/졸업논문/논리재 감정제_논문_/raw data_news/논리제/selected_data.xlsx', index=False)"
      ],
      "metadata": {
        "colab": {
          "base_uri": "https://localhost:8080/"
        },
        "id": "yi7r-tZznh6X",
        "outputId": "098f85a9-eeb0-4700-f81d-71a9d82ff4a2"
      },
      "execution_count": null,
      "outputs": [
        {
          "output_type": "stream",
          "name": "stderr",
          "text": [
            "Exception ignored in: <function ZipFile.__del__ at 0x7fa3eaf78dc0>\n",
            "Traceback (most recent call last):\n",
            "  File \"/usr/lib/python3.10/zipfile.py\", line 1821, in __del__\n",
            "    self.close()\n",
            "  File \"/usr/lib/python3.10/zipfile.py\", line 1838, in close\n",
            "    self.fp.seek(self.start_dir)\n",
            "ValueError: seek of closed file\n"
          ]
        }
      ]
    },
    {
      "cell_type": "code",
      "source": [
        "file_path='/content/drive/MyDrive/졸업논문/논리재 감정제_논문_/raw data_news/논리제/selected_data.xlsx'"
      ],
      "metadata": {
        "id": "QuRzG7xyq7vB"
      },
      "execution_count": null,
      "outputs": []
    },
    {
      "cell_type": "code",
      "source": [
        "selected_data.to_excel(file_path, index=False, engine='openpyxl')"
      ],
      "metadata": {
        "id": "cPHIY2qYqxov"
      },
      "execution_count": null,
      "outputs": []
    },
    {
      "cell_type": "code",
      "source": [],
      "metadata": {
        "id": "QDImji3GrEUz"
      },
      "execution_count": null,
      "outputs": []
    },
    {
      "cell_type": "markdown",
      "source": [
        "* 빈도분석"
      ],
      "metadata": {
        "id": "EO0UDQvD1Xaf"
      }
    },
    {
      "cell_type": "code",
      "source": [
        "import tensorflow as tf\n",
        "\n",
        "resolver = tf.distribute.cluster_resolver.TPUClusterResolver(tpu='grpc://' + os.environ['COLAB_TPU_ADDR'])\n",
        "\n",
        "tf.config.experimental_connect_to_cluster(resolver)\n",
        "tf.tpu.experimental.initialize_tpu_system(resolver)"
      ],
      "metadata": {
        "colab": {
          "base_uri": "https://localhost:8080/"
        },
        "id": "wQubrbhF1ZgP",
        "outputId": "7f87009a-0f0f-4b7d-8287-1368fdf9f484"
      },
      "execution_count": null,
      "outputs": [
        {
          "output_type": "execute_result",
          "data": {
            "text/plain": [
              "<tensorflow.python.tpu.topology.Topology at 0x7fa363c9ff70>"
            ]
          },
          "metadata": {},
          "execution_count": 34
        }
      ]
    },
    {
      "cell_type": "code",
      "source": [
        "strategy = tf.distribute.TPUStrategy(resolver)\n"
      ],
      "metadata": {
        "id": "UE8m7Pb-1bfb"
      },
      "execution_count": null,
      "outputs": []
    },
    {
      "cell_type": "code",
      "source": [
        "from gensim.models.ldamodel import LdaModel\n",
        "from gensim.models import CoherenceModel\n",
        "import matplotlib.pyplot as plt\n",
        "from gensim import corpora\n",
        "import numpy as np\n",
        "from sklearn.decomposition import LatentDirichletAllocation\n",
        "\n",
        "import site\n",
        "import re\n",
        "from tqdm import tqdm"
      ],
      "metadata": {
        "id": "MWQfsAza1qo7"
      },
      "execution_count": null,
      "outputs": []
    },
    {
      "cell_type": "code",
      "source": [
        "!pip install pyLDAvis"
      ],
      "metadata": {
        "id": "r7QrrW8W1qu3"
      },
      "execution_count": null,
      "outputs": []
    },
    {
      "cell_type": "code",
      "source": [
        "import pyLDAvis.gensim_models\n",
        "import gensim"
      ],
      "metadata": {
        "id": "pRK3TJ-B1qxP"
      },
      "execution_count": null,
      "outputs": []
    },
    {
      "cell_type": "code",
      "source": [
        "All_data=selected_data.rename(columns={'본문':'Contents'})"
      ],
      "metadata": {
        "colab": {
          "base_uri": "https://localhost:8080/"
        },
        "id": "jzY623WB17bN",
        "outputId": "2869e568-fc7a-4cd6-f4b0-5bbd98f8c75c"
      },
      "execution_count": null,
      "outputs": [
        {
          "output_type": "stream",
          "name": "stderr",
          "text": [
            "/usr/local/lib/python3.10/dist-packages/ipykernel/ipkernel.py:283: DeprecationWarning: `should_run_async` will not call `transform_cell` automatically in the future. Please pass the result to `transformed_cell` argument and any exception that happen during thetransform in `preprocessing_exc_tuple` in IPython 7.17 and above.\n",
            "  and should_run_async(code)\n"
          ]
        }
      ]
    },
    {
      "cell_type": "code",
      "source": [
        "All_data.info()"
      ],
      "metadata": {
        "colab": {
          "base_uri": "https://localhost:8080/"
        },
        "id": "jHK7yWpf1-5Q",
        "outputId": "104ec1f6-7549-4906-ad6b-3a87999471e0"
      },
      "execution_count": null,
      "outputs": [
        {
          "output_type": "stream",
          "name": "stdout",
          "text": [
            "<class 'pandas.core.frame.DataFrame'>\n",
            "Int64Index: 280000 entries, 0 to 19999\n",
            "Data columns (total 2 columns):\n",
            " #   Column    Non-Null Count   Dtype \n",
            "---  ------    --------------   ----- \n",
            " 0   Contents  280000 non-null  object\n",
            " 1   label     280000 non-null  int64 \n",
            "dtypes: int64(1), object(1)\n",
            "memory usage: 6.4+ MB\n"
          ]
        },
        {
          "output_type": "stream",
          "name": "stderr",
          "text": [
            "/usr/local/lib/python3.10/dist-packages/ipykernel/ipkernel.py:283: DeprecationWarning: `should_run_async` will not call `transform_cell` automatically in the future. Please pass the result to `transformed_cell` argument and any exception that happen during thetransform in `preprocessing_exc_tuple` in IPython 7.17 and above.\n",
            "  and should_run_async(code)\n"
          ]
        }
      ]
    },
    {
      "cell_type": "code",
      "source": [
        "TARGET_COL = \"Contents\"\n",
        "PROCESSED_COL = \"ProcessedData\""
      ],
      "metadata": {
        "colab": {
          "base_uri": "https://localhost:8080/"
        },
        "id": "06nLYLRk2Bs9",
        "outputId": "a7eda052-3b36-4836-decf-6b3d13d5f1db"
      },
      "execution_count": null,
      "outputs": [
        {
          "output_type": "stream",
          "name": "stderr",
          "text": [
            "/usr/local/lib/python3.10/dist-packages/ipykernel/ipkernel.py:283: DeprecationWarning: `should_run_async` will not call `transform_cell` automatically in the future. Please pass the result to `transformed_cell` argument and any exception that happen during thetransform in `preprocessing_exc_tuple` in IPython 7.17 and above.\n",
            "  and should_run_async(code)\n"
          ]
        }
      ]
    },
    {
      "cell_type": "code",
      "source": [
        "All_data[PROCESSED_COL]=[False for _ in range(len(All_data[TARGET_COL]))]"
      ],
      "metadata": {
        "colab": {
          "base_uri": "https://localhost:8080/"
        },
        "id": "ryNaY2C42Hlf",
        "outputId": "3dc51bc7-9475-4d22-96d3-58dc1841d8bc"
      },
      "execution_count": null,
      "outputs": [
        {
          "output_type": "stream",
          "name": "stderr",
          "text": [
            "/usr/local/lib/python3.10/dist-packages/ipykernel/ipkernel.py:283: DeprecationWarning: `should_run_async` will not call `transform_cell` automatically in the future. Please pass the result to `transformed_cell` argument and any exception that happen during thetransform in `preprocessing_exc_tuple` in IPython 7.17 and above.\n",
            "  and should_run_async(code)\n"
          ]
        }
      ]
    },
    {
      "cell_type": "code",
      "source": [
        "All_data"
      ],
      "metadata": {
        "id": "p5NZyZY62Hrl"
      },
      "execution_count": null,
      "outputs": []
    },
    {
      "cell_type": "code",
      "source": [
        "# 개행 문자 (CRLF) 제거\n",
        "def remove_CRLF(input_str):\n",
        "    input_str = input_str.replace(\"\\n\", \" \")\n",
        "    input_str = input_str.replace(\"\\n\", \" \")\n",
        "    input_str = input_str.replace(\"\\r\", \" \")\n",
        "    input_str = input_str.replace(\"\\r\", \" \")\n",
        "\n",
        "    return input_str"
      ],
      "metadata": {
        "colab": {
          "base_uri": "https://localhost:8080/"
        },
        "id": "RY7D9Kld2HuO",
        "outputId": "57ef50e9-0fb1-4b03-fb0f-d009267b4811"
      },
      "execution_count": null,
      "outputs": [
        {
          "output_type": "stream",
          "name": "stderr",
          "text": [
            "/usr/local/lib/python3.10/dist-packages/ipykernel/ipkernel.py:283: DeprecationWarning: `should_run_async` will not call `transform_cell` automatically in the future. Please pass the result to `transformed_cell` argument and any exception that happen during thetransform in `preprocessing_exc_tuple` in IPython 7.17 and above.\n",
            "  and should_run_async(code)\n"
          ]
        }
      ]
    },
    {
      "cell_type": "code",
      "source": [
        "All_data[PROCESSED_COL] = All_data[TARGET_COL].apply(remove_CRLF)"
      ],
      "metadata": {
        "colab": {
          "base_uri": "https://localhost:8080/"
        },
        "id": "yKOC3YI02Hwk",
        "outputId": "b954d932-048f-4c24-d344-e443bdd55580"
      },
      "execution_count": null,
      "outputs": [
        {
          "output_type": "stream",
          "name": "stderr",
          "text": [
            "/usr/local/lib/python3.10/dist-packages/ipykernel/ipkernel.py:283: DeprecationWarning: `should_run_async` will not call `transform_cell` automatically in the future. Please pass the result to `transformed_cell` argument and any exception that happen during thetransform in `preprocessing_exc_tuple` in IPython 7.17 and above.\n",
            "  and should_run_async(code)\n"
          ]
        }
      ]
    },
    {
      "cell_type": "code",
      "source": [
        "All_data.head()"
      ],
      "metadata": {
        "colab": {
          "base_uri": "https://localhost:8080/",
          "height": 261
        },
        "id": "0oU9W-Gf2Hyp",
        "outputId": "26f98d5c-ff98-40a7-cc5a-0af8802ffa24"
      },
      "execution_count": null,
      "outputs": [
        {
          "output_type": "stream",
          "name": "stderr",
          "text": [
            "/usr/local/lib/python3.10/dist-packages/ipykernel/ipkernel.py:283: DeprecationWarning: `should_run_async` will not call `transform_cell` automatically in the future. Please pass the result to `transformed_cell` argument and any exception that happen during thetransform in `preprocessing_exc_tuple` in IPython 7.17 and above.\n",
            "  and should_run_async(code)\n"
          ]
        },
        {
          "output_type": "execute_result",
          "data": {
            "text/plain": [
              "                                            Contents  label  \\\n",
              "0  인체의 주요 기관을 표현하는 용어 중 흔히 쓰는 것에 오장육부가 있다. 오장은 간장...      1   \n",
              "1  현대자동차그룹은 정의선 회장이 지난 7일(현지시간) 세계 최대 반도체 회사 인텔의 ...      1   \n",
              "2  〔중부매일 문영호 기자 〕아산시가 공중화장실을 이용하는 시민들의 긴급 상황과 범죄 ...      1   \n",
              "3  SBS 드라마 '악귀'에 등장하는 '덕달이 나무'가 실재하는 나무인 것으로 알려져 ...      1   \n",
              "4  '전당대회 돈 봉투' 의혹을 받는 송영길 전 더불어민주당 대표가 7일 서울 서초구 ...      1   \n",
              "\n",
              "                                       ProcessedData  \n",
              "0  인체의 주요 기관을 표현하는 용어 중 흔히 쓰는 것에 오장육부가 있다. 오장은 간장...  \n",
              "1  현대자동차그룹은 정의선 회장이 지난 7일(현지시간) 세계 최대 반도체 회사 인텔의 ...  \n",
              "2  〔중부매일 문영호 기자 〕아산시가 공중화장실을 이용하는 시민들의 긴급 상황과 범죄 ...  \n",
              "3  SBS 드라마 '악귀'에 등장하는 '덕달이 나무'가 실재하는 나무인 것으로 알려져 ...  \n",
              "4  '전당대회 돈 봉투' 의혹을 받는 송영길 전 더불어민주당 대표가 7일 서울 서초구 ...  "
            ],
            "text/html": [
              "\n",
              "  <div id=\"df-229a2135-3b58-4db6-a2e5-fe7c9dea8f0f\" class=\"colab-df-container\">\n",
              "    <div>\n",
              "<style scoped>\n",
              "    .dataframe tbody tr th:only-of-type {\n",
              "        vertical-align: middle;\n",
              "    }\n",
              "\n",
              "    .dataframe tbody tr th {\n",
              "        vertical-align: top;\n",
              "    }\n",
              "\n",
              "    .dataframe thead th {\n",
              "        text-align: right;\n",
              "    }\n",
              "</style>\n",
              "<table border=\"1\" class=\"dataframe\">\n",
              "  <thead>\n",
              "    <tr style=\"text-align: right;\">\n",
              "      <th></th>\n",
              "      <th>Contents</th>\n",
              "      <th>label</th>\n",
              "      <th>ProcessedData</th>\n",
              "    </tr>\n",
              "  </thead>\n",
              "  <tbody>\n",
              "    <tr>\n",
              "      <th>0</th>\n",
              "      <td>인체의 주요 기관을 표현하는 용어 중 흔히 쓰는 것에 오장육부가 있다. 오장은 간장...</td>\n",
              "      <td>1</td>\n",
              "      <td>인체의 주요 기관을 표현하는 용어 중 흔히 쓰는 것에 오장육부가 있다. 오장은 간장...</td>\n",
              "    </tr>\n",
              "    <tr>\n",
              "      <th>1</th>\n",
              "      <td>현대자동차그룹은 정의선 회장이 지난 7일(현지시간) 세계 최대 반도체 회사 인텔의 ...</td>\n",
              "      <td>1</td>\n",
              "      <td>현대자동차그룹은 정의선 회장이 지난 7일(현지시간) 세계 최대 반도체 회사 인텔의 ...</td>\n",
              "    </tr>\n",
              "    <tr>\n",
              "      <th>2</th>\n",
              "      <td>〔중부매일 문영호 기자 〕아산시가 공중화장실을 이용하는 시민들의 긴급 상황과 범죄 ...</td>\n",
              "      <td>1</td>\n",
              "      <td>〔중부매일 문영호 기자 〕아산시가 공중화장실을 이용하는 시민들의 긴급 상황과 범죄 ...</td>\n",
              "    </tr>\n",
              "    <tr>\n",
              "      <th>3</th>\n",
              "      <td>SBS 드라마 '악귀'에 등장하는 '덕달이 나무'가 실재하는 나무인 것으로 알려져 ...</td>\n",
              "      <td>1</td>\n",
              "      <td>SBS 드라마 '악귀'에 등장하는 '덕달이 나무'가 실재하는 나무인 것으로 알려져 ...</td>\n",
              "    </tr>\n",
              "    <tr>\n",
              "      <th>4</th>\n",
              "      <td>'전당대회 돈 봉투' 의혹을 받는 송영길 전 더불어민주당 대표가 7일 서울 서초구 ...</td>\n",
              "      <td>1</td>\n",
              "      <td>'전당대회 돈 봉투' 의혹을 받는 송영길 전 더불어민주당 대표가 7일 서울 서초구 ...</td>\n",
              "    </tr>\n",
              "  </tbody>\n",
              "</table>\n",
              "</div>\n",
              "    <div class=\"colab-df-buttons\">\n",
              "\n",
              "  <div class=\"colab-df-container\">\n",
              "    <button class=\"colab-df-convert\" onclick=\"convertToInteractive('df-229a2135-3b58-4db6-a2e5-fe7c9dea8f0f')\"\n",
              "            title=\"Convert this dataframe to an interactive table.\"\n",
              "            style=\"display:none;\">\n",
              "\n",
              "  <svg xmlns=\"http://www.w3.org/2000/svg\" height=\"24px\" viewBox=\"0 -960 960 960\">\n",
              "    <path d=\"M120-120v-720h720v720H120Zm60-500h600v-160H180v160Zm220 220h160v-160H400v160Zm0 220h160v-160H400v160ZM180-400h160v-160H180v160Zm440 0h160v-160H620v160ZM180-180h160v-160H180v160Zm440 0h160v-160H620v160Z\"/>\n",
              "  </svg>\n",
              "    </button>\n",
              "\n",
              "  <style>\n",
              "    .colab-df-container {\n",
              "      display:flex;\n",
              "      gap: 12px;\n",
              "    }\n",
              "\n",
              "    .colab-df-convert {\n",
              "      background-color: #E8F0FE;\n",
              "      border: none;\n",
              "      border-radius: 50%;\n",
              "      cursor: pointer;\n",
              "      display: none;\n",
              "      fill: #1967D2;\n",
              "      height: 32px;\n",
              "      padding: 0 0 0 0;\n",
              "      width: 32px;\n",
              "    }\n",
              "\n",
              "    .colab-df-convert:hover {\n",
              "      background-color: #E2EBFA;\n",
              "      box-shadow: 0px 1px 2px rgba(60, 64, 67, 0.3), 0px 1px 3px 1px rgba(60, 64, 67, 0.15);\n",
              "      fill: #174EA6;\n",
              "    }\n",
              "\n",
              "    .colab-df-buttons div {\n",
              "      margin-bottom: 4px;\n",
              "    }\n",
              "\n",
              "    [theme=dark] .colab-df-convert {\n",
              "      background-color: #3B4455;\n",
              "      fill: #D2E3FC;\n",
              "    }\n",
              "\n",
              "    [theme=dark] .colab-df-convert:hover {\n",
              "      background-color: #434B5C;\n",
              "      box-shadow: 0px 1px 3px 1px rgba(0, 0, 0, 0.15);\n",
              "      filter: drop-shadow(0px 1px 2px rgba(0, 0, 0, 0.3));\n",
              "      fill: #FFFFFF;\n",
              "    }\n",
              "  </style>\n",
              "\n",
              "    <script>\n",
              "      const buttonEl =\n",
              "        document.querySelector('#df-229a2135-3b58-4db6-a2e5-fe7c9dea8f0f button.colab-df-convert');\n",
              "      buttonEl.style.display =\n",
              "        google.colab.kernel.accessAllowed ? 'block' : 'none';\n",
              "\n",
              "      async function convertToInteractive(key) {\n",
              "        const element = document.querySelector('#df-229a2135-3b58-4db6-a2e5-fe7c9dea8f0f');\n",
              "        const dataTable =\n",
              "          await google.colab.kernel.invokeFunction('convertToInteractive',\n",
              "                                                    [key], {});\n",
              "        if (!dataTable) return;\n",
              "\n",
              "        const docLinkHtml = 'Like what you see? Visit the ' +\n",
              "          '<a target=\"_blank\" href=https://colab.research.google.com/notebooks/data_table.ipynb>data table notebook</a>'\n",
              "          + ' to learn more about interactive tables.';\n",
              "        element.innerHTML = '';\n",
              "        dataTable['output_type'] = 'display_data';\n",
              "        await google.colab.output.renderOutput(dataTable, element);\n",
              "        const docLink = document.createElement('div');\n",
              "        docLink.innerHTML = docLinkHtml;\n",
              "        element.appendChild(docLink);\n",
              "      }\n",
              "    </script>\n",
              "  </div>\n",
              "\n",
              "\n",
              "<div id=\"df-ab92d7ae-c3db-4d4d-ac85-e7be9faab34f\">\n",
              "  <button class=\"colab-df-quickchart\" onclick=\"quickchart('df-ab92d7ae-c3db-4d4d-ac85-e7be9faab34f')\"\n",
              "            title=\"Suggest charts.\"\n",
              "            style=\"display:none;\">\n",
              "\n",
              "<svg xmlns=\"http://www.w3.org/2000/svg\" height=\"24px\"viewBox=\"0 0 24 24\"\n",
              "     width=\"24px\">\n",
              "    <g>\n",
              "        <path d=\"M19 3H5c-1.1 0-2 .9-2 2v14c0 1.1.9 2 2 2h14c1.1 0 2-.9 2-2V5c0-1.1-.9-2-2-2zM9 17H7v-7h2v7zm4 0h-2V7h2v10zm4 0h-2v-4h2v4z\"/>\n",
              "    </g>\n",
              "</svg>\n",
              "  </button>\n",
              "\n",
              "<style>\n",
              "  .colab-df-quickchart {\n",
              "      --bg-color: #E8F0FE;\n",
              "      --fill-color: #1967D2;\n",
              "      --hover-bg-color: #E2EBFA;\n",
              "      --hover-fill-color: #174EA6;\n",
              "      --disabled-fill-color: #AAA;\n",
              "      --disabled-bg-color: #DDD;\n",
              "  }\n",
              "\n",
              "  [theme=dark] .colab-df-quickchart {\n",
              "      --bg-color: #3B4455;\n",
              "      --fill-color: #D2E3FC;\n",
              "      --hover-bg-color: #434B5C;\n",
              "      --hover-fill-color: #FFFFFF;\n",
              "      --disabled-bg-color: #3B4455;\n",
              "      --disabled-fill-color: #666;\n",
              "  }\n",
              "\n",
              "  .colab-df-quickchart {\n",
              "    background-color: var(--bg-color);\n",
              "    border: none;\n",
              "    border-radius: 50%;\n",
              "    cursor: pointer;\n",
              "    display: none;\n",
              "    fill: var(--fill-color);\n",
              "    height: 32px;\n",
              "    padding: 0;\n",
              "    width: 32px;\n",
              "  }\n",
              "\n",
              "  .colab-df-quickchart:hover {\n",
              "    background-color: var(--hover-bg-color);\n",
              "    box-shadow: 0 1px 2px rgba(60, 64, 67, 0.3), 0 1px 3px 1px rgba(60, 64, 67, 0.15);\n",
              "    fill: var(--button-hover-fill-color);\n",
              "  }\n",
              "\n",
              "  .colab-df-quickchart-complete:disabled,\n",
              "  .colab-df-quickchart-complete:disabled:hover {\n",
              "    background-color: var(--disabled-bg-color);\n",
              "    fill: var(--disabled-fill-color);\n",
              "    box-shadow: none;\n",
              "  }\n",
              "\n",
              "  .colab-df-spinner {\n",
              "    border: 2px solid var(--fill-color);\n",
              "    border-color: transparent;\n",
              "    border-bottom-color: var(--fill-color);\n",
              "    animation:\n",
              "      spin 1s steps(1) infinite;\n",
              "  }\n",
              "\n",
              "  @keyframes spin {\n",
              "    0% {\n",
              "      border-color: transparent;\n",
              "      border-bottom-color: var(--fill-color);\n",
              "      border-left-color: var(--fill-color);\n",
              "    }\n",
              "    20% {\n",
              "      border-color: transparent;\n",
              "      border-left-color: var(--fill-color);\n",
              "      border-top-color: var(--fill-color);\n",
              "    }\n",
              "    30% {\n",
              "      border-color: transparent;\n",
              "      border-left-color: var(--fill-color);\n",
              "      border-top-color: var(--fill-color);\n",
              "      border-right-color: var(--fill-color);\n",
              "    }\n",
              "    40% {\n",
              "      border-color: transparent;\n",
              "      border-right-color: var(--fill-color);\n",
              "      border-top-color: var(--fill-color);\n",
              "    }\n",
              "    60% {\n",
              "      border-color: transparent;\n",
              "      border-right-color: var(--fill-color);\n",
              "    }\n",
              "    80% {\n",
              "      border-color: transparent;\n",
              "      border-right-color: var(--fill-color);\n",
              "      border-bottom-color: var(--fill-color);\n",
              "    }\n",
              "    90% {\n",
              "      border-color: transparent;\n",
              "      border-bottom-color: var(--fill-color);\n",
              "    }\n",
              "  }\n",
              "</style>\n",
              "\n",
              "  <script>\n",
              "    async function quickchart(key) {\n",
              "      const quickchartButtonEl =\n",
              "        document.querySelector('#' + key + ' button');\n",
              "      quickchartButtonEl.disabled = true;  // To prevent multiple clicks.\n",
              "      quickchartButtonEl.classList.add('colab-df-spinner');\n",
              "      try {\n",
              "        const charts = await google.colab.kernel.invokeFunction(\n",
              "            'suggestCharts', [key], {});\n",
              "      } catch (error) {\n",
              "        console.error('Error during call to suggestCharts:', error);\n",
              "      }\n",
              "      quickchartButtonEl.classList.remove('colab-df-spinner');\n",
              "      quickchartButtonEl.classList.add('colab-df-quickchart-complete');\n",
              "    }\n",
              "    (() => {\n",
              "      let quickchartButtonEl =\n",
              "        document.querySelector('#df-ab92d7ae-c3db-4d4d-ac85-e7be9faab34f button');\n",
              "      quickchartButtonEl.style.display =\n",
              "        google.colab.kernel.accessAllowed ? 'block' : 'none';\n",
              "    })();\n",
              "  </script>\n",
              "</div>\n",
              "    </div>\n",
              "  </div>\n"
            ]
          },
          "metadata": {},
          "execution_count": 48
        }
      ]
    },
    {
      "cell_type": "code",
      "source": [
        "# 이모티콘 문자들, 사이트 URL주소, 의미없는 문자 지우기\n",
        "def cleansing(input_str):\n",
        "    output_str = re.sub(pattern='<[U]\\+[A-Z0-9]*>', repl=' ', string=input_str)\n",
        "    output_str = re.sub(pattern='http[s]?://(?:[a-zA-Z]|[0-9]|[_$\\-@\\.&+:/?=]|[!*,]|(?:%[0-9a-fA-F_][0-9a-fA-F_]))+', repl=' ', string=output_str)\n",
        "    output_str = re.sub(pattern='^[0-9]+$', repl=' ', string=output_str)\n",
        "\n",
        "    return output_str"
      ],
      "metadata": {
        "colab": {
          "base_uri": "https://localhost:8080/"
        },
        "id": "DG-rI9b_HJHj",
        "outputId": "ee531059-f300-40d9-8942-59e6c3a36079"
      },
      "execution_count": null,
      "outputs": [
        {
          "output_type": "stream",
          "name": "stderr",
          "text": [
            "/usr/local/lib/python3.10/dist-packages/ipykernel/ipkernel.py:283: DeprecationWarning: `should_run_async` will not call `transform_cell` automatically in the future. Please pass the result to `transformed_cell` argument and any exception that happen during thetransform in `preprocessing_exc_tuple` in IPython 7.17 and above.\n",
            "  and should_run_async(code)\n",
            "<>:3: DeprecationWarning: invalid escape sequence '\\+'\n",
            "<>:4: DeprecationWarning: invalid escape sequence '\\-'\n",
            "<>:3: DeprecationWarning: invalid escape sequence '\\+'\n",
            "<>:4: DeprecationWarning: invalid escape sequence '\\-'\n",
            "<ipython-input-49-9680d50ef228>:3: DeprecationWarning: invalid escape sequence '\\+'\n",
            "  output_str = re.sub(pattern='<[U]\\+[A-Z0-9]*>', repl=' ', string=input_str)\n",
            "<ipython-input-49-9680d50ef228>:4: DeprecationWarning: invalid escape sequence '\\-'\n",
            "  output_str = re.sub(pattern='http[s]?://(?:[a-zA-Z]|[0-9]|[_$\\-@\\.&+:/?=]|[!*,]|(?:%[0-9a-fA-F_][0-9a-fA-F_]))+', repl=' ', string=output_str)\n"
          ]
        }
      ]
    },
    {
      "cell_type": "code",
      "source": [
        "All_data[PROCESSED_COL] = All_data[PROCESSED_COL].apply(cleansing)"
      ],
      "metadata": {
        "colab": {
          "base_uri": "https://localhost:8080/"
        },
        "id": "S40ESQFAHJJ8",
        "outputId": "6e40a3a6-b92a-452f-f06f-b57179e881e4"
      },
      "execution_count": null,
      "outputs": [
        {
          "output_type": "stream",
          "name": "stderr",
          "text": [
            "/usr/local/lib/python3.10/dist-packages/ipykernel/ipkernel.py:283: DeprecationWarning: `should_run_async` will not call `transform_cell` automatically in the future. Please pass the result to `transformed_cell` argument and any exception that happen during thetransform in `preprocessing_exc_tuple` in IPython 7.17 and above.\n",
            "  and should_run_async(code)\n"
          ]
        }
      ]
    },
    {
      "cell_type": "code",
      "source": [
        " import nltk\n",
        " nltk.download('punkt')"
      ],
      "metadata": {
        "colab": {
          "base_uri": "https://localhost:8080/"
        },
        "id": "7-n-0L7PIHBM",
        "outputId": "26dda38b-12ee-4ac2-da45-35e960573147"
      },
      "execution_count": null,
      "outputs": [
        {
          "output_type": "stream",
          "name": "stderr",
          "text": [
            "/usr/local/lib/python3.10/dist-packages/ipykernel/ipkernel.py:283: DeprecationWarning: `should_run_async` will not call `transform_cell` automatically in the future. Please pass the result to `transformed_cell` argument and any exception that happen during thetransform in `preprocessing_exc_tuple` in IPython 7.17 and above.\n",
            "  and should_run_async(code)\n",
            "[nltk_data] Downloading package punkt to /root/nltk_data...\n",
            "[nltk_data]   Unzipping tokenizers/punkt.zip.\n"
          ]
        },
        {
          "output_type": "execute_result",
          "data": {
            "text/plain": [
              "True"
            ]
          },
          "metadata": {},
          "execution_count": 52
        }
      ]
    },
    {
      "cell_type": "code",
      "source": [
        " # 불용어 제거 단계\n",
        "from nltk.corpus import stopwords\n",
        "from nltk.tokenize import word_tokenize"
      ],
      "metadata": {
        "colab": {
          "base_uri": "https://localhost:8080/"
        },
        "id": "jb5bcANMILpA",
        "outputId": "5056e6fd-4449-481b-cbda-3bc59986c28d"
      },
      "execution_count": null,
      "outputs": [
        {
          "output_type": "stream",
          "name": "stderr",
          "text": [
            "/usr/local/lib/python3.10/dist-packages/ipykernel/ipkernel.py:283: DeprecationWarning: `should_run_async` will not call `transform_cell` automatically in the future. Please pass the result to `transformed_cell` argument and any exception that happen during thetransform in `preprocessing_exc_tuple` in IPython 7.17 and above.\n",
            "  and should_run_async(code)\n"
          ]
        }
      ]
    },
    {
      "cell_type": "code",
      "source": [
        "stopwords_df = pd.read_excel(\"/content/drive/MyDrive/졸업논문/AI Media/stopwords.xlsx\")"
      ],
      "metadata": {
        "colab": {
          "base_uri": "https://localhost:8080/"
        },
        "id": "cYBPJZycILzr",
        "outputId": "fe9ee017-b679-4319-f667-872945bf91fa"
      },
      "execution_count": null,
      "outputs": [
        {
          "output_type": "stream",
          "name": "stderr",
          "text": [
            "/usr/local/lib/python3.10/dist-packages/ipykernel/ipkernel.py:283: DeprecationWarning: `should_run_async` will not call `transform_cell` automatically in the future. Please pass the result to `transformed_cell` argument and any exception that happen during thetransform in `preprocessing_exc_tuple` in IPython 7.17 and above.\n",
            "  and should_run_async(code)\n"
          ]
        }
      ]
    },
    {
      "cell_type": "code",
      "source": [
        "print(stopwords_df)"
      ],
      "metadata": {
        "colab": {
          "base_uri": "https://localhost:8080/"
        },
        "id": "Ra2uLGn0IL2o",
        "outputId": "47375b6d-0b43-418f-9deb-b36ca70da0ed"
      },
      "execution_count": null,
      "outputs": [
        {
          "output_type": "stream",
          "name": "stdout",
          "text": [
            "     stopword\n",
            "0        가까스로\n",
            "1          가량\n",
            "2          가령\n",
            "3          가민\n",
            "4       가민커넥트\n",
            "...       ...\n",
            "1032       지난\n",
            "1033      지난해\n",
            "1034       다고\n",
            "1035       밝혔\n",
            "1036       위한\n",
            "\n",
            "[1037 rows x 1 columns]\n"
          ]
        },
        {
          "output_type": "stream",
          "name": "stderr",
          "text": [
            "/usr/local/lib/python3.10/dist-packages/ipykernel/ipkernel.py:283: DeprecationWarning: `should_run_async` will not call `transform_cell` automatically in the future. Please pass the result to `transformed_cell` argument and any exception that happen during thetransform in `preprocessing_exc_tuple` in IPython 7.17 and above.\n",
            "  and should_run_async(code)\n"
          ]
        }
      ]
    },
    {
      "cell_type": "code",
      "source": [
        "stop_words = set(stopwords_df['stopword'].str.lower())"
      ],
      "metadata": {
        "colab": {
          "base_uri": "https://localhost:8080/"
        },
        "id": "HldHU3KVIHIP",
        "outputId": "b66e13f3-3d8b-44e4-ce90-bc26683870aa"
      },
      "execution_count": null,
      "outputs": [
        {
          "output_type": "stream",
          "name": "stderr",
          "text": [
            "/usr/local/lib/python3.10/dist-packages/ipykernel/ipkernel.py:283: DeprecationWarning: `should_run_async` will not call `transform_cell` automatically in the future. Please pass the result to `transformed_cell` argument and any exception that happen during thetransform in `preprocessing_exc_tuple` in IPython 7.17 and above.\n",
            "  and should_run_async(code)\n"
          ]
        }
      ]
    },
    {
      "cell_type": "code",
      "source": [
        "# 불용어 제거 함수 정의\n",
        "def remove_stopwords(text):\n",
        "    word_tokens = word_tokenize(text)\n",
        "    filtered_text = [word for word in word_tokens if word.casefold() not in stop_words]\n",
        "    return ' '.join(filtered_text)"
      ],
      "metadata": {
        "colab": {
          "base_uri": "https://localhost:8080/"
        },
        "id": "y-lRUEtvIHK5",
        "outputId": "b5902f4c-111e-4f10-c936-4b9b56115785"
      },
      "execution_count": null,
      "outputs": [
        {
          "output_type": "stream",
          "name": "stderr",
          "text": [
            "/usr/local/lib/python3.10/dist-packages/ipykernel/ipkernel.py:283: DeprecationWarning: `should_run_async` will not call `transform_cell` automatically in the future. Please pass the result to `transformed_cell` argument and any exception that happen during thetransform in `preprocessing_exc_tuple` in IPython 7.17 and above.\n",
            "  and should_run_async(code)\n"
          ]
        }
      ]
    },
    {
      "cell_type": "code",
      "source": [
        "All_data[PROCESSED_COL] = All_data[PROCESSED_COL].apply(remove_stopwords)"
      ],
      "metadata": {
        "colab": {
          "base_uri": "https://localhost:8080/"
        },
        "id": "Ta7HAcC_IHNi",
        "outputId": "ea18ea58-6e94-4e9d-9a06-91355d7687c7"
      },
      "execution_count": null,
      "outputs": [
        {
          "output_type": "stream",
          "name": "stderr",
          "text": [
            "/usr/local/lib/python3.10/dist-packages/ipykernel/ipkernel.py:283: DeprecationWarning: `should_run_async` will not call `transform_cell` automatically in the future. Please pass the result to `transformed_cell` argument and any exception that happen during thetransform in `preprocessing_exc_tuple` in IPython 7.17 and above.\n",
            "  and should_run_async(code)\n"
          ]
        }
      ]
    },
    {
      "cell_type": "code",
      "source": [
        "All_data.to_csv('/content/drive/MyDrive/졸업논문/논리재 감정제_논문_/raw data_news/논리제/remove_stopwords.csv',index=False)"
      ],
      "metadata": {
        "colab": {
          "base_uri": "https://localhost:8080/"
        },
        "id": "lo3u6rpaIm_-",
        "outputId": "94f33603-fa4b-427e-c311-9b68d02dc743"
      },
      "execution_count": null,
      "outputs": [
        {
          "output_type": "stream",
          "name": "stderr",
          "text": [
            "/usr/local/lib/python3.10/dist-packages/ipykernel/ipkernel.py:283: DeprecationWarning: `should_run_async` will not call `transform_cell` automatically in the future. Please pass the result to `transformed_cell` argument and any exception that happen during thetransform in `preprocessing_exc_tuple` in IPython 7.17 and above.\n",
            "  and should_run_async(code)\n"
          ]
        }
      ]
    },
    {
      "cell_type": "markdown",
      "source": [
        "* 토근화 단계"
      ],
      "metadata": {
        "id": "NTCr1ZjWJitf"
      }
    },
    {
      "cell_type": "code",
      "source": [
        "All_data2=pd.read_csv('/content/drive/MyDrive/졸업논문/논리재 감정제_논문_/raw data_news/논리제/remove_stopwords.csv') #제대로 저장된지 확인\n"
      ],
      "metadata": {
        "colab": {
          "base_uri": "https://localhost:8080/"
        },
        "id": "UVwsu8qUInGq",
        "outputId": "9f5f0257-0d07-4de0-d636-f1c99134ff51"
      },
      "execution_count": null,
      "outputs": [
        {
          "output_type": "stream",
          "name": "stderr",
          "text": [
            "/usr/local/lib/python3.10/dist-packages/ipykernel/ipkernel.py:283: DeprecationWarning: `should_run_async` will not call `transform_cell` automatically in the future. Please pass the result to `transformed_cell` argument and any exception that happen during thetransform in `preprocessing_exc_tuple` in IPython 7.17 and above.\n",
            "  and should_run_async(code)\n"
          ]
        }
      ]
    },
    {
      "cell_type": "code",
      "source": [
        "All_data2.head()"
      ],
      "metadata": {
        "colab": {
          "base_uri": "https://localhost:8080/",
          "height": 261
        },
        "id": "C6E5nLczKBWQ",
        "outputId": "0cf9a742-1ad2-42cc-9472-6db22464e397"
      },
      "execution_count": null,
      "outputs": [
        {
          "output_type": "stream",
          "name": "stderr",
          "text": [
            "/usr/local/lib/python3.10/dist-packages/ipykernel/ipkernel.py:283: DeprecationWarning: `should_run_async` will not call `transform_cell` automatically in the future. Please pass the result to `transformed_cell` argument and any exception that happen during thetransform in `preprocessing_exc_tuple` in IPython 7.17 and above.\n",
            "  and should_run_async(code)\n"
          ]
        },
        {
          "output_type": "execute_result",
          "data": {
            "text/plain": [
              "                                            Contents  label  \\\n",
              "0  인체의 주요 기관을 표현하는 용어 중 흔히 쓰는 것에 오장육부가 있다. 오장은 간장...      1   \n",
              "1  현대자동차그룹은 정의선 회장이 지난 7일(현지시간) 세계 최대 반도체 회사 인텔의 ...      1   \n",
              "2  〔중부매일 문영호 기자 〕아산시가 공중화장실을 이용하는 시민들의 긴급 상황과 범죄 ...      1   \n",
              "3  SBS 드라마 '악귀'에 등장하는 '덕달이 나무'가 실재하는 나무인 것으로 알려져 ...      1   \n",
              "4  '전당대회 돈 봉투' 의혹을 받는 송영길 전 더불어민주당 대표가 7일 서울 서초구 ...      1   \n",
              "\n",
              "                                       ProcessedData  \n",
              "0  인체의 주요 기관을 표현하는 용어 중 흔히 쓰는 것에 오장육부가 . 오장은 간장 ,...  \n",
              "1  현대자동차그룹은 정의선 회장이 7일 ( 현지시간 ) 세계 최대 반도체 회사 인텔의 ...  \n",
              "2  〔중부매일 문영호 기자 〕아산시가 공중화장실을 이용하는 시민들의 긴급 상황과 범죄 ...  \n",
              "3  SBS 드라마 '악귀 ' 등장하는 '덕달이 나무 ' 가 실재하는 나무인 것으로 알려...  \n",
              "4  '전당대회 돈 봉투 ' 의혹을 받는 송영길 전 더불어민주당 대표가 7일 서초구 서울...  "
            ],
            "text/html": [
              "\n",
              "  <div id=\"df-e0d17b82-501d-47a3-b89d-d584e00d2889\" class=\"colab-df-container\">\n",
              "    <div>\n",
              "<style scoped>\n",
              "    .dataframe tbody tr th:only-of-type {\n",
              "        vertical-align: middle;\n",
              "    }\n",
              "\n",
              "    .dataframe tbody tr th {\n",
              "        vertical-align: top;\n",
              "    }\n",
              "\n",
              "    .dataframe thead th {\n",
              "        text-align: right;\n",
              "    }\n",
              "</style>\n",
              "<table border=\"1\" class=\"dataframe\">\n",
              "  <thead>\n",
              "    <tr style=\"text-align: right;\">\n",
              "      <th></th>\n",
              "      <th>Contents</th>\n",
              "      <th>label</th>\n",
              "      <th>ProcessedData</th>\n",
              "    </tr>\n",
              "  </thead>\n",
              "  <tbody>\n",
              "    <tr>\n",
              "      <th>0</th>\n",
              "      <td>인체의 주요 기관을 표현하는 용어 중 흔히 쓰는 것에 오장육부가 있다. 오장은 간장...</td>\n",
              "      <td>1</td>\n",
              "      <td>인체의 주요 기관을 표현하는 용어 중 흔히 쓰는 것에 오장육부가 . 오장은 간장 ,...</td>\n",
              "    </tr>\n",
              "    <tr>\n",
              "      <th>1</th>\n",
              "      <td>현대자동차그룹은 정의선 회장이 지난 7일(현지시간) 세계 최대 반도체 회사 인텔의 ...</td>\n",
              "      <td>1</td>\n",
              "      <td>현대자동차그룹은 정의선 회장이 7일 ( 현지시간 ) 세계 최대 반도체 회사 인텔의 ...</td>\n",
              "    </tr>\n",
              "    <tr>\n",
              "      <th>2</th>\n",
              "      <td>〔중부매일 문영호 기자 〕아산시가 공중화장실을 이용하는 시민들의 긴급 상황과 범죄 ...</td>\n",
              "      <td>1</td>\n",
              "      <td>〔중부매일 문영호 기자 〕아산시가 공중화장실을 이용하는 시민들의 긴급 상황과 범죄 ...</td>\n",
              "    </tr>\n",
              "    <tr>\n",
              "      <th>3</th>\n",
              "      <td>SBS 드라마 '악귀'에 등장하는 '덕달이 나무'가 실재하는 나무인 것으로 알려져 ...</td>\n",
              "      <td>1</td>\n",
              "      <td>SBS 드라마 '악귀 ' 등장하는 '덕달이 나무 ' 가 실재하는 나무인 것으로 알려...</td>\n",
              "    </tr>\n",
              "    <tr>\n",
              "      <th>4</th>\n",
              "      <td>'전당대회 돈 봉투' 의혹을 받는 송영길 전 더불어민주당 대표가 7일 서울 서초구 ...</td>\n",
              "      <td>1</td>\n",
              "      <td>'전당대회 돈 봉투 ' 의혹을 받는 송영길 전 더불어민주당 대표가 7일 서초구 서울...</td>\n",
              "    </tr>\n",
              "  </tbody>\n",
              "</table>\n",
              "</div>\n",
              "    <div class=\"colab-df-buttons\">\n",
              "\n",
              "  <div class=\"colab-df-container\">\n",
              "    <button class=\"colab-df-convert\" onclick=\"convertToInteractive('df-e0d17b82-501d-47a3-b89d-d584e00d2889')\"\n",
              "            title=\"Convert this dataframe to an interactive table.\"\n",
              "            style=\"display:none;\">\n",
              "\n",
              "  <svg xmlns=\"http://www.w3.org/2000/svg\" height=\"24px\" viewBox=\"0 -960 960 960\">\n",
              "    <path d=\"M120-120v-720h720v720H120Zm60-500h600v-160H180v160Zm220 220h160v-160H400v160Zm0 220h160v-160H400v160ZM180-400h160v-160H180v160Zm440 0h160v-160H620v160ZM180-180h160v-160H180v160Zm440 0h160v-160H620v160Z\"/>\n",
              "  </svg>\n",
              "    </button>\n",
              "\n",
              "  <style>\n",
              "    .colab-df-container {\n",
              "      display:flex;\n",
              "      gap: 12px;\n",
              "    }\n",
              "\n",
              "    .colab-df-convert {\n",
              "      background-color: #E8F0FE;\n",
              "      border: none;\n",
              "      border-radius: 50%;\n",
              "      cursor: pointer;\n",
              "      display: none;\n",
              "      fill: #1967D2;\n",
              "      height: 32px;\n",
              "      padding: 0 0 0 0;\n",
              "      width: 32px;\n",
              "    }\n",
              "\n",
              "    .colab-df-convert:hover {\n",
              "      background-color: #E2EBFA;\n",
              "      box-shadow: 0px 1px 2px rgba(60, 64, 67, 0.3), 0px 1px 3px 1px rgba(60, 64, 67, 0.15);\n",
              "      fill: #174EA6;\n",
              "    }\n",
              "\n",
              "    .colab-df-buttons div {\n",
              "      margin-bottom: 4px;\n",
              "    }\n",
              "\n",
              "    [theme=dark] .colab-df-convert {\n",
              "      background-color: #3B4455;\n",
              "      fill: #D2E3FC;\n",
              "    }\n",
              "\n",
              "    [theme=dark] .colab-df-convert:hover {\n",
              "      background-color: #434B5C;\n",
              "      box-shadow: 0px 1px 3px 1px rgba(0, 0, 0, 0.15);\n",
              "      filter: drop-shadow(0px 1px 2px rgba(0, 0, 0, 0.3));\n",
              "      fill: #FFFFFF;\n",
              "    }\n",
              "  </style>\n",
              "\n",
              "    <script>\n",
              "      const buttonEl =\n",
              "        document.querySelector('#df-e0d17b82-501d-47a3-b89d-d584e00d2889 button.colab-df-convert');\n",
              "      buttonEl.style.display =\n",
              "        google.colab.kernel.accessAllowed ? 'block' : 'none';\n",
              "\n",
              "      async function convertToInteractive(key) {\n",
              "        const element = document.querySelector('#df-e0d17b82-501d-47a3-b89d-d584e00d2889');\n",
              "        const dataTable =\n",
              "          await google.colab.kernel.invokeFunction('convertToInteractive',\n",
              "                                                    [key], {});\n",
              "        if (!dataTable) return;\n",
              "\n",
              "        const docLinkHtml = 'Like what you see? Visit the ' +\n",
              "          '<a target=\"_blank\" href=https://colab.research.google.com/notebooks/data_table.ipynb>data table notebook</a>'\n",
              "          + ' to learn more about interactive tables.';\n",
              "        element.innerHTML = '';\n",
              "        dataTable['output_type'] = 'display_data';\n",
              "        await google.colab.output.renderOutput(dataTable, element);\n",
              "        const docLink = document.createElement('div');\n",
              "        docLink.innerHTML = docLinkHtml;\n",
              "        element.appendChild(docLink);\n",
              "      }\n",
              "    </script>\n",
              "  </div>\n",
              "\n",
              "\n",
              "<div id=\"df-a0ffe1ee-2d1d-4e4f-8c82-387b2b32012b\">\n",
              "  <button class=\"colab-df-quickchart\" onclick=\"quickchart('df-a0ffe1ee-2d1d-4e4f-8c82-387b2b32012b')\"\n",
              "            title=\"Suggest charts.\"\n",
              "            style=\"display:none;\">\n",
              "\n",
              "<svg xmlns=\"http://www.w3.org/2000/svg\" height=\"24px\"viewBox=\"0 0 24 24\"\n",
              "     width=\"24px\">\n",
              "    <g>\n",
              "        <path d=\"M19 3H5c-1.1 0-2 .9-2 2v14c0 1.1.9 2 2 2h14c1.1 0 2-.9 2-2V5c0-1.1-.9-2-2-2zM9 17H7v-7h2v7zm4 0h-2V7h2v10zm4 0h-2v-4h2v4z\"/>\n",
              "    </g>\n",
              "</svg>\n",
              "  </button>\n",
              "\n",
              "<style>\n",
              "  .colab-df-quickchart {\n",
              "      --bg-color: #E8F0FE;\n",
              "      --fill-color: #1967D2;\n",
              "      --hover-bg-color: #E2EBFA;\n",
              "      --hover-fill-color: #174EA6;\n",
              "      --disabled-fill-color: #AAA;\n",
              "      --disabled-bg-color: #DDD;\n",
              "  }\n",
              "\n",
              "  [theme=dark] .colab-df-quickchart {\n",
              "      --bg-color: #3B4455;\n",
              "      --fill-color: #D2E3FC;\n",
              "      --hover-bg-color: #434B5C;\n",
              "      --hover-fill-color: #FFFFFF;\n",
              "      --disabled-bg-color: #3B4455;\n",
              "      --disabled-fill-color: #666;\n",
              "  }\n",
              "\n",
              "  .colab-df-quickchart {\n",
              "    background-color: var(--bg-color);\n",
              "    border: none;\n",
              "    border-radius: 50%;\n",
              "    cursor: pointer;\n",
              "    display: none;\n",
              "    fill: var(--fill-color);\n",
              "    height: 32px;\n",
              "    padding: 0;\n",
              "    width: 32px;\n",
              "  }\n",
              "\n",
              "  .colab-df-quickchart:hover {\n",
              "    background-color: var(--hover-bg-color);\n",
              "    box-shadow: 0 1px 2px rgba(60, 64, 67, 0.3), 0 1px 3px 1px rgba(60, 64, 67, 0.15);\n",
              "    fill: var(--button-hover-fill-color);\n",
              "  }\n",
              "\n",
              "  .colab-df-quickchart-complete:disabled,\n",
              "  .colab-df-quickchart-complete:disabled:hover {\n",
              "    background-color: var(--disabled-bg-color);\n",
              "    fill: var(--disabled-fill-color);\n",
              "    box-shadow: none;\n",
              "  }\n",
              "\n",
              "  .colab-df-spinner {\n",
              "    border: 2px solid var(--fill-color);\n",
              "    border-color: transparent;\n",
              "    border-bottom-color: var(--fill-color);\n",
              "    animation:\n",
              "      spin 1s steps(1) infinite;\n",
              "  }\n",
              "\n",
              "  @keyframes spin {\n",
              "    0% {\n",
              "      border-color: transparent;\n",
              "      border-bottom-color: var(--fill-color);\n",
              "      border-left-color: var(--fill-color);\n",
              "    }\n",
              "    20% {\n",
              "      border-color: transparent;\n",
              "      border-left-color: var(--fill-color);\n",
              "      border-top-color: var(--fill-color);\n",
              "    }\n",
              "    30% {\n",
              "      border-color: transparent;\n",
              "      border-left-color: var(--fill-color);\n",
              "      border-top-color: var(--fill-color);\n",
              "      border-right-color: var(--fill-color);\n",
              "    }\n",
              "    40% {\n",
              "      border-color: transparent;\n",
              "      border-right-color: var(--fill-color);\n",
              "      border-top-color: var(--fill-color);\n",
              "    }\n",
              "    60% {\n",
              "      border-color: transparent;\n",
              "      border-right-color: var(--fill-color);\n",
              "    }\n",
              "    80% {\n",
              "      border-color: transparent;\n",
              "      border-right-color: var(--fill-color);\n",
              "      border-bottom-color: var(--fill-color);\n",
              "    }\n",
              "    90% {\n",
              "      border-color: transparent;\n",
              "      border-bottom-color: var(--fill-color);\n",
              "    }\n",
              "  }\n",
              "</style>\n",
              "\n",
              "  <script>\n",
              "    async function quickchart(key) {\n",
              "      const quickchartButtonEl =\n",
              "        document.querySelector('#' + key + ' button');\n",
              "      quickchartButtonEl.disabled = true;  // To prevent multiple clicks.\n",
              "      quickchartButtonEl.classList.add('colab-df-spinner');\n",
              "      try {\n",
              "        const charts = await google.colab.kernel.invokeFunction(\n",
              "            'suggestCharts', [key], {});\n",
              "      } catch (error) {\n",
              "        console.error('Error during call to suggestCharts:', error);\n",
              "      }\n",
              "      quickchartButtonEl.classList.remove('colab-df-spinner');\n",
              "      quickchartButtonEl.classList.add('colab-df-quickchart-complete');\n",
              "    }\n",
              "    (() => {\n",
              "      let quickchartButtonEl =\n",
              "        document.querySelector('#df-a0ffe1ee-2d1d-4e4f-8c82-387b2b32012b button');\n",
              "      quickchartButtonEl.style.display =\n",
              "        google.colab.kernel.accessAllowed ? 'block' : 'none';\n",
              "    })();\n",
              "  </script>\n",
              "</div>\n",
              "    </div>\n",
              "  </div>\n"
            ]
          },
          "metadata": {},
          "execution_count": 64
        }
      ]
    },
    {
      "cell_type": "code",
      "source": [
        "!pip install konlpy\n",
        "!pip install mecab-python\n",
        "!bash <(curl -s https://raw.githubusercontent.com/konlpy/konlpy/master/scripts/mecab.sh)\n",
        "from konlpy.tag import Mecab\n",
        "mecab = Mecab()"
      ],
      "metadata": {
        "id": "omfDaMpDKBY8"
      },
      "execution_count": null,
      "outputs": []
    },
    {
      "cell_type": "code",
      "source": [
        "# 토큰화_명사만 남기기 (*mecab.morphs를 사용해 나온 결과는 별로였어서 아래처름 mecab.nouns로 명사만 추출)\n",
        "def tokenize_and_filter(text):\n",
        "    tokens = mecab.nouns(text)  # 텍스트에서 명사만 추출합니다\n",
        "    tokens = [token for token in tokens if len(token) > 1]  # 길이가 1보다 큰 토큰만 선택합니다\n",
        "    return tokens"
      ],
      "metadata": {
        "colab": {
          "base_uri": "https://localhost:8080/"
        },
        "id": "bfOp4zGkKBeI",
        "outputId": "9dca63fc-6035-4637-e578-77829aaac7cf"
      },
      "execution_count": null,
      "outputs": [
        {
          "output_type": "stream",
          "name": "stderr",
          "text": [
            "/usr/local/lib/python3.10/dist-packages/ipykernel/ipkernel.py:283: DeprecationWarning: `should_run_async` will not call `transform_cell` automatically in the future. Please pass the result to `transformed_cell` argument and any exception that happen during thetransform in `preprocessing_exc_tuple` in IPython 7.17 and above.\n",
            "  and should_run_async(code)\n"
          ]
        }
      ]
    },
    {
      "cell_type": "code",
      "source": [
        "for i in tqdm(range(len(All_data2[TARGET_COL]))):\n",
        "    # List of strings to single string\n",
        "    if isinstance(All_data2[PROCESSED_COL][i], list):\n",
        "        input_string = ' '.join(All_data2[PROCESSED_COL][i])\n",
        "    else:\n",
        "        input_string = All_data2[PROCESSED_COL][i]\n",
        "    All_data2[PROCESSED_COL][i] = tokenize_and_filter(input_string)"
      ],
      "metadata": {
        "colab": {
          "base_uri": "https://localhost:8080/"
        },
        "id": "dCLdg7VgKBhA",
        "outputId": "c8cfe5e2-da53-49cf-f591-1cf25b79002f"
      },
      "execution_count": null,
      "outputs": [
        {
          "output_type": "stream",
          "name": "stderr",
          "text": [
            "/usr/local/lib/python3.10/dist-packages/ipykernel/ipkernel.py:283: DeprecationWarning: `should_run_async` will not call `transform_cell` automatically in the future. Please pass the result to `transformed_cell` argument and any exception that happen during thetransform in `preprocessing_exc_tuple` in IPython 7.17 and above.\n",
            "  and should_run_async(code)\n",
            "  0%|          | 0/280000 [00:00<?, ?it/s]<ipython-input-67-6ee6efde4166>:7: SettingWithCopyWarning: \n",
            "A value is trying to be set on a copy of a slice from a DataFrame\n",
            "\n",
            "See the caveats in the documentation: https://pandas.pydata.org/pandas-docs/stable/user_guide/indexing.html#returning-a-view-versus-a-copy\n",
            "  All_data2[PROCESSED_COL][i] = tokenize_and_filter(input_string)\n",
            "100%|██████████| 280000/280000 [28:22<00:00, 164.48it/s]\n"
          ]
        }
      ]
    },
    {
      "cell_type": "code",
      "source": [
        "All_data2.head()"
      ],
      "metadata": {
        "colab": {
          "base_uri": "https://localhost:8080/",
          "height": 261
        },
        "id": "3PAkPmcxTlLF",
        "outputId": "ffaa916d-cb47-4c4f-a714-24357b1fe6ea"
      },
      "execution_count": null,
      "outputs": [
        {
          "output_type": "stream",
          "name": "stderr",
          "text": [
            "/usr/local/lib/python3.10/dist-packages/ipykernel/ipkernel.py:283: DeprecationWarning: `should_run_async` will not call `transform_cell` automatically in the future. Please pass the result to `transformed_cell` argument and any exception that happen during thetransform in `preprocessing_exc_tuple` in IPython 7.17 and above.\n",
            "  and should_run_async(code)\n"
          ]
        },
        {
          "output_type": "execute_result",
          "data": {
            "text/plain": [
              "                                            Contents  label  \\\n",
              "0  인체의 주요 기관을 표현하는 용어 중 흔히 쓰는 것에 오장육부가 있다. 오장은 간장...      1   \n",
              "1  현대자동차그룹은 정의선 회장이 지난 7일(현지시간) 세계 최대 반도체 회사 인텔의 ...      1   \n",
              "2  〔중부매일 문영호 기자 〕아산시가 공중화장실을 이용하는 시민들의 긴급 상황과 범죄 ...      1   \n",
              "3  SBS 드라마 '악귀'에 등장하는 '덕달이 나무'가 실재하는 나무인 것으로 알려져 ...      1   \n",
              "4  '전당대회 돈 봉투' 의혹을 받는 송영길 전 더불어민주당 대표가 7일 서울 서초구 ...      1   \n",
              "\n",
              "                                       ProcessedData  \n",
              "0  [인체, 주요, 기관, 표현, 용어, 오장육부, 오장, 간장, 심장, 비장, 폐장,...  \n",
              "1  [현대, 자동차, 그룹, 정의선, 회장, 현지, 시간, 세계, 최대, 반도체, 회사...  \n",
              "2  [중부, 문영호, 기자, 아산시, 공중, 화장실, 이용, 시민, 긴급, 상황, 범죄...  \n",
              "3  [드라마, 악귀, 등장, 나무, 실재, 나무, 화제, 경남, 의령군, 천연기념물, ...  \n",
              "4  [전당, 대회, 봉투, 의혹, 송영길, 민주당, 대표, 서초구, 서울, 중앙, 지검...  "
            ],
            "text/html": [
              "\n",
              "  <div id=\"df-bf7e6d37-78e7-46bc-8340-93f1948e761b\" class=\"colab-df-container\">\n",
              "    <div>\n",
              "<style scoped>\n",
              "    .dataframe tbody tr th:only-of-type {\n",
              "        vertical-align: middle;\n",
              "    }\n",
              "\n",
              "    .dataframe tbody tr th {\n",
              "        vertical-align: top;\n",
              "    }\n",
              "\n",
              "    .dataframe thead th {\n",
              "        text-align: right;\n",
              "    }\n",
              "</style>\n",
              "<table border=\"1\" class=\"dataframe\">\n",
              "  <thead>\n",
              "    <tr style=\"text-align: right;\">\n",
              "      <th></th>\n",
              "      <th>Contents</th>\n",
              "      <th>label</th>\n",
              "      <th>ProcessedData</th>\n",
              "    </tr>\n",
              "  </thead>\n",
              "  <tbody>\n",
              "    <tr>\n",
              "      <th>0</th>\n",
              "      <td>인체의 주요 기관을 표현하는 용어 중 흔히 쓰는 것에 오장육부가 있다. 오장은 간장...</td>\n",
              "      <td>1</td>\n",
              "      <td>[인체, 주요, 기관, 표현, 용어, 오장육부, 오장, 간장, 심장, 비장, 폐장,...</td>\n",
              "    </tr>\n",
              "    <tr>\n",
              "      <th>1</th>\n",
              "      <td>현대자동차그룹은 정의선 회장이 지난 7일(현지시간) 세계 최대 반도체 회사 인텔의 ...</td>\n",
              "      <td>1</td>\n",
              "      <td>[현대, 자동차, 그룹, 정의선, 회장, 현지, 시간, 세계, 최대, 반도체, 회사...</td>\n",
              "    </tr>\n",
              "    <tr>\n",
              "      <th>2</th>\n",
              "      <td>〔중부매일 문영호 기자 〕아산시가 공중화장실을 이용하는 시민들의 긴급 상황과 범죄 ...</td>\n",
              "      <td>1</td>\n",
              "      <td>[중부, 문영호, 기자, 아산시, 공중, 화장실, 이용, 시민, 긴급, 상황, 범죄...</td>\n",
              "    </tr>\n",
              "    <tr>\n",
              "      <th>3</th>\n",
              "      <td>SBS 드라마 '악귀'에 등장하는 '덕달이 나무'가 실재하는 나무인 것으로 알려져 ...</td>\n",
              "      <td>1</td>\n",
              "      <td>[드라마, 악귀, 등장, 나무, 실재, 나무, 화제, 경남, 의령군, 천연기념물, ...</td>\n",
              "    </tr>\n",
              "    <tr>\n",
              "      <th>4</th>\n",
              "      <td>'전당대회 돈 봉투' 의혹을 받는 송영길 전 더불어민주당 대표가 7일 서울 서초구 ...</td>\n",
              "      <td>1</td>\n",
              "      <td>[전당, 대회, 봉투, 의혹, 송영길, 민주당, 대표, 서초구, 서울, 중앙, 지검...</td>\n",
              "    </tr>\n",
              "  </tbody>\n",
              "</table>\n",
              "</div>\n",
              "    <div class=\"colab-df-buttons\">\n",
              "\n",
              "  <div class=\"colab-df-container\">\n",
              "    <button class=\"colab-df-convert\" onclick=\"convertToInteractive('df-bf7e6d37-78e7-46bc-8340-93f1948e761b')\"\n",
              "            title=\"Convert this dataframe to an interactive table.\"\n",
              "            style=\"display:none;\">\n",
              "\n",
              "  <svg xmlns=\"http://www.w3.org/2000/svg\" height=\"24px\" viewBox=\"0 -960 960 960\">\n",
              "    <path d=\"M120-120v-720h720v720H120Zm60-500h600v-160H180v160Zm220 220h160v-160H400v160Zm0 220h160v-160H400v160ZM180-400h160v-160H180v160Zm440 0h160v-160H620v160ZM180-180h160v-160H180v160Zm440 0h160v-160H620v160Z\"/>\n",
              "  </svg>\n",
              "    </button>\n",
              "\n",
              "  <style>\n",
              "    .colab-df-container {\n",
              "      display:flex;\n",
              "      gap: 12px;\n",
              "    }\n",
              "\n",
              "    .colab-df-convert {\n",
              "      background-color: #E8F0FE;\n",
              "      border: none;\n",
              "      border-radius: 50%;\n",
              "      cursor: pointer;\n",
              "      display: none;\n",
              "      fill: #1967D2;\n",
              "      height: 32px;\n",
              "      padding: 0 0 0 0;\n",
              "      width: 32px;\n",
              "    }\n",
              "\n",
              "    .colab-df-convert:hover {\n",
              "      background-color: #E2EBFA;\n",
              "      box-shadow: 0px 1px 2px rgba(60, 64, 67, 0.3), 0px 1px 3px 1px rgba(60, 64, 67, 0.15);\n",
              "      fill: #174EA6;\n",
              "    }\n",
              "\n",
              "    .colab-df-buttons div {\n",
              "      margin-bottom: 4px;\n",
              "    }\n",
              "\n",
              "    [theme=dark] .colab-df-convert {\n",
              "      background-color: #3B4455;\n",
              "      fill: #D2E3FC;\n",
              "    }\n",
              "\n",
              "    [theme=dark] .colab-df-convert:hover {\n",
              "      background-color: #434B5C;\n",
              "      box-shadow: 0px 1px 3px 1px rgba(0, 0, 0, 0.15);\n",
              "      filter: drop-shadow(0px 1px 2px rgba(0, 0, 0, 0.3));\n",
              "      fill: #FFFFFF;\n",
              "    }\n",
              "  </style>\n",
              "\n",
              "    <script>\n",
              "      const buttonEl =\n",
              "        document.querySelector('#df-bf7e6d37-78e7-46bc-8340-93f1948e761b button.colab-df-convert');\n",
              "      buttonEl.style.display =\n",
              "        google.colab.kernel.accessAllowed ? 'block' : 'none';\n",
              "\n",
              "      async function convertToInteractive(key) {\n",
              "        const element = document.querySelector('#df-bf7e6d37-78e7-46bc-8340-93f1948e761b');\n",
              "        const dataTable =\n",
              "          await google.colab.kernel.invokeFunction('convertToInteractive',\n",
              "                                                    [key], {});\n",
              "        if (!dataTable) return;\n",
              "\n",
              "        const docLinkHtml = 'Like what you see? Visit the ' +\n",
              "          '<a target=\"_blank\" href=https://colab.research.google.com/notebooks/data_table.ipynb>data table notebook</a>'\n",
              "          + ' to learn more about interactive tables.';\n",
              "        element.innerHTML = '';\n",
              "        dataTable['output_type'] = 'display_data';\n",
              "        await google.colab.output.renderOutput(dataTable, element);\n",
              "        const docLink = document.createElement('div');\n",
              "        docLink.innerHTML = docLinkHtml;\n",
              "        element.appendChild(docLink);\n",
              "      }\n",
              "    </script>\n",
              "  </div>\n",
              "\n",
              "\n",
              "<div id=\"df-0b2ead2c-2f8f-4786-8f1e-7001b8e9e6e7\">\n",
              "  <button class=\"colab-df-quickchart\" onclick=\"quickchart('df-0b2ead2c-2f8f-4786-8f1e-7001b8e9e6e7')\"\n",
              "            title=\"Suggest charts.\"\n",
              "            style=\"display:none;\">\n",
              "\n",
              "<svg xmlns=\"http://www.w3.org/2000/svg\" height=\"24px\"viewBox=\"0 0 24 24\"\n",
              "     width=\"24px\">\n",
              "    <g>\n",
              "        <path d=\"M19 3H5c-1.1 0-2 .9-2 2v14c0 1.1.9 2 2 2h14c1.1 0 2-.9 2-2V5c0-1.1-.9-2-2-2zM9 17H7v-7h2v7zm4 0h-2V7h2v10zm4 0h-2v-4h2v4z\"/>\n",
              "    </g>\n",
              "</svg>\n",
              "  </button>\n",
              "\n",
              "<style>\n",
              "  .colab-df-quickchart {\n",
              "      --bg-color: #E8F0FE;\n",
              "      --fill-color: #1967D2;\n",
              "      --hover-bg-color: #E2EBFA;\n",
              "      --hover-fill-color: #174EA6;\n",
              "      --disabled-fill-color: #AAA;\n",
              "      --disabled-bg-color: #DDD;\n",
              "  }\n",
              "\n",
              "  [theme=dark] .colab-df-quickchart {\n",
              "      --bg-color: #3B4455;\n",
              "      --fill-color: #D2E3FC;\n",
              "      --hover-bg-color: #434B5C;\n",
              "      --hover-fill-color: #FFFFFF;\n",
              "      --disabled-bg-color: #3B4455;\n",
              "      --disabled-fill-color: #666;\n",
              "  }\n",
              "\n",
              "  .colab-df-quickchart {\n",
              "    background-color: var(--bg-color);\n",
              "    border: none;\n",
              "    border-radius: 50%;\n",
              "    cursor: pointer;\n",
              "    display: none;\n",
              "    fill: var(--fill-color);\n",
              "    height: 32px;\n",
              "    padding: 0;\n",
              "    width: 32px;\n",
              "  }\n",
              "\n",
              "  .colab-df-quickchart:hover {\n",
              "    background-color: var(--hover-bg-color);\n",
              "    box-shadow: 0 1px 2px rgba(60, 64, 67, 0.3), 0 1px 3px 1px rgba(60, 64, 67, 0.15);\n",
              "    fill: var(--button-hover-fill-color);\n",
              "  }\n",
              "\n",
              "  .colab-df-quickchart-complete:disabled,\n",
              "  .colab-df-quickchart-complete:disabled:hover {\n",
              "    background-color: var(--disabled-bg-color);\n",
              "    fill: var(--disabled-fill-color);\n",
              "    box-shadow: none;\n",
              "  }\n",
              "\n",
              "  .colab-df-spinner {\n",
              "    border: 2px solid var(--fill-color);\n",
              "    border-color: transparent;\n",
              "    border-bottom-color: var(--fill-color);\n",
              "    animation:\n",
              "      spin 1s steps(1) infinite;\n",
              "  }\n",
              "\n",
              "  @keyframes spin {\n",
              "    0% {\n",
              "      border-color: transparent;\n",
              "      border-bottom-color: var(--fill-color);\n",
              "      border-left-color: var(--fill-color);\n",
              "    }\n",
              "    20% {\n",
              "      border-color: transparent;\n",
              "      border-left-color: var(--fill-color);\n",
              "      border-top-color: var(--fill-color);\n",
              "    }\n",
              "    30% {\n",
              "      border-color: transparent;\n",
              "      border-left-color: var(--fill-color);\n",
              "      border-top-color: var(--fill-color);\n",
              "      border-right-color: var(--fill-color);\n",
              "    }\n",
              "    40% {\n",
              "      border-color: transparent;\n",
              "      border-right-color: var(--fill-color);\n",
              "      border-top-color: var(--fill-color);\n",
              "    }\n",
              "    60% {\n",
              "      border-color: transparent;\n",
              "      border-right-color: var(--fill-color);\n",
              "    }\n",
              "    80% {\n",
              "      border-color: transparent;\n",
              "      border-right-color: var(--fill-color);\n",
              "      border-bottom-color: var(--fill-color);\n",
              "    }\n",
              "    90% {\n",
              "      border-color: transparent;\n",
              "      border-bottom-color: var(--fill-color);\n",
              "    }\n",
              "  }\n",
              "</style>\n",
              "\n",
              "  <script>\n",
              "    async function quickchart(key) {\n",
              "      const quickchartButtonEl =\n",
              "        document.querySelector('#' + key + ' button');\n",
              "      quickchartButtonEl.disabled = true;  // To prevent multiple clicks.\n",
              "      quickchartButtonEl.classList.add('colab-df-spinner');\n",
              "      try {\n",
              "        const charts = await google.colab.kernel.invokeFunction(\n",
              "            'suggestCharts', [key], {});\n",
              "      } catch (error) {\n",
              "        console.error('Error during call to suggestCharts:', error);\n",
              "      }\n",
              "      quickchartButtonEl.classList.remove('colab-df-spinner');\n",
              "      quickchartButtonEl.classList.add('colab-df-quickchart-complete');\n",
              "    }\n",
              "    (() => {\n",
              "      let quickchartButtonEl =\n",
              "        document.querySelector('#df-0b2ead2c-2f8f-4786-8f1e-7001b8e9e6e7 button');\n",
              "      quickchartButtonEl.style.display =\n",
              "        google.colab.kernel.accessAllowed ? 'block' : 'none';\n",
              "    })();\n",
              "  </script>\n",
              "</div>\n",
              "    </div>\n",
              "  </div>\n"
            ]
          },
          "metadata": {},
          "execution_count": 68
        }
      ]
    },
    {
      "cell_type": "code",
      "source": [
        "All_data2.to_csv('/content/drive/MyDrive/졸업논문/논리재 감정제_논문_/raw data_news/논리제/token_words.csv',index=False)"
      ],
      "metadata": {
        "colab": {
          "base_uri": "https://localhost:8080/"
        },
        "id": "JUMjGAusWkkc",
        "outputId": "166e3152-77a9-444c-d2f9-861057fc4a27"
      },
      "execution_count": null,
      "outputs": [
        {
          "output_type": "stream",
          "name": "stderr",
          "text": [
            "/usr/local/lib/python3.10/dist-packages/ipykernel/ipkernel.py:283: DeprecationWarning: `should_run_async` will not call `transform_cell` automatically in the future. Please pass the result to `transformed_cell` argument and any exception that happen during thetransform in `preprocessing_exc_tuple` in IPython 7.17 and above.\n",
            "  and should_run_async(code)\n"
          ]
        }
      ]
    },
    {
      "cell_type": "code",
      "source": [
        "token_words=pd.read_csv('/content/drive/MyDrive/졸업논문/논리재 감정제_논문_/raw data_news/논리제/token_words.csv')"
      ],
      "metadata": {
        "colab": {
          "base_uri": "https://localhost:8080/"
        },
        "id": "ujo8PdR3W1h_",
        "outputId": "7a3de65e-dc69-48cc-ad81-d241bf062976"
      },
      "execution_count": null,
      "outputs": [
        {
          "output_type": "stream",
          "name": "stderr",
          "text": [
            "/usr/local/lib/python3.10/dist-packages/ipykernel/ipkernel.py:283: DeprecationWarning: `should_run_async` will not call `transform_cell` automatically in the future. Please pass the result to `transformed_cell` argument and any exception that happen during thetransform in `preprocessing_exc_tuple` in IPython 7.17 and above.\n",
            "  and should_run_async(code)\n"
          ]
        }
      ]
    },
    {
      "cell_type": "code",
      "source": [
        "token_words.head()"
      ],
      "metadata": {
        "colab": {
          "base_uri": "https://localhost:8080/",
          "height": 551
        },
        "id": "i2l-pdQaXHY6",
        "outputId": "011b7e84-b143-4fda-9400-e195ca0ffd7a"
      },
      "execution_count": null,
      "outputs": [
        {
          "output_type": "stream",
          "name": "stderr",
          "text": [
            "/usr/local/lib/python3.10/dist-packages/ipykernel/ipkernel.py:283: DeprecationWarning: `should_run_async` will not call `transform_cell` automatically in the future. Please pass the result to `transformed_cell` argument and any exception that happen during thetransform in `preprocessing_exc_tuple` in IPython 7.17 and above.\n",
            "  and should_run_async(code)\n"
          ]
        },
        {
          "output_type": "execute_result",
          "data": {
            "text/plain": [
              "                                            Contents  label  \\\n",
              "0  인체의 주요 기관을 표현하는 용어 중 흔히 쓰는 것에 오장육부가 있다. 오장은 간장...      1   \n",
              "1  현대자동차그룹은 정의선 회장이 지난 7일(현지시간) 세계 최대 반도체 회사 인텔의 ...      1   \n",
              "2  〔중부매일 문영호 기자 〕아산시가 공중화장실을 이용하는 시민들의 긴급 상황과 범죄 ...      1   \n",
              "3  SBS 드라마 '악귀'에 등장하는 '덕달이 나무'가 실재하는 나무인 것으로 알려져 ...      1   \n",
              "4  '전당대회 돈 봉투' 의혹을 받는 송영길 전 더불어민주당 대표가 7일 서울 서초구 ...      1   \n",
              "\n",
              "                                       ProcessedData  \n",
              "0  ['인체', '주요', '기관', '표현', '용어', '오장육부', '오장', '...  \n",
              "1  ['현대', '자동차', '그룹', '정의선', '회장', '현지', '시간', '...  \n",
              "2  ['중부', '문영호', '기자', '아산시', '공중', '화장실', '이용', ...  \n",
              "3  ['드라마', '악귀', '등장', '나무', '실재', '나무', '화제', '경...  \n",
              "4  ['전당', '대회', '봉투', '의혹', '송영길', '민주당', '대표', '...  "
            ],
            "text/html": [
              "\n",
              "  <div id=\"df-1e47d7d7-083e-433a-94fd-bdaa70715e20\" class=\"colab-df-container\">\n",
              "    <div>\n",
              "<style scoped>\n",
              "    .dataframe tbody tr th:only-of-type {\n",
              "        vertical-align: middle;\n",
              "    }\n",
              "\n",
              "    .dataframe tbody tr th {\n",
              "        vertical-align: top;\n",
              "    }\n",
              "\n",
              "    .dataframe thead th {\n",
              "        text-align: right;\n",
              "    }\n",
              "</style>\n",
              "<table border=\"1\" class=\"dataframe\">\n",
              "  <thead>\n",
              "    <tr style=\"text-align: right;\">\n",
              "      <th></th>\n",
              "      <th>Contents</th>\n",
              "      <th>label</th>\n",
              "      <th>ProcessedData</th>\n",
              "    </tr>\n",
              "  </thead>\n",
              "  <tbody>\n",
              "    <tr>\n",
              "      <th>0</th>\n",
              "      <td>인체의 주요 기관을 표현하는 용어 중 흔히 쓰는 것에 오장육부가 있다. 오장은 간장...</td>\n",
              "      <td>1</td>\n",
              "      <td>['인체', '주요', '기관', '표현', '용어', '오장육부', '오장', '...</td>\n",
              "    </tr>\n",
              "    <tr>\n",
              "      <th>1</th>\n",
              "      <td>현대자동차그룹은 정의선 회장이 지난 7일(현지시간) 세계 최대 반도체 회사 인텔의 ...</td>\n",
              "      <td>1</td>\n",
              "      <td>['현대', '자동차', '그룹', '정의선', '회장', '현지', '시간', '...</td>\n",
              "    </tr>\n",
              "    <tr>\n",
              "      <th>2</th>\n",
              "      <td>〔중부매일 문영호 기자 〕아산시가 공중화장실을 이용하는 시민들의 긴급 상황과 범죄 ...</td>\n",
              "      <td>1</td>\n",
              "      <td>['중부', '문영호', '기자', '아산시', '공중', '화장실', '이용', ...</td>\n",
              "    </tr>\n",
              "    <tr>\n",
              "      <th>3</th>\n",
              "      <td>SBS 드라마 '악귀'에 등장하는 '덕달이 나무'가 실재하는 나무인 것으로 알려져 ...</td>\n",
              "      <td>1</td>\n",
              "      <td>['드라마', '악귀', '등장', '나무', '실재', '나무', '화제', '경...</td>\n",
              "    </tr>\n",
              "    <tr>\n",
              "      <th>4</th>\n",
              "      <td>'전당대회 돈 봉투' 의혹을 받는 송영길 전 더불어민주당 대표가 7일 서울 서초구 ...</td>\n",
              "      <td>1</td>\n",
              "      <td>['전당', '대회', '봉투', '의혹', '송영길', '민주당', '대표', '...</td>\n",
              "    </tr>\n",
              "  </tbody>\n",
              "</table>\n",
              "</div>\n",
              "    <div class=\"colab-df-buttons\">\n",
              "\n",
              "  <div class=\"colab-df-container\">\n",
              "    <button class=\"colab-df-convert\" onclick=\"convertToInteractive('df-1e47d7d7-083e-433a-94fd-bdaa70715e20')\"\n",
              "            title=\"Convert this dataframe to an interactive table.\"\n",
              "            style=\"display:none;\">\n",
              "\n",
              "  <svg xmlns=\"http://www.w3.org/2000/svg\" height=\"24px\" viewBox=\"0 -960 960 960\">\n",
              "    <path d=\"M120-120v-720h720v720H120Zm60-500h600v-160H180v160Zm220 220h160v-160H400v160Zm0 220h160v-160H400v160ZM180-400h160v-160H180v160Zm440 0h160v-160H620v160ZM180-180h160v-160H180v160Zm440 0h160v-160H620v160Z\"/>\n",
              "  </svg>\n",
              "    </button>\n",
              "\n",
              "  <style>\n",
              "    .colab-df-container {\n",
              "      display:flex;\n",
              "      gap: 12px;\n",
              "    }\n",
              "\n",
              "    .colab-df-convert {\n",
              "      background-color: #E8F0FE;\n",
              "      border: none;\n",
              "      border-radius: 50%;\n",
              "      cursor: pointer;\n",
              "      display: none;\n",
              "      fill: #1967D2;\n",
              "      height: 32px;\n",
              "      padding: 0 0 0 0;\n",
              "      width: 32px;\n",
              "    }\n",
              "\n",
              "    .colab-df-convert:hover {\n",
              "      background-color: #E2EBFA;\n",
              "      box-shadow: 0px 1px 2px rgba(60, 64, 67, 0.3), 0px 1px 3px 1px rgba(60, 64, 67, 0.15);\n",
              "      fill: #174EA6;\n",
              "    }\n",
              "\n",
              "    .colab-df-buttons div {\n",
              "      margin-bottom: 4px;\n",
              "    }\n",
              "\n",
              "    [theme=dark] .colab-df-convert {\n",
              "      background-color: #3B4455;\n",
              "      fill: #D2E3FC;\n",
              "    }\n",
              "\n",
              "    [theme=dark] .colab-df-convert:hover {\n",
              "      background-color: #434B5C;\n",
              "      box-shadow: 0px 1px 3px 1px rgba(0, 0, 0, 0.15);\n",
              "      filter: drop-shadow(0px 1px 2px rgba(0, 0, 0, 0.3));\n",
              "      fill: #FFFFFF;\n",
              "    }\n",
              "  </style>\n",
              "\n",
              "    <script>\n",
              "      const buttonEl =\n",
              "        document.querySelector('#df-1e47d7d7-083e-433a-94fd-bdaa70715e20 button.colab-df-convert');\n",
              "      buttonEl.style.display =\n",
              "        google.colab.kernel.accessAllowed ? 'block' : 'none';\n",
              "\n",
              "      async function convertToInteractive(key) {\n",
              "        const element = document.querySelector('#df-1e47d7d7-083e-433a-94fd-bdaa70715e20');\n",
              "        const dataTable =\n",
              "          await google.colab.kernel.invokeFunction('convertToInteractive',\n",
              "                                                    [key], {});\n",
              "        if (!dataTable) return;\n",
              "\n",
              "        const docLinkHtml = 'Like what you see? Visit the ' +\n",
              "          '<a target=\"_blank\" href=https://colab.research.google.com/notebooks/data_table.ipynb>data table notebook</a>'\n",
              "          + ' to learn more about interactive tables.';\n",
              "        element.innerHTML = '';\n",
              "        dataTable['output_type'] = 'display_data';\n",
              "        await google.colab.output.renderOutput(dataTable, element);\n",
              "        const docLink = document.createElement('div');\n",
              "        docLink.innerHTML = docLinkHtml;\n",
              "        element.appendChild(docLink);\n",
              "      }\n",
              "    </script>\n",
              "  </div>\n",
              "\n",
              "\n",
              "<div id=\"df-5f1f01eb-9a3a-4233-8e09-031be5535f30\">\n",
              "  <button class=\"colab-df-quickchart\" onclick=\"quickchart('df-5f1f01eb-9a3a-4233-8e09-031be5535f30')\"\n",
              "            title=\"Suggest charts.\"\n",
              "            style=\"display:none;\">\n",
              "\n",
              "<svg xmlns=\"http://www.w3.org/2000/svg\" height=\"24px\"viewBox=\"0 0 24 24\"\n",
              "     width=\"24px\">\n",
              "    <g>\n",
              "        <path d=\"M19 3H5c-1.1 0-2 .9-2 2v14c0 1.1.9 2 2 2h14c1.1 0 2-.9 2-2V5c0-1.1-.9-2-2-2zM9 17H7v-7h2v7zm4 0h-2V7h2v10zm4 0h-2v-4h2v4z\"/>\n",
              "    </g>\n",
              "</svg>\n",
              "  </button>\n",
              "\n",
              "<style>\n",
              "  .colab-df-quickchart {\n",
              "      --bg-color: #E8F0FE;\n",
              "      --fill-color: #1967D2;\n",
              "      --hover-bg-color: #E2EBFA;\n",
              "      --hover-fill-color: #174EA6;\n",
              "      --disabled-fill-color: #AAA;\n",
              "      --disabled-bg-color: #DDD;\n",
              "  }\n",
              "\n",
              "  [theme=dark] .colab-df-quickchart {\n",
              "      --bg-color: #3B4455;\n",
              "      --fill-color: #D2E3FC;\n",
              "      --hover-bg-color: #434B5C;\n",
              "      --hover-fill-color: #FFFFFF;\n",
              "      --disabled-bg-color: #3B4455;\n",
              "      --disabled-fill-color: #666;\n",
              "  }\n",
              "\n",
              "  .colab-df-quickchart {\n",
              "    background-color: var(--bg-color);\n",
              "    border: none;\n",
              "    border-radius: 50%;\n",
              "    cursor: pointer;\n",
              "    display: none;\n",
              "    fill: var(--fill-color);\n",
              "    height: 32px;\n",
              "    padding: 0;\n",
              "    width: 32px;\n",
              "  }\n",
              "\n",
              "  .colab-df-quickchart:hover {\n",
              "    background-color: var(--hover-bg-color);\n",
              "    box-shadow: 0 1px 2px rgba(60, 64, 67, 0.3), 0 1px 3px 1px rgba(60, 64, 67, 0.15);\n",
              "    fill: var(--button-hover-fill-color);\n",
              "  }\n",
              "\n",
              "  .colab-df-quickchart-complete:disabled,\n",
              "  .colab-df-quickchart-complete:disabled:hover {\n",
              "    background-color: var(--disabled-bg-color);\n",
              "    fill: var(--disabled-fill-color);\n",
              "    box-shadow: none;\n",
              "  }\n",
              "\n",
              "  .colab-df-spinner {\n",
              "    border: 2px solid var(--fill-color);\n",
              "    border-color: transparent;\n",
              "    border-bottom-color: var(--fill-color);\n",
              "    animation:\n",
              "      spin 1s steps(1) infinite;\n",
              "  }\n",
              "\n",
              "  @keyframes spin {\n",
              "    0% {\n",
              "      border-color: transparent;\n",
              "      border-bottom-color: var(--fill-color);\n",
              "      border-left-color: var(--fill-color);\n",
              "    }\n",
              "    20% {\n",
              "      border-color: transparent;\n",
              "      border-left-color: var(--fill-color);\n",
              "      border-top-color: var(--fill-color);\n",
              "    }\n",
              "    30% {\n",
              "      border-color: transparent;\n",
              "      border-left-color: var(--fill-color);\n",
              "      border-top-color: var(--fill-color);\n",
              "      border-right-color: var(--fill-color);\n",
              "    }\n",
              "    40% {\n",
              "      border-color: transparent;\n",
              "      border-right-color: var(--fill-color);\n",
              "      border-top-color: var(--fill-color);\n",
              "    }\n",
              "    60% {\n",
              "      border-color: transparent;\n",
              "      border-right-color: var(--fill-color);\n",
              "    }\n",
              "    80% {\n",
              "      border-color: transparent;\n",
              "      border-right-color: var(--fill-color);\n",
              "      border-bottom-color: var(--fill-color);\n",
              "    }\n",
              "    90% {\n",
              "      border-color: transparent;\n",
              "      border-bottom-color: var(--fill-color);\n",
              "    }\n",
              "  }\n",
              "</style>\n",
              "\n",
              "  <script>\n",
              "    async function quickchart(key) {\n",
              "      const quickchartButtonEl =\n",
              "        document.querySelector('#' + key + ' button');\n",
              "      quickchartButtonEl.disabled = true;  // To prevent multiple clicks.\n",
              "      quickchartButtonEl.classList.add('colab-df-spinner');\n",
              "      try {\n",
              "        const charts = await google.colab.kernel.invokeFunction(\n",
              "            'suggestCharts', [key], {});\n",
              "      } catch (error) {\n",
              "        console.error('Error during call to suggestCharts:', error);\n",
              "      }\n",
              "      quickchartButtonEl.classList.remove('colab-df-spinner');\n",
              "      quickchartButtonEl.classList.add('colab-df-quickchart-complete');\n",
              "    }\n",
              "    (() => {\n",
              "      let quickchartButtonEl =\n",
              "        document.querySelector('#df-5f1f01eb-9a3a-4233-8e09-031be5535f30 button');\n",
              "      quickchartButtonEl.style.display =\n",
              "        google.colab.kernel.accessAllowed ? 'block' : 'none';\n",
              "    })();\n",
              "  </script>\n",
              "</div>\n",
              "    </div>\n",
              "  </div>\n"
            ]
          },
          "metadata": {},
          "execution_count": 87
        },
        {
          "output_type": "stream",
          "name": "stderr",
          "text": [
            "/usr/local/lib/python3.10/dist-packages/ipykernel/ipkernel.py:283: DeprecationWarning: `should_run_async` will not call `transform_cell` automatically in the future. Please pass the result to `transformed_cell` argument and any exception that happen during thetransform in `preprocessing_exc_tuple` in IPython 7.17 and above.\n",
            "  and should_run_async(code)\n"
          ]
        }
      ]
    },
    {
      "cell_type": "code",
      "source": [
        "unique_labels = token_words['label'].unique()\n",
        "\n",
        "for label in unique_labels:\n",
        "    subset = token_words[token_words['label'] == label]\n",
        "\n",
        "    # 打印每个标签的行数\n",
        "    print(f\"Label {label} has {len(subset)} rows.\")\n",
        "\n",
        "    # 检查ProcessedData列中是否有NaN值\n",
        "    if subset['ProcessedData'].isnull().any():\n",
        "        print(f\"Label {label} has NaN values in 'ProcessedData' column!\")\n",
        "\n",
        "    # 检查ProcessedData列中是否有空字符串\n",
        "    if (subset['ProcessedData'] == '').any():\n",
        "        print(f\"Label {label} has empty strings in 'ProcessedData' column!\")\n",
        "\n",
        "    # 将所有分词的数据合并到一个长字符串中\n",
        "    all_words = ' '.join(subset['ProcessedData']).split()\n",
        "\n",
        "    # 打印每个标签的词的数量\n",
        "    print(f\"Label {label} has {len(all_words)} words.\")\n"
      ],
      "metadata": {
        "colab": {
          "base_uri": "https://localhost:8080/"
        },
        "id": "dvm6mWnbXsTv",
        "outputId": "d9b79d88-6def-4d27-c8ba-d0b454dd576e"
      },
      "execution_count": null,
      "outputs": [
        {
          "output_type": "stream",
          "name": "stderr",
          "text": [
            "/usr/local/lib/python3.10/dist-packages/ipykernel/ipkernel.py:283: DeprecationWarning: `should_run_async` will not call `transform_cell` automatically in the future. Please pass the result to `transformed_cell` argument and any exception that happen during thetransform in `preprocessing_exc_tuple` in IPython 7.17 and above.\n",
            "  and should_run_async(code)\n"
          ]
        },
        {
          "output_type": "stream",
          "name": "stdout",
          "text": [
            "Label 1 has 40000 rows.\n",
            "Label 1 has 1319884 words.\n",
            "Label 2 has 40000 rows.\n",
            "Label 2 has 1271614 words.\n",
            "Label 3 has 40000 rows.\n",
            "Label 3 has 1346188 words.\n",
            "Label 4 has 40000 rows.\n",
            "Label 4 has 1295688 words.\n",
            "Label 5 has 20000 rows.\n",
            "Label 5 has 649217 words.\n",
            "Label 6 has 20000 rows.\n",
            "Label 6 has 628488 words.\n",
            "Label 7 has 20000 rows.\n",
            "Label 7 has 690279 words.\n",
            "Label 8 has 20000 rows.\n",
            "Label 8 has 670916 words.\n",
            "Label 9 has 20000 rows.\n",
            "Label 9 has 650510 words.\n",
            "Label 10 has 20000 rows.\n",
            "Label 10 has 694646 words.\n"
          ]
        }
      ]
    },
    {
      "cell_type": "code",
      "source": [
        "from collections import Counter\n",
        "\n",
        "# 初始化一个字典来保存每个标签的词频统计结果\n",
        "label_word_counts = {}\n",
        "\n",
        "unique_labels = token_words['label'].unique()\n",
        "\n",
        "for label in unique_labels:\n",
        "    subset = token_words[token_words['label'] == label]\n",
        "\n",
        "    # 将所有分词的数据合并到一个长字符串中\n",
        "    all_words = ' '.join(subset['ProcessedData']).split()\n",
        "\n",
        "    # 使用Counter来计算词频\n",
        "    word_counts = Counter(all_words)\n",
        "\n",
        "    # 保存这个标签的词频统计结果\n",
        "    label_word_counts[label] = word_counts\n",
        "\n",
        "    # 打印每个标签的最常见的30个词（可选）\n",
        "    print(f\"Most common words for label {label}:\")\n",
        "    print(word_counts.most_common(30))\n",
        "    print(\"\\n\")\n"
      ],
      "metadata": {
        "colab": {
          "base_uri": "https://localhost:8080/"
        },
        "id": "7AAHpxVdWgkv",
        "outputId": "3d354d29-82d7-44c1-8ee1-825cd0994d40"
      },
      "execution_count": null,
      "outputs": [
        {
          "output_type": "stream",
          "name": "stderr",
          "text": [
            "/usr/local/lib/python3.10/dist-packages/ipykernel/ipkernel.py:283: DeprecationWarning: `should_run_async` will not call `transform_cell` automatically in the future. Please pass the result to `transformed_cell` argument and any exception that happen during thetransform in `preprocessing_exc_tuple` in IPython 7.17 and above.\n",
            "  and should_run_async(code)\n"
          ]
        },
        {
          "output_type": "stream",
          "name": "stdout",
          "text": [
            "Most common words for label 1:\n",
            "[(\"'기술',\", 10372), (\"'컴퓨터',\", 8896), (\"'기자',\", 6892), (\"'정보',\", 6322), (\"'기업',\", 6194), (\"'미국',\", 6104), (\"'인공지능',\", 5228), (\"'교육',\", 5204), (\"'반도체',\", 5114), (\"'한국',\", 4878), (\"'산업',\", 4814), (\"'대표',\", 4376), (\"'세계',\", 4180), (\"'시간',\", 4132), (\"'연구',\", 4068), (\"'경제',\", 4040), (\"'대학',\", 3916), (\"'과학',\", 3820), (\"'개발',\", 3790), (\"'사업',\", 3774), (\"'지원',\", 3428), (\"'현지',\", 3370), (\"'디지털',\", 3304), (\"'시장',\", 3224), (\"'중국',\", 3178), (\"'분야',\", 3176), (\"'교수',\", 3090), (\"'수출',\", 3080), (\"'국내',\", 3052), (\"'혐의',\", 3032)]\n",
            "\n",
            "\n",
            "Most common words for label 2:\n",
            "[(\"'휴대폰',\", 7740), (\"'기자',\", 7514), (\"'혐의',\", 5846), (\"'경찰',\", 5070), (\"'서비스',\", 4816), (\"'전화',\", 4718), (\"'대표',\", 4598), (\"'사진',\", 4158), (\"'방송',\", 4066), (\"'정보',\", 3710), (\"'시간',\", 3496), (\"'수사',\", 3478), (\"'경제',\", 3420), (\"'휴대',\", 3374), (\"'금융',\", 3296), (\"'기업',\", 3250), (\"'여성',\", 3222), (\"'시장',\", 3088), (\"'남성',\", 3084), (\"'이날',\", 3046), (\"'통신',\", 3034), (\"'서울',\", 2974), (\"'검찰',\", 2896), (\"'제공',\", 2886), (\"'구속',\", 2820), (\"'기술',\", 2782), (\"'확인',\", 2736), (\"'사건',\", 2722), (\"'뉴스',\", 2704), (\"'한국',\", 2676)]\n",
            "\n",
            "\n",
            "Most common words for label 3:\n",
            "[(\"'자동차',\", 21346), (\"'기업',\", 9190), (\"'산업',\", 8784), (\"'시장',\", 7270), (\"'경제',\", 6806), (\"'차량',\", 6702), (\"'기자',\", 6696), (\"'사업',\", 6138), (\"'미국',\", 6106), (\"'전기차',\", 5714), (\"'기술',\", 5538), (\"'한국',\", 5114), (\"'수출',\", 5036), (\"'투자',\", 4900), (\"'중국',\", 4848), (\"'지역',\", 4476), (\"'반도체',\", 4322), (\"'국내',\", 4316), (\"'현대차',\", 4190), (\"'현지',\", 4016), (\"'그룹',\", 3932), (\"'생산',\", 3848), (\"'대표',\", 3844), (\"'분기',\", 3828), (\"'전기',\", 3794), (\"'시간',\", 3790), (\"'지원',\", 3766), (\"'세계',\", 3446), (\"'부품',\", 3326), (\"'미래',\", 3280)]\n",
            "\n",
            "\n",
            "Most common words for label 4:\n",
            "[(\"'아파트',\", 31106), (\"'주택',\", 11116), (\"'분양',\", 7656), (\"'혐의',\", 7276), (\"'기자',\", 7162), (\"'부동산',\", 6452), (\"'지역',\", 6102), (\"'경찰',\", 5998), (\"'전세',\", 5948), (\"'시장',\", 5632), (\"'사업',\", 5464), (\"'도시',\", 5298), (\"'가구',\", 5188), (\"'가격',\", 4824), (\"'건설',\", 4612), (\"'단지',\", 4528), (\"'거래',\", 4384), (\"'조사',\", 4252), (\"'사고',\", 3874), (\"'구속',\", 3872), (\"'전국',\", 3868), (\"'서울',\", 3750), (\"'인천',\", 3744), (\"'경기',\", 3722), (\"'주민',\", 3508), (\"'한국',\", 3296), (\"'공사',\", 3282), (\"'청약',\", 3262), (\"'발생',\", 3240), (\"'경제',\", 3188)]\n",
            "\n",
            "\n",
            "Most common words for label 5:\n",
            "[(\"'전자',\", 7051), (\"'세탁기',\", 6977), (\"'삼성전자',\", 5637), (\"'가전',\", 5487), (\"'제품',\", 5416), (\"'기자',\", 4092), (\"'시장',\", 3279), (\"'건조기',\", 3125), (\"'주택',\", 3088), (\"'생활',\", 2918), (\"'미국',\", 2886), (\"'사업',\", 2780), (\"'가구',\", 2661), (\"'지역',\", 2501), (\"'기업',\", 2371), (\"'코로나',\", 2366), (\"'세탁',\", 2230), (\"'서비스',\", 2215), (\"'최대',\", 2163), (\"'제공',\", 2146), (\"'냉장고',\", 2087), (\"'진행',\", 1952), (\"'가전제품',\", 1902), (\"'행사',\", 1866), (\"'기술',\", 1853), (\"'국내',\", 1841), (\"['전자',\", 1840), (\"'고객',\", 1810), (\"'브랜드',\", 1748), (\"'에너지',\", 1738)]\n",
            "\n",
            "\n",
            "Most common words for label 6:\n",
            "[(\"'냉장고',\", 7121), (\"'기자',\", 3913), (\"'전자',\", 3662), (\"'제품',\", 3652), (\"'삼성전자',\", 3418), (\"'가전',\", 3240), (\"'지역',\", 2596), (\"'시장',\", 2410), (\"'사업',\", 2186), (\"'주택',\", 1847), (\"'생활',\", 1845), (\"'진행',\", 1689), (\"'제공',\", 1672), (\"'기업',\", 1638), (\"'코로나',\", 1611), (\"'미국',\", 1571), (\"'시간',\", 1564), (\"'비스',\", 1547), (\"'센터',\", 1532), (\"'지원',\", 1530), (\"'포크',\", 1530), (\"'사회',\", 1511), (\"'기술',\", 1497), (\"'행사',\", 1470), (\"'대표',\", 1469), (\"'고객',\", 1465), (\"'세계',\", 1461), (\"'경제',\", 1426), (\"'최대',\", 1418), (\"'가구',\", 1407)]\n",
            "\n",
            "\n",
            "Most common words for label 7:\n",
            "[(\"'보험',\", 15152), (\"'금융',\", 6490), (\"'지원',\", 4296), (\"'건강',\", 3705), (\"'기자',\", 3521), (\"'은행',\", 3220), (\"'의료',\", 2464), (\"'사업',\", 2433), (\"'경제',\", 2372), (\"'가입',\", 2372), (\"'시장',\", 2330), (\"'기업',\", 2254), (\"'기관',\", 2240), (\"'지역',\", 2235), (\"'국민',\", 2229), (\"'손해',\", 2224), (\"'병원',\", 2182), (\"'대상',\", 2108), (\"'사회',\", 2045), (\"'평가',\", 2027), (\"'전세',\", 1991), (\"'피해',\", 1885), (\"'한국',\", 1874), (\"'정부',\", 1843), (\"'사기',\", 1794), (\"'미국',\", 1749), (\"'대표',\", 1727), (\"'위원회',\", 1702), (\"'투자',\", 1698), (\"'제공',\", 1640)]\n",
            "\n",
            "\n",
            "Most common words for label 8:\n",
            "[(\"'증권',\", 12145), (\"'금융',\", 10335), (\"'투자',\", 9808), (\"'시장',\", 7525), (\"'주가',\", 4604), (\"'은행',\", 4524), (\"'기업',\", 4069), (\"'기자',\", 3979), (\"'거래',\", 3859), (\"'미국',\", 3795), (\"'주식',\", 3629), (\"'코스피',\", 3385), (\"'대표',\", 3362), (\"'한국',\", 3224), (\"'국내',\", 3116), (\"'자산',\", 2992), (\"'상장',\", 2977), (\"'지수',\", 2964), (\"'투자자',\", 2908), (\"'경제',\", 2806), (\"'이날',\", 2539), (\"'사태',\", 2354), (\"'대비',\", 2343), (\"'거래소',\", 2274), (\"'위원회',\", 2262), (\"'증시',\", 2223), (\"'상승',\", 2187), (\"'분기',\", 2070), (\"'규모',\", 2053), (\"'증권사',\", 1997)]\n",
            "\n",
            "\n",
            "Most common words for label 9:\n",
            "[(\"'카드',\", 12651), (\"'금융',\", 6518), (\"'결제',\", 4989), (\"'신용',\", 4792), (\"'기자',\", 4281), (\"'서비스',\", 3170), (\"'신용카드',\", 3001), (\"'경제',\", 2968), (\"'코로나',\", 2767), (\"'은행',\", 2752), (\"'혐의',\", 2676), (\"'페이',\", 2529), (\"'대출',\", 2484), (\"'사용',\", 2409), (\"'국민',\", 2253), (\"'지원금',\", 2152), (\"'지원',\", 2118), (\"'정부',\", 2098), (\"'고객',\", 1997), (\"'지급',\", 1981), (\"'소비',\", 1885), (\"'시장',\", 1876), (\"'제공',\", 1869), (\"'금리',\", 1814), (\"'기업',\", 1805), (\"'지역',\", 1765), (\"'정보',\", 1754), (\"'국내',\", 1703), (\"'대상',\", 1672), (\"'경찰',\", 1548)]\n",
            "\n",
            "\n",
            "Most common words for label 10:\n",
            "[(\"'정부',\", 8209), (\"'기업',\", 7413), (\"'경제',\", 6824), (\"'세제',\", 5262), (\"'투자',\", 5024), (\"'주택',\", 4850), (\"'산업',\", 4402), (\"'기자',\", 4122), (\"'시장',\", 3940), (\"'지역',\", 3781), (\"'지원',\", 3565), (\"'반도체',\", 3316), (\"'정책',\", 3195), (\"'미국',\", 3035), (\"'대통령',\", 3020), (\"'국회',\", 2984), (\"'기획',\", 2763), (\"'규제',\", 2730), (\"'부동산',\", 2691), (\"'한국',\", 2655), (\"'장관',\", 2355), (\"'재정부',\", 2257), (\"'발표',\", 2256), (\"'국민',\", 2086), (\"'혜택',\", 1998), (\"'국내',\", 1959), (\"'대상',\", 1932), (\"'이날',\", 1921), (\"'위원회',\", 1920), (\"'윤석열',\", 1899)]\n",
            "\n",
            "\n"
          ]
        }
      ]
    },
    {
      "cell_type": "code",
      "source": [
        "# 初始化一个空的DataFrame\n",
        "df_common_words = pd.DataFrame()\n",
        "\n",
        "for label in range(1, 11):\n",
        "    word_counts = label_word_counts[label]\n",
        "    temp_df = pd.DataFrame(word_counts.most_common(50), columns=[\"Word\", f\"Label {label} Frequency\"])\n",
        "    df_common_words = pd.concat([df_common_words, temp_df], axis=1)\n"
      ],
      "metadata": {
        "colab": {
          "base_uri": "https://localhost:8080/"
        },
        "id": "9X_OKz8egnmV",
        "outputId": "d0d8cabd-09cf-41a0-c60a-23163e6f44cc"
      },
      "execution_count": null,
      "outputs": [
        {
          "output_type": "stream",
          "name": "stderr",
          "text": [
            "/usr/local/lib/python3.10/dist-packages/ipykernel/ipkernel.py:283: DeprecationWarning: `should_run_async` will not call `transform_cell` automatically in the future. Please pass the result to `transformed_cell` argument and any exception that happen during thetransform in `preprocessing_exc_tuple` in IPython 7.17 and above.\n",
            "  and should_run_async(code)\n"
          ]
        }
      ]
    },
    {
      "cell_type": "code",
      "source": [
        "# 保存到Excel\n",
        "df_common_words.to_excel(\"/content/drive/MyDrive/졸업논문/논리재 감정제_논문_/raw data_news/논리제/most_common_words.xlsx\", index=False)"
      ],
      "metadata": {
        "colab": {
          "base_uri": "https://localhost:8080/"
        },
        "id": "uQM4VASQg2Tf",
        "outputId": "8ff209dd-25a9-404b-a45c-4b18d9e90191"
      },
      "execution_count": null,
      "outputs": [
        {
          "output_type": "stream",
          "name": "stderr",
          "text": [
            "/usr/local/lib/python3.10/dist-packages/ipykernel/ipkernel.py:283: DeprecationWarning: `should_run_async` will not call `transform_cell` automatically in the future. Please pass the result to `transformed_cell` argument and any exception that happen during thetransform in `preprocessing_exc_tuple` in IPython 7.17 and above.\n",
            "  and should_run_async(code)\n"
          ]
        }
      ]
    },
    {
      "cell_type": "code",
      "source": [],
      "metadata": {
        "colab": {
          "base_uri": "https://localhost:8080/"
        },
        "id": "_W0vaVX0frHA",
        "outputId": "7ed486fc-0c2d-4b95-c2c0-7fab6b8b6a59"
      },
      "execution_count": null,
      "outputs": [
        {
          "output_type": "stream",
          "name": "stdout",
          "text": [
            "Most common words for label 10:\n",
            "[(\"'정부',\", 8209), (\"'기업',\", 7413), (\"'경제',\", 6824), (\"'세제',\", 5262), (\"'투자',\", 5024), (\"'주택',\", 4850), (\"'산업',\", 4402), (\"'기자',\", 4122), (\"'시장',\", 3940), (\"'지역',\", 3781), (\"'지원',\", 3565), (\"'반도체',\", 3316), (\"'정책',\", 3195), (\"'미국',\", 3035), (\"'대통령',\", 3020), (\"'국회',\", 2984), (\"'기획',\", 2763), (\"'규제',\", 2730), (\"'부동산',\", 2691), (\"'한국',\", 2655), (\"'장관',\", 2355), (\"'재정부',\", 2257), (\"'발표',\", 2256), (\"'국민',\", 2086), (\"'혜택',\", 1998), (\"'국내',\", 1959), (\"'대상',\", 1932), (\"'이날',\", 1921), (\"'위원회',\", 1920), (\"'윤석열',\", 1899), (\"'금융',\", 1871), (\"'국가',\", 1851), (\"'가격',\", 1815), (\"'개편',\", 1762), (\"'공제',\", 1758), (\"'부총리',\", 1730), (\"'회의',\", 1725), (\"'추진',\", 1712), (\"'기술',\", 1675), (\"'전망',\", 1670), (\"'확대',\", 1668), (\"'사업',\", 1657), (\"'지방',\", 1647), (\"'방안',\", 1631), (\"'내용',\", 1539), (\"['정부',\", 1515), (\"'대표',\", 1488), (\"'부담',\", 1448), (\"'완화',\", 1441), (\"'경기',\", 1426)]\n",
            "\n",
            "--------------------------------------------------\n",
            "\n"
          ]
        },
        {
          "output_type": "stream",
          "name": "stderr",
          "text": [
            "/usr/local/lib/python3.10/dist-packages/ipykernel/ipkernel.py:283: DeprecationWarning: `should_run_async` will not call `transform_cell` automatically in the future. Please pass the result to `transformed_cell` argument and any exception that happen during thetransform in `preprocessing_exc_tuple` in IPython 7.17 and above.\n",
            "  and should_run_async(code)\n"
          ]
        }
      ]
    },
    {
      "cell_type": "code",
      "source": [
        "# 初始化一个字典来保存每个标签的排序后的DataFrame\n",
        "sorted_dfs = {}"
      ],
      "metadata": {
        "colab": {
          "base_uri": "https://localhost:8080/"
        },
        "id": "EvVk3QL1cIw3",
        "outputId": "3b0f664c-f3b7-4181-ecb6-01059993d2a9"
      },
      "execution_count": null,
      "outputs": [
        {
          "output_type": "stream",
          "name": "stderr",
          "text": [
            "/usr/local/lib/python3.10/dist-packages/ipykernel/ipkernel.py:283: DeprecationWarning: `should_run_async` will not call `transform_cell` automatically in the future. Please pass the result to `transformed_cell` argument and any exception that happen during thetransform in `preprocessing_exc_tuple` in IPython 7.17 and above.\n",
            "  and should_run_async(code)\n"
          ]
        }
      ]
    },
    {
      "cell_type": "code",
      "source": [
        "for label in range(1, 11):  # 遍历label 1到10\n",
        "    # 将当前标签的词频统计转化为DataFrame\n",
        "    df_word_counts = pd.DataFrame(list(label_word_counts[label].items()), columns=['Word', 'Frequency'])\n",
        "\n",
        "    # 使用sort_values()方法按'Frequency'列从大到小排序\n",
        "    df_sorted = df_word_counts.sort_values(by='Frequency', ascending=False)\n",
        "\n",
        "    # 保存排序后的DataFrame到字典\n",
        "    sorted_dfs[label] = df_sorted"
      ],
      "metadata": {
        "colab": {
          "base_uri": "https://localhost:8080/"
        },
        "id": "qmT24ZD2dRP7",
        "outputId": "7b97d578-2dc4-4e02-8068-01f7339d78a8"
      },
      "execution_count": null,
      "outputs": [
        {
          "output_type": "stream",
          "name": "stderr",
          "text": [
            "/usr/local/lib/python3.10/dist-packages/ipykernel/ipkernel.py:283: DeprecationWarning: `should_run_async` will not call `transform_cell` automatically in the future. Please pass the result to `transformed_cell` argument and any exception that happen during thetransform in `preprocessing_exc_tuple` in IPython 7.17 and above.\n",
            "  and should_run_async(code)\n"
          ]
        }
      ]
    },
    {
      "cell_type": "code",
      "source": [
        "sorted_dfs[1]"
      ],
      "metadata": {
        "colab": {
          "base_uri": "https://localhost:8080/",
          "height": 478
        },
        "id": "KiWYDP05dmXa",
        "outputId": "f13f94ca-0245-4d4e-fb64-8fdff4fd4626"
      },
      "execution_count": null,
      "outputs": [
        {
          "output_type": "stream",
          "name": "stderr",
          "text": [
            "/usr/local/lib/python3.10/dist-packages/ipykernel/ipkernel.py:283: DeprecationWarning: `should_run_async` will not call `transform_cell` automatically in the future. Please pass the result to `transformed_cell` argument and any exception that happen during thetransform in `preprocessing_exc_tuple` in IPython 7.17 and above.\n",
            "  and should_run_async(code)\n"
          ]
        },
        {
          "output_type": "execute_result",
          "data": {
            "text/plain": [
              "            Word  Frequency\n",
              "279        '기술',      10372\n",
              "76        '컴퓨터',       8896\n",
              "55         '기자',       6892\n",
              "275        '정보',       6322\n",
              "288        '기업',       6194\n",
              "...          ...        ...\n",
              "27343      '파두']          2\n",
              "27344     '암묵지',          2\n",
              "27345    ['박준영',          2\n",
              "13977     '한보경',          2\n",
              "39174  '육군사관학교',          2\n",
              "\n",
              "[39175 rows x 2 columns]"
            ],
            "text/html": [
              "\n",
              "  <div id=\"df-d321f5f0-1407-489e-9dda-a368a8983cd8\" class=\"colab-df-container\">\n",
              "    <div>\n",
              "<style scoped>\n",
              "    .dataframe tbody tr th:only-of-type {\n",
              "        vertical-align: middle;\n",
              "    }\n",
              "\n",
              "    .dataframe tbody tr th {\n",
              "        vertical-align: top;\n",
              "    }\n",
              "\n",
              "    .dataframe thead th {\n",
              "        text-align: right;\n",
              "    }\n",
              "</style>\n",
              "<table border=\"1\" class=\"dataframe\">\n",
              "  <thead>\n",
              "    <tr style=\"text-align: right;\">\n",
              "      <th></th>\n",
              "      <th>Word</th>\n",
              "      <th>Frequency</th>\n",
              "    </tr>\n",
              "  </thead>\n",
              "  <tbody>\n",
              "    <tr>\n",
              "      <th>279</th>\n",
              "      <td>'기술',</td>\n",
              "      <td>10372</td>\n",
              "    </tr>\n",
              "    <tr>\n",
              "      <th>76</th>\n",
              "      <td>'컴퓨터',</td>\n",
              "      <td>8896</td>\n",
              "    </tr>\n",
              "    <tr>\n",
              "      <th>55</th>\n",
              "      <td>'기자',</td>\n",
              "      <td>6892</td>\n",
              "    </tr>\n",
              "    <tr>\n",
              "      <th>275</th>\n",
              "      <td>'정보',</td>\n",
              "      <td>6322</td>\n",
              "    </tr>\n",
              "    <tr>\n",
              "      <th>288</th>\n",
              "      <td>'기업',</td>\n",
              "      <td>6194</td>\n",
              "    </tr>\n",
              "    <tr>\n",
              "      <th>...</th>\n",
              "      <td>...</td>\n",
              "      <td>...</td>\n",
              "    </tr>\n",
              "    <tr>\n",
              "      <th>27343</th>\n",
              "      <td>'파두']</td>\n",
              "      <td>2</td>\n",
              "    </tr>\n",
              "    <tr>\n",
              "      <th>27344</th>\n",
              "      <td>'암묵지',</td>\n",
              "      <td>2</td>\n",
              "    </tr>\n",
              "    <tr>\n",
              "      <th>27345</th>\n",
              "      <td>['박준영',</td>\n",
              "      <td>2</td>\n",
              "    </tr>\n",
              "    <tr>\n",
              "      <th>13977</th>\n",
              "      <td>'한보경',</td>\n",
              "      <td>2</td>\n",
              "    </tr>\n",
              "    <tr>\n",
              "      <th>39174</th>\n",
              "      <td>'육군사관학교',</td>\n",
              "      <td>2</td>\n",
              "    </tr>\n",
              "  </tbody>\n",
              "</table>\n",
              "<p>39175 rows × 2 columns</p>\n",
              "</div>\n",
              "    <div class=\"colab-df-buttons\">\n",
              "\n",
              "  <div class=\"colab-df-container\">\n",
              "    <button class=\"colab-df-convert\" onclick=\"convertToInteractive('df-d321f5f0-1407-489e-9dda-a368a8983cd8')\"\n",
              "            title=\"Convert this dataframe to an interactive table.\"\n",
              "            style=\"display:none;\">\n",
              "\n",
              "  <svg xmlns=\"http://www.w3.org/2000/svg\" height=\"24px\" viewBox=\"0 -960 960 960\">\n",
              "    <path d=\"M120-120v-720h720v720H120Zm60-500h600v-160H180v160Zm220 220h160v-160H400v160Zm0 220h160v-160H400v160ZM180-400h160v-160H180v160Zm440 0h160v-160H620v160ZM180-180h160v-160H180v160Zm440 0h160v-160H620v160Z\"/>\n",
              "  </svg>\n",
              "    </button>\n",
              "\n",
              "  <style>\n",
              "    .colab-df-container {\n",
              "      display:flex;\n",
              "      gap: 12px;\n",
              "    }\n",
              "\n",
              "    .colab-df-convert {\n",
              "      background-color: #E8F0FE;\n",
              "      border: none;\n",
              "      border-radius: 50%;\n",
              "      cursor: pointer;\n",
              "      display: none;\n",
              "      fill: #1967D2;\n",
              "      height: 32px;\n",
              "      padding: 0 0 0 0;\n",
              "      width: 32px;\n",
              "    }\n",
              "\n",
              "    .colab-df-convert:hover {\n",
              "      background-color: #E2EBFA;\n",
              "      box-shadow: 0px 1px 2px rgba(60, 64, 67, 0.3), 0px 1px 3px 1px rgba(60, 64, 67, 0.15);\n",
              "      fill: #174EA6;\n",
              "    }\n",
              "\n",
              "    .colab-df-buttons div {\n",
              "      margin-bottom: 4px;\n",
              "    }\n",
              "\n",
              "    [theme=dark] .colab-df-convert {\n",
              "      background-color: #3B4455;\n",
              "      fill: #D2E3FC;\n",
              "    }\n",
              "\n",
              "    [theme=dark] .colab-df-convert:hover {\n",
              "      background-color: #434B5C;\n",
              "      box-shadow: 0px 1px 3px 1px rgba(0, 0, 0, 0.15);\n",
              "      filter: drop-shadow(0px 1px 2px rgba(0, 0, 0, 0.3));\n",
              "      fill: #FFFFFF;\n",
              "    }\n",
              "  </style>\n",
              "\n",
              "    <script>\n",
              "      const buttonEl =\n",
              "        document.querySelector('#df-d321f5f0-1407-489e-9dda-a368a8983cd8 button.colab-df-convert');\n",
              "      buttonEl.style.display =\n",
              "        google.colab.kernel.accessAllowed ? 'block' : 'none';\n",
              "\n",
              "      async function convertToInteractive(key) {\n",
              "        const element = document.querySelector('#df-d321f5f0-1407-489e-9dda-a368a8983cd8');\n",
              "        const dataTable =\n",
              "          await google.colab.kernel.invokeFunction('convertToInteractive',\n",
              "                                                    [key], {});\n",
              "        if (!dataTable) return;\n",
              "\n",
              "        const docLinkHtml = 'Like what you see? Visit the ' +\n",
              "          '<a target=\"_blank\" href=https://colab.research.google.com/notebooks/data_table.ipynb>data table notebook</a>'\n",
              "          + ' to learn more about interactive tables.';\n",
              "        element.innerHTML = '';\n",
              "        dataTable['output_type'] = 'display_data';\n",
              "        await google.colab.output.renderOutput(dataTable, element);\n",
              "        const docLink = document.createElement('div');\n",
              "        docLink.innerHTML = docLinkHtml;\n",
              "        element.appendChild(docLink);\n",
              "      }\n",
              "    </script>\n",
              "  </div>\n",
              "\n",
              "\n",
              "<div id=\"df-d82926dc-4f84-442b-8f04-74148d1e62a5\">\n",
              "  <button class=\"colab-df-quickchart\" onclick=\"quickchart('df-d82926dc-4f84-442b-8f04-74148d1e62a5')\"\n",
              "            title=\"Suggest charts.\"\n",
              "            style=\"display:none;\">\n",
              "\n",
              "<svg xmlns=\"http://www.w3.org/2000/svg\" height=\"24px\"viewBox=\"0 0 24 24\"\n",
              "     width=\"24px\">\n",
              "    <g>\n",
              "        <path d=\"M19 3H5c-1.1 0-2 .9-2 2v14c0 1.1.9 2 2 2h14c1.1 0 2-.9 2-2V5c0-1.1-.9-2-2-2zM9 17H7v-7h2v7zm4 0h-2V7h2v10zm4 0h-2v-4h2v4z\"/>\n",
              "    </g>\n",
              "</svg>\n",
              "  </button>\n",
              "\n",
              "<style>\n",
              "  .colab-df-quickchart {\n",
              "      --bg-color: #E8F0FE;\n",
              "      --fill-color: #1967D2;\n",
              "      --hover-bg-color: #E2EBFA;\n",
              "      --hover-fill-color: #174EA6;\n",
              "      --disabled-fill-color: #AAA;\n",
              "      --disabled-bg-color: #DDD;\n",
              "  }\n",
              "\n",
              "  [theme=dark] .colab-df-quickchart {\n",
              "      --bg-color: #3B4455;\n",
              "      --fill-color: #D2E3FC;\n",
              "      --hover-bg-color: #434B5C;\n",
              "      --hover-fill-color: #FFFFFF;\n",
              "      --disabled-bg-color: #3B4455;\n",
              "      --disabled-fill-color: #666;\n",
              "  }\n",
              "\n",
              "  .colab-df-quickchart {\n",
              "    background-color: var(--bg-color);\n",
              "    border: none;\n",
              "    border-radius: 50%;\n",
              "    cursor: pointer;\n",
              "    display: none;\n",
              "    fill: var(--fill-color);\n",
              "    height: 32px;\n",
              "    padding: 0;\n",
              "    width: 32px;\n",
              "  }\n",
              "\n",
              "  .colab-df-quickchart:hover {\n",
              "    background-color: var(--hover-bg-color);\n",
              "    box-shadow: 0 1px 2px rgba(60, 64, 67, 0.3), 0 1px 3px 1px rgba(60, 64, 67, 0.15);\n",
              "    fill: var(--button-hover-fill-color);\n",
              "  }\n",
              "\n",
              "  .colab-df-quickchart-complete:disabled,\n",
              "  .colab-df-quickchart-complete:disabled:hover {\n",
              "    background-color: var(--disabled-bg-color);\n",
              "    fill: var(--disabled-fill-color);\n",
              "    box-shadow: none;\n",
              "  }\n",
              "\n",
              "  .colab-df-spinner {\n",
              "    border: 2px solid var(--fill-color);\n",
              "    border-color: transparent;\n",
              "    border-bottom-color: var(--fill-color);\n",
              "    animation:\n",
              "      spin 1s steps(1) infinite;\n",
              "  }\n",
              "\n",
              "  @keyframes spin {\n",
              "    0% {\n",
              "      border-color: transparent;\n",
              "      border-bottom-color: var(--fill-color);\n",
              "      border-left-color: var(--fill-color);\n",
              "    }\n",
              "    20% {\n",
              "      border-color: transparent;\n",
              "      border-left-color: var(--fill-color);\n",
              "      border-top-color: var(--fill-color);\n",
              "    }\n",
              "    30% {\n",
              "      border-color: transparent;\n",
              "      border-left-color: var(--fill-color);\n",
              "      border-top-color: var(--fill-color);\n",
              "      border-right-color: var(--fill-color);\n",
              "    }\n",
              "    40% {\n",
              "      border-color: transparent;\n",
              "      border-right-color: var(--fill-color);\n",
              "      border-top-color: var(--fill-color);\n",
              "    }\n",
              "    60% {\n",
              "      border-color: transparent;\n",
              "      border-right-color: var(--fill-color);\n",
              "    }\n",
              "    80% {\n",
              "      border-color: transparent;\n",
              "      border-right-color: var(--fill-color);\n",
              "      border-bottom-color: var(--fill-color);\n",
              "    }\n",
              "    90% {\n",
              "      border-color: transparent;\n",
              "      border-bottom-color: var(--fill-color);\n",
              "    }\n",
              "  }\n",
              "</style>\n",
              "\n",
              "  <script>\n",
              "    async function quickchart(key) {\n",
              "      const quickchartButtonEl =\n",
              "        document.querySelector('#' + key + ' button');\n",
              "      quickchartButtonEl.disabled = true;  // To prevent multiple clicks.\n",
              "      quickchartButtonEl.classList.add('colab-df-spinner');\n",
              "      try {\n",
              "        const charts = await google.colab.kernel.invokeFunction(\n",
              "            'suggestCharts', [key], {});\n",
              "      } catch (error) {\n",
              "        console.error('Error during call to suggestCharts:', error);\n",
              "      }\n",
              "      quickchartButtonEl.classList.remove('colab-df-spinner');\n",
              "      quickchartButtonEl.classList.add('colab-df-quickchart-complete');\n",
              "    }\n",
              "    (() => {\n",
              "      let quickchartButtonEl =\n",
              "        document.querySelector('#df-d82926dc-4f84-442b-8f04-74148d1e62a5 button');\n",
              "      quickchartButtonEl.style.display =\n",
              "        google.colab.kernel.accessAllowed ? 'block' : 'none';\n",
              "    })();\n",
              "  </script>\n",
              "</div>\n",
              "    </div>\n",
              "  </div>\n"
            ]
          },
          "metadata": {},
          "execution_count": 127
        }
      ]
    },
    {
      "cell_type": "code",
      "source": [
        "save_path = \"/content/drive/MyDrive/졸업논문/논리재 감정제_논문_/raw data_news/논리제/FA\""
      ],
      "metadata": {
        "colab": {
          "base_uri": "https://localhost:8080/"
        },
        "id": "gtzi99mLd3y2",
        "outputId": "eeb74664-4b5d-4df4-ee25-7fde10e772e0"
      },
      "execution_count": null,
      "outputs": [
        {
          "output_type": "stream",
          "name": "stderr",
          "text": [
            "/usr/local/lib/python3.10/dist-packages/ipykernel/ipkernel.py:283: DeprecationWarning: `should_run_async` will not call `transform_cell` automatically in the future. Please pass the result to `transformed_cell` argument and any exception that happen during thetransform in `preprocessing_exc_tuple` in IPython 7.17 and above.\n",
            "  and should_run_async(code)\n"
          ]
        }
      ]
    },
    {
      "cell_type": "code",
      "source": [
        "for label, df in sorted_dfs.items():\n",
        "    filename = f\"sorted{label}.xlsx\"\n",
        "    full_path = save_path + filename\n",
        "    df.to_excel(full_path, index=False)"
      ],
      "metadata": {
        "colab": {
          "base_uri": "https://localhost:8080/"
        },
        "id": "tUSxEFYFd_n7",
        "outputId": "c819f278-c072-490f-989e-978fbccbfdb1"
      },
      "execution_count": null,
      "outputs": [
        {
          "output_type": "stream",
          "name": "stderr",
          "text": [
            "/usr/local/lib/python3.10/dist-packages/ipykernel/ipkernel.py:283: DeprecationWarning: `should_run_async` will not call `transform_cell` automatically in the future. Please pass the result to `transformed_cell` argument and any exception that happen during thetransform in `preprocessing_exc_tuple` in IPython 7.17 and above.\n",
            "  and should_run_async(code)\n"
          ]
        }
      ]
    },
    {
      "cell_type": "markdown",
      "source": [
        "## 감성제"
      ],
      "metadata": {
        "id": "xD0te0e8StgO"
      }
    },
    {
      "cell_type": "code",
      "source": [
        "from google.colab import drive\n",
        "drive.mount(\"/content/drive\")"
      ],
      "metadata": {
        "colab": {
          "base_uri": "https://localhost:8080/"
        },
        "outputId": "a28835c7-cc9b-4b1d-b2dc-2f3d29256cb6",
        "id": "N-farahPStgP"
      },
      "execution_count": 8,
      "outputs": [
        {
          "output_type": "stream",
          "name": "stdout",
          "text": [
            "Drive already mounted at /content/drive; to attempt to forcibly remount, call drive.mount(\"/content/drive\", force_remount=True).\n"
          ]
        }
      ]
    },
    {
      "cell_type": "code",
      "source": [
        "import warnings\n",
        "warnings.filterwarnings(\"ignore\", category=DeprecationWarning)"
      ],
      "metadata": {
        "id": "By1i5J26StgP"
      },
      "execution_count": 9,
      "outputs": []
    },
    {
      "cell_type": "code",
      "source": [
        "import pandas as pd\n",
        "import os"
      ],
      "metadata": {
        "id": "D03gAss7StgP"
      },
      "execution_count": 10,
      "outputs": []
    },
    {
      "cell_type": "code",
      "source": [
        "folder_path = \"/content/drive/MyDrive/졸업논문/논리재 감정제_논문_/raw data_news/감정제\"\n",
        "files = os.listdir(folder_path)"
      ],
      "metadata": {
        "id": "Kpyea_O3StgP"
      },
      "execution_count": 11,
      "outputs": []
    },
    {
      "cell_type": "code",
      "source": [
        "files"
      ],
      "metadata": {
        "colab": {
          "base_uri": "https://localhost:8080/"
        },
        "outputId": "484b15f8-51f3-4059-e1ce-197f1da27583",
        "id": "EoUvayVDStgQ"
      },
      "execution_count": 12,
      "outputs": [
        {
          "output_type": "execute_result",
          "data": {
            "text/plain": [
              "['보석_20200801-20230709.xlsx',\n",
              " '시계_20210501-20230709.xlsx',\n",
              " '향수_20200101-20230709.xlsx',\n",
              " '패션 옷_20220709-20230709-3.xlsx',\n",
              " '담배_20210401-20230709.xlsx',\n",
              " '술 와인_20221201-20230709.xlsx',\n",
              " '커피_20220709-20230709-4.xlsx',\n",
              " '식당_20221201-20230709-2.xlsx',\n",
              " '화장품_20220401-20230709.xlsx',\n",
              " '예술품_20160101-20230709.xlsx']"
            ]
          },
          "metadata": {},
          "execution_count": 12
        }
      ]
    },
    {
      "cell_type": "code",
      "source": [
        "files_excel = [f for f in files if f.endswith('.xlsx')]"
      ],
      "metadata": {
        "id": "ht-EiX08StgQ"
      },
      "execution_count": 13,
      "outputs": []
    },
    {
      "cell_type": "code",
      "source": [
        "files_excel"
      ],
      "metadata": {
        "colab": {
          "base_uri": "https://localhost:8080/"
        },
        "outputId": "3ead5886-ea74-493d-eb47-5e5c7890d25a",
        "id": "HJ89HHgrStgS"
      },
      "execution_count": 14,
      "outputs": [
        {
          "output_type": "execute_result",
          "data": {
            "text/plain": [
              "['보석_20200801-20230709.xlsx',\n",
              " '시계_20210501-20230709.xlsx',\n",
              " '향수_20200101-20230709.xlsx',\n",
              " '패션 옷_20220709-20230709-3.xlsx',\n",
              " '담배_20210401-20230709.xlsx',\n",
              " '술 와인_20221201-20230709.xlsx',\n",
              " '커피_20220709-20230709-4.xlsx',\n",
              " '식당_20221201-20230709-2.xlsx',\n",
              " '화장품_20220401-20230709.xlsx',\n",
              " '예술품_20160101-20230709.xlsx']"
            ]
          },
          "metadata": {},
          "execution_count": 14
        }
      ]
    },
    {
      "cell_type": "code",
      "source": [
        "df_combined = pd.DataFrame()"
      ],
      "metadata": {
        "id": "_lp9Oib3StgS"
      },
      "execution_count": 15,
      "outputs": []
    },
    {
      "cell_type": "code",
      "source": [
        "df_combined.info()"
      ],
      "metadata": {
        "colab": {
          "base_uri": "https://localhost:8080/"
        },
        "id": "boLz4AxzTx6W",
        "outputId": "0fe5e38a-62fc-4a0a-8505-fc350257a8f6"
      },
      "execution_count": 21,
      "outputs": [
        {
          "output_type": "stream",
          "name": "stdout",
          "text": [
            "<class 'pandas.core.frame.DataFrame'>\n",
            "Int64Index: 200000 entries, 0 to 19999\n",
            "Data columns (total 20 columns):\n",
            " #   Column             Non-Null Count   Dtype  \n",
            "---  ------             --------------   -----  \n",
            " 0   뉴스 식별자             200000 non-null  float64\n",
            " 1   일자                 200000 non-null  int64  \n",
            " 2   언론사                200000 non-null  object \n",
            " 3   기고자                190274 non-null  object \n",
            " 4   제목                 200000 non-null  object \n",
            " 5   통합 분류1             200000 non-null  object \n",
            " 6   통합 분류2             175115 non-null  object \n",
            " 7   통합 분류3             143373 non-null  object \n",
            " 8   사건/사고 분류1          40886 non-null   object \n",
            " 9   사건/사고 분류2          12888 non-null   object \n",
            " 10  사건/사고 분류3          4192 non-null    object \n",
            " 11  인물                 132848 non-null  object \n",
            " 12  위치                 181425 non-null  object \n",
            " 13  기관                 196066 non-null  object \n",
            " 14  키워드                200000 non-null  object \n",
            " 15  특성추출(가중치순 상위 50개)  200000 non-null  object \n",
            " 16  본문                 200000 non-null  object \n",
            " 17  URL                196679 non-null  object \n",
            " 18  분석제외 여부            0 non-null       float64\n",
            " 19  label              200000 non-null  int64  \n",
            "dtypes: float64(2), int64(2), object(16)\n",
            "memory usage: 32.0+ MB\n"
          ]
        }
      ]
    },
    {
      "cell_type": "code",
      "source": [
        "for idx, file in enumerate(files_excel, start=1):\n",
        "    path = os.path.join(folder_path, file)\n",
        "    df_temp = pd.read_excel(path, engine='openpyxl')\n",
        "    df_temp['label'] = idx\n",
        "    df_combined = pd.concat([df_combined, df_temp])"
      ],
      "metadata": {
        "colab": {
          "base_uri": "https://localhost:8080/"
        },
        "outputId": "f33604fd-bf10-4021-d8b4-2247edd615d5",
        "id": "XyWi7F_YStgS"
      },
      "execution_count": 16,
      "outputs": [
        {
          "output_type": "stream",
          "name": "stderr",
          "text": [
            "/usr/local/lib/python3.10/dist-packages/openpyxl/styles/stylesheet.py:226: UserWarning: Workbook contains no default style, apply openpyxl's default\n",
            "  warn(\"Workbook contains no default style, apply openpyxl's default\")\n",
            "/usr/local/lib/python3.10/dist-packages/openpyxl/styles/stylesheet.py:226: UserWarning: Workbook contains no default style, apply openpyxl's default\n",
            "  warn(\"Workbook contains no default style, apply openpyxl's default\")\n",
            "/usr/local/lib/python3.10/dist-packages/openpyxl/styles/stylesheet.py:226: UserWarning: Workbook contains no default style, apply openpyxl's default\n",
            "  warn(\"Workbook contains no default style, apply openpyxl's default\")\n",
            "/usr/local/lib/python3.10/dist-packages/openpyxl/styles/stylesheet.py:226: UserWarning: Workbook contains no default style, apply openpyxl's default\n",
            "  warn(\"Workbook contains no default style, apply openpyxl's default\")\n",
            "/usr/local/lib/python3.10/dist-packages/openpyxl/styles/stylesheet.py:226: UserWarning: Workbook contains no default style, apply openpyxl's default\n",
            "  warn(\"Workbook contains no default style, apply openpyxl's default\")\n",
            "/usr/local/lib/python3.10/dist-packages/openpyxl/styles/stylesheet.py:226: UserWarning: Workbook contains no default style, apply openpyxl's default\n",
            "  warn(\"Workbook contains no default style, apply openpyxl's default\")\n",
            "/usr/local/lib/python3.10/dist-packages/openpyxl/styles/stylesheet.py:226: UserWarning: Workbook contains no default style, apply openpyxl's default\n",
            "  warn(\"Workbook contains no default style, apply openpyxl's default\")\n",
            "/usr/local/lib/python3.10/dist-packages/openpyxl/styles/stylesheet.py:226: UserWarning: Workbook contains no default style, apply openpyxl's default\n",
            "  warn(\"Workbook contains no default style, apply openpyxl's default\")\n",
            "/usr/local/lib/python3.10/dist-packages/openpyxl/styles/stylesheet.py:226: UserWarning: Workbook contains no default style, apply openpyxl's default\n",
            "  warn(\"Workbook contains no default style, apply openpyxl's default\")\n",
            "/usr/local/lib/python3.10/dist-packages/openpyxl/styles/stylesheet.py:226: UserWarning: Workbook contains no default style, apply openpyxl's default\n",
            "  warn(\"Workbook contains no default style, apply openpyxl's default\")\n"
          ]
        }
      ]
    },
    {
      "cell_type": "code",
      "source": [
        "print(df_combined)"
      ],
      "metadata": {
        "id": "Lw7mwQ-EStgS"
      },
      "execution_count": null,
      "outputs": []
    },
    {
      "cell_type": "code",
      "source": [
        "selected_data = df_combined[['본문', 'label']]"
      ],
      "metadata": {
        "id": "MEKnxFyLStgS"
      },
      "execution_count": 18,
      "outputs": []
    },
    {
      "cell_type": "code",
      "source": [
        "selected_data.head()"
      ],
      "metadata": {
        "colab": {
          "base_uri": "https://localhost:8080/",
          "height": 206
        },
        "outputId": "c6b8466a-7b12-460b-fc50-7a5cc29d7d76",
        "id": "g4YfFZeJStgT"
      },
      "execution_count": 19,
      "outputs": [
        {
          "output_type": "execute_result",
          "data": {
            "text/plain": [
              "                                                  본문  label\n",
              "0  ［충북일보］ 긴 장마 코앞에서 칠보산을 오르내린다. 일곱 개 보석 같은 바위 봉우리...      1\n",
              "1  성씨 조형물로 꾸민 국내 유일 ‘효’ 테마공원/드넓은 잔디광장 나무벤치 파라솔 갖춰...      1\n",
              "2  매일같이 반복되는 일상이 지루한 날이 있다. 멀리 여행을 떠나지는 못하더라도 가까운...      1\n",
              "3  ■ 진행 : 윤보리 앵커\\n■ 출연 : 김성수 변호사\\n\\n* 아래 텍스트는 실제 ...      1\n",
              "4  1조 6,000억 원대 피해를 낸 ‘라임자산운용(라임) 사태’ 주범으로 징역 30년...      1"
            ],
            "text/html": [
              "\n",
              "  <div id=\"df-c8dfbde5-a291-4ab1-a30c-2b172c8d10a2\" class=\"colab-df-container\">\n",
              "    <div>\n",
              "<style scoped>\n",
              "    .dataframe tbody tr th:only-of-type {\n",
              "        vertical-align: middle;\n",
              "    }\n",
              "\n",
              "    .dataframe tbody tr th {\n",
              "        vertical-align: top;\n",
              "    }\n",
              "\n",
              "    .dataframe thead th {\n",
              "        text-align: right;\n",
              "    }\n",
              "</style>\n",
              "<table border=\"1\" class=\"dataframe\">\n",
              "  <thead>\n",
              "    <tr style=\"text-align: right;\">\n",
              "      <th></th>\n",
              "      <th>본문</th>\n",
              "      <th>label</th>\n",
              "    </tr>\n",
              "  </thead>\n",
              "  <tbody>\n",
              "    <tr>\n",
              "      <th>0</th>\n",
              "      <td>［충북일보］ 긴 장마 코앞에서 칠보산을 오르내린다. 일곱 개 보석 같은 바위 봉우리...</td>\n",
              "      <td>1</td>\n",
              "    </tr>\n",
              "    <tr>\n",
              "      <th>1</th>\n",
              "      <td>성씨 조형물로 꾸민 국내 유일 ‘효’ 테마공원/드넓은 잔디광장 나무벤치 파라솔 갖춰...</td>\n",
              "      <td>1</td>\n",
              "    </tr>\n",
              "    <tr>\n",
              "      <th>2</th>\n",
              "      <td>매일같이 반복되는 일상이 지루한 날이 있다. 멀리 여행을 떠나지는 못하더라도 가까운...</td>\n",
              "      <td>1</td>\n",
              "    </tr>\n",
              "    <tr>\n",
              "      <th>3</th>\n",
              "      <td>■ 진행 : 윤보리 앵커\\n■ 출연 : 김성수 변호사\\n\\n* 아래 텍스트는 실제 ...</td>\n",
              "      <td>1</td>\n",
              "    </tr>\n",
              "    <tr>\n",
              "      <th>4</th>\n",
              "      <td>1조 6,000억 원대 피해를 낸 ‘라임자산운용(라임) 사태’ 주범으로 징역 30년...</td>\n",
              "      <td>1</td>\n",
              "    </tr>\n",
              "  </tbody>\n",
              "</table>\n",
              "</div>\n",
              "    <div class=\"colab-df-buttons\">\n",
              "\n",
              "  <div class=\"colab-df-container\">\n",
              "    <button class=\"colab-df-convert\" onclick=\"convertToInteractive('df-c8dfbde5-a291-4ab1-a30c-2b172c8d10a2')\"\n",
              "            title=\"Convert this dataframe to an interactive table.\"\n",
              "            style=\"display:none;\">\n",
              "\n",
              "  <svg xmlns=\"http://www.w3.org/2000/svg\" height=\"24px\" viewBox=\"0 -960 960 960\">\n",
              "    <path d=\"M120-120v-720h720v720H120Zm60-500h600v-160H180v160Zm220 220h160v-160H400v160Zm0 220h160v-160H400v160ZM180-400h160v-160H180v160Zm440 0h160v-160H620v160ZM180-180h160v-160H180v160Zm440 0h160v-160H620v160Z\"/>\n",
              "  </svg>\n",
              "    </button>\n",
              "\n",
              "  <style>\n",
              "    .colab-df-container {\n",
              "      display:flex;\n",
              "      gap: 12px;\n",
              "    }\n",
              "\n",
              "    .colab-df-convert {\n",
              "      background-color: #E8F0FE;\n",
              "      border: none;\n",
              "      border-radius: 50%;\n",
              "      cursor: pointer;\n",
              "      display: none;\n",
              "      fill: #1967D2;\n",
              "      height: 32px;\n",
              "      padding: 0 0 0 0;\n",
              "      width: 32px;\n",
              "    }\n",
              "\n",
              "    .colab-df-convert:hover {\n",
              "      background-color: #E2EBFA;\n",
              "      box-shadow: 0px 1px 2px rgba(60, 64, 67, 0.3), 0px 1px 3px 1px rgba(60, 64, 67, 0.15);\n",
              "      fill: #174EA6;\n",
              "    }\n",
              "\n",
              "    .colab-df-buttons div {\n",
              "      margin-bottom: 4px;\n",
              "    }\n",
              "\n",
              "    [theme=dark] .colab-df-convert {\n",
              "      background-color: #3B4455;\n",
              "      fill: #D2E3FC;\n",
              "    }\n",
              "\n",
              "    [theme=dark] .colab-df-convert:hover {\n",
              "      background-color: #434B5C;\n",
              "      box-shadow: 0px 1px 3px 1px rgba(0, 0, 0, 0.15);\n",
              "      filter: drop-shadow(0px 1px 2px rgba(0, 0, 0, 0.3));\n",
              "      fill: #FFFFFF;\n",
              "    }\n",
              "  </style>\n",
              "\n",
              "    <script>\n",
              "      const buttonEl =\n",
              "        document.querySelector('#df-c8dfbde5-a291-4ab1-a30c-2b172c8d10a2 button.colab-df-convert');\n",
              "      buttonEl.style.display =\n",
              "        google.colab.kernel.accessAllowed ? 'block' : 'none';\n",
              "\n",
              "      async function convertToInteractive(key) {\n",
              "        const element = document.querySelector('#df-c8dfbde5-a291-4ab1-a30c-2b172c8d10a2');\n",
              "        const dataTable =\n",
              "          await google.colab.kernel.invokeFunction('convertToInteractive',\n",
              "                                                    [key], {});\n",
              "        if (!dataTable) return;\n",
              "\n",
              "        const docLinkHtml = 'Like what you see? Visit the ' +\n",
              "          '<a target=\"_blank\" href=https://colab.research.google.com/notebooks/data_table.ipynb>data table notebook</a>'\n",
              "          + ' to learn more about interactive tables.';\n",
              "        element.innerHTML = '';\n",
              "        dataTable['output_type'] = 'display_data';\n",
              "        await google.colab.output.renderOutput(dataTable, element);\n",
              "        const docLink = document.createElement('div');\n",
              "        docLink.innerHTML = docLinkHtml;\n",
              "        element.appendChild(docLink);\n",
              "      }\n",
              "    </script>\n",
              "  </div>\n",
              "\n",
              "\n",
              "<div id=\"df-1f5fd19b-74ef-41fa-8064-7b75849fb700\">\n",
              "  <button class=\"colab-df-quickchart\" onclick=\"quickchart('df-1f5fd19b-74ef-41fa-8064-7b75849fb700')\"\n",
              "            title=\"Suggest charts.\"\n",
              "            style=\"display:none;\">\n",
              "\n",
              "<svg xmlns=\"http://www.w3.org/2000/svg\" height=\"24px\"viewBox=\"0 0 24 24\"\n",
              "     width=\"24px\">\n",
              "    <g>\n",
              "        <path d=\"M19 3H5c-1.1 0-2 .9-2 2v14c0 1.1.9 2 2 2h14c1.1 0 2-.9 2-2V5c0-1.1-.9-2-2-2zM9 17H7v-7h2v7zm4 0h-2V7h2v10zm4 0h-2v-4h2v4z\"/>\n",
              "    </g>\n",
              "</svg>\n",
              "  </button>\n",
              "\n",
              "<style>\n",
              "  .colab-df-quickchart {\n",
              "      --bg-color: #E8F0FE;\n",
              "      --fill-color: #1967D2;\n",
              "      --hover-bg-color: #E2EBFA;\n",
              "      --hover-fill-color: #174EA6;\n",
              "      --disabled-fill-color: #AAA;\n",
              "      --disabled-bg-color: #DDD;\n",
              "  }\n",
              "\n",
              "  [theme=dark] .colab-df-quickchart {\n",
              "      --bg-color: #3B4455;\n",
              "      --fill-color: #D2E3FC;\n",
              "      --hover-bg-color: #434B5C;\n",
              "      --hover-fill-color: #FFFFFF;\n",
              "      --disabled-bg-color: #3B4455;\n",
              "      --disabled-fill-color: #666;\n",
              "  }\n",
              "\n",
              "  .colab-df-quickchart {\n",
              "    background-color: var(--bg-color);\n",
              "    border: none;\n",
              "    border-radius: 50%;\n",
              "    cursor: pointer;\n",
              "    display: none;\n",
              "    fill: var(--fill-color);\n",
              "    height: 32px;\n",
              "    padding: 0;\n",
              "    width: 32px;\n",
              "  }\n",
              "\n",
              "  .colab-df-quickchart:hover {\n",
              "    background-color: var(--hover-bg-color);\n",
              "    box-shadow: 0 1px 2px rgba(60, 64, 67, 0.3), 0 1px 3px 1px rgba(60, 64, 67, 0.15);\n",
              "    fill: var(--button-hover-fill-color);\n",
              "  }\n",
              "\n",
              "  .colab-df-quickchart-complete:disabled,\n",
              "  .colab-df-quickchart-complete:disabled:hover {\n",
              "    background-color: var(--disabled-bg-color);\n",
              "    fill: var(--disabled-fill-color);\n",
              "    box-shadow: none;\n",
              "  }\n",
              "\n",
              "  .colab-df-spinner {\n",
              "    border: 2px solid var(--fill-color);\n",
              "    border-color: transparent;\n",
              "    border-bottom-color: var(--fill-color);\n",
              "    animation:\n",
              "      spin 1s steps(1) infinite;\n",
              "  }\n",
              "\n",
              "  @keyframes spin {\n",
              "    0% {\n",
              "      border-color: transparent;\n",
              "      border-bottom-color: var(--fill-color);\n",
              "      border-left-color: var(--fill-color);\n",
              "    }\n",
              "    20% {\n",
              "      border-color: transparent;\n",
              "      border-left-color: var(--fill-color);\n",
              "      border-top-color: var(--fill-color);\n",
              "    }\n",
              "    30% {\n",
              "      border-color: transparent;\n",
              "      border-left-color: var(--fill-color);\n",
              "      border-top-color: var(--fill-color);\n",
              "      border-right-color: var(--fill-color);\n",
              "    }\n",
              "    40% {\n",
              "      border-color: transparent;\n",
              "      border-right-color: var(--fill-color);\n",
              "      border-top-color: var(--fill-color);\n",
              "    }\n",
              "    60% {\n",
              "      border-color: transparent;\n",
              "      border-right-color: var(--fill-color);\n",
              "    }\n",
              "    80% {\n",
              "      border-color: transparent;\n",
              "      border-right-color: var(--fill-color);\n",
              "      border-bottom-color: var(--fill-color);\n",
              "    }\n",
              "    90% {\n",
              "      border-color: transparent;\n",
              "      border-bottom-color: var(--fill-color);\n",
              "    }\n",
              "  }\n",
              "</style>\n",
              "\n",
              "  <script>\n",
              "    async function quickchart(key) {\n",
              "      const quickchartButtonEl =\n",
              "        document.querySelector('#' + key + ' button');\n",
              "      quickchartButtonEl.disabled = true;  // To prevent multiple clicks.\n",
              "      quickchartButtonEl.classList.add('colab-df-spinner');\n",
              "      try {\n",
              "        const charts = await google.colab.kernel.invokeFunction(\n",
              "            'suggestCharts', [key], {});\n",
              "      } catch (error) {\n",
              "        console.error('Error during call to suggestCharts:', error);\n",
              "      }\n",
              "      quickchartButtonEl.classList.remove('colab-df-spinner');\n",
              "      quickchartButtonEl.classList.add('colab-df-quickchart-complete');\n",
              "    }\n",
              "    (() => {\n",
              "      let quickchartButtonEl =\n",
              "        document.querySelector('#df-1f5fd19b-74ef-41fa-8064-7b75849fb700 button');\n",
              "      quickchartButtonEl.style.display =\n",
              "        google.colab.kernel.accessAllowed ? 'block' : 'none';\n",
              "    })();\n",
              "  </script>\n",
              "</div>\n",
              "    </div>\n",
              "  </div>\n"
            ]
          },
          "metadata": {},
          "execution_count": 19
        }
      ]
    },
    {
      "cell_type": "code",
      "source": [
        "selected_data.tail()"
      ],
      "metadata": {
        "colab": {
          "base_uri": "https://localhost:8080/",
          "height": 206
        },
        "outputId": "45ffe9c0-427e-41fc-ed7f-8446fcdec894",
        "id": "WH09GGEtStgT"
      },
      "execution_count": 22,
      "outputs": [
        {
          "output_type": "execute_result",
          "data": {
            "text/plain": [
              "                                                      본문  label\n",
              "19995  “꽃을 소재로 아름다운 예술작품을 탄생시키는 금바다꽃예술중앙회가 최근 문을 열었습니...     10\n",
              "19996  IT 접목 신개념 어트랙션, 판다 커플에 명예사원증 \\n \\n \\n 에버랜드를 운영...     10\n",
              "19997  중국에서 건너와 50일간의 적응기간을 마친 판다가 관람객들에게 첫 선을 보였다. 에...     10\n",
              "19998  대전지역 자치구들이 칼국수와 온천, 문화예술 등을 주제로 한 축제를 잇따라 연다.\\...     10\n",
              "19999  김봉영 삼성물산 리조트부문 사장은 21일 판다 커플 아이바오와 러바오에게 에버랜드 ...     10"
            ],
            "text/html": [
              "\n",
              "  <div id=\"df-ff14dc8d-0c20-4161-82bd-80a581655406\" class=\"colab-df-container\">\n",
              "    <div>\n",
              "<style scoped>\n",
              "    .dataframe tbody tr th:only-of-type {\n",
              "        vertical-align: middle;\n",
              "    }\n",
              "\n",
              "    .dataframe tbody tr th {\n",
              "        vertical-align: top;\n",
              "    }\n",
              "\n",
              "    .dataframe thead th {\n",
              "        text-align: right;\n",
              "    }\n",
              "</style>\n",
              "<table border=\"1\" class=\"dataframe\">\n",
              "  <thead>\n",
              "    <tr style=\"text-align: right;\">\n",
              "      <th></th>\n",
              "      <th>본문</th>\n",
              "      <th>label</th>\n",
              "    </tr>\n",
              "  </thead>\n",
              "  <tbody>\n",
              "    <tr>\n",
              "      <th>19995</th>\n",
              "      <td>“꽃을 소재로 아름다운 예술작품을 탄생시키는 금바다꽃예술중앙회가 최근 문을 열었습니...</td>\n",
              "      <td>10</td>\n",
              "    </tr>\n",
              "    <tr>\n",
              "      <th>19996</th>\n",
              "      <td>IT 접목 신개념 어트랙션, 판다 커플에 명예사원증 \\n \\n \\n 에버랜드를 운영...</td>\n",
              "      <td>10</td>\n",
              "    </tr>\n",
              "    <tr>\n",
              "      <th>19997</th>\n",
              "      <td>중국에서 건너와 50일간의 적응기간을 마친 판다가 관람객들에게 첫 선을 보였다. 에...</td>\n",
              "      <td>10</td>\n",
              "    </tr>\n",
              "    <tr>\n",
              "      <th>19998</th>\n",
              "      <td>대전지역 자치구들이 칼국수와 온천, 문화예술 등을 주제로 한 축제를 잇따라 연다.\\...</td>\n",
              "      <td>10</td>\n",
              "    </tr>\n",
              "    <tr>\n",
              "      <th>19999</th>\n",
              "      <td>김봉영 삼성물산 리조트부문 사장은 21일 판다 커플 아이바오와 러바오에게 에버랜드 ...</td>\n",
              "      <td>10</td>\n",
              "    </tr>\n",
              "  </tbody>\n",
              "</table>\n",
              "</div>\n",
              "    <div class=\"colab-df-buttons\">\n",
              "\n",
              "  <div class=\"colab-df-container\">\n",
              "    <button class=\"colab-df-convert\" onclick=\"convertToInteractive('df-ff14dc8d-0c20-4161-82bd-80a581655406')\"\n",
              "            title=\"Convert this dataframe to an interactive table.\"\n",
              "            style=\"display:none;\">\n",
              "\n",
              "  <svg xmlns=\"http://www.w3.org/2000/svg\" height=\"24px\" viewBox=\"0 -960 960 960\">\n",
              "    <path d=\"M120-120v-720h720v720H120Zm60-500h600v-160H180v160Zm220 220h160v-160H400v160Zm0 220h160v-160H400v160ZM180-400h160v-160H180v160Zm440 0h160v-160H620v160ZM180-180h160v-160H180v160Zm440 0h160v-160H620v160Z\"/>\n",
              "  </svg>\n",
              "    </button>\n",
              "\n",
              "  <style>\n",
              "    .colab-df-container {\n",
              "      display:flex;\n",
              "      gap: 12px;\n",
              "    }\n",
              "\n",
              "    .colab-df-convert {\n",
              "      background-color: #E8F0FE;\n",
              "      border: none;\n",
              "      border-radius: 50%;\n",
              "      cursor: pointer;\n",
              "      display: none;\n",
              "      fill: #1967D2;\n",
              "      height: 32px;\n",
              "      padding: 0 0 0 0;\n",
              "      width: 32px;\n",
              "    }\n",
              "\n",
              "    .colab-df-convert:hover {\n",
              "      background-color: #E2EBFA;\n",
              "      box-shadow: 0px 1px 2px rgba(60, 64, 67, 0.3), 0px 1px 3px 1px rgba(60, 64, 67, 0.15);\n",
              "      fill: #174EA6;\n",
              "    }\n",
              "\n",
              "    .colab-df-buttons div {\n",
              "      margin-bottom: 4px;\n",
              "    }\n",
              "\n",
              "    [theme=dark] .colab-df-convert {\n",
              "      background-color: #3B4455;\n",
              "      fill: #D2E3FC;\n",
              "    }\n",
              "\n",
              "    [theme=dark] .colab-df-convert:hover {\n",
              "      background-color: #434B5C;\n",
              "      box-shadow: 0px 1px 3px 1px rgba(0, 0, 0, 0.15);\n",
              "      filter: drop-shadow(0px 1px 2px rgba(0, 0, 0, 0.3));\n",
              "      fill: #FFFFFF;\n",
              "    }\n",
              "  </style>\n",
              "\n",
              "    <script>\n",
              "      const buttonEl =\n",
              "        document.querySelector('#df-ff14dc8d-0c20-4161-82bd-80a581655406 button.colab-df-convert');\n",
              "      buttonEl.style.display =\n",
              "        google.colab.kernel.accessAllowed ? 'block' : 'none';\n",
              "\n",
              "      async function convertToInteractive(key) {\n",
              "        const element = document.querySelector('#df-ff14dc8d-0c20-4161-82bd-80a581655406');\n",
              "        const dataTable =\n",
              "          await google.colab.kernel.invokeFunction('convertToInteractive',\n",
              "                                                    [key], {});\n",
              "        if (!dataTable) return;\n",
              "\n",
              "        const docLinkHtml = 'Like what you see? Visit the ' +\n",
              "          '<a target=\"_blank\" href=https://colab.research.google.com/notebooks/data_table.ipynb>data table notebook</a>'\n",
              "          + ' to learn more about interactive tables.';\n",
              "        element.innerHTML = '';\n",
              "        dataTable['output_type'] = 'display_data';\n",
              "        await google.colab.output.renderOutput(dataTable, element);\n",
              "        const docLink = document.createElement('div');\n",
              "        docLink.innerHTML = docLinkHtml;\n",
              "        element.appendChild(docLink);\n",
              "      }\n",
              "    </script>\n",
              "  </div>\n",
              "\n",
              "\n",
              "<div id=\"df-f9cd09eb-5b92-4559-a94f-bbd75b820899\">\n",
              "  <button class=\"colab-df-quickchart\" onclick=\"quickchart('df-f9cd09eb-5b92-4559-a94f-bbd75b820899')\"\n",
              "            title=\"Suggest charts.\"\n",
              "            style=\"display:none;\">\n",
              "\n",
              "<svg xmlns=\"http://www.w3.org/2000/svg\" height=\"24px\"viewBox=\"0 0 24 24\"\n",
              "     width=\"24px\">\n",
              "    <g>\n",
              "        <path d=\"M19 3H5c-1.1 0-2 .9-2 2v14c0 1.1.9 2 2 2h14c1.1 0 2-.9 2-2V5c0-1.1-.9-2-2-2zM9 17H7v-7h2v7zm4 0h-2V7h2v10zm4 0h-2v-4h2v4z\"/>\n",
              "    </g>\n",
              "</svg>\n",
              "  </button>\n",
              "\n",
              "<style>\n",
              "  .colab-df-quickchart {\n",
              "      --bg-color: #E8F0FE;\n",
              "      --fill-color: #1967D2;\n",
              "      --hover-bg-color: #E2EBFA;\n",
              "      --hover-fill-color: #174EA6;\n",
              "      --disabled-fill-color: #AAA;\n",
              "      --disabled-bg-color: #DDD;\n",
              "  }\n",
              "\n",
              "  [theme=dark] .colab-df-quickchart {\n",
              "      --bg-color: #3B4455;\n",
              "      --fill-color: #D2E3FC;\n",
              "      --hover-bg-color: #434B5C;\n",
              "      --hover-fill-color: #FFFFFF;\n",
              "      --disabled-bg-color: #3B4455;\n",
              "      --disabled-fill-color: #666;\n",
              "  }\n",
              "\n",
              "  .colab-df-quickchart {\n",
              "    background-color: var(--bg-color);\n",
              "    border: none;\n",
              "    border-radius: 50%;\n",
              "    cursor: pointer;\n",
              "    display: none;\n",
              "    fill: var(--fill-color);\n",
              "    height: 32px;\n",
              "    padding: 0;\n",
              "    width: 32px;\n",
              "  }\n",
              "\n",
              "  .colab-df-quickchart:hover {\n",
              "    background-color: var(--hover-bg-color);\n",
              "    box-shadow: 0 1px 2px rgba(60, 64, 67, 0.3), 0 1px 3px 1px rgba(60, 64, 67, 0.15);\n",
              "    fill: var(--button-hover-fill-color);\n",
              "  }\n",
              "\n",
              "  .colab-df-quickchart-complete:disabled,\n",
              "  .colab-df-quickchart-complete:disabled:hover {\n",
              "    background-color: var(--disabled-bg-color);\n",
              "    fill: var(--disabled-fill-color);\n",
              "    box-shadow: none;\n",
              "  }\n",
              "\n",
              "  .colab-df-spinner {\n",
              "    border: 2px solid var(--fill-color);\n",
              "    border-color: transparent;\n",
              "    border-bottom-color: var(--fill-color);\n",
              "    animation:\n",
              "      spin 1s steps(1) infinite;\n",
              "  }\n",
              "\n",
              "  @keyframes spin {\n",
              "    0% {\n",
              "      border-color: transparent;\n",
              "      border-bottom-color: var(--fill-color);\n",
              "      border-left-color: var(--fill-color);\n",
              "    }\n",
              "    20% {\n",
              "      border-color: transparent;\n",
              "      border-left-color: var(--fill-color);\n",
              "      border-top-color: var(--fill-color);\n",
              "    }\n",
              "    30% {\n",
              "      border-color: transparent;\n",
              "      border-left-color: var(--fill-color);\n",
              "      border-top-color: var(--fill-color);\n",
              "      border-right-color: var(--fill-color);\n",
              "    }\n",
              "    40% {\n",
              "      border-color: transparent;\n",
              "      border-right-color: var(--fill-color);\n",
              "      border-top-color: var(--fill-color);\n",
              "    }\n",
              "    60% {\n",
              "      border-color: transparent;\n",
              "      border-right-color: var(--fill-color);\n",
              "    }\n",
              "    80% {\n",
              "      border-color: transparent;\n",
              "      border-right-color: var(--fill-color);\n",
              "      border-bottom-color: var(--fill-color);\n",
              "    }\n",
              "    90% {\n",
              "      border-color: transparent;\n",
              "      border-bottom-color: var(--fill-color);\n",
              "    }\n",
              "  }\n",
              "</style>\n",
              "\n",
              "  <script>\n",
              "    async function quickchart(key) {\n",
              "      const quickchartButtonEl =\n",
              "        document.querySelector('#' + key + ' button');\n",
              "      quickchartButtonEl.disabled = true;  // To prevent multiple clicks.\n",
              "      quickchartButtonEl.classList.add('colab-df-spinner');\n",
              "      try {\n",
              "        const charts = await google.colab.kernel.invokeFunction(\n",
              "            'suggestCharts', [key], {});\n",
              "      } catch (error) {\n",
              "        console.error('Error during call to suggestCharts:', error);\n",
              "      }\n",
              "      quickchartButtonEl.classList.remove('colab-df-spinner');\n",
              "      quickchartButtonEl.classList.add('colab-df-quickchart-complete');\n",
              "    }\n",
              "    (() => {\n",
              "      let quickchartButtonEl =\n",
              "        document.querySelector('#df-f9cd09eb-5b92-4559-a94f-bbd75b820899 button');\n",
              "      quickchartButtonEl.style.display =\n",
              "        google.colab.kernel.accessAllowed ? 'block' : 'none';\n",
              "    })();\n",
              "  </script>\n",
              "</div>\n",
              "    </div>\n",
              "  </div>\n"
            ]
          },
          "metadata": {},
          "execution_count": 22
        }
      ]
    },
    {
      "cell_type": "code",
      "source": [
        "selected_data.to_excel('/content/drive/MyDrive/졸업논문/논리재 감정제_논문_/raw data_news/감정제/selected_data.xlsx', index=False)"
      ],
      "metadata": {
        "id": "WX8XFdFeStgT"
      },
      "execution_count": 23,
      "outputs": []
    },
    {
      "cell_type": "code",
      "source": [
        "file_path='/content/drive/MyDrive/졸업논문/논리재 감정제_논문_/raw data_news/감정제/selected_data.xlsx'"
      ],
      "metadata": {
        "id": "8i4klBYgStgT"
      },
      "execution_count": 24,
      "outputs": []
    },
    {
      "cell_type": "code",
      "source": [
        "selected_data.to_excel(file_path, index=False, engine='openpyxl')"
      ],
      "metadata": {
        "id": "yH6iqnbEStgT"
      },
      "execution_count": 25,
      "outputs": []
    },
    {
      "cell_type": "code",
      "source": [],
      "metadata": {
        "id": "gxX9GCmUStgT"
      },
      "execution_count": null,
      "outputs": []
    },
    {
      "cell_type": "markdown",
      "source": [
        "* 빈도분석"
      ],
      "metadata": {
        "id": "O__lJLeIStgT"
      }
    },
    {
      "cell_type": "code",
      "source": [
        "import tensorflow as tf\n",
        "\n",
        "resolver = tf.distribute.cluster_resolver.TPUClusterResolver(tpu='grpc://' + os.environ['COLAB_TPU_ADDR'])\n",
        "\n",
        "tf.config.experimental_connect_to_cluster(resolver)\n",
        "tf.tpu.experimental.initialize_tpu_system(resolver)"
      ],
      "metadata": {
        "colab": {
          "base_uri": "https://localhost:8080/"
        },
        "outputId": "d68dd1a5-d9aa-4858-f914-b526e53ff2e8",
        "id": "V-ykRjvGStgU"
      },
      "execution_count": 26,
      "outputs": [
        {
          "output_type": "execute_result",
          "data": {
            "text/plain": [
              "<tensorflow.python.tpu.topology.Topology at 0x7fe0e91b2680>"
            ]
          },
          "metadata": {},
          "execution_count": 26
        }
      ]
    },
    {
      "cell_type": "code",
      "source": [
        "strategy = tf.distribute.TPUStrategy(resolver)\n"
      ],
      "metadata": {
        "id": "kE0sRcYgStgU"
      },
      "execution_count": 27,
      "outputs": []
    },
    {
      "cell_type": "code",
      "source": [
        "from gensim.models.ldamodel import LdaModel\n",
        "from gensim.models import CoherenceModel\n",
        "import matplotlib.pyplot as plt\n",
        "from gensim import corpora\n",
        "import numpy as np\n",
        "from sklearn.decomposition import LatentDirichletAllocation\n",
        "\n",
        "import site\n",
        "import re\n",
        "from tqdm import tqdm"
      ],
      "metadata": {
        "id": "ytvMuuVvStgU"
      },
      "execution_count": 28,
      "outputs": []
    },
    {
      "cell_type": "code",
      "source": [
        "!pip install pyLDAvis"
      ],
      "metadata": {
        "id": "Ij-saEdlStgU"
      },
      "execution_count": null,
      "outputs": []
    },
    {
      "cell_type": "code",
      "source": [
        "import pyLDAvis.gensim_models\n",
        "import gensim"
      ],
      "metadata": {
        "id": "ssTc3KTuStgU"
      },
      "execution_count": 30,
      "outputs": []
    },
    {
      "cell_type": "code",
      "source": [
        "All_data=selected_data.rename(columns={'본문':'Contents'})"
      ],
      "metadata": {
        "colab": {
          "base_uri": "https://localhost:8080/"
        },
        "outputId": "d64bf8d9-355f-4cdb-9ce0-67471ca38879",
        "id": "F1XDjuDtStgU"
      },
      "execution_count": 31,
      "outputs": [
        {
          "output_type": "stream",
          "name": "stderr",
          "text": [
            "/usr/local/lib/python3.10/dist-packages/ipykernel/ipkernel.py:283: DeprecationWarning: `should_run_async` will not call `transform_cell` automatically in the future. Please pass the result to `transformed_cell` argument and any exception that happen during thetransform in `preprocessing_exc_tuple` in IPython 7.17 and above.\n",
            "  and should_run_async(code)\n"
          ]
        }
      ]
    },
    {
      "cell_type": "code",
      "source": [
        "All_data.info()"
      ],
      "metadata": {
        "colab": {
          "base_uri": "https://localhost:8080/"
        },
        "outputId": "8e61d709-f571-4c83-ae31-07df33c733df",
        "id": "me7mTyhZStgU"
      },
      "execution_count": 32,
      "outputs": [
        {
          "output_type": "stream",
          "name": "stdout",
          "text": [
            "<class 'pandas.core.frame.DataFrame'>\n",
            "Int64Index: 200000 entries, 0 to 19999\n",
            "Data columns (total 2 columns):\n",
            " #   Column    Non-Null Count   Dtype \n",
            "---  ------    --------------   ----- \n",
            " 0   Contents  200000 non-null  object\n",
            " 1   label     200000 non-null  int64 \n",
            "dtypes: int64(1), object(1)\n",
            "memory usage: 4.6+ MB\n"
          ]
        },
        {
          "output_type": "stream",
          "name": "stderr",
          "text": [
            "/usr/local/lib/python3.10/dist-packages/ipykernel/ipkernel.py:283: DeprecationWarning: `should_run_async` will not call `transform_cell` automatically in the future. Please pass the result to `transformed_cell` argument and any exception that happen during thetransform in `preprocessing_exc_tuple` in IPython 7.17 and above.\n",
            "  and should_run_async(code)\n"
          ]
        }
      ]
    },
    {
      "cell_type": "code",
      "source": [
        "TARGET_COL = \"Contents\"\n",
        "PROCESSED_COL = \"ProcessedData\""
      ],
      "metadata": {
        "colab": {
          "base_uri": "https://localhost:8080/"
        },
        "outputId": "0192cc84-f5fb-4ccf-8996-f1471f2e64ed",
        "id": "oik-eJd9StgV"
      },
      "execution_count": 33,
      "outputs": [
        {
          "output_type": "stream",
          "name": "stderr",
          "text": [
            "/usr/local/lib/python3.10/dist-packages/ipykernel/ipkernel.py:283: DeprecationWarning: `should_run_async` will not call `transform_cell` automatically in the future. Please pass the result to `transformed_cell` argument and any exception that happen during thetransform in `preprocessing_exc_tuple` in IPython 7.17 and above.\n",
            "  and should_run_async(code)\n"
          ]
        }
      ]
    },
    {
      "cell_type": "code",
      "source": [
        "All_data[PROCESSED_COL]=[False for _ in range(len(All_data[TARGET_COL]))]"
      ],
      "metadata": {
        "colab": {
          "base_uri": "https://localhost:8080/"
        },
        "outputId": "c50f600a-456f-46fc-a1e8-99ed31c2fac3",
        "id": "UFm8LW1iStgV"
      },
      "execution_count": 34,
      "outputs": [
        {
          "output_type": "stream",
          "name": "stderr",
          "text": [
            "/usr/local/lib/python3.10/dist-packages/ipykernel/ipkernel.py:283: DeprecationWarning: `should_run_async` will not call `transform_cell` automatically in the future. Please pass the result to `transformed_cell` argument and any exception that happen during thetransform in `preprocessing_exc_tuple` in IPython 7.17 and above.\n",
            "  and should_run_async(code)\n"
          ]
        }
      ]
    },
    {
      "cell_type": "code",
      "source": [
        "All_data"
      ],
      "metadata": {
        "colab": {
          "base_uri": "https://localhost:8080/",
          "height": 478
        },
        "id": "WLQflg7kStgV",
        "outputId": "54a09e26-5ae5-4de8-c621-7ff2d0f17265"
      },
      "execution_count": 35,
      "outputs": [
        {
          "output_type": "stream",
          "name": "stderr",
          "text": [
            "/usr/local/lib/python3.10/dist-packages/ipykernel/ipkernel.py:283: DeprecationWarning: `should_run_async` will not call `transform_cell` automatically in the future. Please pass the result to `transformed_cell` argument and any exception that happen during thetransform in `preprocessing_exc_tuple` in IPython 7.17 and above.\n",
            "  and should_run_async(code)\n"
          ]
        },
        {
          "output_type": "execute_result",
          "data": {
            "text/plain": [
              "                                                Contents  label  ProcessedData\n",
              "0      ［충북일보］ 긴 장마 코앞에서 칠보산을 오르내린다. 일곱 개 보석 같은 바위 봉우리...      1          False\n",
              "1      성씨 조형물로 꾸민 국내 유일 ‘효’ 테마공원/드넓은 잔디광장 나무벤치 파라솔 갖춰...      1          False\n",
              "2      매일같이 반복되는 일상이 지루한 날이 있다. 멀리 여행을 떠나지는 못하더라도 가까운...      1          False\n",
              "3      ■ 진행 : 윤보리 앵커\\n■ 출연 : 김성수 변호사\\n\\n* 아래 텍스트는 실제 ...      1          False\n",
              "4      1조 6,000억 원대 피해를 낸 ‘라임자산운용(라임) 사태’ 주범으로 징역 30년...      1          False\n",
              "...                                                  ...    ...            ...\n",
              "19995  “꽃을 소재로 아름다운 예술작품을 탄생시키는 금바다꽃예술중앙회가 최근 문을 열었습니...     10          False\n",
              "19996  IT 접목 신개념 어트랙션, 판다 커플에 명예사원증 \\n \\n \\n 에버랜드를 운영...     10          False\n",
              "19997  중국에서 건너와 50일간의 적응기간을 마친 판다가 관람객들에게 첫 선을 보였다. 에...     10          False\n",
              "19998  대전지역 자치구들이 칼국수와 온천, 문화예술 등을 주제로 한 축제를 잇따라 연다.\\...     10          False\n",
              "19999  김봉영 삼성물산 리조트부문 사장은 21일 판다 커플 아이바오와 러바오에게 에버랜드 ...     10          False\n",
              "\n",
              "[200000 rows x 3 columns]"
            ],
            "text/html": [
              "\n",
              "  <div id=\"df-3e35d984-59a7-4ce2-8d98-ba5a8f30e404\" class=\"colab-df-container\">\n",
              "    <div>\n",
              "<style scoped>\n",
              "    .dataframe tbody tr th:only-of-type {\n",
              "        vertical-align: middle;\n",
              "    }\n",
              "\n",
              "    .dataframe tbody tr th {\n",
              "        vertical-align: top;\n",
              "    }\n",
              "\n",
              "    .dataframe thead th {\n",
              "        text-align: right;\n",
              "    }\n",
              "</style>\n",
              "<table border=\"1\" class=\"dataframe\">\n",
              "  <thead>\n",
              "    <tr style=\"text-align: right;\">\n",
              "      <th></th>\n",
              "      <th>Contents</th>\n",
              "      <th>label</th>\n",
              "      <th>ProcessedData</th>\n",
              "    </tr>\n",
              "  </thead>\n",
              "  <tbody>\n",
              "    <tr>\n",
              "      <th>0</th>\n",
              "      <td>［충북일보］ 긴 장마 코앞에서 칠보산을 오르내린다. 일곱 개 보석 같은 바위 봉우리...</td>\n",
              "      <td>1</td>\n",
              "      <td>False</td>\n",
              "    </tr>\n",
              "    <tr>\n",
              "      <th>1</th>\n",
              "      <td>성씨 조형물로 꾸민 국내 유일 ‘효’ 테마공원/드넓은 잔디광장 나무벤치 파라솔 갖춰...</td>\n",
              "      <td>1</td>\n",
              "      <td>False</td>\n",
              "    </tr>\n",
              "    <tr>\n",
              "      <th>2</th>\n",
              "      <td>매일같이 반복되는 일상이 지루한 날이 있다. 멀리 여행을 떠나지는 못하더라도 가까운...</td>\n",
              "      <td>1</td>\n",
              "      <td>False</td>\n",
              "    </tr>\n",
              "    <tr>\n",
              "      <th>3</th>\n",
              "      <td>■ 진행 : 윤보리 앵커\\n■ 출연 : 김성수 변호사\\n\\n* 아래 텍스트는 실제 ...</td>\n",
              "      <td>1</td>\n",
              "      <td>False</td>\n",
              "    </tr>\n",
              "    <tr>\n",
              "      <th>4</th>\n",
              "      <td>1조 6,000억 원대 피해를 낸 ‘라임자산운용(라임) 사태’ 주범으로 징역 30년...</td>\n",
              "      <td>1</td>\n",
              "      <td>False</td>\n",
              "    </tr>\n",
              "    <tr>\n",
              "      <th>...</th>\n",
              "      <td>...</td>\n",
              "      <td>...</td>\n",
              "      <td>...</td>\n",
              "    </tr>\n",
              "    <tr>\n",
              "      <th>19995</th>\n",
              "      <td>“꽃을 소재로 아름다운 예술작품을 탄생시키는 금바다꽃예술중앙회가 최근 문을 열었습니...</td>\n",
              "      <td>10</td>\n",
              "      <td>False</td>\n",
              "    </tr>\n",
              "    <tr>\n",
              "      <th>19996</th>\n",
              "      <td>IT 접목 신개념 어트랙션, 판다 커플에 명예사원증 \\n \\n \\n 에버랜드를 운영...</td>\n",
              "      <td>10</td>\n",
              "      <td>False</td>\n",
              "    </tr>\n",
              "    <tr>\n",
              "      <th>19997</th>\n",
              "      <td>중국에서 건너와 50일간의 적응기간을 마친 판다가 관람객들에게 첫 선을 보였다. 에...</td>\n",
              "      <td>10</td>\n",
              "      <td>False</td>\n",
              "    </tr>\n",
              "    <tr>\n",
              "      <th>19998</th>\n",
              "      <td>대전지역 자치구들이 칼국수와 온천, 문화예술 등을 주제로 한 축제를 잇따라 연다.\\...</td>\n",
              "      <td>10</td>\n",
              "      <td>False</td>\n",
              "    </tr>\n",
              "    <tr>\n",
              "      <th>19999</th>\n",
              "      <td>김봉영 삼성물산 리조트부문 사장은 21일 판다 커플 아이바오와 러바오에게 에버랜드 ...</td>\n",
              "      <td>10</td>\n",
              "      <td>False</td>\n",
              "    </tr>\n",
              "  </tbody>\n",
              "</table>\n",
              "<p>200000 rows × 3 columns</p>\n",
              "</div>\n",
              "    <div class=\"colab-df-buttons\">\n",
              "\n",
              "  <div class=\"colab-df-container\">\n",
              "    <button class=\"colab-df-convert\" onclick=\"convertToInteractive('df-3e35d984-59a7-4ce2-8d98-ba5a8f30e404')\"\n",
              "            title=\"Convert this dataframe to an interactive table.\"\n",
              "            style=\"display:none;\">\n",
              "\n",
              "  <svg xmlns=\"http://www.w3.org/2000/svg\" height=\"24px\" viewBox=\"0 -960 960 960\">\n",
              "    <path d=\"M120-120v-720h720v720H120Zm60-500h600v-160H180v160Zm220 220h160v-160H400v160Zm0 220h160v-160H400v160ZM180-400h160v-160H180v160Zm440 0h160v-160H620v160ZM180-180h160v-160H180v160Zm440 0h160v-160H620v160Z\"/>\n",
              "  </svg>\n",
              "    </button>\n",
              "\n",
              "  <style>\n",
              "    .colab-df-container {\n",
              "      display:flex;\n",
              "      gap: 12px;\n",
              "    }\n",
              "\n",
              "    .colab-df-convert {\n",
              "      background-color: #E8F0FE;\n",
              "      border: none;\n",
              "      border-radius: 50%;\n",
              "      cursor: pointer;\n",
              "      display: none;\n",
              "      fill: #1967D2;\n",
              "      height: 32px;\n",
              "      padding: 0 0 0 0;\n",
              "      width: 32px;\n",
              "    }\n",
              "\n",
              "    .colab-df-convert:hover {\n",
              "      background-color: #E2EBFA;\n",
              "      box-shadow: 0px 1px 2px rgba(60, 64, 67, 0.3), 0px 1px 3px 1px rgba(60, 64, 67, 0.15);\n",
              "      fill: #174EA6;\n",
              "    }\n",
              "\n",
              "    .colab-df-buttons div {\n",
              "      margin-bottom: 4px;\n",
              "    }\n",
              "\n",
              "    [theme=dark] .colab-df-convert {\n",
              "      background-color: #3B4455;\n",
              "      fill: #D2E3FC;\n",
              "    }\n",
              "\n",
              "    [theme=dark] .colab-df-convert:hover {\n",
              "      background-color: #434B5C;\n",
              "      box-shadow: 0px 1px 3px 1px rgba(0, 0, 0, 0.15);\n",
              "      filter: drop-shadow(0px 1px 2px rgba(0, 0, 0, 0.3));\n",
              "      fill: #FFFFFF;\n",
              "    }\n",
              "  </style>\n",
              "\n",
              "    <script>\n",
              "      const buttonEl =\n",
              "        document.querySelector('#df-3e35d984-59a7-4ce2-8d98-ba5a8f30e404 button.colab-df-convert');\n",
              "      buttonEl.style.display =\n",
              "        google.colab.kernel.accessAllowed ? 'block' : 'none';\n",
              "\n",
              "      async function convertToInteractive(key) {\n",
              "        const element = document.querySelector('#df-3e35d984-59a7-4ce2-8d98-ba5a8f30e404');\n",
              "        const dataTable =\n",
              "          await google.colab.kernel.invokeFunction('convertToInteractive',\n",
              "                                                    [key], {});\n",
              "        if (!dataTable) return;\n",
              "\n",
              "        const docLinkHtml = 'Like what you see? Visit the ' +\n",
              "          '<a target=\"_blank\" href=https://colab.research.google.com/notebooks/data_table.ipynb>data table notebook</a>'\n",
              "          + ' to learn more about interactive tables.';\n",
              "        element.innerHTML = '';\n",
              "        dataTable['output_type'] = 'display_data';\n",
              "        await google.colab.output.renderOutput(dataTable, element);\n",
              "        const docLink = document.createElement('div');\n",
              "        docLink.innerHTML = docLinkHtml;\n",
              "        element.appendChild(docLink);\n",
              "      }\n",
              "    </script>\n",
              "  </div>\n",
              "\n",
              "\n",
              "<div id=\"df-842c7097-6853-47b7-a456-e136e3783552\">\n",
              "  <button class=\"colab-df-quickchart\" onclick=\"quickchart('df-842c7097-6853-47b7-a456-e136e3783552')\"\n",
              "            title=\"Suggest charts.\"\n",
              "            style=\"display:none;\">\n",
              "\n",
              "<svg xmlns=\"http://www.w3.org/2000/svg\" height=\"24px\"viewBox=\"0 0 24 24\"\n",
              "     width=\"24px\">\n",
              "    <g>\n",
              "        <path d=\"M19 3H5c-1.1 0-2 .9-2 2v14c0 1.1.9 2 2 2h14c1.1 0 2-.9 2-2V5c0-1.1-.9-2-2-2zM9 17H7v-7h2v7zm4 0h-2V7h2v10zm4 0h-2v-4h2v4z\"/>\n",
              "    </g>\n",
              "</svg>\n",
              "  </button>\n",
              "\n",
              "<style>\n",
              "  .colab-df-quickchart {\n",
              "      --bg-color: #E8F0FE;\n",
              "      --fill-color: #1967D2;\n",
              "      --hover-bg-color: #E2EBFA;\n",
              "      --hover-fill-color: #174EA6;\n",
              "      --disabled-fill-color: #AAA;\n",
              "      --disabled-bg-color: #DDD;\n",
              "  }\n",
              "\n",
              "  [theme=dark] .colab-df-quickchart {\n",
              "      --bg-color: #3B4455;\n",
              "      --fill-color: #D2E3FC;\n",
              "      --hover-bg-color: #434B5C;\n",
              "      --hover-fill-color: #FFFFFF;\n",
              "      --disabled-bg-color: #3B4455;\n",
              "      --disabled-fill-color: #666;\n",
              "  }\n",
              "\n",
              "  .colab-df-quickchart {\n",
              "    background-color: var(--bg-color);\n",
              "    border: none;\n",
              "    border-radius: 50%;\n",
              "    cursor: pointer;\n",
              "    display: none;\n",
              "    fill: var(--fill-color);\n",
              "    height: 32px;\n",
              "    padding: 0;\n",
              "    width: 32px;\n",
              "  }\n",
              "\n",
              "  .colab-df-quickchart:hover {\n",
              "    background-color: var(--hover-bg-color);\n",
              "    box-shadow: 0 1px 2px rgba(60, 64, 67, 0.3), 0 1px 3px 1px rgba(60, 64, 67, 0.15);\n",
              "    fill: var(--button-hover-fill-color);\n",
              "  }\n",
              "\n",
              "  .colab-df-quickchart-complete:disabled,\n",
              "  .colab-df-quickchart-complete:disabled:hover {\n",
              "    background-color: var(--disabled-bg-color);\n",
              "    fill: var(--disabled-fill-color);\n",
              "    box-shadow: none;\n",
              "  }\n",
              "\n",
              "  .colab-df-spinner {\n",
              "    border: 2px solid var(--fill-color);\n",
              "    border-color: transparent;\n",
              "    border-bottom-color: var(--fill-color);\n",
              "    animation:\n",
              "      spin 1s steps(1) infinite;\n",
              "  }\n",
              "\n",
              "  @keyframes spin {\n",
              "    0% {\n",
              "      border-color: transparent;\n",
              "      border-bottom-color: var(--fill-color);\n",
              "      border-left-color: var(--fill-color);\n",
              "    }\n",
              "    20% {\n",
              "      border-color: transparent;\n",
              "      border-left-color: var(--fill-color);\n",
              "      border-top-color: var(--fill-color);\n",
              "    }\n",
              "    30% {\n",
              "      border-color: transparent;\n",
              "      border-left-color: var(--fill-color);\n",
              "      border-top-color: var(--fill-color);\n",
              "      border-right-color: var(--fill-color);\n",
              "    }\n",
              "    40% {\n",
              "      border-color: transparent;\n",
              "      border-right-color: var(--fill-color);\n",
              "      border-top-color: var(--fill-color);\n",
              "    }\n",
              "    60% {\n",
              "      border-color: transparent;\n",
              "      border-right-color: var(--fill-color);\n",
              "    }\n",
              "    80% {\n",
              "      border-color: transparent;\n",
              "      border-right-color: var(--fill-color);\n",
              "      border-bottom-color: var(--fill-color);\n",
              "    }\n",
              "    90% {\n",
              "      border-color: transparent;\n",
              "      border-bottom-color: var(--fill-color);\n",
              "    }\n",
              "  }\n",
              "</style>\n",
              "\n",
              "  <script>\n",
              "    async function quickchart(key) {\n",
              "      const quickchartButtonEl =\n",
              "        document.querySelector('#' + key + ' button');\n",
              "      quickchartButtonEl.disabled = true;  // To prevent multiple clicks.\n",
              "      quickchartButtonEl.classList.add('colab-df-spinner');\n",
              "      try {\n",
              "        const charts = await google.colab.kernel.invokeFunction(\n",
              "            'suggestCharts', [key], {});\n",
              "      } catch (error) {\n",
              "        console.error('Error during call to suggestCharts:', error);\n",
              "      }\n",
              "      quickchartButtonEl.classList.remove('colab-df-spinner');\n",
              "      quickchartButtonEl.classList.add('colab-df-quickchart-complete');\n",
              "    }\n",
              "    (() => {\n",
              "      let quickchartButtonEl =\n",
              "        document.querySelector('#df-842c7097-6853-47b7-a456-e136e3783552 button');\n",
              "      quickchartButtonEl.style.display =\n",
              "        google.colab.kernel.accessAllowed ? 'block' : 'none';\n",
              "    })();\n",
              "  </script>\n",
              "</div>\n",
              "    </div>\n",
              "  </div>\n"
            ]
          },
          "metadata": {},
          "execution_count": 35
        }
      ]
    },
    {
      "cell_type": "code",
      "source": [
        "# 개행 문자 (CRLF) 제거\n",
        "def remove_CRLF(input_str):\n",
        "    input_str = input_str.replace(\"\\n\", \" \")\n",
        "    input_str = input_str.replace(\"\\n\", \" \")\n",
        "    input_str = input_str.replace(\"\\r\", \" \")\n",
        "    input_str = input_str.replace(\"\\r\", \" \")\n",
        "\n",
        "    return input_str"
      ],
      "metadata": {
        "colab": {
          "base_uri": "https://localhost:8080/"
        },
        "outputId": "167f986d-c29f-4ab8-a36a-c43c82449c51",
        "id": "NjKCqqo_StgV"
      },
      "execution_count": 36,
      "outputs": [
        {
          "output_type": "stream",
          "name": "stderr",
          "text": [
            "/usr/local/lib/python3.10/dist-packages/ipykernel/ipkernel.py:283: DeprecationWarning: `should_run_async` will not call `transform_cell` automatically in the future. Please pass the result to `transformed_cell` argument and any exception that happen during thetransform in `preprocessing_exc_tuple` in IPython 7.17 and above.\n",
            "  and should_run_async(code)\n"
          ]
        }
      ]
    },
    {
      "cell_type": "code",
      "source": [
        "All_data[PROCESSED_COL] = All_data[TARGET_COL].apply(remove_CRLF)"
      ],
      "metadata": {
        "colab": {
          "base_uri": "https://localhost:8080/"
        },
        "outputId": "1744d1c4-fbb6-4e44-ee75-8d62d870c6d5",
        "id": "dcMtzghoStgV"
      },
      "execution_count": 37,
      "outputs": [
        {
          "output_type": "stream",
          "name": "stderr",
          "text": [
            "/usr/local/lib/python3.10/dist-packages/ipykernel/ipkernel.py:283: DeprecationWarning: `should_run_async` will not call `transform_cell` automatically in the future. Please pass the result to `transformed_cell` argument and any exception that happen during thetransform in `preprocessing_exc_tuple` in IPython 7.17 and above.\n",
            "  and should_run_async(code)\n"
          ]
        }
      ]
    },
    {
      "cell_type": "code",
      "source": [
        "All_data.head()"
      ],
      "metadata": {
        "colab": {
          "base_uri": "https://localhost:8080/",
          "height": 261
        },
        "outputId": "aa815311-ebe5-4616-97ae-a2a85124e471",
        "id": "fLJEs133StgV"
      },
      "execution_count": 38,
      "outputs": [
        {
          "output_type": "stream",
          "name": "stderr",
          "text": [
            "/usr/local/lib/python3.10/dist-packages/ipykernel/ipkernel.py:283: DeprecationWarning: `should_run_async` will not call `transform_cell` automatically in the future. Please pass the result to `transformed_cell` argument and any exception that happen during thetransform in `preprocessing_exc_tuple` in IPython 7.17 and above.\n",
            "  and should_run_async(code)\n"
          ]
        },
        {
          "output_type": "execute_result",
          "data": {
            "text/plain": [
              "                                            Contents  label  \\\n",
              "0  ［충북일보］ 긴 장마 코앞에서 칠보산을 오르내린다. 일곱 개 보석 같은 바위 봉우리...      1   \n",
              "1  성씨 조형물로 꾸민 국내 유일 ‘효’ 테마공원/드넓은 잔디광장 나무벤치 파라솔 갖춰...      1   \n",
              "2  매일같이 반복되는 일상이 지루한 날이 있다. 멀리 여행을 떠나지는 못하더라도 가까운...      1   \n",
              "3  ■ 진행 : 윤보리 앵커\\n■ 출연 : 김성수 변호사\\n\\n* 아래 텍스트는 실제 ...      1   \n",
              "4  1조 6,000억 원대 피해를 낸 ‘라임자산운용(라임) 사태’ 주범으로 징역 30년...      1   \n",
              "\n",
              "                                       ProcessedData  \n",
              "0  ［충북일보］ 긴 장마 코앞에서 칠보산을 오르내린다. 일곱 개 보석 같은 바위 봉우리...  \n",
              "1  성씨 조형물로 꾸민 국내 유일 ‘효’ 테마공원/드넓은 잔디광장 나무벤치 파라솔 갖춰...  \n",
              "2  매일같이 반복되는 일상이 지루한 날이 있다. 멀리 여행을 떠나지는 못하더라도 가까운...  \n",
              "3  ■ 진행 : 윤보리 앵커 ■ 출연 : 김성수 변호사  * 아래 텍스트는 실제 방송 ...  \n",
              "4  1조 6,000억 원대 피해를 낸 ‘라임자산운용(라임) 사태’ 주범으로 징역 30년...  "
            ],
            "text/html": [
              "\n",
              "  <div id=\"df-aedc2fc5-b8cd-4cc9-a528-8a69dcee9c50\" class=\"colab-df-container\">\n",
              "    <div>\n",
              "<style scoped>\n",
              "    .dataframe tbody tr th:only-of-type {\n",
              "        vertical-align: middle;\n",
              "    }\n",
              "\n",
              "    .dataframe tbody tr th {\n",
              "        vertical-align: top;\n",
              "    }\n",
              "\n",
              "    .dataframe thead th {\n",
              "        text-align: right;\n",
              "    }\n",
              "</style>\n",
              "<table border=\"1\" class=\"dataframe\">\n",
              "  <thead>\n",
              "    <tr style=\"text-align: right;\">\n",
              "      <th></th>\n",
              "      <th>Contents</th>\n",
              "      <th>label</th>\n",
              "      <th>ProcessedData</th>\n",
              "    </tr>\n",
              "  </thead>\n",
              "  <tbody>\n",
              "    <tr>\n",
              "      <th>0</th>\n",
              "      <td>［충북일보］ 긴 장마 코앞에서 칠보산을 오르내린다. 일곱 개 보석 같은 바위 봉우리...</td>\n",
              "      <td>1</td>\n",
              "      <td>［충북일보］ 긴 장마 코앞에서 칠보산을 오르내린다. 일곱 개 보석 같은 바위 봉우리...</td>\n",
              "    </tr>\n",
              "    <tr>\n",
              "      <th>1</th>\n",
              "      <td>성씨 조형물로 꾸민 국내 유일 ‘효’ 테마공원/드넓은 잔디광장 나무벤치 파라솔 갖춰...</td>\n",
              "      <td>1</td>\n",
              "      <td>성씨 조형물로 꾸민 국내 유일 ‘효’ 테마공원/드넓은 잔디광장 나무벤치 파라솔 갖춰...</td>\n",
              "    </tr>\n",
              "    <tr>\n",
              "      <th>2</th>\n",
              "      <td>매일같이 반복되는 일상이 지루한 날이 있다. 멀리 여행을 떠나지는 못하더라도 가까운...</td>\n",
              "      <td>1</td>\n",
              "      <td>매일같이 반복되는 일상이 지루한 날이 있다. 멀리 여행을 떠나지는 못하더라도 가까운...</td>\n",
              "    </tr>\n",
              "    <tr>\n",
              "      <th>3</th>\n",
              "      <td>■ 진행 : 윤보리 앵커\\n■ 출연 : 김성수 변호사\\n\\n* 아래 텍스트는 실제 ...</td>\n",
              "      <td>1</td>\n",
              "      <td>■ 진행 : 윤보리 앵커 ■ 출연 : 김성수 변호사  * 아래 텍스트는 실제 방송 ...</td>\n",
              "    </tr>\n",
              "    <tr>\n",
              "      <th>4</th>\n",
              "      <td>1조 6,000억 원대 피해를 낸 ‘라임자산운용(라임) 사태’ 주범으로 징역 30년...</td>\n",
              "      <td>1</td>\n",
              "      <td>1조 6,000억 원대 피해를 낸 ‘라임자산운용(라임) 사태’ 주범으로 징역 30년...</td>\n",
              "    </tr>\n",
              "  </tbody>\n",
              "</table>\n",
              "</div>\n",
              "    <div class=\"colab-df-buttons\">\n",
              "\n",
              "  <div class=\"colab-df-container\">\n",
              "    <button class=\"colab-df-convert\" onclick=\"convertToInteractive('df-aedc2fc5-b8cd-4cc9-a528-8a69dcee9c50')\"\n",
              "            title=\"Convert this dataframe to an interactive table.\"\n",
              "            style=\"display:none;\">\n",
              "\n",
              "  <svg xmlns=\"http://www.w3.org/2000/svg\" height=\"24px\" viewBox=\"0 -960 960 960\">\n",
              "    <path d=\"M120-120v-720h720v720H120Zm60-500h600v-160H180v160Zm220 220h160v-160H400v160Zm0 220h160v-160H400v160ZM180-400h160v-160H180v160Zm440 0h160v-160H620v160ZM180-180h160v-160H180v160Zm440 0h160v-160H620v160Z\"/>\n",
              "  </svg>\n",
              "    </button>\n",
              "\n",
              "  <style>\n",
              "    .colab-df-container {\n",
              "      display:flex;\n",
              "      gap: 12px;\n",
              "    }\n",
              "\n",
              "    .colab-df-convert {\n",
              "      background-color: #E8F0FE;\n",
              "      border: none;\n",
              "      border-radius: 50%;\n",
              "      cursor: pointer;\n",
              "      display: none;\n",
              "      fill: #1967D2;\n",
              "      height: 32px;\n",
              "      padding: 0 0 0 0;\n",
              "      width: 32px;\n",
              "    }\n",
              "\n",
              "    .colab-df-convert:hover {\n",
              "      background-color: #E2EBFA;\n",
              "      box-shadow: 0px 1px 2px rgba(60, 64, 67, 0.3), 0px 1px 3px 1px rgba(60, 64, 67, 0.15);\n",
              "      fill: #174EA6;\n",
              "    }\n",
              "\n",
              "    .colab-df-buttons div {\n",
              "      margin-bottom: 4px;\n",
              "    }\n",
              "\n",
              "    [theme=dark] .colab-df-convert {\n",
              "      background-color: #3B4455;\n",
              "      fill: #D2E3FC;\n",
              "    }\n",
              "\n",
              "    [theme=dark] .colab-df-convert:hover {\n",
              "      background-color: #434B5C;\n",
              "      box-shadow: 0px 1px 3px 1px rgba(0, 0, 0, 0.15);\n",
              "      filter: drop-shadow(0px 1px 2px rgba(0, 0, 0, 0.3));\n",
              "      fill: #FFFFFF;\n",
              "    }\n",
              "  </style>\n",
              "\n",
              "    <script>\n",
              "      const buttonEl =\n",
              "        document.querySelector('#df-aedc2fc5-b8cd-4cc9-a528-8a69dcee9c50 button.colab-df-convert');\n",
              "      buttonEl.style.display =\n",
              "        google.colab.kernel.accessAllowed ? 'block' : 'none';\n",
              "\n",
              "      async function convertToInteractive(key) {\n",
              "        const element = document.querySelector('#df-aedc2fc5-b8cd-4cc9-a528-8a69dcee9c50');\n",
              "        const dataTable =\n",
              "          await google.colab.kernel.invokeFunction('convertToInteractive',\n",
              "                                                    [key], {});\n",
              "        if (!dataTable) return;\n",
              "\n",
              "        const docLinkHtml = 'Like what you see? Visit the ' +\n",
              "          '<a target=\"_blank\" href=https://colab.research.google.com/notebooks/data_table.ipynb>data table notebook</a>'\n",
              "          + ' to learn more about interactive tables.';\n",
              "        element.innerHTML = '';\n",
              "        dataTable['output_type'] = 'display_data';\n",
              "        await google.colab.output.renderOutput(dataTable, element);\n",
              "        const docLink = document.createElement('div');\n",
              "        docLink.innerHTML = docLinkHtml;\n",
              "        element.appendChild(docLink);\n",
              "      }\n",
              "    </script>\n",
              "  </div>\n",
              "\n",
              "\n",
              "<div id=\"df-561e5099-d347-4aa4-8a40-de69cdccd62c\">\n",
              "  <button class=\"colab-df-quickchart\" onclick=\"quickchart('df-561e5099-d347-4aa4-8a40-de69cdccd62c')\"\n",
              "            title=\"Suggest charts.\"\n",
              "            style=\"display:none;\">\n",
              "\n",
              "<svg xmlns=\"http://www.w3.org/2000/svg\" height=\"24px\"viewBox=\"0 0 24 24\"\n",
              "     width=\"24px\">\n",
              "    <g>\n",
              "        <path d=\"M19 3H5c-1.1 0-2 .9-2 2v14c0 1.1.9 2 2 2h14c1.1 0 2-.9 2-2V5c0-1.1-.9-2-2-2zM9 17H7v-7h2v7zm4 0h-2V7h2v10zm4 0h-2v-4h2v4z\"/>\n",
              "    </g>\n",
              "</svg>\n",
              "  </button>\n",
              "\n",
              "<style>\n",
              "  .colab-df-quickchart {\n",
              "      --bg-color: #E8F0FE;\n",
              "      --fill-color: #1967D2;\n",
              "      --hover-bg-color: #E2EBFA;\n",
              "      --hover-fill-color: #174EA6;\n",
              "      --disabled-fill-color: #AAA;\n",
              "      --disabled-bg-color: #DDD;\n",
              "  }\n",
              "\n",
              "  [theme=dark] .colab-df-quickchart {\n",
              "      --bg-color: #3B4455;\n",
              "      --fill-color: #D2E3FC;\n",
              "      --hover-bg-color: #434B5C;\n",
              "      --hover-fill-color: #FFFFFF;\n",
              "      --disabled-bg-color: #3B4455;\n",
              "      --disabled-fill-color: #666;\n",
              "  }\n",
              "\n",
              "  .colab-df-quickchart {\n",
              "    background-color: var(--bg-color);\n",
              "    border: none;\n",
              "    border-radius: 50%;\n",
              "    cursor: pointer;\n",
              "    display: none;\n",
              "    fill: var(--fill-color);\n",
              "    height: 32px;\n",
              "    padding: 0;\n",
              "    width: 32px;\n",
              "  }\n",
              "\n",
              "  .colab-df-quickchart:hover {\n",
              "    background-color: var(--hover-bg-color);\n",
              "    box-shadow: 0 1px 2px rgba(60, 64, 67, 0.3), 0 1px 3px 1px rgba(60, 64, 67, 0.15);\n",
              "    fill: var(--button-hover-fill-color);\n",
              "  }\n",
              "\n",
              "  .colab-df-quickchart-complete:disabled,\n",
              "  .colab-df-quickchart-complete:disabled:hover {\n",
              "    background-color: var(--disabled-bg-color);\n",
              "    fill: var(--disabled-fill-color);\n",
              "    box-shadow: none;\n",
              "  }\n",
              "\n",
              "  .colab-df-spinner {\n",
              "    border: 2px solid var(--fill-color);\n",
              "    border-color: transparent;\n",
              "    border-bottom-color: var(--fill-color);\n",
              "    animation:\n",
              "      spin 1s steps(1) infinite;\n",
              "  }\n",
              "\n",
              "  @keyframes spin {\n",
              "    0% {\n",
              "      border-color: transparent;\n",
              "      border-bottom-color: var(--fill-color);\n",
              "      border-left-color: var(--fill-color);\n",
              "    }\n",
              "    20% {\n",
              "      border-color: transparent;\n",
              "      border-left-color: var(--fill-color);\n",
              "      border-top-color: var(--fill-color);\n",
              "    }\n",
              "    30% {\n",
              "      border-color: transparent;\n",
              "      border-left-color: var(--fill-color);\n",
              "      border-top-color: var(--fill-color);\n",
              "      border-right-color: var(--fill-color);\n",
              "    }\n",
              "    40% {\n",
              "      border-color: transparent;\n",
              "      border-right-color: var(--fill-color);\n",
              "      border-top-color: var(--fill-color);\n",
              "    }\n",
              "    60% {\n",
              "      border-color: transparent;\n",
              "      border-right-color: var(--fill-color);\n",
              "    }\n",
              "    80% {\n",
              "      border-color: transparent;\n",
              "      border-right-color: var(--fill-color);\n",
              "      border-bottom-color: var(--fill-color);\n",
              "    }\n",
              "    90% {\n",
              "      border-color: transparent;\n",
              "      border-bottom-color: var(--fill-color);\n",
              "    }\n",
              "  }\n",
              "</style>\n",
              "\n",
              "  <script>\n",
              "    async function quickchart(key) {\n",
              "      const quickchartButtonEl =\n",
              "        document.querySelector('#' + key + ' button');\n",
              "      quickchartButtonEl.disabled = true;  // To prevent multiple clicks.\n",
              "      quickchartButtonEl.classList.add('colab-df-spinner');\n",
              "      try {\n",
              "        const charts = await google.colab.kernel.invokeFunction(\n",
              "            'suggestCharts', [key], {});\n",
              "      } catch (error) {\n",
              "        console.error('Error during call to suggestCharts:', error);\n",
              "      }\n",
              "      quickchartButtonEl.classList.remove('colab-df-spinner');\n",
              "      quickchartButtonEl.classList.add('colab-df-quickchart-complete');\n",
              "    }\n",
              "    (() => {\n",
              "      let quickchartButtonEl =\n",
              "        document.querySelector('#df-561e5099-d347-4aa4-8a40-de69cdccd62c button');\n",
              "      quickchartButtonEl.style.display =\n",
              "        google.colab.kernel.accessAllowed ? 'block' : 'none';\n",
              "    })();\n",
              "  </script>\n",
              "</div>\n",
              "    </div>\n",
              "  </div>\n"
            ]
          },
          "metadata": {},
          "execution_count": 38
        }
      ]
    },
    {
      "cell_type": "code",
      "source": [
        "# 이모티콘 문자들, 사이트 URL주소, 의미없는 문자 지우기\n",
        "def cleansing(input_str):\n",
        "    output_str = re.sub(pattern='<[U]\\+[A-Z0-9]*>', repl=' ', string=input_str)\n",
        "    output_str = re.sub(pattern='http[s]?://(?:[a-zA-Z]|[0-9]|[_$\\-@\\.&+:/?=]|[!*,]|(?:%[0-9a-fA-F_][0-9a-fA-F_]))+', repl=' ', string=output_str)\n",
        "    output_str = re.sub(pattern='^[0-9]+$', repl=' ', string=output_str)\n",
        "\n",
        "    return output_str"
      ],
      "metadata": {
        "colab": {
          "base_uri": "https://localhost:8080/"
        },
        "outputId": "ffaabc70-6ad8-444e-82d4-0e7a6c32648e",
        "id": "HUfF7h5qStgV"
      },
      "execution_count": 39,
      "outputs": [
        {
          "output_type": "stream",
          "name": "stderr",
          "text": [
            "/usr/local/lib/python3.10/dist-packages/ipykernel/ipkernel.py:283: DeprecationWarning: `should_run_async` will not call `transform_cell` automatically in the future. Please pass the result to `transformed_cell` argument and any exception that happen during thetransform in `preprocessing_exc_tuple` in IPython 7.17 and above.\n",
            "  and should_run_async(code)\n",
            "<>:3: DeprecationWarning: invalid escape sequence '\\+'\n",
            "<>:4: DeprecationWarning: invalid escape sequence '\\-'\n",
            "<>:3: DeprecationWarning: invalid escape sequence '\\+'\n",
            "<>:4: DeprecationWarning: invalid escape sequence '\\-'\n",
            "<ipython-input-39-9680d50ef228>:3: DeprecationWarning: invalid escape sequence '\\+'\n",
            "  output_str = re.sub(pattern='<[U]\\+[A-Z0-9]*>', repl=' ', string=input_str)\n",
            "<ipython-input-39-9680d50ef228>:4: DeprecationWarning: invalid escape sequence '\\-'\n",
            "  output_str = re.sub(pattern='http[s]?://(?:[a-zA-Z]|[0-9]|[_$\\-@\\.&+:/?=]|[!*,]|(?:%[0-9a-fA-F_][0-9a-fA-F_]))+', repl=' ', string=output_str)\n"
          ]
        }
      ]
    },
    {
      "cell_type": "code",
      "source": [
        "All_data[PROCESSED_COL] = All_data[PROCESSED_COL].apply(cleansing)"
      ],
      "metadata": {
        "colab": {
          "base_uri": "https://localhost:8080/"
        },
        "outputId": "c0181e85-ef79-4ed8-df3d-00b5aa09aa38",
        "id": "2xskob68StgW"
      },
      "execution_count": 40,
      "outputs": [
        {
          "output_type": "stream",
          "name": "stderr",
          "text": [
            "/usr/local/lib/python3.10/dist-packages/ipykernel/ipkernel.py:283: DeprecationWarning: `should_run_async` will not call `transform_cell` automatically in the future. Please pass the result to `transformed_cell` argument and any exception that happen during thetransform in `preprocessing_exc_tuple` in IPython 7.17 and above.\n",
            "  and should_run_async(code)\n"
          ]
        }
      ]
    },
    {
      "cell_type": "code",
      "source": [
        " import nltk\n",
        " nltk.download('punkt')"
      ],
      "metadata": {
        "colab": {
          "base_uri": "https://localhost:8080/"
        },
        "outputId": "0173c38b-fa89-4d98-ee31-c5d5eb723218",
        "id": "tsBytSNaStgW"
      },
      "execution_count": 41,
      "outputs": [
        {
          "output_type": "stream",
          "name": "stderr",
          "text": [
            "/usr/local/lib/python3.10/dist-packages/ipykernel/ipkernel.py:283: DeprecationWarning: `should_run_async` will not call `transform_cell` automatically in the future. Please pass the result to `transformed_cell` argument and any exception that happen during thetransform in `preprocessing_exc_tuple` in IPython 7.17 and above.\n",
            "  and should_run_async(code)\n",
            "[nltk_data] Downloading package punkt to /root/nltk_data...\n",
            "[nltk_data]   Unzipping tokenizers/punkt.zip.\n"
          ]
        },
        {
          "output_type": "execute_result",
          "data": {
            "text/plain": [
              "True"
            ]
          },
          "metadata": {},
          "execution_count": 41
        }
      ]
    },
    {
      "cell_type": "code",
      "source": [
        " # 불용어 제거 단계\n",
        "from nltk.corpus import stopwords\n",
        "from nltk.tokenize import word_tokenize"
      ],
      "metadata": {
        "colab": {
          "base_uri": "https://localhost:8080/"
        },
        "outputId": "15032da5-d0f9-4cf0-cbcb-cf4725c8d81a",
        "id": "1d0zEGAVStgW"
      },
      "execution_count": 42,
      "outputs": [
        {
          "output_type": "stream",
          "name": "stderr",
          "text": [
            "/usr/local/lib/python3.10/dist-packages/ipykernel/ipkernel.py:283: DeprecationWarning: `should_run_async` will not call `transform_cell` automatically in the future. Please pass the result to `transformed_cell` argument and any exception that happen during thetransform in `preprocessing_exc_tuple` in IPython 7.17 and above.\n",
            "  and should_run_async(code)\n"
          ]
        }
      ]
    },
    {
      "cell_type": "code",
      "source": [
        "stopwords_df = pd.read_excel(\"/content/drive/MyDrive/졸업논문/AI Media/stopwords.xlsx\")"
      ],
      "metadata": {
        "colab": {
          "base_uri": "https://localhost:8080/"
        },
        "outputId": "7094b6ee-3f0c-4160-d2f9-588cf4e63bd4",
        "id": "jcaOxvC2StgW"
      },
      "execution_count": 43,
      "outputs": [
        {
          "output_type": "stream",
          "name": "stderr",
          "text": [
            "/usr/local/lib/python3.10/dist-packages/ipykernel/ipkernel.py:283: DeprecationWarning: `should_run_async` will not call `transform_cell` automatically in the future. Please pass the result to `transformed_cell` argument and any exception that happen during thetransform in `preprocessing_exc_tuple` in IPython 7.17 and above.\n",
            "  and should_run_async(code)\n"
          ]
        }
      ]
    },
    {
      "cell_type": "code",
      "source": [
        "print(stopwords_df)"
      ],
      "metadata": {
        "colab": {
          "base_uri": "https://localhost:8080/"
        },
        "outputId": "bf5feee4-4eb8-4cc3-ab20-d5ca873a5e9a",
        "id": "Wndh_x6LStgW"
      },
      "execution_count": 44,
      "outputs": [
        {
          "output_type": "stream",
          "name": "stdout",
          "text": [
            "     stopword\n",
            "0        가까스로\n",
            "1          가량\n",
            "2          가령\n",
            "3          가민\n",
            "4       가민커넥트\n",
            "...       ...\n",
            "1032       지난\n",
            "1033      지난해\n",
            "1034       다고\n",
            "1035       밝혔\n",
            "1036       위한\n",
            "\n",
            "[1037 rows x 1 columns]\n"
          ]
        },
        {
          "output_type": "stream",
          "name": "stderr",
          "text": [
            "/usr/local/lib/python3.10/dist-packages/ipykernel/ipkernel.py:283: DeprecationWarning: `should_run_async` will not call `transform_cell` automatically in the future. Please pass the result to `transformed_cell` argument and any exception that happen during thetransform in `preprocessing_exc_tuple` in IPython 7.17 and above.\n",
            "  and should_run_async(code)\n"
          ]
        }
      ]
    },
    {
      "cell_type": "code",
      "source": [
        "stop_words = set(stopwords_df['stopword'].str.lower())"
      ],
      "metadata": {
        "colab": {
          "base_uri": "https://localhost:8080/"
        },
        "outputId": "ba1c22c4-c96a-45a5-f2a3-045597cf815d",
        "id": "4GAW_39-StgW"
      },
      "execution_count": 45,
      "outputs": [
        {
          "output_type": "stream",
          "name": "stderr",
          "text": [
            "/usr/local/lib/python3.10/dist-packages/ipykernel/ipkernel.py:283: DeprecationWarning: `should_run_async` will not call `transform_cell` automatically in the future. Please pass the result to `transformed_cell` argument and any exception that happen during thetransform in `preprocessing_exc_tuple` in IPython 7.17 and above.\n",
            "  and should_run_async(code)\n"
          ]
        }
      ]
    },
    {
      "cell_type": "code",
      "source": [
        "# 불용어 제거 함수 정의\n",
        "def remove_stopwords(text):\n",
        "    word_tokens = word_tokenize(text)\n",
        "    filtered_text = [word for word in word_tokens if word.casefold() not in stop_words]\n",
        "    return ' '.join(filtered_text)"
      ],
      "metadata": {
        "colab": {
          "base_uri": "https://localhost:8080/"
        },
        "outputId": "72569f2e-6cbf-4eec-b8dc-0db4f9ccdc3e",
        "id": "ars5VAQTStgW"
      },
      "execution_count": 46,
      "outputs": [
        {
          "output_type": "stream",
          "name": "stderr",
          "text": [
            "/usr/local/lib/python3.10/dist-packages/ipykernel/ipkernel.py:283: DeprecationWarning: `should_run_async` will not call `transform_cell` automatically in the future. Please pass the result to `transformed_cell` argument and any exception that happen during thetransform in `preprocessing_exc_tuple` in IPython 7.17 and above.\n",
            "  and should_run_async(code)\n"
          ]
        }
      ]
    },
    {
      "cell_type": "code",
      "source": [
        "All_data[PROCESSED_COL] = All_data[PROCESSED_COL].apply(remove_stopwords)"
      ],
      "metadata": {
        "colab": {
          "base_uri": "https://localhost:8080/"
        },
        "outputId": "25fa8f9d-ba67-4d38-d8f9-6c925ec24649",
        "id": "GVzy1R_6StgX"
      },
      "execution_count": 47,
      "outputs": [
        {
          "output_type": "stream",
          "name": "stderr",
          "text": [
            "/usr/local/lib/python3.10/dist-packages/ipykernel/ipkernel.py:283: DeprecationWarning: `should_run_async` will not call `transform_cell` automatically in the future. Please pass the result to `transformed_cell` argument and any exception that happen during thetransform in `preprocessing_exc_tuple` in IPython 7.17 and above.\n",
            "  and should_run_async(code)\n"
          ]
        }
      ]
    },
    {
      "cell_type": "code",
      "source": [
        "All_data.to_csv('/content/drive/MyDrive/졸업논문/논리재 감정제_논문_/raw data_news/감정제/remove_stopwords.csv',index=False)"
      ],
      "metadata": {
        "colab": {
          "base_uri": "https://localhost:8080/"
        },
        "outputId": "506284c2-8b79-45c4-a37e-012c39770108",
        "id": "sszudKy2StgX"
      },
      "execution_count": 48,
      "outputs": [
        {
          "output_type": "stream",
          "name": "stderr",
          "text": [
            "/usr/local/lib/python3.10/dist-packages/ipykernel/ipkernel.py:283: DeprecationWarning: `should_run_async` will not call `transform_cell` automatically in the future. Please pass the result to `transformed_cell` argument and any exception that happen during thetransform in `preprocessing_exc_tuple` in IPython 7.17 and above.\n",
            "  and should_run_async(code)\n"
          ]
        }
      ]
    },
    {
      "cell_type": "markdown",
      "source": [
        "* 토근화 단계"
      ],
      "metadata": {
        "id": "qxDHmZRBStgX"
      }
    },
    {
      "cell_type": "code",
      "source": [
        "All_data2=pd.read_csv('/content/drive/MyDrive/졸업논문/논리재 감정제_논문_/raw data_news/감정제/remove_stopwords.csv') #제대로 저장된지 확인\n"
      ],
      "metadata": {
        "colab": {
          "base_uri": "https://localhost:8080/"
        },
        "outputId": "116aa57e-2e4c-45b6-bde6-8f3ba818e3f1",
        "id": "kWD_jlPbStgX"
      },
      "execution_count": 49,
      "outputs": [
        {
          "output_type": "stream",
          "name": "stderr",
          "text": [
            "/usr/local/lib/python3.10/dist-packages/ipykernel/ipkernel.py:283: DeprecationWarning: `should_run_async` will not call `transform_cell` automatically in the future. Please pass the result to `transformed_cell` argument and any exception that happen during thetransform in `preprocessing_exc_tuple` in IPython 7.17 and above.\n",
            "  and should_run_async(code)\n"
          ]
        }
      ]
    },
    {
      "cell_type": "code",
      "source": [
        "All_data2.head()"
      ],
      "metadata": {
        "colab": {
          "base_uri": "https://localhost:8080/",
          "height": 261
        },
        "outputId": "283880ac-ce63-48c3-c255-61df3e128784",
        "id": "Mwqpx85mStgX"
      },
      "execution_count": 50,
      "outputs": [
        {
          "output_type": "stream",
          "name": "stderr",
          "text": [
            "/usr/local/lib/python3.10/dist-packages/ipykernel/ipkernel.py:283: DeprecationWarning: `should_run_async` will not call `transform_cell` automatically in the future. Please pass the result to `transformed_cell` argument and any exception that happen during thetransform in `preprocessing_exc_tuple` in IPython 7.17 and above.\n",
            "  and should_run_async(code)\n"
          ]
        },
        {
          "output_type": "execute_result",
          "data": {
            "text/plain": [
              "                                            Contents  label  \\\n",
              "0  ［충북일보］ 긴 장마 코앞에서 칠보산을 오르내린다. 일곱 개 보석 같은 바위 봉우리...      1   \n",
              "1  성씨 조형물로 꾸민 국내 유일 ‘효’ 테마공원/드넓은 잔디광장 나무벤치 파라솔 갖춰...      1   \n",
              "2  매일같이 반복되는 일상이 지루한 날이 있다. 멀리 여행을 떠나지는 못하더라도 가까운...      1   \n",
              "3  ■ 진행 : 윤보리 앵커\\n■ 출연 : 김성수 변호사\\n\\n* 아래 텍스트는 실제 ...      1   \n",
              "4  1조 6,000억 원대 피해를 낸 ‘라임자산운용(라임) 사태’ 주범으로 징역 30년...      1   \n",
              "\n",
              "                                       ProcessedData  \n",
              "0  ［충북일보］ 긴 장마 코앞에서 칠보산을 오르내린다 . 개 보석 같은 바위 봉우리가 ...  \n",
              "1  성씨 조형물로 꾸민 국내 유일 ‘ 효 ’ 테마공원/드넓은 잔디광장 나무벤치 파라솔 ...  \n",
              "2  매일같이 반복되는 일상이 지루한 날이 . 멀리 여행을 떠나지는 못하더라도 가까운 도...  \n",
              "3  ■ 진행 : 윤보리 앵커 ■ 출연 : 김성수 변호사 * 텍스트는 방송 내용과 차이가...  \n",
              "4  1조 6,000억 원대 피해를 낸 ‘ 라임자산운용 ( 라임 ) 사태 ’ 주범으로 징...  "
            ],
            "text/html": [
              "\n",
              "  <div id=\"df-477f9ba3-00de-44bd-8a48-b6ce9e9a91e9\" class=\"colab-df-container\">\n",
              "    <div>\n",
              "<style scoped>\n",
              "    .dataframe tbody tr th:only-of-type {\n",
              "        vertical-align: middle;\n",
              "    }\n",
              "\n",
              "    .dataframe tbody tr th {\n",
              "        vertical-align: top;\n",
              "    }\n",
              "\n",
              "    .dataframe thead th {\n",
              "        text-align: right;\n",
              "    }\n",
              "</style>\n",
              "<table border=\"1\" class=\"dataframe\">\n",
              "  <thead>\n",
              "    <tr style=\"text-align: right;\">\n",
              "      <th></th>\n",
              "      <th>Contents</th>\n",
              "      <th>label</th>\n",
              "      <th>ProcessedData</th>\n",
              "    </tr>\n",
              "  </thead>\n",
              "  <tbody>\n",
              "    <tr>\n",
              "      <th>0</th>\n",
              "      <td>［충북일보］ 긴 장마 코앞에서 칠보산을 오르내린다. 일곱 개 보석 같은 바위 봉우리...</td>\n",
              "      <td>1</td>\n",
              "      <td>［충북일보］ 긴 장마 코앞에서 칠보산을 오르내린다 . 개 보석 같은 바위 봉우리가 ...</td>\n",
              "    </tr>\n",
              "    <tr>\n",
              "      <th>1</th>\n",
              "      <td>성씨 조형물로 꾸민 국내 유일 ‘효’ 테마공원/드넓은 잔디광장 나무벤치 파라솔 갖춰...</td>\n",
              "      <td>1</td>\n",
              "      <td>성씨 조형물로 꾸민 국내 유일 ‘ 효 ’ 테마공원/드넓은 잔디광장 나무벤치 파라솔 ...</td>\n",
              "    </tr>\n",
              "    <tr>\n",
              "      <th>2</th>\n",
              "      <td>매일같이 반복되는 일상이 지루한 날이 있다. 멀리 여행을 떠나지는 못하더라도 가까운...</td>\n",
              "      <td>1</td>\n",
              "      <td>매일같이 반복되는 일상이 지루한 날이 . 멀리 여행을 떠나지는 못하더라도 가까운 도...</td>\n",
              "    </tr>\n",
              "    <tr>\n",
              "      <th>3</th>\n",
              "      <td>■ 진행 : 윤보리 앵커\\n■ 출연 : 김성수 변호사\\n\\n* 아래 텍스트는 실제 ...</td>\n",
              "      <td>1</td>\n",
              "      <td>■ 진행 : 윤보리 앵커 ■ 출연 : 김성수 변호사 * 텍스트는 방송 내용과 차이가...</td>\n",
              "    </tr>\n",
              "    <tr>\n",
              "      <th>4</th>\n",
              "      <td>1조 6,000억 원대 피해를 낸 ‘라임자산운용(라임) 사태’ 주범으로 징역 30년...</td>\n",
              "      <td>1</td>\n",
              "      <td>1조 6,000억 원대 피해를 낸 ‘ 라임자산운용 ( 라임 ) 사태 ’ 주범으로 징...</td>\n",
              "    </tr>\n",
              "  </tbody>\n",
              "</table>\n",
              "</div>\n",
              "    <div class=\"colab-df-buttons\">\n",
              "\n",
              "  <div class=\"colab-df-container\">\n",
              "    <button class=\"colab-df-convert\" onclick=\"convertToInteractive('df-477f9ba3-00de-44bd-8a48-b6ce9e9a91e9')\"\n",
              "            title=\"Convert this dataframe to an interactive table.\"\n",
              "            style=\"display:none;\">\n",
              "\n",
              "  <svg xmlns=\"http://www.w3.org/2000/svg\" height=\"24px\" viewBox=\"0 -960 960 960\">\n",
              "    <path d=\"M120-120v-720h720v720H120Zm60-500h600v-160H180v160Zm220 220h160v-160H400v160Zm0 220h160v-160H400v160ZM180-400h160v-160H180v160Zm440 0h160v-160H620v160ZM180-180h160v-160H180v160Zm440 0h160v-160H620v160Z\"/>\n",
              "  </svg>\n",
              "    </button>\n",
              "\n",
              "  <style>\n",
              "    .colab-df-container {\n",
              "      display:flex;\n",
              "      gap: 12px;\n",
              "    }\n",
              "\n",
              "    .colab-df-convert {\n",
              "      background-color: #E8F0FE;\n",
              "      border: none;\n",
              "      border-radius: 50%;\n",
              "      cursor: pointer;\n",
              "      display: none;\n",
              "      fill: #1967D2;\n",
              "      height: 32px;\n",
              "      padding: 0 0 0 0;\n",
              "      width: 32px;\n",
              "    }\n",
              "\n",
              "    .colab-df-convert:hover {\n",
              "      background-color: #E2EBFA;\n",
              "      box-shadow: 0px 1px 2px rgba(60, 64, 67, 0.3), 0px 1px 3px 1px rgba(60, 64, 67, 0.15);\n",
              "      fill: #174EA6;\n",
              "    }\n",
              "\n",
              "    .colab-df-buttons div {\n",
              "      margin-bottom: 4px;\n",
              "    }\n",
              "\n",
              "    [theme=dark] .colab-df-convert {\n",
              "      background-color: #3B4455;\n",
              "      fill: #D2E3FC;\n",
              "    }\n",
              "\n",
              "    [theme=dark] .colab-df-convert:hover {\n",
              "      background-color: #434B5C;\n",
              "      box-shadow: 0px 1px 3px 1px rgba(0, 0, 0, 0.15);\n",
              "      filter: drop-shadow(0px 1px 2px rgba(0, 0, 0, 0.3));\n",
              "      fill: #FFFFFF;\n",
              "    }\n",
              "  </style>\n",
              "\n",
              "    <script>\n",
              "      const buttonEl =\n",
              "        document.querySelector('#df-477f9ba3-00de-44bd-8a48-b6ce9e9a91e9 button.colab-df-convert');\n",
              "      buttonEl.style.display =\n",
              "        google.colab.kernel.accessAllowed ? 'block' : 'none';\n",
              "\n",
              "      async function convertToInteractive(key) {\n",
              "        const element = document.querySelector('#df-477f9ba3-00de-44bd-8a48-b6ce9e9a91e9');\n",
              "        const dataTable =\n",
              "          await google.colab.kernel.invokeFunction('convertToInteractive',\n",
              "                                                    [key], {});\n",
              "        if (!dataTable) return;\n",
              "\n",
              "        const docLinkHtml = 'Like what you see? Visit the ' +\n",
              "          '<a target=\"_blank\" href=https://colab.research.google.com/notebooks/data_table.ipynb>data table notebook</a>'\n",
              "          + ' to learn more about interactive tables.';\n",
              "        element.innerHTML = '';\n",
              "        dataTable['output_type'] = 'display_data';\n",
              "        await google.colab.output.renderOutput(dataTable, element);\n",
              "        const docLink = document.createElement('div');\n",
              "        docLink.innerHTML = docLinkHtml;\n",
              "        element.appendChild(docLink);\n",
              "      }\n",
              "    </script>\n",
              "  </div>\n",
              "\n",
              "\n",
              "<div id=\"df-789f3c35-e718-4273-b3bb-616d39225bab\">\n",
              "  <button class=\"colab-df-quickchart\" onclick=\"quickchart('df-789f3c35-e718-4273-b3bb-616d39225bab')\"\n",
              "            title=\"Suggest charts.\"\n",
              "            style=\"display:none;\">\n",
              "\n",
              "<svg xmlns=\"http://www.w3.org/2000/svg\" height=\"24px\"viewBox=\"0 0 24 24\"\n",
              "     width=\"24px\">\n",
              "    <g>\n",
              "        <path d=\"M19 3H5c-1.1 0-2 .9-2 2v14c0 1.1.9 2 2 2h14c1.1 0 2-.9 2-2V5c0-1.1-.9-2-2-2zM9 17H7v-7h2v7zm4 0h-2V7h2v10zm4 0h-2v-4h2v4z\"/>\n",
              "    </g>\n",
              "</svg>\n",
              "  </button>\n",
              "\n",
              "<style>\n",
              "  .colab-df-quickchart {\n",
              "      --bg-color: #E8F0FE;\n",
              "      --fill-color: #1967D2;\n",
              "      --hover-bg-color: #E2EBFA;\n",
              "      --hover-fill-color: #174EA6;\n",
              "      --disabled-fill-color: #AAA;\n",
              "      --disabled-bg-color: #DDD;\n",
              "  }\n",
              "\n",
              "  [theme=dark] .colab-df-quickchart {\n",
              "      --bg-color: #3B4455;\n",
              "      --fill-color: #D2E3FC;\n",
              "      --hover-bg-color: #434B5C;\n",
              "      --hover-fill-color: #FFFFFF;\n",
              "      --disabled-bg-color: #3B4455;\n",
              "      --disabled-fill-color: #666;\n",
              "  }\n",
              "\n",
              "  .colab-df-quickchart {\n",
              "    background-color: var(--bg-color);\n",
              "    border: none;\n",
              "    border-radius: 50%;\n",
              "    cursor: pointer;\n",
              "    display: none;\n",
              "    fill: var(--fill-color);\n",
              "    height: 32px;\n",
              "    padding: 0;\n",
              "    width: 32px;\n",
              "  }\n",
              "\n",
              "  .colab-df-quickchart:hover {\n",
              "    background-color: var(--hover-bg-color);\n",
              "    box-shadow: 0 1px 2px rgba(60, 64, 67, 0.3), 0 1px 3px 1px rgba(60, 64, 67, 0.15);\n",
              "    fill: var(--button-hover-fill-color);\n",
              "  }\n",
              "\n",
              "  .colab-df-quickchart-complete:disabled,\n",
              "  .colab-df-quickchart-complete:disabled:hover {\n",
              "    background-color: var(--disabled-bg-color);\n",
              "    fill: var(--disabled-fill-color);\n",
              "    box-shadow: none;\n",
              "  }\n",
              "\n",
              "  .colab-df-spinner {\n",
              "    border: 2px solid var(--fill-color);\n",
              "    border-color: transparent;\n",
              "    border-bottom-color: var(--fill-color);\n",
              "    animation:\n",
              "      spin 1s steps(1) infinite;\n",
              "  }\n",
              "\n",
              "  @keyframes spin {\n",
              "    0% {\n",
              "      border-color: transparent;\n",
              "      border-bottom-color: var(--fill-color);\n",
              "      border-left-color: var(--fill-color);\n",
              "    }\n",
              "    20% {\n",
              "      border-color: transparent;\n",
              "      border-left-color: var(--fill-color);\n",
              "      border-top-color: var(--fill-color);\n",
              "    }\n",
              "    30% {\n",
              "      border-color: transparent;\n",
              "      border-left-color: var(--fill-color);\n",
              "      border-top-color: var(--fill-color);\n",
              "      border-right-color: var(--fill-color);\n",
              "    }\n",
              "    40% {\n",
              "      border-color: transparent;\n",
              "      border-right-color: var(--fill-color);\n",
              "      border-top-color: var(--fill-color);\n",
              "    }\n",
              "    60% {\n",
              "      border-color: transparent;\n",
              "      border-right-color: var(--fill-color);\n",
              "    }\n",
              "    80% {\n",
              "      border-color: transparent;\n",
              "      border-right-color: var(--fill-color);\n",
              "      border-bottom-color: var(--fill-color);\n",
              "    }\n",
              "    90% {\n",
              "      border-color: transparent;\n",
              "      border-bottom-color: var(--fill-color);\n",
              "    }\n",
              "  }\n",
              "</style>\n",
              "\n",
              "  <script>\n",
              "    async function quickchart(key) {\n",
              "      const quickchartButtonEl =\n",
              "        document.querySelector('#' + key + ' button');\n",
              "      quickchartButtonEl.disabled = true;  // To prevent multiple clicks.\n",
              "      quickchartButtonEl.classList.add('colab-df-spinner');\n",
              "      try {\n",
              "        const charts = await google.colab.kernel.invokeFunction(\n",
              "            'suggestCharts', [key], {});\n",
              "      } catch (error) {\n",
              "        console.error('Error during call to suggestCharts:', error);\n",
              "      }\n",
              "      quickchartButtonEl.classList.remove('colab-df-spinner');\n",
              "      quickchartButtonEl.classList.add('colab-df-quickchart-complete');\n",
              "    }\n",
              "    (() => {\n",
              "      let quickchartButtonEl =\n",
              "        document.querySelector('#df-789f3c35-e718-4273-b3bb-616d39225bab button');\n",
              "      quickchartButtonEl.style.display =\n",
              "        google.colab.kernel.accessAllowed ? 'block' : 'none';\n",
              "    })();\n",
              "  </script>\n",
              "</div>\n",
              "    </div>\n",
              "  </div>\n"
            ]
          },
          "metadata": {},
          "execution_count": 50
        }
      ]
    },
    {
      "cell_type": "code",
      "source": [
        "!pip install konlpy\n",
        "!pip install mecab-python\n",
        "!bash <(curl -s https://raw.githubusercontent.com/konlpy/konlpy/master/scripts/mecab.sh)\n",
        "from konlpy.tag import Mecab\n",
        "mecab = Mecab()"
      ],
      "metadata": {
        "id": "5I5EMb37StgX"
      },
      "execution_count": null,
      "outputs": []
    },
    {
      "cell_type": "code",
      "source": [
        "# 토큰화_명사만 남기기 (*mecab.morphs를 사용해 나온 결과는 별로였어서 아래처름 mecab.nouns로 명사만 추출)\n",
        "def tokenize_and_filter(text):\n",
        "    tokens = mecab.nouns(text)  # 텍스트에서 명사만 추출합니다\n",
        "    tokens = [token for token in tokens if len(token) > 1]  # 길이가 1보다 큰 토큰만 선택합니다\n",
        "    return tokens"
      ],
      "metadata": {
        "colab": {
          "base_uri": "https://localhost:8080/"
        },
        "outputId": "587bc92b-f1e3-4b2b-a106-92ca5c33c3e8",
        "id": "ll5ziexjStgX"
      },
      "execution_count": 52,
      "outputs": [
        {
          "output_type": "stream",
          "name": "stderr",
          "text": [
            "/usr/local/lib/python3.10/dist-packages/ipykernel/ipkernel.py:283: DeprecationWarning: `should_run_async` will not call `transform_cell` automatically in the future. Please pass the result to `transformed_cell` argument and any exception that happen during thetransform in `preprocessing_exc_tuple` in IPython 7.17 and above.\n",
            "  and should_run_async(code)\n"
          ]
        }
      ]
    },
    {
      "cell_type": "code",
      "source": [
        "for i in tqdm(range(len(All_data2[TARGET_COL]))):\n",
        "    # List of strings to single string\n",
        "    if isinstance(All_data2[PROCESSED_COL][i], list):\n",
        "        input_string = ' '.join(All_data2[PROCESSED_COL][i])\n",
        "    else:\n",
        "        input_string = All_data2[PROCESSED_COL][i]\n",
        "    All_data2[PROCESSED_COL][i] = tokenize_and_filter(input_string)"
      ],
      "metadata": {
        "colab": {
          "base_uri": "https://localhost:8080/"
        },
        "outputId": "1a5f93fb-f75d-45b7-8a8f-8474668e6233",
        "id": "rL1H4vw1StgY"
      },
      "execution_count": 53,
      "outputs": [
        {
          "output_type": "stream",
          "name": "stderr",
          "text": [
            "/usr/local/lib/python3.10/dist-packages/ipykernel/ipkernel.py:283: DeprecationWarning: `should_run_async` will not call `transform_cell` automatically in the future. Please pass the result to `transformed_cell` argument and any exception that happen during thetransform in `preprocessing_exc_tuple` in IPython 7.17 and above.\n",
            "  and should_run_async(code)\n",
            "  0%|          | 0/200000 [00:00<?, ?it/s]<ipython-input-53-6ee6efde4166>:7: SettingWithCopyWarning: \n",
            "A value is trying to be set on a copy of a slice from a DataFrame\n",
            "\n",
            "See the caveats in the documentation: https://pandas.pydata.org/pandas-docs/stable/user_guide/indexing.html#returning-a-view-versus-a-copy\n",
            "  All_data2[PROCESSED_COL][i] = tokenize_and_filter(input_string)\n",
            "100%|██████████| 200000/200000 [16:00<00:00, 208.30it/s]\n"
          ]
        }
      ]
    },
    {
      "cell_type": "code",
      "source": [
        "All_data2.head()"
      ],
      "metadata": {
        "colab": {
          "base_uri": "https://localhost:8080/",
          "height": 261
        },
        "outputId": "028e84dc-8b82-464f-f9fe-da148212e912",
        "id": "D53iHGX4StgY"
      },
      "execution_count": 54,
      "outputs": [
        {
          "output_type": "stream",
          "name": "stderr",
          "text": [
            "/usr/local/lib/python3.10/dist-packages/ipykernel/ipkernel.py:283: DeprecationWarning: `should_run_async` will not call `transform_cell` automatically in the future. Please pass the result to `transformed_cell` argument and any exception that happen during thetransform in `preprocessing_exc_tuple` in IPython 7.17 and above.\n",
            "  and should_run_async(code)\n"
          ]
        },
        {
          "output_type": "execute_result",
          "data": {
            "text/plain": [
              "                                            Contents  label  \\\n",
              "0  ［충북일보］ 긴 장마 코앞에서 칠보산을 오르내린다. 일곱 개 보석 같은 바위 봉우리...      1   \n",
              "1  성씨 조형물로 꾸민 국내 유일 ‘효’ 테마공원/드넓은 잔디광장 나무벤치 파라솔 갖춰...      1   \n",
              "2  매일같이 반복되는 일상이 지루한 날이 있다. 멀리 여행을 떠나지는 못하더라도 가까운...      1   \n",
              "3  ■ 진행 : 윤보리 앵커\\n■ 출연 : 김성수 변호사\\n\\n* 아래 텍스트는 실제 ...      1   \n",
              "4  1조 6,000억 원대 피해를 낸 ‘라임자산운용(라임) 사태’ 주범으로 징역 30년...      1   \n",
              "\n",
              "                                       ProcessedData  \n",
              "0  [충북, 일보, 장마, 보산, 보석, 바위, 우리, 파도, 산안개, 물결, 계곡, ...  \n",
              "1  [성씨, 조형물, 국내, 유일, 테마, 공원, 잔디, 광장, 나무, 벤치, 파라솔,...  \n",
              "2  [반복, 일상, 여행, 도심, 유럽, 방문, 송파구, 석촌, 호수, 보로, 유럽, ...  \n",
              "3  [진행, 윤보리, 앵커, 출연, 김성수, 변호사, 텍스트, 방송, 내용, 차이, 정...  \n",
              "4  [피해, 라임, 자산운용, 라임, 사태, 주범, 징역, 선고, 수감, 김봉현, 스타...  "
            ],
            "text/html": [
              "\n",
              "  <div id=\"df-9fa60c74-d889-480f-b369-fab008afb620\" class=\"colab-df-container\">\n",
              "    <div>\n",
              "<style scoped>\n",
              "    .dataframe tbody tr th:only-of-type {\n",
              "        vertical-align: middle;\n",
              "    }\n",
              "\n",
              "    .dataframe tbody tr th {\n",
              "        vertical-align: top;\n",
              "    }\n",
              "\n",
              "    .dataframe thead th {\n",
              "        text-align: right;\n",
              "    }\n",
              "</style>\n",
              "<table border=\"1\" class=\"dataframe\">\n",
              "  <thead>\n",
              "    <tr style=\"text-align: right;\">\n",
              "      <th></th>\n",
              "      <th>Contents</th>\n",
              "      <th>label</th>\n",
              "      <th>ProcessedData</th>\n",
              "    </tr>\n",
              "  </thead>\n",
              "  <tbody>\n",
              "    <tr>\n",
              "      <th>0</th>\n",
              "      <td>［충북일보］ 긴 장마 코앞에서 칠보산을 오르내린다. 일곱 개 보석 같은 바위 봉우리...</td>\n",
              "      <td>1</td>\n",
              "      <td>[충북, 일보, 장마, 보산, 보석, 바위, 우리, 파도, 산안개, 물결, 계곡, ...</td>\n",
              "    </tr>\n",
              "    <tr>\n",
              "      <th>1</th>\n",
              "      <td>성씨 조형물로 꾸민 국내 유일 ‘효’ 테마공원/드넓은 잔디광장 나무벤치 파라솔 갖춰...</td>\n",
              "      <td>1</td>\n",
              "      <td>[성씨, 조형물, 국내, 유일, 테마, 공원, 잔디, 광장, 나무, 벤치, 파라솔,...</td>\n",
              "    </tr>\n",
              "    <tr>\n",
              "      <th>2</th>\n",
              "      <td>매일같이 반복되는 일상이 지루한 날이 있다. 멀리 여행을 떠나지는 못하더라도 가까운...</td>\n",
              "      <td>1</td>\n",
              "      <td>[반복, 일상, 여행, 도심, 유럽, 방문, 송파구, 석촌, 호수, 보로, 유럽, ...</td>\n",
              "    </tr>\n",
              "    <tr>\n",
              "      <th>3</th>\n",
              "      <td>■ 진행 : 윤보리 앵커\\n■ 출연 : 김성수 변호사\\n\\n* 아래 텍스트는 실제 ...</td>\n",
              "      <td>1</td>\n",
              "      <td>[진행, 윤보리, 앵커, 출연, 김성수, 변호사, 텍스트, 방송, 내용, 차이, 정...</td>\n",
              "    </tr>\n",
              "    <tr>\n",
              "      <th>4</th>\n",
              "      <td>1조 6,000억 원대 피해를 낸 ‘라임자산운용(라임) 사태’ 주범으로 징역 30년...</td>\n",
              "      <td>1</td>\n",
              "      <td>[피해, 라임, 자산운용, 라임, 사태, 주범, 징역, 선고, 수감, 김봉현, 스타...</td>\n",
              "    </tr>\n",
              "  </tbody>\n",
              "</table>\n",
              "</div>\n",
              "    <div class=\"colab-df-buttons\">\n",
              "\n",
              "  <div class=\"colab-df-container\">\n",
              "    <button class=\"colab-df-convert\" onclick=\"convertToInteractive('df-9fa60c74-d889-480f-b369-fab008afb620')\"\n",
              "            title=\"Convert this dataframe to an interactive table.\"\n",
              "            style=\"display:none;\">\n",
              "\n",
              "  <svg xmlns=\"http://www.w3.org/2000/svg\" height=\"24px\" viewBox=\"0 -960 960 960\">\n",
              "    <path d=\"M120-120v-720h720v720H120Zm60-500h600v-160H180v160Zm220 220h160v-160H400v160Zm0 220h160v-160H400v160ZM180-400h160v-160H180v160Zm440 0h160v-160H620v160ZM180-180h160v-160H180v160Zm440 0h160v-160H620v160Z\"/>\n",
              "  </svg>\n",
              "    </button>\n",
              "\n",
              "  <style>\n",
              "    .colab-df-container {\n",
              "      display:flex;\n",
              "      gap: 12px;\n",
              "    }\n",
              "\n",
              "    .colab-df-convert {\n",
              "      background-color: #E8F0FE;\n",
              "      border: none;\n",
              "      border-radius: 50%;\n",
              "      cursor: pointer;\n",
              "      display: none;\n",
              "      fill: #1967D2;\n",
              "      height: 32px;\n",
              "      padding: 0 0 0 0;\n",
              "      width: 32px;\n",
              "    }\n",
              "\n",
              "    .colab-df-convert:hover {\n",
              "      background-color: #E2EBFA;\n",
              "      box-shadow: 0px 1px 2px rgba(60, 64, 67, 0.3), 0px 1px 3px 1px rgba(60, 64, 67, 0.15);\n",
              "      fill: #174EA6;\n",
              "    }\n",
              "\n",
              "    .colab-df-buttons div {\n",
              "      margin-bottom: 4px;\n",
              "    }\n",
              "\n",
              "    [theme=dark] .colab-df-convert {\n",
              "      background-color: #3B4455;\n",
              "      fill: #D2E3FC;\n",
              "    }\n",
              "\n",
              "    [theme=dark] .colab-df-convert:hover {\n",
              "      background-color: #434B5C;\n",
              "      box-shadow: 0px 1px 3px 1px rgba(0, 0, 0, 0.15);\n",
              "      filter: drop-shadow(0px 1px 2px rgba(0, 0, 0, 0.3));\n",
              "      fill: #FFFFFF;\n",
              "    }\n",
              "  </style>\n",
              "\n",
              "    <script>\n",
              "      const buttonEl =\n",
              "        document.querySelector('#df-9fa60c74-d889-480f-b369-fab008afb620 button.colab-df-convert');\n",
              "      buttonEl.style.display =\n",
              "        google.colab.kernel.accessAllowed ? 'block' : 'none';\n",
              "\n",
              "      async function convertToInteractive(key) {\n",
              "        const element = document.querySelector('#df-9fa60c74-d889-480f-b369-fab008afb620');\n",
              "        const dataTable =\n",
              "          await google.colab.kernel.invokeFunction('convertToInteractive',\n",
              "                                                    [key], {});\n",
              "        if (!dataTable) return;\n",
              "\n",
              "        const docLinkHtml = 'Like what you see? Visit the ' +\n",
              "          '<a target=\"_blank\" href=https://colab.research.google.com/notebooks/data_table.ipynb>data table notebook</a>'\n",
              "          + ' to learn more about interactive tables.';\n",
              "        element.innerHTML = '';\n",
              "        dataTable['output_type'] = 'display_data';\n",
              "        await google.colab.output.renderOutput(dataTable, element);\n",
              "        const docLink = document.createElement('div');\n",
              "        docLink.innerHTML = docLinkHtml;\n",
              "        element.appendChild(docLink);\n",
              "      }\n",
              "    </script>\n",
              "  </div>\n",
              "\n",
              "\n",
              "<div id=\"df-00be72f4-9934-445d-b6fc-3f962522e3d6\">\n",
              "  <button class=\"colab-df-quickchart\" onclick=\"quickchart('df-00be72f4-9934-445d-b6fc-3f962522e3d6')\"\n",
              "            title=\"Suggest charts.\"\n",
              "            style=\"display:none;\">\n",
              "\n",
              "<svg xmlns=\"http://www.w3.org/2000/svg\" height=\"24px\"viewBox=\"0 0 24 24\"\n",
              "     width=\"24px\">\n",
              "    <g>\n",
              "        <path d=\"M19 3H5c-1.1 0-2 .9-2 2v14c0 1.1.9 2 2 2h14c1.1 0 2-.9 2-2V5c0-1.1-.9-2-2-2zM9 17H7v-7h2v7zm4 0h-2V7h2v10zm4 0h-2v-4h2v4z\"/>\n",
              "    </g>\n",
              "</svg>\n",
              "  </button>\n",
              "\n",
              "<style>\n",
              "  .colab-df-quickchart {\n",
              "      --bg-color: #E8F0FE;\n",
              "      --fill-color: #1967D2;\n",
              "      --hover-bg-color: #E2EBFA;\n",
              "      --hover-fill-color: #174EA6;\n",
              "      --disabled-fill-color: #AAA;\n",
              "      --disabled-bg-color: #DDD;\n",
              "  }\n",
              "\n",
              "  [theme=dark] .colab-df-quickchart {\n",
              "      --bg-color: #3B4455;\n",
              "      --fill-color: #D2E3FC;\n",
              "      --hover-bg-color: #434B5C;\n",
              "      --hover-fill-color: #FFFFFF;\n",
              "      --disabled-bg-color: #3B4455;\n",
              "      --disabled-fill-color: #666;\n",
              "  }\n",
              "\n",
              "  .colab-df-quickchart {\n",
              "    background-color: var(--bg-color);\n",
              "    border: none;\n",
              "    border-radius: 50%;\n",
              "    cursor: pointer;\n",
              "    display: none;\n",
              "    fill: var(--fill-color);\n",
              "    height: 32px;\n",
              "    padding: 0;\n",
              "    width: 32px;\n",
              "  }\n",
              "\n",
              "  .colab-df-quickchart:hover {\n",
              "    background-color: var(--hover-bg-color);\n",
              "    box-shadow: 0 1px 2px rgba(60, 64, 67, 0.3), 0 1px 3px 1px rgba(60, 64, 67, 0.15);\n",
              "    fill: var(--button-hover-fill-color);\n",
              "  }\n",
              "\n",
              "  .colab-df-quickchart-complete:disabled,\n",
              "  .colab-df-quickchart-complete:disabled:hover {\n",
              "    background-color: var(--disabled-bg-color);\n",
              "    fill: var(--disabled-fill-color);\n",
              "    box-shadow: none;\n",
              "  }\n",
              "\n",
              "  .colab-df-spinner {\n",
              "    border: 2px solid var(--fill-color);\n",
              "    border-color: transparent;\n",
              "    border-bottom-color: var(--fill-color);\n",
              "    animation:\n",
              "      spin 1s steps(1) infinite;\n",
              "  }\n",
              "\n",
              "  @keyframes spin {\n",
              "    0% {\n",
              "      border-color: transparent;\n",
              "      border-bottom-color: var(--fill-color);\n",
              "      border-left-color: var(--fill-color);\n",
              "    }\n",
              "    20% {\n",
              "      border-color: transparent;\n",
              "      border-left-color: var(--fill-color);\n",
              "      border-top-color: var(--fill-color);\n",
              "    }\n",
              "    30% {\n",
              "      border-color: transparent;\n",
              "      border-left-color: var(--fill-color);\n",
              "      border-top-color: var(--fill-color);\n",
              "      border-right-color: var(--fill-color);\n",
              "    }\n",
              "    40% {\n",
              "      border-color: transparent;\n",
              "      border-right-color: var(--fill-color);\n",
              "      border-top-color: var(--fill-color);\n",
              "    }\n",
              "    60% {\n",
              "      border-color: transparent;\n",
              "      border-right-color: var(--fill-color);\n",
              "    }\n",
              "    80% {\n",
              "      border-color: transparent;\n",
              "      border-right-color: var(--fill-color);\n",
              "      border-bottom-color: var(--fill-color);\n",
              "    }\n",
              "    90% {\n",
              "      border-color: transparent;\n",
              "      border-bottom-color: var(--fill-color);\n",
              "    }\n",
              "  }\n",
              "</style>\n",
              "\n",
              "  <script>\n",
              "    async function quickchart(key) {\n",
              "      const quickchartButtonEl =\n",
              "        document.querySelector('#' + key + ' button');\n",
              "      quickchartButtonEl.disabled = true;  // To prevent multiple clicks.\n",
              "      quickchartButtonEl.classList.add('colab-df-spinner');\n",
              "      try {\n",
              "        const charts = await google.colab.kernel.invokeFunction(\n",
              "            'suggestCharts', [key], {});\n",
              "      } catch (error) {\n",
              "        console.error('Error during call to suggestCharts:', error);\n",
              "      }\n",
              "      quickchartButtonEl.classList.remove('colab-df-spinner');\n",
              "      quickchartButtonEl.classList.add('colab-df-quickchart-complete');\n",
              "    }\n",
              "    (() => {\n",
              "      let quickchartButtonEl =\n",
              "        document.querySelector('#df-00be72f4-9934-445d-b6fc-3f962522e3d6 button');\n",
              "      quickchartButtonEl.style.display =\n",
              "        google.colab.kernel.accessAllowed ? 'block' : 'none';\n",
              "    })();\n",
              "  </script>\n",
              "</div>\n",
              "    </div>\n",
              "  </div>\n"
            ]
          },
          "metadata": {},
          "execution_count": 54
        }
      ]
    },
    {
      "cell_type": "code",
      "source": [
        "All_data2.to_csv('/content/drive/MyDrive/졸업논문/논리재 감정제_논문_/raw data_news/감정제/token_words.csv',index=False)"
      ],
      "metadata": {
        "colab": {
          "base_uri": "https://localhost:8080/"
        },
        "outputId": "5f4943de-26eb-4672-9f7b-5c76105864e8",
        "id": "sVgahHT8StgY"
      },
      "execution_count": 55,
      "outputs": [
        {
          "output_type": "stream",
          "name": "stderr",
          "text": [
            "/usr/local/lib/python3.10/dist-packages/ipykernel/ipkernel.py:283: DeprecationWarning: `should_run_async` will not call `transform_cell` automatically in the future. Please pass the result to `transformed_cell` argument and any exception that happen during thetransform in `preprocessing_exc_tuple` in IPython 7.17 and above.\n",
            "  and should_run_async(code)\n"
          ]
        }
      ]
    },
    {
      "cell_type": "code",
      "source": [
        "token_words=pd.read_csv('/content/drive/MyDrive/졸업논문/논리재 감정제_논문_/raw data_news/감정제/token_words.csv')"
      ],
      "metadata": {
        "colab": {
          "base_uri": "https://localhost:8080/"
        },
        "outputId": "819bcf97-0ae8-46ea-8e4f-159ae2a97935",
        "id": "vxwqbqJ1StgY"
      },
      "execution_count": 56,
      "outputs": [
        {
          "output_type": "stream",
          "name": "stderr",
          "text": [
            "/usr/local/lib/python3.10/dist-packages/ipykernel/ipkernel.py:283: DeprecationWarning: `should_run_async` will not call `transform_cell` automatically in the future. Please pass the result to `transformed_cell` argument and any exception that happen during thetransform in `preprocessing_exc_tuple` in IPython 7.17 and above.\n",
            "  and should_run_async(code)\n"
          ]
        }
      ]
    },
    {
      "cell_type": "code",
      "source": [
        "token_words.head()"
      ],
      "metadata": {
        "colab": {
          "base_uri": "https://localhost:8080/",
          "height": 261
        },
        "outputId": "d191cdbd-c5a5-40fa-bf19-0e3094a2fe25",
        "id": "ZqlGuMcEStgY"
      },
      "execution_count": 57,
      "outputs": [
        {
          "output_type": "stream",
          "name": "stderr",
          "text": [
            "/usr/local/lib/python3.10/dist-packages/ipykernel/ipkernel.py:283: DeprecationWarning: `should_run_async` will not call `transform_cell` automatically in the future. Please pass the result to `transformed_cell` argument and any exception that happen during thetransform in `preprocessing_exc_tuple` in IPython 7.17 and above.\n",
            "  and should_run_async(code)\n"
          ]
        },
        {
          "output_type": "execute_result",
          "data": {
            "text/plain": [
              "                                            Contents  label  \\\n",
              "0  ［충북일보］ 긴 장마 코앞에서 칠보산을 오르내린다. 일곱 개 보석 같은 바위 봉우리...      1   \n",
              "1  성씨 조형물로 꾸민 국내 유일 ‘효’ 테마공원/드넓은 잔디광장 나무벤치 파라솔 갖춰...      1   \n",
              "2  매일같이 반복되는 일상이 지루한 날이 있다. 멀리 여행을 떠나지는 못하더라도 가까운...      1   \n",
              "3  ■ 진행 : 윤보리 앵커\\n■ 출연 : 김성수 변호사\\n\\n* 아래 텍스트는 실제 ...      1   \n",
              "4  1조 6,000억 원대 피해를 낸 ‘라임자산운용(라임) 사태’ 주범으로 징역 30년...      1   \n",
              "\n",
              "                                       ProcessedData  \n",
              "0  ['충북', '일보', '장마', '보산', '보석', '바위', '우리', '파도...  \n",
              "1  ['성씨', '조형물', '국내', '유일', '테마', '공원', '잔디', '광...  \n",
              "2  ['반복', '일상', '여행', '도심', '유럽', '방문', '송파구', '석...  \n",
              "3  ['진행', '윤보리', '앵커', '출연', '김성수', '변호사', '텍스트',...  \n",
              "4  ['피해', '라임', '자산운용', '라임', '사태', '주범', '징역', '...  "
            ],
            "text/html": [
              "\n",
              "  <div id=\"df-c9a48d3d-3de1-4130-aef9-9da4cfe2683d\" class=\"colab-df-container\">\n",
              "    <div>\n",
              "<style scoped>\n",
              "    .dataframe tbody tr th:only-of-type {\n",
              "        vertical-align: middle;\n",
              "    }\n",
              "\n",
              "    .dataframe tbody tr th {\n",
              "        vertical-align: top;\n",
              "    }\n",
              "\n",
              "    .dataframe thead th {\n",
              "        text-align: right;\n",
              "    }\n",
              "</style>\n",
              "<table border=\"1\" class=\"dataframe\">\n",
              "  <thead>\n",
              "    <tr style=\"text-align: right;\">\n",
              "      <th></th>\n",
              "      <th>Contents</th>\n",
              "      <th>label</th>\n",
              "      <th>ProcessedData</th>\n",
              "    </tr>\n",
              "  </thead>\n",
              "  <tbody>\n",
              "    <tr>\n",
              "      <th>0</th>\n",
              "      <td>［충북일보］ 긴 장마 코앞에서 칠보산을 오르내린다. 일곱 개 보석 같은 바위 봉우리...</td>\n",
              "      <td>1</td>\n",
              "      <td>['충북', '일보', '장마', '보산', '보석', '바위', '우리', '파도...</td>\n",
              "    </tr>\n",
              "    <tr>\n",
              "      <th>1</th>\n",
              "      <td>성씨 조형물로 꾸민 국내 유일 ‘효’ 테마공원/드넓은 잔디광장 나무벤치 파라솔 갖춰...</td>\n",
              "      <td>1</td>\n",
              "      <td>['성씨', '조형물', '국내', '유일', '테마', '공원', '잔디', '광...</td>\n",
              "    </tr>\n",
              "    <tr>\n",
              "      <th>2</th>\n",
              "      <td>매일같이 반복되는 일상이 지루한 날이 있다. 멀리 여행을 떠나지는 못하더라도 가까운...</td>\n",
              "      <td>1</td>\n",
              "      <td>['반복', '일상', '여행', '도심', '유럽', '방문', '송파구', '석...</td>\n",
              "    </tr>\n",
              "    <tr>\n",
              "      <th>3</th>\n",
              "      <td>■ 진행 : 윤보리 앵커\\n■ 출연 : 김성수 변호사\\n\\n* 아래 텍스트는 실제 ...</td>\n",
              "      <td>1</td>\n",
              "      <td>['진행', '윤보리', '앵커', '출연', '김성수', '변호사', '텍스트',...</td>\n",
              "    </tr>\n",
              "    <tr>\n",
              "      <th>4</th>\n",
              "      <td>1조 6,000억 원대 피해를 낸 ‘라임자산운용(라임) 사태’ 주범으로 징역 30년...</td>\n",
              "      <td>1</td>\n",
              "      <td>['피해', '라임', '자산운용', '라임', '사태', '주범', '징역', '...</td>\n",
              "    </tr>\n",
              "  </tbody>\n",
              "</table>\n",
              "</div>\n",
              "    <div class=\"colab-df-buttons\">\n",
              "\n",
              "  <div class=\"colab-df-container\">\n",
              "    <button class=\"colab-df-convert\" onclick=\"convertToInteractive('df-c9a48d3d-3de1-4130-aef9-9da4cfe2683d')\"\n",
              "            title=\"Convert this dataframe to an interactive table.\"\n",
              "            style=\"display:none;\">\n",
              "\n",
              "  <svg xmlns=\"http://www.w3.org/2000/svg\" height=\"24px\" viewBox=\"0 -960 960 960\">\n",
              "    <path d=\"M120-120v-720h720v720H120Zm60-500h600v-160H180v160Zm220 220h160v-160H400v160Zm0 220h160v-160H400v160ZM180-400h160v-160H180v160Zm440 0h160v-160H620v160ZM180-180h160v-160H180v160Zm440 0h160v-160H620v160Z\"/>\n",
              "  </svg>\n",
              "    </button>\n",
              "\n",
              "  <style>\n",
              "    .colab-df-container {\n",
              "      display:flex;\n",
              "      gap: 12px;\n",
              "    }\n",
              "\n",
              "    .colab-df-convert {\n",
              "      background-color: #E8F0FE;\n",
              "      border: none;\n",
              "      border-radius: 50%;\n",
              "      cursor: pointer;\n",
              "      display: none;\n",
              "      fill: #1967D2;\n",
              "      height: 32px;\n",
              "      padding: 0 0 0 0;\n",
              "      width: 32px;\n",
              "    }\n",
              "\n",
              "    .colab-df-convert:hover {\n",
              "      background-color: #E2EBFA;\n",
              "      box-shadow: 0px 1px 2px rgba(60, 64, 67, 0.3), 0px 1px 3px 1px rgba(60, 64, 67, 0.15);\n",
              "      fill: #174EA6;\n",
              "    }\n",
              "\n",
              "    .colab-df-buttons div {\n",
              "      margin-bottom: 4px;\n",
              "    }\n",
              "\n",
              "    [theme=dark] .colab-df-convert {\n",
              "      background-color: #3B4455;\n",
              "      fill: #D2E3FC;\n",
              "    }\n",
              "\n",
              "    [theme=dark] .colab-df-convert:hover {\n",
              "      background-color: #434B5C;\n",
              "      box-shadow: 0px 1px 3px 1px rgba(0, 0, 0, 0.15);\n",
              "      filter: drop-shadow(0px 1px 2px rgba(0, 0, 0, 0.3));\n",
              "      fill: #FFFFFF;\n",
              "    }\n",
              "  </style>\n",
              "\n",
              "    <script>\n",
              "      const buttonEl =\n",
              "        document.querySelector('#df-c9a48d3d-3de1-4130-aef9-9da4cfe2683d button.colab-df-convert');\n",
              "      buttonEl.style.display =\n",
              "        google.colab.kernel.accessAllowed ? 'block' : 'none';\n",
              "\n",
              "      async function convertToInteractive(key) {\n",
              "        const element = document.querySelector('#df-c9a48d3d-3de1-4130-aef9-9da4cfe2683d');\n",
              "        const dataTable =\n",
              "          await google.colab.kernel.invokeFunction('convertToInteractive',\n",
              "                                                    [key], {});\n",
              "        if (!dataTable) return;\n",
              "\n",
              "        const docLinkHtml = 'Like what you see? Visit the ' +\n",
              "          '<a target=\"_blank\" href=https://colab.research.google.com/notebooks/data_table.ipynb>data table notebook</a>'\n",
              "          + ' to learn more about interactive tables.';\n",
              "        element.innerHTML = '';\n",
              "        dataTable['output_type'] = 'display_data';\n",
              "        await google.colab.output.renderOutput(dataTable, element);\n",
              "        const docLink = document.createElement('div');\n",
              "        docLink.innerHTML = docLinkHtml;\n",
              "        element.appendChild(docLink);\n",
              "      }\n",
              "    </script>\n",
              "  </div>\n",
              "\n",
              "\n",
              "<div id=\"df-40f037e5-c256-40dc-ae25-5ad49235132e\">\n",
              "  <button class=\"colab-df-quickchart\" onclick=\"quickchart('df-40f037e5-c256-40dc-ae25-5ad49235132e')\"\n",
              "            title=\"Suggest charts.\"\n",
              "            style=\"display:none;\">\n",
              "\n",
              "<svg xmlns=\"http://www.w3.org/2000/svg\" height=\"24px\"viewBox=\"0 0 24 24\"\n",
              "     width=\"24px\">\n",
              "    <g>\n",
              "        <path d=\"M19 3H5c-1.1 0-2 .9-2 2v14c0 1.1.9 2 2 2h14c1.1 0 2-.9 2-2V5c0-1.1-.9-2-2-2zM9 17H7v-7h2v7zm4 0h-2V7h2v10zm4 0h-2v-4h2v4z\"/>\n",
              "    </g>\n",
              "</svg>\n",
              "  </button>\n",
              "\n",
              "<style>\n",
              "  .colab-df-quickchart {\n",
              "      --bg-color: #E8F0FE;\n",
              "      --fill-color: #1967D2;\n",
              "      --hover-bg-color: #E2EBFA;\n",
              "      --hover-fill-color: #174EA6;\n",
              "      --disabled-fill-color: #AAA;\n",
              "      --disabled-bg-color: #DDD;\n",
              "  }\n",
              "\n",
              "  [theme=dark] .colab-df-quickchart {\n",
              "      --bg-color: #3B4455;\n",
              "      --fill-color: #D2E3FC;\n",
              "      --hover-bg-color: #434B5C;\n",
              "      --hover-fill-color: #FFFFFF;\n",
              "      --disabled-bg-color: #3B4455;\n",
              "      --disabled-fill-color: #666;\n",
              "  }\n",
              "\n",
              "  .colab-df-quickchart {\n",
              "    background-color: var(--bg-color);\n",
              "    border: none;\n",
              "    border-radius: 50%;\n",
              "    cursor: pointer;\n",
              "    display: none;\n",
              "    fill: var(--fill-color);\n",
              "    height: 32px;\n",
              "    padding: 0;\n",
              "    width: 32px;\n",
              "  }\n",
              "\n",
              "  .colab-df-quickchart:hover {\n",
              "    background-color: var(--hover-bg-color);\n",
              "    box-shadow: 0 1px 2px rgba(60, 64, 67, 0.3), 0 1px 3px 1px rgba(60, 64, 67, 0.15);\n",
              "    fill: var(--button-hover-fill-color);\n",
              "  }\n",
              "\n",
              "  .colab-df-quickchart-complete:disabled,\n",
              "  .colab-df-quickchart-complete:disabled:hover {\n",
              "    background-color: var(--disabled-bg-color);\n",
              "    fill: var(--disabled-fill-color);\n",
              "    box-shadow: none;\n",
              "  }\n",
              "\n",
              "  .colab-df-spinner {\n",
              "    border: 2px solid var(--fill-color);\n",
              "    border-color: transparent;\n",
              "    border-bottom-color: var(--fill-color);\n",
              "    animation:\n",
              "      spin 1s steps(1) infinite;\n",
              "  }\n",
              "\n",
              "  @keyframes spin {\n",
              "    0% {\n",
              "      border-color: transparent;\n",
              "      border-bottom-color: var(--fill-color);\n",
              "      border-left-color: var(--fill-color);\n",
              "    }\n",
              "    20% {\n",
              "      border-color: transparent;\n",
              "      border-left-color: var(--fill-color);\n",
              "      border-top-color: var(--fill-color);\n",
              "    }\n",
              "    30% {\n",
              "      border-color: transparent;\n",
              "      border-left-color: var(--fill-color);\n",
              "      border-top-color: var(--fill-color);\n",
              "      border-right-color: var(--fill-color);\n",
              "    }\n",
              "    40% {\n",
              "      border-color: transparent;\n",
              "      border-right-color: var(--fill-color);\n",
              "      border-top-color: var(--fill-color);\n",
              "    }\n",
              "    60% {\n",
              "      border-color: transparent;\n",
              "      border-right-color: var(--fill-color);\n",
              "    }\n",
              "    80% {\n",
              "      border-color: transparent;\n",
              "      border-right-color: var(--fill-color);\n",
              "      border-bottom-color: var(--fill-color);\n",
              "    }\n",
              "    90% {\n",
              "      border-color: transparent;\n",
              "      border-bottom-color: var(--fill-color);\n",
              "    }\n",
              "  }\n",
              "</style>\n",
              "\n",
              "  <script>\n",
              "    async function quickchart(key) {\n",
              "      const quickchartButtonEl =\n",
              "        document.querySelector('#' + key + ' button');\n",
              "      quickchartButtonEl.disabled = true;  // To prevent multiple clicks.\n",
              "      quickchartButtonEl.classList.add('colab-df-spinner');\n",
              "      try {\n",
              "        const charts = await google.colab.kernel.invokeFunction(\n",
              "            'suggestCharts', [key], {});\n",
              "      } catch (error) {\n",
              "        console.error('Error during call to suggestCharts:', error);\n",
              "      }\n",
              "      quickchartButtonEl.classList.remove('colab-df-spinner');\n",
              "      quickchartButtonEl.classList.add('colab-df-quickchart-complete');\n",
              "    }\n",
              "    (() => {\n",
              "      let quickchartButtonEl =\n",
              "        document.querySelector('#df-40f037e5-c256-40dc-ae25-5ad49235132e button');\n",
              "      quickchartButtonEl.style.display =\n",
              "        google.colab.kernel.accessAllowed ? 'block' : 'none';\n",
              "    })();\n",
              "  </script>\n",
              "</div>\n",
              "    </div>\n",
              "  </div>\n"
            ]
          },
          "metadata": {},
          "execution_count": 57
        }
      ]
    },
    {
      "cell_type": "code",
      "source": [
        "unique_labels = token_words['label'].unique()\n",
        "\n",
        "for label in unique_labels:\n",
        "    subset = token_words[token_words['label'] == label]\n",
        "\n",
        "    # 打印每个标签的行数\n",
        "    print(f\"Label {label} has {len(subset)} rows.\")\n",
        "\n",
        "    # 检查ProcessedData列中是否有NaN值\n",
        "    if subset['ProcessedData'].isnull().any():\n",
        "        print(f\"Label {label} has NaN values in 'ProcessedData' column!\")\n",
        "\n",
        "    # 检查ProcessedData列中是否有空字符串\n",
        "    if (subset['ProcessedData'] == '').any():\n",
        "        print(f\"Label {label} has empty strings in 'ProcessedData' column!\")\n",
        "\n",
        "    # 将所有分词的数据合并到一个长字符串中\n",
        "    all_words = ' '.join(subset['ProcessedData']).split()\n",
        "\n",
        "    # 打印每个标签的词的数量\n",
        "    print(f\"Label {label} has {len(all_words)} words.\")\n"
      ],
      "metadata": {
        "colab": {
          "base_uri": "https://localhost:8080/"
        },
        "outputId": "69f4a1d6-c265-4e27-e72d-062106fda96e",
        "id": "qPJ4b9a5StgZ"
      },
      "execution_count": 58,
      "outputs": [
        {
          "output_type": "stream",
          "name": "stderr",
          "text": [
            "/usr/local/lib/python3.10/dist-packages/ipykernel/ipkernel.py:283: DeprecationWarning: `should_run_async` will not call `transform_cell` automatically in the future. Please pass the result to `transformed_cell` argument and any exception that happen during thetransform in `preprocessing_exc_tuple` in IPython 7.17 and above.\n",
            "  and should_run_async(code)\n"
          ]
        },
        {
          "output_type": "stream",
          "name": "stdout",
          "text": [
            "Label 1 has 20000 rows.\n",
            "Label 1 has 647877 words.\n",
            "Label 2 has 20000 rows.\n",
            "Label 2 has 621051 words.\n",
            "Label 3 has 20000 rows.\n",
            "Label 3 has 606625 words.\n",
            "Label 4 has 20000 rows.\n",
            "Label 4 has 583052 words.\n",
            "Label 5 has 20000 rows.\n",
            "Label 5 has 611840 words.\n",
            "Label 6 has 20000 rows.\n",
            "Label 6 has 594160 words.\n",
            "Label 7 has 20000 rows.\n",
            "Label 7 has 624489 words.\n",
            "Label 8 has 20000 rows.\n",
            "Label 8 has 622557 words.\n",
            "Label 9 has 20000 rows.\n",
            "Label 9 has 672495 words.\n",
            "Label 10 has 20000 rows.\n",
            "Label 10 has 636776 words.\n"
          ]
        }
      ]
    },
    {
      "cell_type": "code",
      "source": [
        "from collections import Counter\n",
        "\n",
        "# 初始化一个字典来保存每个标签的词频统计结果\n",
        "label_word_counts = {}\n",
        "\n",
        "unique_labels = token_words['label'].unique()\n",
        "\n",
        "for label in unique_labels:\n",
        "    subset = token_words[token_words['label'] == label]\n",
        "\n",
        "    # 将所有分词的数据合并到一个长字符串中\n",
        "    all_words = ' '.join(subset['ProcessedData']).split()\n",
        "\n",
        "    # 使用Counter来计算词频\n",
        "    word_counts = Counter(all_words)\n",
        "\n",
        "    # 保存这个标签的词频统计结果\n",
        "    label_word_counts[label] = word_counts\n",
        "\n",
        "    # 打印每个标签的最常见的30个词（可选）\n",
        "    print(f\"Most common words for label {label}:\")\n",
        "    print(word_counts.most_common(30))\n",
        "    print(\"\\n\")\n"
      ],
      "metadata": {
        "colab": {
          "base_uri": "https://localhost:8080/"
        },
        "outputId": "e0deca35-b7a7-417f-d056-3f6426ef68ab",
        "id": "6Hu6lubQStgZ"
      },
      "execution_count": 59,
      "outputs": [
        {
          "output_type": "stream",
          "name": "stderr",
          "text": [
            "/usr/local/lib/python3.10/dist-packages/ipykernel/ipkernel.py:283: DeprecationWarning: `should_run_async` will not call `transform_cell` automatically in the future. Please pass the result to `transformed_cell` argument and any exception that happen during thetransform in `preprocessing_exc_tuple` in IPython 7.17 and above.\n",
            "  and should_run_async(code)\n"
          ]
        },
        {
          "output_type": "stream",
          "name": "stdout",
          "text": [
            "Most common words for label 1:\n",
            "[(\"'보석',\", 8144), (\"'혐의',\", 7663), (\"'구속',\", 4477), (\"'기자',\", 4248), (\"'서울',\", 3870), (\"'선고',\", 3470), (\"'기소',\", 3434), (\"'법원',\", 3294), (\"'재판',\", 3290), (\"'형사',\", 2946), (\"'회장',\", 2942), (\"'검찰',\", 2764), (\"'대표',\", 2644), (\"'지법',\", 2596), (\"'대통령',\", 2517), (\"'부장',\", 2496), (\"'현지',\", 2378), (\"'징역',\", 2353), (\"'이날',\", 2331), (\"'판사',\", 2280), (\"'코로나',\", 2178), (\"'사건',\", 2141), (\"'시간',\", 2133), (\"'목사',\", 1911), (\"'위반',\", 1839), (\"'의원',\", 1784), (\"'미국',\", 1732), (\"'경제',\", 1607), (\"'스타',\", 1606), (\"'중앙',\", 1579)]\n",
            "\n",
            "\n",
            "Most common words for label 2:\n",
            "[(\"'시계',\", 6155), (\"'기자',\", 3674), (\"'대통령',\", 2981), (\"'대표',\", 2854), (\"'명품',\", 2432), (\"'시간',\", 2354), (\"'국민',\", 2272), (\"'미국',\", 2162), (\"'경제',\", 2045), (\"'시장',\", 2038), (\"'이날',\", 1836), (\"'브랜드',\", 1799), (\"'사진',\", 1584), (\"'코로나',\", 1530), (\"'세계',\", 1529), (\"'후보',\", 1501), (\"'정부',\", 1491), (\"'금리',\", 1486), (\"'민주당',\", 1473), (\"'공개',\", 1418), (\"'방송',\", 1321), (\"'인상',\", 1316), (\"'지역',\", 1315), (\"'국내',\", 1314), (\"'워치',\", 1290), (\"'시작',\", 1276), (\"'금융',\", 1238), (\"'기업',\", 1222), (\"'한국',\", 1220), (\"'가운데',\", 1206)]\n",
            "\n",
            "\n",
            "Most common words for label 3:\n",
            "[(\"'향수',\", 5114), (\"'기자',\", 3589), (\"'코로나',\", 3004), (\"'브랜드',\", 2875), (\"'지역',\", 2409), (\"'면세점',\", 2282), (\"'문화',\", 2128), (\"'사업',\", 2110), (\"'대표',\", 1846), (\"'진행',\", 1754), (\"'시장',\", 1596), (\"'사진',\", 1561), (\"'뷰티',\", 1535), (\"'옥천군',\", 1516), (\"'방송',\", 1498), (\"'옥천',\", 1491), (\"'행사',\", 1476), (\"'사람',\", 1471), (\"'국내',\", 1462), (\"'제품',\", 1459), (\"'세계',\", 1433), (\"'시작',\", 1428), (\"'백화점',\", 1412), (\"'공개',\", 1369), (\"'화장품',\", 1339), (\"'영화',\", 1325), (\"'경제',\", 1254), (\"'업계',\", 1238), (\"'롯데',\", 1236), (\"'사랑',\", 1210)]\n",
            "\n",
            "\n",
            "Most common words for label 4:\n",
            "[(\"'기자',\", 3615), (\"'여성',\", 2702), (\"'혐의',\", 2360), (\"'경찰',\", 2150), (\"'시간',\", 2105), (\"'방송',\", 1797), (\"'남성',\", 1754), (\"'사진',\", 1754), (\"'현지',\", 1664), (\"'패션',\", 1647), (\"'사람',\", 1644), (\"'이날',\", 1611), (\"'공개',\", 1468), (\"'대표',\", 1460), (\"'지역',\", 1427), (\"'발생',\", 1427), (\"'미국',\", 1324), (\"'브랜드',\", 1276), (\"'뉴스',\", 1274), (\"'경제',\", 1259), (\"'자신',\", 1231), (\"'사건',\", 1228), (\"'모습',\", 1205), (\"'시작',\", 1160), (\"'선고',\", 1131), (\"'한국',\", 1129), (\"'영상',\", 1114), (\"'가운데',\", 1050), (\"'보도',\", 1048), (\"'진행',\", 1029)]\n",
            "\n",
            "\n",
            "Most common words for label 5:\n",
            "[(\"'담배',\", 9728), (\"'기자',\", 3800), (\"'흡연',\", 3148), (\"'금연',\", 3027), (\"'청소년',\", 2857), (\"'혐의',\", 2480), (\"'건강',\", 2178), (\"'경찰',\", 2086), (\"'남성',\", 2052), (\"'전자',\", 1914), (\"'시간',\", 1764), (\"'코로나',\", 1719), (\"'지역',\", 1687), (\"'편의점',\", 1549), (\"'발생',\", 1533), (\"'사진',\", 1491), (\"'세계',\", 1437), (\"'미국',\", 1395), (\"'국민',\", 1375), (\"'경제',\", 1352), (\"'이날',\", 1344), (\"'조사',\", 1329), (\"'한국',\", 1313), (\"'사람',\", 1295), (\"'여성',\", 1293), (\"'공개',\", 1279), (\"'환경',\", 1270), (\"'국내',\", 1257), (\"'현지',\", 1229), (\"'판매',\", 1222)]\n",
            "\n",
            "\n",
            "Most common words for label 6:\n",
            "[(\"'혐의',\", 9719), (\"'경찰',\", 6005), (\"'남성',\", 5082), (\"'선고',\", 4180), (\"'경찰서',\", 3894), (\"'기자',\", 3663), (\"'구속',\", 3159), (\"'음주운전',\", 3062), (\"'여성',\", 2742), (\"'징역',\", 2691), (\"'기소',\", 2625), (\"'형사',\", 2483), (\"'폭행',\", 2413), (\"'조사',\", 2349), (\"'지법',\", 2225), (\"'위반',\", 2137), (\"'사고',\", 2130), (\"'도로',\", 2069), (\"'이날',\", 1925), (\"'판사',\", 1915), (\"'대표',\", 1887), (\"'운전',\", 1812), (\"'부장',\", 1803), (\"'음주',\", 1801), (\"'상태',\", 1790), (\"'서울',\", 1654), (\"'방송',\", 1633), (\"'차량',\", 1584), (\"'시간',\", 1582), (\"'뉴스',\", 1570)]\n",
            "\n",
            "\n",
            "Most common words for label 7:\n",
            "[(\"'커피',\", 10130), (\"'기자',\", 3660), (\"'카페',\", 3330), (\"'진행',\", 2516), (\"'지역',\", 2278), (\"'제공',\", 2213), (\"'대표',\", 2158), (\"'가격',\", 2066), (\"'브랜드',\", 1995), (\"'행사',\", 1962), (\"'운영',\", 1900), (\"'제품',\", 1845), (\"'기업',\", 1760), (\"'문화',\", 1757), (\"'식품',\", 1746), (\"'경제',\", 1737), (\"'부산',\", 1693), (\"'고객',\", 1646), (\"'스타',\", 1609), (\"'시장',\", 1563), (\"'사진',\", 1534), (\"'시간',\", 1455), (\"'한국',\", 1453), (\"'대상',\", 1435), (\"'이벤트',\", 1402), (\"'사업',\", 1401), (\"'국내',\", 1339), (\"'벅스',\", 1286), (\"'음료',\", 1272), (\"'세계',\", 1245)]\n",
            "\n",
            "\n",
            "Most common words for label 8:\n",
            "[(\"'식당',\", 8133), (\"'기자',\", 3965), (\"'대표',\", 3457), (\"'지역',\", 2765), (\"'혐의',\", 2551), (\"'시장',\", 2154), (\"'시간',\", 2029), (\"'사업',\", 2025), (\"'운영',\", 1977), (\"'이날',\", 1836), (\"'경제',\", 1785), (\"'의원',\", 1769), (\"'음식',\", 1751), (\"'사진',\", 1656), (\"'대통령',\", 1653), (\"'현지',\", 1568), (\"'제공',\", 1521), (\"'지원',\", 1491), (\"'가격',\", 1429), (\"'한국',\", 1297), (\"'경찰',\", 1296), (\"'중국',\", 1287), (\"'방송',\", 1283), (\"'국민',\", 1278), (\"'일본',\", 1276), (\"'미국',\", 1249), (\"'남성',\", 1192), (\"'뉴스',\", 1165), (\"'서울',\", 1136), (\"'코로나',\", 1133)]\n",
            "\n",
            "\n",
            "Most common words for label 9:\n",
            "[(\"'화장품',\", 8560), (\"'기업',\", 6167), (\"'기자',\", 4236), (\"'뷰티',\", 3993), (\"'브랜드',\", 3812), (\"'시장',\", 3508), (\"'산업',\", 3427), (\"'제품',\", 3416), (\"'중국',\", 3195), (\"'사업',\", 3141), (\"'대표',\", 2941), (\"'경제',\", 2744), (\"'한국',\", 2725), (\"'국내',\", 2570), (\"'수출',\", 2361), (\"'지역',\", 2260), (\"'투자',\", 2190), (\"'매출',\", 2126), (\"'건강',\", 2039), (\"'지원',\", 2023), (\"'업계',\", 1976), (\"'바이오',\", 1913), (\"'분기',\", 1906), (\"'기술',\", 1878), (\"'진행',\", 1864), (\"'식품',\", 1804), (\"'글로벌',\", 1794), (\"'세계',\", 1791), (\"'판매',\", 1776), (\"'면세점',\", 1743)]\n",
            "\n",
            "\n",
            "Most common words for label 10:\n",
            "[(\"'예술',\", 9385), (\"'작품',\", 8310), (\"'문화',\", 6761), (\"'전시',\", 4310), (\"'아트',\", 3805), (\"'작가',\", 3651), (\"'기자',\", 3436), (\"'미술',\", 3010), (\"'미술관',\", 2639), (\"'세계',\", 2618), (\"'지역',\", 2481), (\"'공간',\", 2295), (\"'사업',\", 2046), (\"'시장',\", 1942), (\"'한국',\", 1917), (\"'사진',\", 1893), (\"'갤러리',\", 1808), (\"'박물관',\", 1801), (\"'개최',\", 1795), (\"'대표',\", 1752), (\"'도시',\", 1692), (\"'진행',\", 1644), (\"'예술품',\", 1575), (\"'시간',\", 1508), (\"'사람',\", 1411), (\"'현대',\", 1396), (\"'행사',\", 1392), (\"'전시회',\", 1327), (\"'국내',\", 1311), (\"'재단',\", 1311)]\n",
            "\n",
            "\n"
          ]
        }
      ]
    },
    {
      "cell_type": "code",
      "source": [
        "# 初始化一个空的DataFrame\n",
        "df_common_words = pd.DataFrame()\n",
        "\n",
        "for label in range(1, 11):\n",
        "    word_counts = label_word_counts[label]\n",
        "    temp_df = pd.DataFrame(word_counts.most_common(50), columns=[\"Word\", f\"Label {label} Frequency\"])\n",
        "    df_common_words = pd.concat([df_common_words, temp_df], axis=1)\n"
      ],
      "metadata": {
        "colab": {
          "base_uri": "https://localhost:8080/"
        },
        "outputId": "f998833a-5dc6-4b49-8c92-24fcaf312b3f",
        "id": "mpUdQFuxStga"
      },
      "execution_count": 60,
      "outputs": [
        {
          "output_type": "stream",
          "name": "stderr",
          "text": [
            "/usr/local/lib/python3.10/dist-packages/ipykernel/ipkernel.py:283: DeprecationWarning: `should_run_async` will not call `transform_cell` automatically in the future. Please pass the result to `transformed_cell` argument and any exception that happen during thetransform in `preprocessing_exc_tuple` in IPython 7.17 and above.\n",
            "  and should_run_async(code)\n"
          ]
        }
      ]
    },
    {
      "cell_type": "code",
      "source": [
        "# 保存到Excel\n",
        "df_common_words.to_excel(\"/content/drive/MyDrive/졸업논문/논리재 감정제_논문_/raw data_news/감정제/most_common_words.xlsx\", index=False)"
      ],
      "metadata": {
        "colab": {
          "base_uri": "https://localhost:8080/"
        },
        "outputId": "10efca76-d85a-4e49-aa8d-e5ac5e541a82",
        "id": "IGv9AWU9Stgc"
      },
      "execution_count": 61,
      "outputs": [
        {
          "output_type": "stream",
          "name": "stderr",
          "text": [
            "/usr/local/lib/python3.10/dist-packages/ipykernel/ipkernel.py:283: DeprecationWarning: `should_run_async` will not call `transform_cell` automatically in the future. Please pass the result to `transformed_cell` argument and any exception that happen during thetransform in `preprocessing_exc_tuple` in IPython 7.17 and above.\n",
            "  and should_run_async(code)\n"
          ]
        }
      ]
    },
    {
      "cell_type": "code",
      "source": [
        "# 初始化一个字典来保存每个标签的排序后的DataFrame\n",
        "sorted_dfs = {}"
      ],
      "metadata": {
        "colab": {
          "base_uri": "https://localhost:8080/"
        },
        "outputId": "ffa9e128-6b07-48b0-f706-542f003aed51",
        "id": "BNfMFYBJStgd"
      },
      "execution_count": 62,
      "outputs": [
        {
          "output_type": "stream",
          "name": "stderr",
          "text": [
            "/usr/local/lib/python3.10/dist-packages/ipykernel/ipkernel.py:283: DeprecationWarning: `should_run_async` will not call `transform_cell` automatically in the future. Please pass the result to `transformed_cell` argument and any exception that happen during thetransform in `preprocessing_exc_tuple` in IPython 7.17 and above.\n",
            "  and should_run_async(code)\n"
          ]
        }
      ]
    },
    {
      "cell_type": "code",
      "source": [
        "for label in range(1, 11):  # 遍历label 1到10\n",
        "    # 将当前标签的词频统计转化为DataFrame\n",
        "    df_word_counts = pd.DataFrame(list(label_word_counts[label].items()), columns=['Word', 'Frequency'])\n",
        "\n",
        "    # 使用sort_values()方法按'Frequency'列从大到小排序\n",
        "    df_sorted = df_word_counts.sort_values(by='Frequency', ascending=False)\n",
        "\n",
        "    # 保存排序后的DataFrame到字典\n",
        "    sorted_dfs[label] = df_sorted"
      ],
      "metadata": {
        "colab": {
          "base_uri": "https://localhost:8080/"
        },
        "outputId": "4a111b2c-b8d5-4c87-87bb-e60440fd6c43",
        "id": "_kTfqHqpStgd"
      },
      "execution_count": 63,
      "outputs": [
        {
          "output_type": "stream",
          "name": "stderr",
          "text": [
            "/usr/local/lib/python3.10/dist-packages/ipykernel/ipkernel.py:283: DeprecationWarning: `should_run_async` will not call `transform_cell` automatically in the future. Please pass the result to `transformed_cell` argument and any exception that happen during thetransform in `preprocessing_exc_tuple` in IPython 7.17 and above.\n",
            "  and should_run_async(code)\n"
          ]
        }
      ]
    },
    {
      "cell_type": "code",
      "source": [
        "sorted_dfs[1]"
      ],
      "metadata": {
        "colab": {
          "base_uri": "https://localhost:8080/",
          "height": 478
        },
        "outputId": "f7e808e0-91f9-4a55-b097-adb9a829c3d3",
        "id": "_mrhg7G-Stgd"
      },
      "execution_count": 64,
      "outputs": [
        {
          "output_type": "stream",
          "name": "stderr",
          "text": [
            "/usr/local/lib/python3.10/dist-packages/ipykernel/ipkernel.py:283: DeprecationWarning: `should_run_async` will not call `transform_cell` automatically in the future. Please pass the result to `transformed_cell` argument and any exception that happen during thetransform in `preprocessing_exc_tuple` in IPython 7.17 and above.\n",
            "  and should_run_async(code)\n"
          ]
        },
        {
          "output_type": "execute_result",
          "data": {
            "text/plain": [
              "          Word  Frequency\n",
              "4        '보석',       8144\n",
              "246      '혐의',       7663\n",
              "265      '구속',       4477\n",
              "130      '기자',       4248\n",
              "184      '서울',       3870\n",
              "...        ...        ...\n",
              "26014    '임란']          1\n",
              "26011  '불신임안',          1\n",
              "26010   ['사상',          1\n",
              "26009   '피렌체']          1\n",
              "42480   '검역소',          1\n",
              "\n",
              "[42481 rows x 2 columns]"
            ],
            "text/html": [
              "\n",
              "  <div id=\"df-e35133f4-e4bc-4f08-8f02-c8316c9335d0\" class=\"colab-df-container\">\n",
              "    <div>\n",
              "<style scoped>\n",
              "    .dataframe tbody tr th:only-of-type {\n",
              "        vertical-align: middle;\n",
              "    }\n",
              "\n",
              "    .dataframe tbody tr th {\n",
              "        vertical-align: top;\n",
              "    }\n",
              "\n",
              "    .dataframe thead th {\n",
              "        text-align: right;\n",
              "    }\n",
              "</style>\n",
              "<table border=\"1\" class=\"dataframe\">\n",
              "  <thead>\n",
              "    <tr style=\"text-align: right;\">\n",
              "      <th></th>\n",
              "      <th>Word</th>\n",
              "      <th>Frequency</th>\n",
              "    </tr>\n",
              "  </thead>\n",
              "  <tbody>\n",
              "    <tr>\n",
              "      <th>4</th>\n",
              "      <td>'보석',</td>\n",
              "      <td>8144</td>\n",
              "    </tr>\n",
              "    <tr>\n",
              "      <th>246</th>\n",
              "      <td>'혐의',</td>\n",
              "      <td>7663</td>\n",
              "    </tr>\n",
              "    <tr>\n",
              "      <th>265</th>\n",
              "      <td>'구속',</td>\n",
              "      <td>4477</td>\n",
              "    </tr>\n",
              "    <tr>\n",
              "      <th>130</th>\n",
              "      <td>'기자',</td>\n",
              "      <td>4248</td>\n",
              "    </tr>\n",
              "    <tr>\n",
              "      <th>184</th>\n",
              "      <td>'서울',</td>\n",
              "      <td>3870</td>\n",
              "    </tr>\n",
              "    <tr>\n",
              "      <th>...</th>\n",
              "      <td>...</td>\n",
              "      <td>...</td>\n",
              "    </tr>\n",
              "    <tr>\n",
              "      <th>26014</th>\n",
              "      <td>'임란']</td>\n",
              "      <td>1</td>\n",
              "    </tr>\n",
              "    <tr>\n",
              "      <th>26011</th>\n",
              "      <td>'불신임안',</td>\n",
              "      <td>1</td>\n",
              "    </tr>\n",
              "    <tr>\n",
              "      <th>26010</th>\n",
              "      <td>['사상',</td>\n",
              "      <td>1</td>\n",
              "    </tr>\n",
              "    <tr>\n",
              "      <th>26009</th>\n",
              "      <td>'피렌체']</td>\n",
              "      <td>1</td>\n",
              "    </tr>\n",
              "    <tr>\n",
              "      <th>42480</th>\n",
              "      <td>'검역소',</td>\n",
              "      <td>1</td>\n",
              "    </tr>\n",
              "  </tbody>\n",
              "</table>\n",
              "<p>42481 rows × 2 columns</p>\n",
              "</div>\n",
              "    <div class=\"colab-df-buttons\">\n",
              "\n",
              "  <div class=\"colab-df-container\">\n",
              "    <button class=\"colab-df-convert\" onclick=\"convertToInteractive('df-e35133f4-e4bc-4f08-8f02-c8316c9335d0')\"\n",
              "            title=\"Convert this dataframe to an interactive table.\"\n",
              "            style=\"display:none;\">\n",
              "\n",
              "  <svg xmlns=\"http://www.w3.org/2000/svg\" height=\"24px\" viewBox=\"0 -960 960 960\">\n",
              "    <path d=\"M120-120v-720h720v720H120Zm60-500h600v-160H180v160Zm220 220h160v-160H400v160Zm0 220h160v-160H400v160ZM180-400h160v-160H180v160Zm440 0h160v-160H620v160ZM180-180h160v-160H180v160Zm440 0h160v-160H620v160Z\"/>\n",
              "  </svg>\n",
              "    </button>\n",
              "\n",
              "  <style>\n",
              "    .colab-df-container {\n",
              "      display:flex;\n",
              "      gap: 12px;\n",
              "    }\n",
              "\n",
              "    .colab-df-convert {\n",
              "      background-color: #E8F0FE;\n",
              "      border: none;\n",
              "      border-radius: 50%;\n",
              "      cursor: pointer;\n",
              "      display: none;\n",
              "      fill: #1967D2;\n",
              "      height: 32px;\n",
              "      padding: 0 0 0 0;\n",
              "      width: 32px;\n",
              "    }\n",
              "\n",
              "    .colab-df-convert:hover {\n",
              "      background-color: #E2EBFA;\n",
              "      box-shadow: 0px 1px 2px rgba(60, 64, 67, 0.3), 0px 1px 3px 1px rgba(60, 64, 67, 0.15);\n",
              "      fill: #174EA6;\n",
              "    }\n",
              "\n",
              "    .colab-df-buttons div {\n",
              "      margin-bottom: 4px;\n",
              "    }\n",
              "\n",
              "    [theme=dark] .colab-df-convert {\n",
              "      background-color: #3B4455;\n",
              "      fill: #D2E3FC;\n",
              "    }\n",
              "\n",
              "    [theme=dark] .colab-df-convert:hover {\n",
              "      background-color: #434B5C;\n",
              "      box-shadow: 0px 1px 3px 1px rgba(0, 0, 0, 0.15);\n",
              "      filter: drop-shadow(0px 1px 2px rgba(0, 0, 0, 0.3));\n",
              "      fill: #FFFFFF;\n",
              "    }\n",
              "  </style>\n",
              "\n",
              "    <script>\n",
              "      const buttonEl =\n",
              "        document.querySelector('#df-e35133f4-e4bc-4f08-8f02-c8316c9335d0 button.colab-df-convert');\n",
              "      buttonEl.style.display =\n",
              "        google.colab.kernel.accessAllowed ? 'block' : 'none';\n",
              "\n",
              "      async function convertToInteractive(key) {\n",
              "        const element = document.querySelector('#df-e35133f4-e4bc-4f08-8f02-c8316c9335d0');\n",
              "        const dataTable =\n",
              "          await google.colab.kernel.invokeFunction('convertToInteractive',\n",
              "                                                    [key], {});\n",
              "        if (!dataTable) return;\n",
              "\n",
              "        const docLinkHtml = 'Like what you see? Visit the ' +\n",
              "          '<a target=\"_blank\" href=https://colab.research.google.com/notebooks/data_table.ipynb>data table notebook</a>'\n",
              "          + ' to learn more about interactive tables.';\n",
              "        element.innerHTML = '';\n",
              "        dataTable['output_type'] = 'display_data';\n",
              "        await google.colab.output.renderOutput(dataTable, element);\n",
              "        const docLink = document.createElement('div');\n",
              "        docLink.innerHTML = docLinkHtml;\n",
              "        element.appendChild(docLink);\n",
              "      }\n",
              "    </script>\n",
              "  </div>\n",
              "\n",
              "\n",
              "<div id=\"df-a8fc7b18-b6e0-428b-b354-fd8182497b56\">\n",
              "  <button class=\"colab-df-quickchart\" onclick=\"quickchart('df-a8fc7b18-b6e0-428b-b354-fd8182497b56')\"\n",
              "            title=\"Suggest charts.\"\n",
              "            style=\"display:none;\">\n",
              "\n",
              "<svg xmlns=\"http://www.w3.org/2000/svg\" height=\"24px\"viewBox=\"0 0 24 24\"\n",
              "     width=\"24px\">\n",
              "    <g>\n",
              "        <path d=\"M19 3H5c-1.1 0-2 .9-2 2v14c0 1.1.9 2 2 2h14c1.1 0 2-.9 2-2V5c0-1.1-.9-2-2-2zM9 17H7v-7h2v7zm4 0h-2V7h2v10zm4 0h-2v-4h2v4z\"/>\n",
              "    </g>\n",
              "</svg>\n",
              "  </button>\n",
              "\n",
              "<style>\n",
              "  .colab-df-quickchart {\n",
              "      --bg-color: #E8F0FE;\n",
              "      --fill-color: #1967D2;\n",
              "      --hover-bg-color: #E2EBFA;\n",
              "      --hover-fill-color: #174EA6;\n",
              "      --disabled-fill-color: #AAA;\n",
              "      --disabled-bg-color: #DDD;\n",
              "  }\n",
              "\n",
              "  [theme=dark] .colab-df-quickchart {\n",
              "      --bg-color: #3B4455;\n",
              "      --fill-color: #D2E3FC;\n",
              "      --hover-bg-color: #434B5C;\n",
              "      --hover-fill-color: #FFFFFF;\n",
              "      --disabled-bg-color: #3B4455;\n",
              "      --disabled-fill-color: #666;\n",
              "  }\n",
              "\n",
              "  .colab-df-quickchart {\n",
              "    background-color: var(--bg-color);\n",
              "    border: none;\n",
              "    border-radius: 50%;\n",
              "    cursor: pointer;\n",
              "    display: none;\n",
              "    fill: var(--fill-color);\n",
              "    height: 32px;\n",
              "    padding: 0;\n",
              "    width: 32px;\n",
              "  }\n",
              "\n",
              "  .colab-df-quickchart:hover {\n",
              "    background-color: var(--hover-bg-color);\n",
              "    box-shadow: 0 1px 2px rgba(60, 64, 67, 0.3), 0 1px 3px 1px rgba(60, 64, 67, 0.15);\n",
              "    fill: var(--button-hover-fill-color);\n",
              "  }\n",
              "\n",
              "  .colab-df-quickchart-complete:disabled,\n",
              "  .colab-df-quickchart-complete:disabled:hover {\n",
              "    background-color: var(--disabled-bg-color);\n",
              "    fill: var(--disabled-fill-color);\n",
              "    box-shadow: none;\n",
              "  }\n",
              "\n",
              "  .colab-df-spinner {\n",
              "    border: 2px solid var(--fill-color);\n",
              "    border-color: transparent;\n",
              "    border-bottom-color: var(--fill-color);\n",
              "    animation:\n",
              "      spin 1s steps(1) infinite;\n",
              "  }\n",
              "\n",
              "  @keyframes spin {\n",
              "    0% {\n",
              "      border-color: transparent;\n",
              "      border-bottom-color: var(--fill-color);\n",
              "      border-left-color: var(--fill-color);\n",
              "    }\n",
              "    20% {\n",
              "      border-color: transparent;\n",
              "      border-left-color: var(--fill-color);\n",
              "      border-top-color: var(--fill-color);\n",
              "    }\n",
              "    30% {\n",
              "      border-color: transparent;\n",
              "      border-left-color: var(--fill-color);\n",
              "      border-top-color: var(--fill-color);\n",
              "      border-right-color: var(--fill-color);\n",
              "    }\n",
              "    40% {\n",
              "      border-color: transparent;\n",
              "      border-right-color: var(--fill-color);\n",
              "      border-top-color: var(--fill-color);\n",
              "    }\n",
              "    60% {\n",
              "      border-color: transparent;\n",
              "      border-right-color: var(--fill-color);\n",
              "    }\n",
              "    80% {\n",
              "      border-color: transparent;\n",
              "      border-right-color: var(--fill-color);\n",
              "      border-bottom-color: var(--fill-color);\n",
              "    }\n",
              "    90% {\n",
              "      border-color: transparent;\n",
              "      border-bottom-color: var(--fill-color);\n",
              "    }\n",
              "  }\n",
              "</style>\n",
              "\n",
              "  <script>\n",
              "    async function quickchart(key) {\n",
              "      const quickchartButtonEl =\n",
              "        document.querySelector('#' + key + ' button');\n",
              "      quickchartButtonEl.disabled = true;  // To prevent multiple clicks.\n",
              "      quickchartButtonEl.classList.add('colab-df-spinner');\n",
              "      try {\n",
              "        const charts = await google.colab.kernel.invokeFunction(\n",
              "            'suggestCharts', [key], {});\n",
              "      } catch (error) {\n",
              "        console.error('Error during call to suggestCharts:', error);\n",
              "      }\n",
              "      quickchartButtonEl.classList.remove('colab-df-spinner');\n",
              "      quickchartButtonEl.classList.add('colab-df-quickchart-complete');\n",
              "    }\n",
              "    (() => {\n",
              "      let quickchartButtonEl =\n",
              "        document.querySelector('#df-a8fc7b18-b6e0-428b-b354-fd8182497b56 button');\n",
              "      quickchartButtonEl.style.display =\n",
              "        google.colab.kernel.accessAllowed ? 'block' : 'none';\n",
              "    })();\n",
              "  </script>\n",
              "</div>\n",
              "    </div>\n",
              "  </div>\n"
            ]
          },
          "metadata": {},
          "execution_count": 64
        }
      ]
    },
    {
      "cell_type": "code",
      "source": [
        "save_path = \"/content/drive/MyDrive/졸업논문/논리재 감정제_논문_/raw data_news/감정제/FA\""
      ],
      "metadata": {
        "colab": {
          "base_uri": "https://localhost:8080/"
        },
        "outputId": "e69243e7-be8e-444d-f03f-41b57e8eb063",
        "id": "yyPPnHIGStgd"
      },
      "execution_count": 65,
      "outputs": [
        {
          "output_type": "stream",
          "name": "stderr",
          "text": [
            "/usr/local/lib/python3.10/dist-packages/ipykernel/ipkernel.py:283: DeprecationWarning: `should_run_async` will not call `transform_cell` automatically in the future. Please pass the result to `transformed_cell` argument and any exception that happen during thetransform in `preprocessing_exc_tuple` in IPython 7.17 and above.\n",
            "  and should_run_async(code)\n"
          ]
        }
      ]
    },
    {
      "cell_type": "code",
      "source": [
        "for label, df in sorted_dfs.items():\n",
        "    filename = f\"sorted{label}.xlsx\"\n",
        "    full_path = save_path + filename\n",
        "    df.to_excel(full_path, index=False)"
      ],
      "metadata": {
        "colab": {
          "base_uri": "https://localhost:8080/"
        },
        "outputId": "96114458-31fe-4e5a-a9bb-ea3468a47d86",
        "id": "vtdJmOsxStgd"
      },
      "execution_count": 66,
      "outputs": [
        {
          "output_type": "stream",
          "name": "stderr",
          "text": [
            "/usr/local/lib/python3.10/dist-packages/ipykernel/ipkernel.py:283: DeprecationWarning: `should_run_async` will not call `transform_cell` automatically in the future. Please pass the result to `transformed_cell` argument and any exception that happen during thetransform in `preprocessing_exc_tuple` in IPython 7.17 and above.\n",
            "  and should_run_async(code)\n"
          ]
        }
      ]
    }
  ]
}