{
  "nbformat": 4,
  "nbformat_minor": 0,
  "metadata": {
    "colab": {
      "provenance": [],
      "machine_shape": "hm",
      "authorship_tag": "ABX9TyOBGbJ52VkFoh0gVIr7gcN3",
      "include_colab_link": true
    },
    "kernelspec": {
      "name": "python3",
      "display_name": "Python 3"
    },
    "language_info": {
      "name": "python"
    }
  },
  "cells": [
    {
      "cell_type": "markdown",
      "metadata": {
        "id": "view-in-github",
        "colab_type": "text"
      },
      "source": [
        "<a href=\"https://colab.research.google.com/github/huihuiwuwu/Github-Colab/blob/main/20231028.ipynb\" target=\"_parent\"><img src=\"https://colab.research.google.com/assets/colab-badge.svg\" alt=\"Open In Colab\"/></a>"
      ]
    },
    {
      "cell_type": "code",
      "execution_count": 1,
      "metadata": {
        "colab": {
          "base_uri": "https://localhost:8080/"
        },
        "id": "G02fTaWo-2n4",
        "outputId": "2efd60a4-51d4-4a5f-f71e-061687170083"
      },
      "outputs": [
        {
          "output_type": "stream",
          "name": "stdout",
          "text": [
            "Mounted at /content/drive\n"
          ]
        }
      ],
      "source": [
        "from google.colab import drive\n",
        "drive.mount(\"/content/drive\")"
      ]
    },
    {
      "cell_type": "code",
      "source": [
        "import warnings\n",
        "warnings.filterwarnings('ignore')"
      ],
      "metadata": {
        "id": "-qr9RfwV-_Yk"
      },
      "execution_count": 2,
      "outputs": []
    },
    {
      "cell_type": "code",
      "source": [
        "from gensim.models.ldamodel import LdaModel\n",
        "from gensim.models import CoherenceModel\n",
        "import matplotlib.pyplot as plt\n",
        "from gensim import corpora\n",
        "import numpy as np\n",
        "from sklearn.decomposition import LatentDirichletAllocation\n",
        "\n",
        "import site\n",
        "import re\n",
        "from tqdm import tqdm\n",
        "\n",
        "import pandas as pd\n",
        "import os"
      ],
      "metadata": {
        "id": "wUELpAAr-_bt"
      },
      "execution_count": 3,
      "outputs": []
    },
    {
      "cell_type": "code",
      "source": [
        "C=pd.read_csv('/content/drive/MyDrive/최근/빅데이터/코로나와 무역/rawdata(231026)/무역/C_token_words.csv')\n",
        "K=pd.read_csv('/content/drive/MyDrive/최근/빅데이터/코로나와 무역/rawdata(231026)/무역/K_token_words.csv')\n",
        "A=pd.read_csv('/content/drive/MyDrive/최근/빅데이터/코로나와 무역/rawdata(231026)/무역/A_token_words.csv')\n",
        "Export=pd.read_csv('/content/drive/MyDrive/최근/빅데이터/코로나와 무역/rawdata(231026)/무역/Export_token_words.csv')\n",
        "Economic=pd.read_csv('/content/drive/MyDrive/최근/빅데이터/코로나와 무역/rawdata(231026)/무역/Economic_token_words.csv')"
      ],
      "metadata": {
        "id": "3Te7fUZj-_ek"
      },
      "execution_count": 4,
      "outputs": []
    },
    {
      "cell_type": "code",
      "source": [
        "Economic.head()"
      ],
      "metadata": {
        "colab": {
          "base_uri": "https://localhost:8080/",
          "height": 206
        },
        "id": "st1mSvqW_ywl",
        "outputId": "05b7324e-9054-4cb6-ec39-da7b368f3bf6"
      },
      "execution_count": 9,
      "outputs": [
        {
          "output_type": "execute_result",
          "data": {
            "text/plain": [
              "                                            Contents  \\\n",
              "0  [헤럴드경제(도하)=최은지 기자, 정윤희 기자] 윤석열 대통령은 25일(현지시간) ...   \n",
              "1  윤석열 대통령이 사우디아라비아와 카타르 국빈 순방에서 202억달러(약 27조원) 투...   \n",
              "2  사우디아라바이와 카타르를 국빈 방문한 윤석열 대통령이 '중동 세일즈'로 총 107조...   \n",
              "3  코트라는 윤석열 대통령의 카타르 국빈 방문에 맞춰 지난 25일 카타르 도하에서 ‘한...   \n",
              "4  [헤럴드경제=서재근 기자] 코트라(KOTRA)가 한불상공회의소와 함께 안다즈 서울 ...   \n",
              "\n",
              "                                       ProcessedData  \n",
              "0  ['헤럴드', '경제', '도하', '최은지', '기자', '정윤희', '기자', ...  \n",
              "1  ['윤석열', '대통령', '사우디아라비아', '카타르', '국빈', '순방', '...  \n",
              "2  ['사우디아', '바이', '카타르', '국빈', '방문', '윤석열', '대통령'...  \n",
              "3  ['코트', '윤석열', '대통령', '카타르', '국빈', '방문', '카타르',...  \n",
              "4  ['헤럴드', '경제', '서재근', '기자', '코트', '불상', '공회', '...  "
            ],
            "text/html": [
              "\n",
              "  <div id=\"df-33d240e7-e338-48e8-bc7e-f275b442137e\" class=\"colab-df-container\">\n",
              "    <div>\n",
              "<style scoped>\n",
              "    .dataframe tbody tr th:only-of-type {\n",
              "        vertical-align: middle;\n",
              "    }\n",
              "\n",
              "    .dataframe tbody tr th {\n",
              "        vertical-align: top;\n",
              "    }\n",
              "\n",
              "    .dataframe thead th {\n",
              "        text-align: right;\n",
              "    }\n",
              "</style>\n",
              "<table border=\"1\" class=\"dataframe\">\n",
              "  <thead>\n",
              "    <tr style=\"text-align: right;\">\n",
              "      <th></th>\n",
              "      <th>Contents</th>\n",
              "      <th>ProcessedData</th>\n",
              "    </tr>\n",
              "  </thead>\n",
              "  <tbody>\n",
              "    <tr>\n",
              "      <th>0</th>\n",
              "      <td>[헤럴드경제(도하)=최은지 기자, 정윤희 기자] 윤석열 대통령은 25일(현지시간) ...</td>\n",
              "      <td>['헤럴드', '경제', '도하', '최은지', '기자', '정윤희', '기자', ...</td>\n",
              "    </tr>\n",
              "    <tr>\n",
              "      <th>1</th>\n",
              "      <td>윤석열 대통령이 사우디아라비아와 카타르 국빈 순방에서 202억달러(약 27조원) 투...</td>\n",
              "      <td>['윤석열', '대통령', '사우디아라비아', '카타르', '국빈', '순방', '...</td>\n",
              "    </tr>\n",
              "    <tr>\n",
              "      <th>2</th>\n",
              "      <td>사우디아라바이와 카타르를 국빈 방문한 윤석열 대통령이 '중동 세일즈'로 총 107조...</td>\n",
              "      <td>['사우디아', '바이', '카타르', '국빈', '방문', '윤석열', '대통령'...</td>\n",
              "    </tr>\n",
              "    <tr>\n",
              "      <th>3</th>\n",
              "      <td>코트라는 윤석열 대통령의 카타르 국빈 방문에 맞춰 지난 25일 카타르 도하에서 ‘한...</td>\n",
              "      <td>['코트', '윤석열', '대통령', '카타르', '국빈', '방문', '카타르',...</td>\n",
              "    </tr>\n",
              "    <tr>\n",
              "      <th>4</th>\n",
              "      <td>[헤럴드경제=서재근 기자] 코트라(KOTRA)가 한불상공회의소와 함께 안다즈 서울 ...</td>\n",
              "      <td>['헤럴드', '경제', '서재근', '기자', '코트', '불상', '공회', '...</td>\n",
              "    </tr>\n",
              "  </tbody>\n",
              "</table>\n",
              "</div>\n",
              "    <div class=\"colab-df-buttons\">\n",
              "\n",
              "  <div class=\"colab-df-container\">\n",
              "    <button class=\"colab-df-convert\" onclick=\"convertToInteractive('df-33d240e7-e338-48e8-bc7e-f275b442137e')\"\n",
              "            title=\"Convert this dataframe to an interactive table.\"\n",
              "            style=\"display:none;\">\n",
              "\n",
              "  <svg xmlns=\"http://www.w3.org/2000/svg\" height=\"24px\" viewBox=\"0 -960 960 960\">\n",
              "    <path d=\"M120-120v-720h720v720H120Zm60-500h600v-160H180v160Zm220 220h160v-160H400v160Zm0 220h160v-160H400v160ZM180-400h160v-160H180v160Zm440 0h160v-160H620v160ZM180-180h160v-160H180v160Zm440 0h160v-160H620v160Z\"/>\n",
              "  </svg>\n",
              "    </button>\n",
              "\n",
              "  <style>\n",
              "    .colab-df-container {\n",
              "      display:flex;\n",
              "      gap: 12px;\n",
              "    }\n",
              "\n",
              "    .colab-df-convert {\n",
              "      background-color: #E8F0FE;\n",
              "      border: none;\n",
              "      border-radius: 50%;\n",
              "      cursor: pointer;\n",
              "      display: none;\n",
              "      fill: #1967D2;\n",
              "      height: 32px;\n",
              "      padding: 0 0 0 0;\n",
              "      width: 32px;\n",
              "    }\n",
              "\n",
              "    .colab-df-convert:hover {\n",
              "      background-color: #E2EBFA;\n",
              "      box-shadow: 0px 1px 2px rgba(60, 64, 67, 0.3), 0px 1px 3px 1px rgba(60, 64, 67, 0.15);\n",
              "      fill: #174EA6;\n",
              "    }\n",
              "\n",
              "    .colab-df-buttons div {\n",
              "      margin-bottom: 4px;\n",
              "    }\n",
              "\n",
              "    [theme=dark] .colab-df-convert {\n",
              "      background-color: #3B4455;\n",
              "      fill: #D2E3FC;\n",
              "    }\n",
              "\n",
              "    [theme=dark] .colab-df-convert:hover {\n",
              "      background-color: #434B5C;\n",
              "      box-shadow: 0px 1px 3px 1px rgba(0, 0, 0, 0.15);\n",
              "      filter: drop-shadow(0px 1px 2px rgba(0, 0, 0, 0.3));\n",
              "      fill: #FFFFFF;\n",
              "    }\n",
              "  </style>\n",
              "\n",
              "    <script>\n",
              "      const buttonEl =\n",
              "        document.querySelector('#df-33d240e7-e338-48e8-bc7e-f275b442137e button.colab-df-convert');\n",
              "      buttonEl.style.display =\n",
              "        google.colab.kernel.accessAllowed ? 'block' : 'none';\n",
              "\n",
              "      async function convertToInteractive(key) {\n",
              "        const element = document.querySelector('#df-33d240e7-e338-48e8-bc7e-f275b442137e');\n",
              "        const dataTable =\n",
              "          await google.colab.kernel.invokeFunction('convertToInteractive',\n",
              "                                                    [key], {});\n",
              "        if (!dataTable) return;\n",
              "\n",
              "        const docLinkHtml = 'Like what you see? Visit the ' +\n",
              "          '<a target=\"_blank\" href=https://colab.research.google.com/notebooks/data_table.ipynb>data table notebook</a>'\n",
              "          + ' to learn more about interactive tables.';\n",
              "        element.innerHTML = '';\n",
              "        dataTable['output_type'] = 'display_data';\n",
              "        await google.colab.output.renderOutput(dataTable, element);\n",
              "        const docLink = document.createElement('div');\n",
              "        docLink.innerHTML = docLinkHtml;\n",
              "        element.appendChild(docLink);\n",
              "      }\n",
              "    </script>\n",
              "  </div>\n",
              "\n",
              "\n",
              "<div id=\"df-4bb0f073-1d19-487d-87ae-0637d085764b\">\n",
              "  <button class=\"colab-df-quickchart\" onclick=\"quickchart('df-4bb0f073-1d19-487d-87ae-0637d085764b')\"\n",
              "            title=\"Suggest charts.\"\n",
              "            style=\"display:none;\">\n",
              "\n",
              "<svg xmlns=\"http://www.w3.org/2000/svg\" height=\"24px\"viewBox=\"0 0 24 24\"\n",
              "     width=\"24px\">\n",
              "    <g>\n",
              "        <path d=\"M19 3H5c-1.1 0-2 .9-2 2v14c0 1.1.9 2 2 2h14c1.1 0 2-.9 2-2V5c0-1.1-.9-2-2-2zM9 17H7v-7h2v7zm4 0h-2V7h2v10zm4 0h-2v-4h2v4z\"/>\n",
              "    </g>\n",
              "</svg>\n",
              "  </button>\n",
              "\n",
              "<style>\n",
              "  .colab-df-quickchart {\n",
              "      --bg-color: #E8F0FE;\n",
              "      --fill-color: #1967D2;\n",
              "      --hover-bg-color: #E2EBFA;\n",
              "      --hover-fill-color: #174EA6;\n",
              "      --disabled-fill-color: #AAA;\n",
              "      --disabled-bg-color: #DDD;\n",
              "  }\n",
              "\n",
              "  [theme=dark] .colab-df-quickchart {\n",
              "      --bg-color: #3B4455;\n",
              "      --fill-color: #D2E3FC;\n",
              "      --hover-bg-color: #434B5C;\n",
              "      --hover-fill-color: #FFFFFF;\n",
              "      --disabled-bg-color: #3B4455;\n",
              "      --disabled-fill-color: #666;\n",
              "  }\n",
              "\n",
              "  .colab-df-quickchart {\n",
              "    background-color: var(--bg-color);\n",
              "    border: none;\n",
              "    border-radius: 50%;\n",
              "    cursor: pointer;\n",
              "    display: none;\n",
              "    fill: var(--fill-color);\n",
              "    height: 32px;\n",
              "    padding: 0;\n",
              "    width: 32px;\n",
              "  }\n",
              "\n",
              "  .colab-df-quickchart:hover {\n",
              "    background-color: var(--hover-bg-color);\n",
              "    box-shadow: 0 1px 2px rgba(60, 64, 67, 0.3), 0 1px 3px 1px rgba(60, 64, 67, 0.15);\n",
              "    fill: var(--button-hover-fill-color);\n",
              "  }\n",
              "\n",
              "  .colab-df-quickchart-complete:disabled,\n",
              "  .colab-df-quickchart-complete:disabled:hover {\n",
              "    background-color: var(--disabled-bg-color);\n",
              "    fill: var(--disabled-fill-color);\n",
              "    box-shadow: none;\n",
              "  }\n",
              "\n",
              "  .colab-df-spinner {\n",
              "    border: 2px solid var(--fill-color);\n",
              "    border-color: transparent;\n",
              "    border-bottom-color: var(--fill-color);\n",
              "    animation:\n",
              "      spin 1s steps(1) infinite;\n",
              "  }\n",
              "\n",
              "  @keyframes spin {\n",
              "    0% {\n",
              "      border-color: transparent;\n",
              "      border-bottom-color: var(--fill-color);\n",
              "      border-left-color: var(--fill-color);\n",
              "    }\n",
              "    20% {\n",
              "      border-color: transparent;\n",
              "      border-left-color: var(--fill-color);\n",
              "      border-top-color: var(--fill-color);\n",
              "    }\n",
              "    30% {\n",
              "      border-color: transparent;\n",
              "      border-left-color: var(--fill-color);\n",
              "      border-top-color: var(--fill-color);\n",
              "      border-right-color: var(--fill-color);\n",
              "    }\n",
              "    40% {\n",
              "      border-color: transparent;\n",
              "      border-right-color: var(--fill-color);\n",
              "      border-top-color: var(--fill-color);\n",
              "    }\n",
              "    60% {\n",
              "      border-color: transparent;\n",
              "      border-right-color: var(--fill-color);\n",
              "    }\n",
              "    80% {\n",
              "      border-color: transparent;\n",
              "      border-right-color: var(--fill-color);\n",
              "      border-bottom-color: var(--fill-color);\n",
              "    }\n",
              "    90% {\n",
              "      border-color: transparent;\n",
              "      border-bottom-color: var(--fill-color);\n",
              "    }\n",
              "  }\n",
              "</style>\n",
              "\n",
              "  <script>\n",
              "    async function quickchart(key) {\n",
              "      const quickchartButtonEl =\n",
              "        document.querySelector('#' + key + ' button');\n",
              "      quickchartButtonEl.disabled = true;  // To prevent multiple clicks.\n",
              "      quickchartButtonEl.classList.add('colab-df-spinner');\n",
              "      try {\n",
              "        const charts = await google.colab.kernel.invokeFunction(\n",
              "            'suggestCharts', [key], {});\n",
              "      } catch (error) {\n",
              "        console.error('Error during call to suggestCharts:', error);\n",
              "      }\n",
              "      quickchartButtonEl.classList.remove('colab-df-spinner');\n",
              "      quickchartButtonEl.classList.add('colab-df-quickchart-complete');\n",
              "    }\n",
              "    (() => {\n",
              "      let quickchartButtonEl =\n",
              "        document.querySelector('#df-4bb0f073-1d19-487d-87ae-0637d085764b button');\n",
              "      quickchartButtonEl.style.display =\n",
              "        google.colab.kernel.accessAllowed ? 'block' : 'none';\n",
              "    })();\n",
              "  </script>\n",
              "</div>\n",
              "    </div>\n",
              "  </div>\n"
            ]
          },
          "metadata": {},
          "execution_count": 9
        }
      ]
    },
    {
      "cell_type": "code",
      "source": [
        "# 토픽 모델링\n",
        "# 1. 최적의 토픽 수 계산\n",
        "coherence_values = []\n",
        "model_list = []"
      ],
      "metadata": {
        "id": "mdAN8BsK-_hB"
      },
      "execution_count": 5,
      "outputs": []
    },
    {
      "cell_type": "code",
      "source": [
        "from gensim.models import LdaModel\n",
        "from gensim.models.coherencemodel import CoherenceModel\n",
        "import matplotlib.pyplot as plt\n",
        "\n",
        "def compute_coherence_values(dictionary, corpus, texts, limit, start=2, step=1):\n",
        "    model_list = []\n",
        "    coherence_values = []\n",
        "\n",
        "    for num_topics in range(start, limit, step):\n",
        "        model = LdaModel(corpus=corpus, id2word=dictionary, num_topics=num_topics, passes=10, iterations=100)\n",
        "        model_list.append(model)\n",
        "\n",
        "        coherencemodel = CoherenceModel(model=model, texts=texts, dictionary=dictionary, coherence='c_v')\n",
        "        coherence_values.append(coherencemodel.get_coherence())\n",
        "\n",
        "    return model_list, coherence_values\n"
      ],
      "metadata": {
        "id": "meNDO_RnLab7"
      },
      "execution_count": 34,
      "outputs": []
    },
    {
      "cell_type": "code",
      "source": [
        "def find_optimal_number_of_topics(dictionary, corpus, processed_data, limit=8):\n",
        "    start = 1\n",
        "    step = 1\n",
        "\n",
        "    model_list, coherence_values = compute_coherence_values(dictionary=dictionary, corpus=corpus, texts=processed_data, start=start, limit=limit, step=step)\n",
        "\n",
        "    x = range(start, limit, step)\n",
        "\n",
        "    # 这里我们加一个断言以确保x和coherence_values的长度是相同的\n",
        "    assert len(x) == len(coherence_values), \"Length mismatch between x and coherence_values\"\n",
        "\n",
        "    plt.plot(x, coherence_values)\n",
        "    plt.xlabel(\"Num Topics\")\n",
        "    plt.ylabel(\"Coherence score\")\n",
        "    plt.legend((\"coherence_values\"), loc='best')\n",
        "\n",
        "    dic = {coherence: num_topics for num_topics, coherence in zip(x, coherence_values)}\n",
        "\n",
        "    plt.text(dic[max(coherence_values)], min(coherence_values), str(dic[max(coherence_values)]) + ' at MAX', color='r', horizontalalignment='center', verticalalignment='bottom')\n",
        "\n",
        "    plt.show()\n",
        "\n",
        "    return dic[max(coherence_values)]\n"
      ],
      "metadata": {
        "id": "_DGFbEFYLccM"
      },
      "execution_count": 35,
      "outputs": []
    },
    {
      "cell_type": "code",
      "source": [
        "from sklearn.feature_extraction.text import TfidfVectorizer"
      ],
      "metadata": {
        "id": "wCqTTsbr_X-C"
      },
      "execution_count": 8,
      "outputs": []
    },
    {
      "cell_type": "code",
      "source": [
        "import ast\n",
        "\n",
        "Economic[\"ProcessedData\"] = Economic[\"ProcessedData\"].apply(ast.literal_eval)\n",
        "\n",
        "dictionary = corpora.Dictionary(Economic[\"ProcessedData\"])\n",
        "\n",
        "corpus = [dictionary.doc2bow(text) for text in Economic[\"ProcessedData\"]]\n",
        "\n",
        "processed_data = Economic[\"ProcessedData\"].tolist()"
      ],
      "metadata": {
        "id": "O_lvwdiz_osC"
      },
      "execution_count": 13,
      "outputs": []
    },
    {
      "cell_type": "code",
      "source": [
        "limit = 8\n",
        "NUM_TOPICS = find_optimal_number_of_topics(dictionary, corpus, processed_data, limit)"
      ],
      "metadata": {
        "colab": {
          "base_uri": "https://localhost:8080/",
          "height": 449
        },
        "id": "SnLVWRTR_p6d",
        "outputId": "f405ffbf-e269-476a-d553-a02db358fe14"
      },
      "execution_count": 36,
      "outputs": [
        {
          "output_type": "display_data",
          "data": {
            "text/plain": [
              "<Figure size 640x480 with 1 Axes>"
            ],
            "image/png": "[encoded data removed]"
          },
          "metadata": {}
        }
      ]
    },
    {
      "cell_type": "code",
      "source": [
        "Economic[\"ProcessedData\"] = Economic[\"ProcessedData\"].apply(' '.join)\n",
        "\n",
        "vectorizer = TfidfVectorizer(max_features=1000)\n",
        "X = vectorizer.fit_transform(Economic[\"ProcessedData\"])"
      ],
      "metadata": {
        "id": "amxYfnRFNLrs"
      },
      "execution_count": 39,
      "outputs": []
    },
    {
      "cell_type": "code",
      "source": [
        "# LDA모델 생성\n",
        "lda_model = LatentDirichletAllocation(n_components=3, learning_method='online', random_state=42, max_iter=1)\n",
        "lda_top = lda_model.fit_transform(X)"
      ],
      "metadata": {
        "id": "X4x-RH3TAvOq"
      },
      "execution_count": 40,
      "outputs": []
    },
    {
      "cell_type": "code",
      "source": [
        "def print_top_words(model, feature_names, n_top_words):\n",
        "    for topic_idx, topic in enumerate(model.components_):\n",
        "        print(f\"Topic #{topic_idx + 1}:\")\n",
        "        print(\" \".join([feature_names[i]\n",
        "                        for i in topic.argsort()[:-n_top_words - 1:-1]]))\n",
        "    print()\n",
        "\n",
        "n_top_words = 20\n",
        "tf_feature_names = vectorizer.get_feature_names_out()\n",
        "print_top_words(lda_model, tf_feature_names, n_top_words)\n"
      ],
      "metadata": {
        "colab": {
          "base_uri": "https://localhost:8080/"
        },
        "id": "FuS_HQvjObqg",
        "outputId": "75f14a50-813d-4035-da58-e522b2ff72f0"
      },
      "execution_count": 41,
      "outputs": [
        {
          "output_type": "stream",
          "name": "stdout",
          "text": [
            "Topic #1:\n",
            "수출 경제 중국 달러 무역 미국 적자 세계 반도체 전망 성장 위기 수지 경기 코로나 정부 기록 분기 기자 금리\n",
            "Topic #2:\n",
            "무역 기업 통상 산업 경제 한국 수출 협회 베트남 지역 개최 자원 지원 협력 시장 투자 회장 기자 정부 자유\n",
            "Topic #3:\n",
            "대통령 정상 중국 윤석열 주석 회담 미국 국가 러시아 시진핑 현지 총리 시간 외교 관계 바이든 회의 양국 북한 이날\n",
            "\n"
          ]
        }
      ]
    },
    {
      "cell_type": "code",
      "source": [
        "# 단어 집합. 1,000개의 단어가 저장됨.\n",
        "terms = vectorizer.get_feature_names_out()\n",
        "\n",
        "def get_topics(components, feature_names, n=20):\n",
        "    for idx, topic in enumerate(components):\n",
        "        print(\"Topic %d:\" % (idx+1), [(feature_names[i], topic[i].round(2)) for i in topic.argsort()[:-n - 1:-1]])"
      ],
      "metadata": {
        "id": "aF0lvrJnAvRm"
      },
      "execution_count": 16,
      "outputs": []
    },
    {
      "cell_type": "code",
      "source": [
        "Economic_topic=get_topics(lda_model.components_,terms)"
      ],
      "metadata": {
        "colab": {
          "base_uri": "https://localhost:8080/"
        },
        "id": "j_2TkQ2DAvUi",
        "outputId": "4a9bb48d-5dea-457e-f73a-eb799d3206e4"
      },
      "execution_count": 17,
      "outputs": [
        {
          "output_type": "stream",
          "name": "stdout",
          "text": [
            "Topic 1: [('기업', 172.46), ('수출', 132.41), ('무역', 132.11), ('지원', 105.65), ('산업', 91.2), ('투자', 81.42), ('시장', 80.86), ('경제', 76.91), ('해외', 76.76), ('중소기업', 75.69), ('태국', 73.99), ('지역', 67.93), ('통상', 66.75), ('한국', 64.45), ('개최', 63.86), ('디지털', 63.14), ('기관', 62.02), ('사업', 61.29), ('중소', 59.29), ('업무', 58.23)]\n",
            "Topic 2: [('미국', 413.73), ('중국', 314.44), ('산업', 182.43), ('통상', 181.47), ('경제', 162.81), ('무역', 160.3), ('정부', 159.12), ('반도체', 138.23), ('일본', 136.49), ('바이든', 131.74), ('한국', 131.05), ('감축', 129.95), ('현지', 123.31), ('공급', 118.46), ('인플레이션', 118.15), ('기업', 115.31), ('대만', 113.36), ('태평양', 111.49), ('시간', 109.21), ('기자', 99.31)]\n",
            "Topic 3: [('대통령', 365.55), ('정상', 270.89), ('주석', 228.45), ('회담', 185.33), ('시진핑', 180.19), ('중국', 178.61), ('윤석열', 178.15), ('국가', 166.02), ('협력', 150.56), ('총리', 137.61), ('양국', 117.21), ('회의', 111.29), ('관계', 110.49), ('포럼', 107.9), ('방문', 106.95), ('아세안', 104.21), ('현지', 98.22), ('외교', 98.18), ('이날', 97.27), ('시간', 90.05)]\n",
            "Topic 4: [('수출', 491.91), ('적자', 336.31), ('경제', 334.1), ('무역', 323.63), ('달러', 320.81), ('중국', 243.74), ('수지', 229.34), ('세계', 222.97), ('성장', 212.72), ('전망', 211.63), ('경기', 197.62), ('코로나', 185.78), ('기록', 184.6), ('분기', 178.12), ('위기', 167.63), ('개월', 164.03), ('감소', 148.26), ('연속', 139.8), ('반도체', 137.5), ('한국', 135.04)]\n",
            "Topic 5: [('베트남', 199.41), ('회장', 150.86), ('기업', 84.94), ('그룹', 77.48), ('상공', 74.0), ('대표', 73.63), ('회의소', 70.47), ('경제', 70.34), ('인천', 67.68), ('한국', 67.48), ('화물', 66.66), ('수상', 63.33), ('간담회', 59.26), ('협회', 59.03), ('지역', 57.54), ('도시', 55.77), ('부산', 55.18), ('전국', 53.22), ('전남', 52.65), ('시장', 51.84)]\n",
            "Topic 6: [('방송', 151.27), ('경제', 129.76), ('금리', 128.14), ('인상', 117.64), ('내용', 113.18), ('민주당', 107.87), ('북한', 104.33), ('앵커', 92.54), ('은행', 87.51), ('국민', 81.88), ('미국', 81.07), ('기획', 80.89), ('국회', 80.14), ('교수', 75.83), ('금융', 75.83), ('정부', 73.95), ('부총리', 73.55), ('의원', 73.09), ('대표', 72.31), ('장관', 72.3)]\n"
          ]
        }
      ]
    },
    {
      "cell_type": "code",
      "source": [
        "def get_topics2(components, terms):\n",
        "    topics = []\n",
        "    for topic_idx, topic in enumerate(components):\n",
        "        topic_terms = [(terms[i], topic[i]) for i in topic.argsort()[:-30 - 1:-1]]\n",
        "        topics.append((topic_idx, topic_terms))\n",
        "    return topics"
      ],
      "metadata": {
        "id": "-DBoEh5lAvXP"
      },
      "execution_count": 18,
      "outputs": []
    },
    {
      "cell_type": "code",
      "source": [
        "Economic_topics = get_topics2(lda_model.components_, terms)\n",
        "if Economic_topics is not None:\n",
        "    df = pd.DataFrame(Economic_topics, columns=['Topic', 'Terms'])\n",
        "else:\n",
        "    df = pd.DataFrame()"
      ],
      "metadata": {
        "colab": {
          "base_uri": "https://localhost:8080/"
        },
        "id": "5NgfizryA0eY",
        "outputId": "fcbb9457-d47c-43f9-8c37-da4e33d47a89"
      },
      "execution_count": 48,
      "outputs": [
        {
          "output_type": "stream",
          "name": "stderr",
          "text": [
            "/usr/local/lib/python3.10/dist-packages/ipykernel/ipkernel.py:283: DeprecationWarning: `should_run_async` will not call `transform_cell` automatically in the future. Please pass the result to `transformed_cell` argument and any exception that happen during thetransform in `preprocessing_exc_tuple` in IPython 7.17 and above.\n",
            "  and should_run_async(code)\n"
          ]
        }
      ]
    },
    {
      "cell_type": "code",
      "source": [
        "topics_transformed = [(topic[0], word, value) for topic in Economic_topics for word, value in topic[1]]\n",
        "df = pd.DataFrame(topics_transformed, columns=['Topic', 'Word', 'Value'])\n",
        "df.to_csv('/content/drive/MyDrive/최근/빅데이터/코로나와 무역/rawdata(231026)/무역/Economic_topics(3).csv',index=False)"
      ],
      "metadata": {
        "colab": {
          "base_uri": "https://localhost:8080/"
        },
        "id": "LW_E7PLMA0kg",
        "outputId": "4cdd5e27-cc19-4629-96f0-6a668ba6b271"
      },
      "execution_count": 49,
      "outputs": [
        {
          "output_type": "stream",
          "name": "stderr",
          "text": [
            "/usr/local/lib/python3.10/dist-packages/ipykernel/ipkernel.py:283: DeprecationWarning: `should_run_async` will not call `transform_cell` automatically in the future. Please pass the result to `transformed_cell` argument and any exception that happen during thetransform in `preprocessing_exc_tuple` in IPython 7.17 and above.\n",
            "  and should_run_async(code)\n"
          ]
        }
      ]
    },
    {
      "cell_type": "code",
      "source": [],
      "metadata": {
        "id": "CAaF2tipA0nS"
      },
      "execution_count": null,
      "outputs": []
    },
    {
      "cell_type": "markdown",
      "source": [
        "* Export"
      ],
      "metadata": {
        "id": "14YZ08R_H9LC"
      }
    },
    {
      "cell_type": "code",
      "source": [
        "Export=pd.read_csv('/content/drive/MyDrive/최근/빅데이터/코로나와 무역/rawdata(231026)/무역/Export_token_words.csv')"
      ],
      "metadata": {
        "colab": {
          "base_uri": "https://localhost:8080/"
        },
        "id": "wJ9A303bQSyB",
        "outputId": "9acf305f-72a1-4b61-aa38-2600cbdb3efa"
      },
      "execution_count": 53,
      "outputs": [
        {
          "output_type": "stream",
          "name": "stderr",
          "text": [
            "/usr/local/lib/python3.10/dist-packages/ipykernel/ipkernel.py:283: DeprecationWarning: `should_run_async` will not call `transform_cell` automatically in the future. Please pass the result to `transformed_cell` argument and any exception that happen during thetransform in `preprocessing_exc_tuple` in IPython 7.17 and above.\n",
            "  and should_run_async(code)\n"
          ]
        }
      ]
    },
    {
      "cell_type": "code",
      "source": [
        "import ast\n",
        "Export[\"ProcessedData\"] = Export[\"ProcessedData\"].apply(ast.literal_eval)\n",
        "\n",
        "dictionary = corpora.Dictionary(Export[\"ProcessedData\"])\n",
        "\n",
        "corpus = [dictionary.doc2bow(text) for text in Export[\"ProcessedData\"]]\n",
        "\n",
        "processed_data = Export[\"ProcessedData\"].tolist()"
      ],
      "metadata": {
        "colab": {
          "base_uri": "https://localhost:8080/"
        },
        "id": "CALK6zABIEEd",
        "outputId": "309314ad-2756-4e62-861e-d31c9d9c0440"
      },
      "execution_count": 54,
      "outputs": [
        {
          "output_type": "stream",
          "name": "stderr",
          "text": [
            "/usr/local/lib/python3.10/dist-packages/ipykernel/ipkernel.py:283: DeprecationWarning: `should_run_async` will not call `transform_cell` automatically in the future. Please pass the result to `transformed_cell` argument and any exception that happen during thetransform in `preprocessing_exc_tuple` in IPython 7.17 and above.\n",
            "  and should_run_async(code)\n"
          ]
        }
      ]
    },
    {
      "cell_type": "code",
      "source": [
        "limit = 8\n",
        "NUM_TOPICS = find_optimal_number_of_topics(dictionary, corpus, processed_data, limit)"
      ],
      "metadata": {
        "colab": {
          "base_uri": "https://localhost:8080/",
          "height": 504
        },
        "id": "D_ldhEp5IZq9",
        "outputId": "e90cf683-da47-4397-eb57-c0a6dd08f869"
      },
      "execution_count": 55,
      "outputs": [
        {
          "output_type": "stream",
          "name": "stderr",
          "text": [
            "/usr/local/lib/python3.10/dist-packages/ipykernel/ipkernel.py:283: DeprecationWarning: `should_run_async` will not call `transform_cell` automatically in the future. Please pass the result to `transformed_cell` argument and any exception that happen during thetransform in `preprocessing_exc_tuple` in IPython 7.17 and above.\n",
            "  and should_run_async(code)\n"
          ]
        },
        {
          "output_type": "display_data",
          "data": {
            "text/plain": [
              "<Figure size 640x480 with 1 Axes>"
            ],
            "image/png": "[encoded data removed]"
          },
          "metadata": {}
        }
      ]
    },
    {
      "cell_type": "code",
      "source": [
        "# LDA모델 생성\n",
        "lda_model = LatentDirichletAllocation(n_components=6, learning_method='online', random_state=42, max_iter=1)\n",
        "lda_top = lda_model.fit_transform(X)"
      ],
      "metadata": {
        "colab": {
          "base_uri": "https://localhost:8080/"
        },
        "id": "mY3efOKpIEHM",
        "outputId": "147ed4b6-7207-42fe-f66a-6c475abc92e9"
      },
      "execution_count": 57,
      "outputs": [
        {
          "output_type": "stream",
          "name": "stderr",
          "text": [
            "/usr/local/lib/python3.10/dist-packages/ipykernel/ipkernel.py:283: DeprecationWarning: `should_run_async` will not call `transform_cell` automatically in the future. Please pass the result to `transformed_cell` argument and any exception that happen during thetransform in `preprocessing_exc_tuple` in IPython 7.17 and above.\n",
            "  and should_run_async(code)\n"
          ]
        }
      ]
    },
    {
      "cell_type": "code",
      "source": [
        "Export_topics = get_topics2(lda_model.components_, terms)\n",
        "if Export_topics is not None:\n",
        "    df = pd.DataFrame(Export_topics, columns=['Topic', 'Terms'])\n",
        "else:\n",
        "    df = pd.DataFrame()"
      ],
      "metadata": {
        "colab": {
          "base_uri": "https://localhost:8080/"
        },
        "id": "8H3rPUhqIEJk",
        "outputId": "7429b3a1-367e-4364-b933-8970ff84bcdd"
      },
      "execution_count": 58,
      "outputs": [
        {
          "output_type": "stream",
          "name": "stderr",
          "text": [
            "/usr/local/lib/python3.10/dist-packages/ipykernel/ipkernel.py:283: DeprecationWarning: `should_run_async` will not call `transform_cell` automatically in the future. Please pass the result to `transformed_cell` argument and any exception that happen during thetransform in `preprocessing_exc_tuple` in IPython 7.17 and above.\n",
            "  and should_run_async(code)\n"
          ]
        }
      ]
    },
    {
      "cell_type": "code",
      "source": [
        "topics_transformed = [(topic[0], word, value) for topic in Export_topics for word, value in topic[1]]\n",
        "df = pd.DataFrame(topics_transformed, columns=['Topic', 'Word', 'Value'])\n",
        "df.to_csv('/content/drive/MyDrive/최근/빅데이터/코로나와 무역/rawdata(231026)/무역/Export_topics.csv',index=False)"
      ],
      "metadata": {
        "colab": {
          "base_uri": "https://localhost:8080/"
        },
        "id": "GsVawO1EIEMQ",
        "outputId": "b1f5d5c7-9911-4f10-8a74-c4a56b1b302c"
      },
      "execution_count": 59,
      "outputs": [
        {
          "output_type": "stream",
          "name": "stderr",
          "text": [
            "/usr/local/lib/python3.10/dist-packages/ipykernel/ipkernel.py:283: DeprecationWarning: `should_run_async` will not call `transform_cell` automatically in the future. Please pass the result to `transformed_cell` argument and any exception that happen during thetransform in `preprocessing_exc_tuple` in IPython 7.17 and above.\n",
            "  and should_run_async(code)\n"
          ]
        }
      ]
    },
    {
      "cell_type": "markdown",
      "source": [
        "# 20210101~20231026 데이터를 사용"
      ],
      "metadata": {
        "id": "VcaIa_c91zmF"
      }
    },
    {
      "cell_type": "code",
      "source": [
        "folder_path = \"/content/drive/MyDrive/최근/빅데이터/코로나와 무역/rawdata(20210101~20231026)_20231028\"\n",
        "files=os.listdir(folder_path)\n",
        "files"
      ],
      "metadata": {
        "colab": {
          "base_uri": "https://localhost:8080/"
        },
        "id": "sTbeN_5h14-4",
        "outputId": "5ebb20a7-7553-4bc7-d05c-a45b7ed811ab"
      },
      "execution_count": 61,
      "outputs": [
        {
          "output_type": "stream",
          "name": "stderr",
          "text": [
            "/usr/local/lib/python3.10/dist-packages/ipykernel/ipkernel.py:283: DeprecationWarning: `should_run_async` will not call `transform_cell` automatically in the future. Please pass the result to `transformed_cell` argument and any exception that happen during thetransform in `preprocessing_exc_tuple` in IPython 7.17 and above.\n",
            "  and should_run_async(code)\n"
          ]
        },
        {
          "output_type": "execute_result",
          "data": {
            "text/plain": [
              "['Economic1.xlsx',\n",
              " 'Eport1.xlsx',\n",
              " 'K1.xlsx',\n",
              " 'A2.xlsx',\n",
              " 'A1.xlsx',\n",
              " 'C1.xlsx',\n",
              " 'K2.xlsx',\n",
              " 'Export2.xlsx',\n",
              " 'C2.xlsx',\n",
              " 'Economic2.xlsx',\n",
              " 'A3.xlsx']"
            ]
          },
          "metadata": {},
          "execution_count": 61
        }
      ]
    },
    {
      "cell_type": "code",
      "source": [
        "dfs = []  # 用于存储每个文件的DataFrame\n",
        "\n",
        "for file in files:\n",
        "    if file.endswith(('K1.xlsx', 'K2.xlsx')):\n",
        "        file_path = os.path.join(folder_path, file)\n",
        "        df = pd.read_excel(file_path)\n",
        "        dfs.append(df)\n",
        "\n",
        "merged_df = pd.concat(dfs, ignore_index=True)"
      ],
      "metadata": {
        "colab": {
          "base_uri": "https://localhost:8080/"
        },
        "id": "fRq_xOZf6nNP",
        "outputId": "71632636-1fd3-47cc-fea3-714fe559be9a"
      },
      "execution_count": 62,
      "outputs": [
        {
          "output_type": "stream",
          "name": "stderr",
          "text": [
            "/usr/local/lib/python3.10/dist-packages/ipykernel/ipkernel.py:283: DeprecationWarning: `should_run_async` will not call `transform_cell` automatically in the future. Please pass the result to `transformed_cell` argument and any exception that happen during thetransform in `preprocessing_exc_tuple` in IPython 7.17 and above.\n",
            "  and should_run_async(code)\n"
          ]
        }
      ]
    },
    {
      "cell_type": "code",
      "source": [
        "# merged_df.info()"
      ],
      "metadata": {
        "colab": {
          "base_uri": "https://localhost:8080/"
        },
        "id": "s5OXl2gv63XU",
        "outputId": "2633067e-c2fb-4447-8278-3ea5ba717ead"
      },
      "execution_count": 63,
      "outputs": [
        {
          "output_type": "stream",
          "name": "stdout",
          "text": [
            "<class 'pandas.core.frame.DataFrame'>\n",
            "RangeIndex: 32806 entries, 0 to 32805\n",
            "Data columns (total 19 columns):\n",
            " #   Column             Non-Null Count  Dtype  \n",
            "---  ------             --------------  -----  \n",
            " 0   뉴스 식별자             32806 non-null  float64\n",
            " 1   일자                 32806 non-null  int64  \n",
            " 2   언론사                32806 non-null  object \n",
            " 3   기고자                30709 non-null  object \n",
            " 4   제목                 32806 non-null  object \n",
            " 5   통합 분류1             32806 non-null  object \n",
            " 6   통합 분류2             28243 non-null  object \n",
            " 7   통합 분류3             20848 non-null  object \n",
            " 8   사건/사고 분류1          4695 non-null   object \n",
            " 9   사건/사고 분류2          1005 non-null   object \n",
            " 10  사건/사고 분류3          349 non-null    object \n",
            " 11  인물                 26563 non-null  object \n",
            " 12  위치                 32647 non-null  object \n",
            " 13  기관                 32795 non-null  object \n",
            " 14  키워드                32806 non-null  object \n",
            " 15  특성추출(가중치순 상위 50개)  32806 non-null  object \n",
            " 16  본문                 32806 non-null  object \n",
            " 17  URL                32683 non-null  object \n",
            " 18  분석제외 여부            0 non-null      float64\n",
            "dtypes: float64(2), int64(1), object(16)\n",
            "memory usage: 4.8+ MB\n"
          ]
        },
        {
          "output_type": "stream",
          "name": "stderr",
          "text": [
            "/usr/local/lib/python3.10/dist-packages/ipykernel/ipkernel.py:283: DeprecationWarning: `should_run_async` will not call `transform_cell` automatically in the future. Please pass the result to `transformed_cell` argument and any exception that happen during thetransform in `preprocessing_exc_tuple` in IPython 7.17 and above.\n",
            "  and should_run_async(code)\n"
          ]
        }
      ]
    },
    {
      "cell_type": "code",
      "source": [
        "merged_df.to_csv(\"/content/drive/MyDrive/최근/빅데이터/코로나와 무역/rawdata(20210101~20231026)_20231028/K_all.csv\", index=False)"
      ],
      "metadata": {
        "colab": {
          "base_uri": "https://localhost:8080/"
        },
        "id": "0uLSTLP56vvq",
        "outputId": "cfca7dee-f480-4781-b442-5c496b8ed6e2"
      },
      "execution_count": 64,
      "outputs": [
        {
          "output_type": "stream",
          "name": "stderr",
          "text": [
            "/usr/local/lib/python3.10/dist-packages/ipykernel/ipkernel.py:283: DeprecationWarning: `should_run_async` will not call `transform_cell` automatically in the future. Please pass the result to `transformed_cell` argument and any exception that happen during thetransform in `preprocessing_exc_tuple` in IPython 7.17 and above.\n",
            "  and should_run_async(code)\n"
          ]
        }
      ]
    },
    {
      "cell_type": "code",
      "source": [
        "K_all=merged_df[['본문']]"
      ],
      "metadata": {
        "colab": {
          "base_uri": "https://localhost:8080/"
        },
        "id": "KXAObk9M6vy8",
        "outputId": "28b8983a-2e08-497e-fa2b-64497c854acb"
      },
      "execution_count": 65,
      "outputs": [
        {
          "output_type": "stream",
          "name": "stderr",
          "text": [
            "/usr/local/lib/python3.10/dist-packages/ipykernel/ipkernel.py:283: DeprecationWarning: `should_run_async` will not call `transform_cell` automatically in the future. Please pass the result to `transformed_cell` argument and any exception that happen during thetransform in `preprocessing_exc_tuple` in IPython 7.17 and above.\n",
            "  and should_run_async(code)\n"
          ]
        }
      ]
    },
    {
      "cell_type": "code",
      "source": [
        "# K_all.head()"
      ],
      "metadata": {
        "colab": {
          "base_uri": "https://localhost:8080/",
          "height": 261
        },
        "id": "pLR3RHX66v1v",
        "outputId": "1b9f4eb1-96b2-4bc7-e69b-8a00af080787"
      },
      "execution_count": 66,
      "outputs": [
        {
          "output_type": "stream",
          "name": "stderr",
          "text": [
            "/usr/local/lib/python3.10/dist-packages/ipykernel/ipkernel.py:283: DeprecationWarning: `should_run_async` will not call `transform_cell` automatically in the future. Please pass the result to `transformed_cell` argument and any exception that happen during thetransform in `preprocessing_exc_tuple` in IPython 7.17 and above.\n",
            "  and should_run_async(code)\n"
          ]
        },
        {
          "output_type": "execute_result",
          "data": {
            "text/plain": [
              "                                                  본문\n",
              "0  올 들어 이달 20일까지 338억4000만달러의 무역적자가 났다. 연간 기준 역대 ...\n",
              "1  [앵커]\\n최근 각종 악재가 겹치면서 국내 경제를 둘러싼 우려가 커지고 있습니다.\\...\n",
              "2  미 중 갈등이 격화하는 가운데 중국의 미국 유럽 상대 수출은 크게 감소한 반면 러시...\n",
              "3  \"인플레이션(Inflation 전반적인 물가 수준 상승)에 대응하기 위해 금리를 올...\n",
              "4  '시진핑(習近平) 3기로 인한 '차이나런'의 불똥이 원화로 튀었다. 25일 원화가치..."
            ],
            "text/html": [
              "\n",
              "  <div id=\"df-03cde77b-47ab-46e3-80d1-b06fc82644e5\" class=\"colab-df-container\">\n",
              "    <div>\n",
              "<style scoped>\n",
              "    .dataframe tbody tr th:only-of-type {\n",
              "        vertical-align: middle;\n",
              "    }\n",
              "\n",
              "    .dataframe tbody tr th {\n",
              "        vertical-align: top;\n",
              "    }\n",
              "\n",
              "    .dataframe thead th {\n",
              "        text-align: right;\n",
              "    }\n",
              "</style>\n",
              "<table border=\"1\" class=\"dataframe\">\n",
              "  <thead>\n",
              "    <tr style=\"text-align: right;\">\n",
              "      <th></th>\n",
              "      <th>본문</th>\n",
              "    </tr>\n",
              "  </thead>\n",
              "  <tbody>\n",
              "    <tr>\n",
              "      <th>0</th>\n",
              "      <td>올 들어 이달 20일까지 338억4000만달러의 무역적자가 났다. 연간 기준 역대 ...</td>\n",
              "    </tr>\n",
              "    <tr>\n",
              "      <th>1</th>\n",
              "      <td>[앵커]\\n최근 각종 악재가 겹치면서 국내 경제를 둘러싼 우려가 커지고 있습니다.\\...</td>\n",
              "    </tr>\n",
              "    <tr>\n",
              "      <th>2</th>\n",
              "      <td>미 중 갈등이 격화하는 가운데 중국의 미국 유럽 상대 수출은 크게 감소한 반면 러시...</td>\n",
              "    </tr>\n",
              "    <tr>\n",
              "      <th>3</th>\n",
              "      <td>\"인플레이션(Inflation 전반적인 물가 수준 상승)에 대응하기 위해 금리를 올...</td>\n",
              "    </tr>\n",
              "    <tr>\n",
              "      <th>4</th>\n",
              "      <td>'시진핑(習近平) 3기로 인한 '차이나런'의 불똥이 원화로 튀었다. 25일 원화가치...</td>\n",
              "    </tr>\n",
              "  </tbody>\n",
              "</table>\n",
              "</div>\n",
              "    <div class=\"colab-df-buttons\">\n",
              "\n",
              "  <div class=\"colab-df-container\">\n",
              "    <button class=\"colab-df-convert\" onclick=\"convertToInteractive('df-03cde77b-47ab-46e3-80d1-b06fc82644e5')\"\n",
              "            title=\"Convert this dataframe to an interactive table.\"\n",
              "            style=\"display:none;\">\n",
              "\n",
              "  <svg xmlns=\"http://www.w3.org/2000/svg\" height=\"24px\" viewBox=\"0 -960 960 960\">\n",
              "    <path d=\"M120-120v-720h720v720H120Zm60-500h600v-160H180v160Zm220 220h160v-160H400v160Zm0 220h160v-160H400v160ZM180-400h160v-160H180v160Zm440 0h160v-160H620v160ZM180-180h160v-160H180v160Zm440 0h160v-160H620v160Z\"/>\n",
              "  </svg>\n",
              "    </button>\n",
              "\n",
              "  <style>\n",
              "    .colab-df-container {\n",
              "      display:flex;\n",
              "      gap: 12px;\n",
              "    }\n",
              "\n",
              "    .colab-df-convert {\n",
              "      background-color: #E8F0FE;\n",
              "      border: none;\n",
              "      border-radius: 50%;\n",
              "      cursor: pointer;\n",
              "      display: none;\n",
              "      fill: #1967D2;\n",
              "      height: 32px;\n",
              "      padding: 0 0 0 0;\n",
              "      width: 32px;\n",
              "    }\n",
              "\n",
              "    .colab-df-convert:hover {\n",
              "      background-color: #E2EBFA;\n",
              "      box-shadow: 0px 1px 2px rgba(60, 64, 67, 0.3), 0px 1px 3px 1px rgba(60, 64, 67, 0.15);\n",
              "      fill: #174EA6;\n",
              "    }\n",
              "\n",
              "    .colab-df-buttons div {\n",
              "      margin-bottom: 4px;\n",
              "    }\n",
              "\n",
              "    [theme=dark] .colab-df-convert {\n",
              "      background-color: #3B4455;\n",
              "      fill: #D2E3FC;\n",
              "    }\n",
              "\n",
              "    [theme=dark] .colab-df-convert:hover {\n",
              "      background-color: #434B5C;\n",
              "      box-shadow: 0px 1px 3px 1px rgba(0, 0, 0, 0.15);\n",
              "      filter: drop-shadow(0px 1px 2px rgba(0, 0, 0, 0.3));\n",
              "      fill: #FFFFFF;\n",
              "    }\n",
              "  </style>\n",
              "\n",
              "    <script>\n",
              "      const buttonEl =\n",
              "        document.querySelector('#df-03cde77b-47ab-46e3-80d1-b06fc82644e5 button.colab-df-convert');\n",
              "      buttonEl.style.display =\n",
              "        google.colab.kernel.accessAllowed ? 'block' : 'none';\n",
              "\n",
              "      async function convertToInteractive(key) {\n",
              "        const element = document.querySelector('#df-03cde77b-47ab-46e3-80d1-b06fc82644e5');\n",
              "        const dataTable =\n",
              "          await google.colab.kernel.invokeFunction('convertToInteractive',\n",
              "                                                    [key], {});\n",
              "        if (!dataTable) return;\n",
              "\n",
              "        const docLinkHtml = 'Like what you see? Visit the ' +\n",
              "          '<a target=\"_blank\" href=https://colab.research.google.com/notebooks/data_table.ipynb>data table notebook</a>'\n",
              "          + ' to learn more about interactive tables.';\n",
              "        element.innerHTML = '';\n",
              "        dataTable['output_type'] = 'display_data';\n",
              "        await google.colab.output.renderOutput(dataTable, element);\n",
              "        const docLink = document.createElement('div');\n",
              "        docLink.innerHTML = docLinkHtml;\n",
              "        element.appendChild(docLink);\n",
              "      }\n",
              "    </script>\n",
              "  </div>\n",
              "\n",
              "\n",
              "<div id=\"df-9e32f032-0de3-4fe3-92be-3da304556a4d\">\n",
              "  <button class=\"colab-df-quickchart\" onclick=\"quickchart('df-9e32f032-0de3-4fe3-92be-3da304556a4d')\"\n",
              "            title=\"Suggest charts.\"\n",
              "            style=\"display:none;\">\n",
              "\n",
              "<svg xmlns=\"http://www.w3.org/2000/svg\" height=\"24px\"viewBox=\"0 0 24 24\"\n",
              "     width=\"24px\">\n",
              "    <g>\n",
              "        <path d=\"M19 3H5c-1.1 0-2 .9-2 2v14c0 1.1.9 2 2 2h14c1.1 0 2-.9 2-2V5c0-1.1-.9-2-2-2zM9 17H7v-7h2v7zm4 0h-2V7h2v10zm4 0h-2v-4h2v4z\"/>\n",
              "    </g>\n",
              "</svg>\n",
              "  </button>\n",
              "\n",
              "<style>\n",
              "  .colab-df-quickchart {\n",
              "      --bg-color: #E8F0FE;\n",
              "      --fill-color: #1967D2;\n",
              "      --hover-bg-color: #E2EBFA;\n",
              "      --hover-fill-color: #174EA6;\n",
              "      --disabled-fill-color: #AAA;\n",
              "      --disabled-bg-color: #DDD;\n",
              "  }\n",
              "\n",
              "  [theme=dark] .colab-df-quickchart {\n",
              "      --bg-color: #3B4455;\n",
              "      --fill-color: #D2E3FC;\n",
              "      --hover-bg-color: #434B5C;\n",
              "      --hover-fill-color: #FFFFFF;\n",
              "      --disabled-bg-color: #3B4455;\n",
              "      --disabled-fill-color: #666;\n",
              "  }\n",
              "\n",
              "  .colab-df-quickchart {\n",
              "    background-color: var(--bg-color);\n",
              "    border: none;\n",
              "    border-radius: 50%;\n",
              "    cursor: pointer;\n",
              "    display: none;\n",
              "    fill: var(--fill-color);\n",
              "    height: 32px;\n",
              "    padding: 0;\n",
              "    width: 32px;\n",
              "  }\n",
              "\n",
              "  .colab-df-quickchart:hover {\n",
              "    background-color: var(--hover-bg-color);\n",
              "    box-shadow: 0 1px 2px rgba(60, 64, 67, 0.3), 0 1px 3px 1px rgba(60, 64, 67, 0.15);\n",
              "    fill: var(--button-hover-fill-color);\n",
              "  }\n",
              "\n",
              "  .colab-df-quickchart-complete:disabled,\n",
              "  .colab-df-quickchart-complete:disabled:hover {\n",
              "    background-color: var(--disabled-bg-color);\n",
              "    fill: var(--disabled-fill-color);\n",
              "    box-shadow: none;\n",
              "  }\n",
              "\n",
              "  .colab-df-spinner {\n",
              "    border: 2px solid var(--fill-color);\n",
              "    border-color: transparent;\n",
              "    border-bottom-color: var(--fill-color);\n",
              "    animation:\n",
              "      spin 1s steps(1) infinite;\n",
              "  }\n",
              "\n",
              "  @keyframes spin {\n",
              "    0% {\n",
              "      border-color: transparent;\n",
              "      border-bottom-color: var(--fill-color);\n",
              "      border-left-color: var(--fill-color);\n",
              "    }\n",
              "    20% {\n",
              "      border-color: transparent;\n",
              "      border-left-color: var(--fill-color);\n",
              "      border-top-color: var(--fill-color);\n",
              "    }\n",
              "    30% {\n",
              "      border-color: transparent;\n",
              "      border-left-color: var(--fill-color);\n",
              "      border-top-color: var(--fill-color);\n",
              "      border-right-color: var(--fill-color);\n",
              "    }\n",
              "    40% {\n",
              "      border-color: transparent;\n",
              "      border-right-color: var(--fill-color);\n",
              "      border-top-color: var(--fill-color);\n",
              "    }\n",
              "    60% {\n",
              "      border-color: transparent;\n",
              "      border-right-color: var(--fill-color);\n",
              "    }\n",
              "    80% {\n",
              "      border-color: transparent;\n",
              "      border-right-color: var(--fill-color);\n",
              "      border-bottom-color: var(--fill-color);\n",
              "    }\n",
              "    90% {\n",
              "      border-color: transparent;\n",
              "      border-bottom-color: var(--fill-color);\n",
              "    }\n",
              "  }\n",
              "</style>\n",
              "\n",
              "  <script>\n",
              "    async function quickchart(key) {\n",
              "      const quickchartButtonEl =\n",
              "        document.querySelector('#' + key + ' button');\n",
              "      quickchartButtonEl.disabled = true;  // To prevent multiple clicks.\n",
              "      quickchartButtonEl.classList.add('colab-df-spinner');\n",
              "      try {\n",
              "        const charts = await google.colab.kernel.invokeFunction(\n",
              "            'suggestCharts', [key], {});\n",
              "      } catch (error) {\n",
              "        console.error('Error during call to suggestCharts:', error);\n",
              "      }\n",
              "      quickchartButtonEl.classList.remove('colab-df-spinner');\n",
              "      quickchartButtonEl.classList.add('colab-df-quickchart-complete');\n",
              "    }\n",
              "    (() => {\n",
              "      let quickchartButtonEl =\n",
              "        document.querySelector('#df-9e32f032-0de3-4fe3-92be-3da304556a4d button');\n",
              "      quickchartButtonEl.style.display =\n",
              "        google.colab.kernel.accessAllowed ? 'block' : 'none';\n",
              "    })();\n",
              "  </script>\n",
              "</div>\n",
              "    </div>\n",
              "  </div>\n"
            ]
          },
          "metadata": {},
          "execution_count": 66
        }
      ]
    },
    {
      "cell_type": "code",
      "source": [
        "K_all=K_all.rename(columns={'본문':'Contents'})"
      ],
      "metadata": {
        "colab": {
          "base_uri": "https://localhost:8080/"
        },
        "id": "Xy8AiiFc7EwW",
        "outputId": "222a8933-94c0-456d-a8e1-780e63ff8a0a"
      },
      "execution_count": 67,
      "outputs": [
        {
          "output_type": "stream",
          "name": "stderr",
          "text": [
            "/usr/local/lib/python3.10/dist-packages/ipykernel/ipkernel.py:283: DeprecationWarning: `should_run_async` will not call `transform_cell` automatically in the future. Please pass the result to `transformed_cell` argument and any exception that happen during thetransform in `preprocessing_exc_tuple` in IPython 7.17 and above.\n",
            "  and should_run_async(code)\n"
          ]
        }
      ]
    },
    {
      "cell_type": "code",
      "source": [
        "TARGET_COL = \"Contents\"\n",
        "PROCESSED_COL = \"ProcessedData\""
      ],
      "metadata": {
        "colab": {
          "base_uri": "https://localhost:8080/"
        },
        "id": "kam7HlCk7NqD",
        "outputId": "d4b93120-8276-4ffd-98b3-912203292980"
      },
      "execution_count": 68,
      "outputs": [
        {
          "output_type": "stream",
          "name": "stderr",
          "text": [
            "/usr/local/lib/python3.10/dist-packages/ipykernel/ipkernel.py:283: DeprecationWarning: `should_run_async` will not call `transform_cell` automatically in the future. Please pass the result to `transformed_cell` argument and any exception that happen during thetransform in `preprocessing_exc_tuple` in IPython 7.17 and above.\n",
            "  and should_run_async(code)\n"
          ]
        }
      ]
    },
    {
      "cell_type": "code",
      "source": [
        "K_all[PROCESSED_COL]=[False for _ in range(len(K_all[TARGET_COL]))]"
      ],
      "metadata": {
        "colab": {
          "base_uri": "https://localhost:8080/"
        },
        "id": "X6iNpXcN7Ns1",
        "outputId": "38452bd3-46f9-45bc-c329-129569a40380"
      },
      "execution_count": 69,
      "outputs": [
        {
          "output_type": "stream",
          "name": "stderr",
          "text": [
            "/usr/local/lib/python3.10/dist-packages/ipykernel/ipkernel.py:283: DeprecationWarning: `should_run_async` will not call `transform_cell` automatically in the future. Please pass the result to `transformed_cell` argument and any exception that happen during thetransform in `preprocessing_exc_tuple` in IPython 7.17 and above.\n",
            "  and should_run_async(code)\n"
          ]
        }
      ]
    },
    {
      "cell_type": "code",
      "source": [
        "# 개행 문자 (CRLF) 제거\n",
        "def remove_CRLF(input_str):\n",
        "    input_str = input_str.replace(\"\\n\", \" \")\n",
        "    input_str = input_str.replace(\"\\n\", \" \")\n",
        "    input_str = input_str.replace(\"\\r\", \" \")\n",
        "    input_str = input_str.replace(\"\\r\", \" \")\n",
        "\n",
        "    return input_str"
      ],
      "metadata": {
        "colab": {
          "base_uri": "https://localhost:8080/"
        },
        "id": "Qz7yVusi7Nwn",
        "outputId": "9176dcba-1d12-421d-9597-5005552b6fea"
      },
      "execution_count": 70,
      "outputs": [
        {
          "output_type": "stream",
          "name": "stderr",
          "text": [
            "/usr/local/lib/python3.10/dist-packages/ipykernel/ipkernel.py:283: DeprecationWarning: `should_run_async` will not call `transform_cell` automatically in the future. Please pass the result to `transformed_cell` argument and any exception that happen during thetransform in `preprocessing_exc_tuple` in IPython 7.17 and above.\n",
            "  and should_run_async(code)\n"
          ]
        }
      ]
    },
    {
      "cell_type": "code",
      "source": [
        "for i in range(len(K_all[TARGET_COL])):\n",
        "    K_all[PROCESSED_COL][i] = remove_CRLF(K_all[TARGET_COL][i])"
      ],
      "metadata": {
        "colab": {
          "base_uri": "https://localhost:8080/"
        },
        "id": "XTYiXwH-7Nyg",
        "outputId": "6e4aba95-233c-4674-f323-9d25ac3cfca3"
      },
      "execution_count": 71,
      "outputs": [
        {
          "output_type": "stream",
          "name": "stderr",
          "text": [
            "/usr/local/lib/python3.10/dist-packages/ipykernel/ipkernel.py:283: DeprecationWarning: `should_run_async` will not call `transform_cell` automatically in the future. Please pass the result to `transformed_cell` argument and any exception that happen during thetransform in `preprocessing_exc_tuple` in IPython 7.17 and above.\n",
            "  and should_run_async(code)\n"
          ]
        }
      ]
    },
    {
      "cell_type": "code",
      "source": [
        "# 이모티콘 문자들, 사이트 URL주소, 의미없는 문자 지우기\n",
        "def cleansing(input_str):\n",
        "    output_str = re.sub(pattern='<[U]\\+[A-Z0-9]*>', repl=' ', string=input_str)\n",
        "    output_str = re.sub(pattern='http[s]?://(?:[a-zA-Z]|[0-9]|[_$\\-@\\.&+:/?=]|[!*,]|(?:%[0-9a-fA-F_][0-9a-fA-F_]))+', repl=' ', string=output_str)\n",
        "    output_str = re.sub(pattern='^[0-9]+$', repl=' ', string=output_str)\n",
        "\n",
        "    return output_str"
      ],
      "metadata": {
        "colab": {
          "base_uri": "https://localhost:8080/"
        },
        "id": "82vWD3wN7N0p",
        "outputId": "eeb727d9-8a6f-4e6d-99bf-f8509d8c9d87"
      },
      "execution_count": 72,
      "outputs": [
        {
          "output_type": "stream",
          "name": "stderr",
          "text": [
            "/usr/local/lib/python3.10/dist-packages/ipykernel/ipkernel.py:283: DeprecationWarning: `should_run_async` will not call `transform_cell` automatically in the future. Please pass the result to `transformed_cell` argument and any exception that happen during thetransform in `preprocessing_exc_tuple` in IPython 7.17 and above.\n",
            "  and should_run_async(code)\n",
            "<>:3: DeprecationWarning: invalid escape sequence '\\+'\n",
            "<>:4: DeprecationWarning: invalid escape sequence '\\-'\n",
            "<>:3: DeprecationWarning: invalid escape sequence '\\+'\n",
            "<>:4: DeprecationWarning: invalid escape sequence '\\-'\n",
            "<ipython-input-72-9680d50ef228>:3: DeprecationWarning: invalid escape sequence '\\+'\n",
            "  output_str = re.sub(pattern='<[U]\\+[A-Z0-9]*>', repl=' ', string=input_str)\n",
            "<ipython-input-72-9680d50ef228>:4: DeprecationWarning: invalid escape sequence '\\-'\n",
            "  output_str = re.sub(pattern='http[s]?://(?:[a-zA-Z]|[0-9]|[_$\\-@\\.&+:/?=]|[!*,]|(?:%[0-9a-fA-F_][0-9a-fA-F_]))+', repl=' ', string=output_str)\n"
          ]
        }
      ]
    },
    {
      "cell_type": "code",
      "source": [
        "for i in range(len(K_all[TARGET_COL])):\n",
        "    K_all[PROCESSED_COL][i] = cleansing(K_all[PROCESSED_COL][i])"
      ],
      "metadata": {
        "colab": {
          "base_uri": "https://localhost:8080/"
        },
        "id": "zKLNTFPX7euZ",
        "outputId": "b60e8f2b-010d-4992-eb6e-12cb4d080217"
      },
      "execution_count": 73,
      "outputs": [
        {
          "output_type": "stream",
          "name": "stderr",
          "text": [
            "/usr/local/lib/python3.10/dist-packages/ipykernel/ipkernel.py:283: DeprecationWarning: `should_run_async` will not call `transform_cell` automatically in the future. Please pass the result to `transformed_cell` argument and any exception that happen during thetransform in `preprocessing_exc_tuple` in IPython 7.17 and above.\n",
            "  and should_run_async(code)\n"
          ]
        }
      ]
    },
    {
      "cell_type": "code",
      "source": [
        "import nltk\n",
        "nltk.download('punkt')"
      ],
      "metadata": {
        "colab": {
          "base_uri": "https://localhost:8080/"
        },
        "id": "_23UgQa57exH",
        "outputId": "98d668dc-9ec2-4886-f5b1-99c801f90384"
      },
      "execution_count": 76,
      "outputs": [
        {
          "output_type": "stream",
          "name": "stderr",
          "text": [
            "/usr/local/lib/python3.10/dist-packages/ipykernel/ipkernel.py:283: DeprecationWarning: `should_run_async` will not call `transform_cell` automatically in the future. Please pass the result to `transformed_cell` argument and any exception that happen during thetransform in `preprocessing_exc_tuple` in IPython 7.17 and above.\n",
            "  and should_run_async(code)\n",
            "[nltk_data] Downloading package punkt to /root/nltk_data...\n",
            "[nltk_data]   Package punkt is already up-to-date!\n"
          ]
        },
        {
          "output_type": "execute_result",
          "data": {
            "text/plain": [
              "True"
            ]
          },
          "metadata": {},
          "execution_count": 76
        }
      ]
    },
    {
      "cell_type": "code",
      "source": [
        " # 불용어 제거 단계\n",
        "from nltk.corpus import stopwords\n",
        "from nltk.tokenize import word_tokenize"
      ],
      "metadata": {
        "colab": {
          "base_uri": "https://localhost:8080/"
        },
        "id": "WNSW3BAa7e0H",
        "outputId": "1f9f738b-9832-4df8-a93e-1a8593e2c341"
      },
      "execution_count": 75,
      "outputs": [
        {
          "output_type": "stream",
          "name": "stderr",
          "text": [
            "/usr/local/lib/python3.10/dist-packages/ipykernel/ipkernel.py:283: DeprecationWarning: `should_run_async` will not call `transform_cell` automatically in the future. Please pass the result to `transformed_cell` argument and any exception that happen during thetransform in `preprocessing_exc_tuple` in IPython 7.17 and above.\n",
            "  and should_run_async(code)\n"
          ]
        }
      ]
    },
    {
      "cell_type": "code",
      "source": [
        "stopwords_df = pd.read_excel(\"/content/drive/MyDrive/졸업논문/AI Media/stopwords.xlsx\")"
      ],
      "metadata": {
        "colab": {
          "base_uri": "https://localhost:8080/"
        },
        "id": "MpciEKTV7e2t",
        "outputId": "2a8161f9-42c2-4a89-f033-bde540e95448"
      },
      "execution_count": 77,
      "outputs": [
        {
          "output_type": "stream",
          "name": "stderr",
          "text": [
            "/usr/local/lib/python3.10/dist-packages/ipykernel/ipkernel.py:283: DeprecationWarning: `should_run_async` will not call `transform_cell` automatically in the future. Please pass the result to `transformed_cell` argument and any exception that happen during thetransform in `preprocessing_exc_tuple` in IPython 7.17 and above.\n",
            "  and should_run_async(code)\n"
          ]
        }
      ]
    },
    {
      "cell_type": "code",
      "source": [
        "stop_words = set(stopwords_df['stopword'].str.lower())"
      ],
      "metadata": {
        "colab": {
          "base_uri": "https://localhost:8080/"
        },
        "id": "Aca48mxO8cjI",
        "outputId": "5cc8d06a-0117-4b34-c3e5-c1af3c2684a1"
      },
      "execution_count": 78,
      "outputs": [
        {
          "output_type": "stream",
          "name": "stderr",
          "text": [
            "/usr/local/lib/python3.10/dist-packages/ipykernel/ipkernel.py:283: DeprecationWarning: `should_run_async` will not call `transform_cell` automatically in the future. Please pass the result to `transformed_cell` argument and any exception that happen during thetransform in `preprocessing_exc_tuple` in IPython 7.17 and above.\n",
            "  and should_run_async(code)\n"
          ]
        }
      ]
    },
    {
      "cell_type": "code",
      "source": [
        "# 불용어 제거 함수 정의\n",
        "def remove_stopwords(text):\n",
        "    word_tokens = word_tokenize(text)\n",
        "    filtered_text = [word for word in word_tokens if word.casefold() not in stop_words]\n",
        "    return ' '.join(filtered_text)"
      ],
      "metadata": {
        "colab": {
          "base_uri": "https://localhost:8080/"
        },
        "id": "w9I_QSei8csC",
        "outputId": "4f97f6d7-3ac3-4ddb-b8b2-b6a4485dfdf8"
      },
      "execution_count": 79,
      "outputs": [
        {
          "output_type": "stream",
          "name": "stderr",
          "text": [
            "/usr/local/lib/python3.10/dist-packages/ipykernel/ipkernel.py:283: DeprecationWarning: `should_run_async` will not call `transform_cell` automatically in the future. Please pass the result to `transformed_cell` argument and any exception that happen during thetransform in `preprocessing_exc_tuple` in IPython 7.17 and above.\n",
            "  and should_run_async(code)\n"
          ]
        }
      ]
    },
    {
      "cell_type": "code",
      "source": [
        "for i in tqdm(range(len(K_all[TARGET_COL]))):\n",
        "    K_all[PROCESSED_COL][i] = remove_stopwords(K_all[PROCESSED_COL][i])"
      ],
      "metadata": {
        "colab": {
          "base_uri": "https://localhost:8080/"
        },
        "id": "xt1Ung7G8cvk",
        "outputId": "5519e8d4-3c66-4195-8137-e26b1a0b26e3"
      },
      "execution_count": 80,
      "outputs": [
        {
          "output_type": "stream",
          "name": "stderr",
          "text": [
            "/usr/local/lib/python3.10/dist-packages/ipykernel/ipkernel.py:283: DeprecationWarning: `should_run_async` will not call `transform_cell` automatically in the future. Please pass the result to `transformed_cell` argument and any exception that happen during thetransform in `preprocessing_exc_tuple` in IPython 7.17 and above.\n",
            "  and should_run_async(code)\n",
            "100%|██████████| 32806/32806 [00:16<00:00, 2009.36it/s]\n"
          ]
        }
      ]
    },
    {
      "cell_type": "code",
      "source": [
        "K_all.head()"
      ],
      "metadata": {
        "colab": {
          "base_uri": "https://localhost:8080/",
          "height": 261
        },
        "id": "OuyhFpgu8cyi",
        "outputId": "a994ee12-1b91-49e7-a9f9-2dd5dbc0bb39"
      },
      "execution_count": 81,
      "outputs": [
        {
          "output_type": "stream",
          "name": "stderr",
          "text": [
            "/usr/local/lib/python3.10/dist-packages/ipykernel/ipkernel.py:283: DeprecationWarning: `should_run_async` will not call `transform_cell` automatically in the future. Please pass the result to `transformed_cell` argument and any exception that happen during thetransform in `preprocessing_exc_tuple` in IPython 7.17 and above.\n",
            "  and should_run_async(code)\n"
          ]
        },
        {
          "output_type": "execute_result",
          "data": {
            "text/plain": [
              "                                            Contents  \\\n",
              "0  올 들어 이달 20일까지 338억4000만달러의 무역적자가 났다. 연간 기준 역대 ...   \n",
              "1  [앵커]\\n최근 각종 악재가 겹치면서 국내 경제를 둘러싼 우려가 커지고 있습니다.\\...   \n",
              "2  미 중 갈등이 격화하는 가운데 중국의 미국 유럽 상대 수출은 크게 감소한 반면 러시...   \n",
              "3  \"인플레이션(Inflation 전반적인 물가 수준 상승)에 대응하기 위해 금리를 올...   \n",
              "4  '시진핑(習近平) 3기로 인한 '차이나런'의 불똥이 원화로 튀었다. 25일 원화가치...   \n",
              "\n",
              "                                       ProcessedData  \n",
              "0  올 들어 이달 20일까지 338억4000만달러의 무역적자가 났다 . 연간 기준 역대...  \n",
              "1  [ 앵커 ] 악재가 겹치면서 국내 경제를 둘러싼 우려가 커지고 . 국제통화기금 , ...  \n",
              "2  미 중 갈등이 격화하는 가운데 중국의 미국 유럽 수출은 크게 감소한 반면 러시아 수...  \n",
              "3  `` 인플레이션 ( Inflation 전반적인 물가 수준 상승 ) 대응하기 위해 금...  \n",
              "4  '시진핑 ( 習近平 ) 3기로 인한 '차이나런 ' 불똥이 원화로 튀었다 . 25일 ...  "
            ],
            "text/html": [
              "\n",
              "  <div id=\"df-170d0bb6-546c-4974-880f-76bbc1a4b249\" class=\"colab-df-container\">\n",
              "    <div>\n",
              "<style scoped>\n",
              "    .dataframe tbody tr th:only-of-type {\n",
              "        vertical-align: middle;\n",
              "    }\n",
              "\n",
              "    .dataframe tbody tr th {\n",
              "        vertical-align: top;\n",
              "    }\n",
              "\n",
              "    .dataframe thead th {\n",
              "        text-align: right;\n",
              "    }\n",
              "</style>\n",
              "<table border=\"1\" class=\"dataframe\">\n",
              "  <thead>\n",
              "    <tr style=\"text-align: right;\">\n",
              "      <th></th>\n",
              "      <th>Contents</th>\n",
              "      <th>ProcessedData</th>\n",
              "    </tr>\n",
              "  </thead>\n",
              "  <tbody>\n",
              "    <tr>\n",
              "      <th>0</th>\n",
              "      <td>올 들어 이달 20일까지 338억4000만달러의 무역적자가 났다. 연간 기준 역대 ...</td>\n",
              "      <td>올 들어 이달 20일까지 338억4000만달러의 무역적자가 났다 . 연간 기준 역대...</td>\n",
              "    </tr>\n",
              "    <tr>\n",
              "      <th>1</th>\n",
              "      <td>[앵커]\\n최근 각종 악재가 겹치면서 국내 경제를 둘러싼 우려가 커지고 있습니다.\\...</td>\n",
              "      <td>[ 앵커 ] 악재가 겹치면서 국내 경제를 둘러싼 우려가 커지고 . 국제통화기금 , ...</td>\n",
              "    </tr>\n",
              "    <tr>\n",
              "      <th>2</th>\n",
              "      <td>미 중 갈등이 격화하는 가운데 중국의 미국 유럽 상대 수출은 크게 감소한 반면 러시...</td>\n",
              "      <td>미 중 갈등이 격화하는 가운데 중국의 미국 유럽 수출은 크게 감소한 반면 러시아 수...</td>\n",
              "    </tr>\n",
              "    <tr>\n",
              "      <th>3</th>\n",
              "      <td>\"인플레이션(Inflation 전반적인 물가 수준 상승)에 대응하기 위해 금리를 올...</td>\n",
              "      <td>`` 인플레이션 ( Inflation 전반적인 물가 수준 상승 ) 대응하기 위해 금...</td>\n",
              "    </tr>\n",
              "    <tr>\n",
              "      <th>4</th>\n",
              "      <td>'시진핑(習近平) 3기로 인한 '차이나런'의 불똥이 원화로 튀었다. 25일 원화가치...</td>\n",
              "      <td>'시진핑 ( 習近平 ) 3기로 인한 '차이나런 ' 불똥이 원화로 튀었다 . 25일 ...</td>\n",
              "    </tr>\n",
              "  </tbody>\n",
              "</table>\n",
              "</div>\n",
              "    <div class=\"colab-df-buttons\">\n",
              "\n",
              "  <div class=\"colab-df-container\">\n",
              "    <button class=\"colab-df-convert\" onclick=\"convertToInteractive('df-170d0bb6-546c-4974-880f-76bbc1a4b249')\"\n",
              "            title=\"Convert this dataframe to an interactive table.\"\n",
              "            style=\"display:none;\">\n",
              "\n",
              "  <svg xmlns=\"http://www.w3.org/2000/svg\" height=\"24px\" viewBox=\"0 -960 960 960\">\n",
              "    <path d=\"M120-120v-720h720v720H120Zm60-500h600v-160H180v160Zm220 220h160v-160H400v160Zm0 220h160v-160H400v160ZM180-400h160v-160H180v160Zm440 0h160v-160H620v160ZM180-180h160v-160H180v160Zm440 0h160v-160H620v160Z\"/>\n",
              "  </svg>\n",
              "    </button>\n",
              "\n",
              "  <style>\n",
              "    .colab-df-container {\n",
              "      display:flex;\n",
              "      gap: 12px;\n",
              "    }\n",
              "\n",
              "    .colab-df-convert {\n",
              "      background-color: #E8F0FE;\n",
              "      border: none;\n",
              "      border-radius: 50%;\n",
              "      cursor: pointer;\n",
              "      display: none;\n",
              "      fill: #1967D2;\n",
              "      height: 32px;\n",
              "      padding: 0 0 0 0;\n",
              "      width: 32px;\n",
              "    }\n",
              "\n",
              "    .colab-df-convert:hover {\n",
              "      background-color: #E2EBFA;\n",
              "      box-shadow: 0px 1px 2px rgba(60, 64, 67, 0.3), 0px 1px 3px 1px rgba(60, 64, 67, 0.15);\n",
              "      fill: #174EA6;\n",
              "    }\n",
              "\n",
              "    .colab-df-buttons div {\n",
              "      margin-bottom: 4px;\n",
              "    }\n",
              "\n",
              "    [theme=dark] .colab-df-convert {\n",
              "      background-color: #3B4455;\n",
              "      fill: #D2E3FC;\n",
              "    }\n",
              "\n",
              "    [theme=dark] .colab-df-convert:hover {\n",
              "      background-color: #434B5C;\n",
              "      box-shadow: 0px 1px 3px 1px rgba(0, 0, 0, 0.15);\n",
              "      filter: drop-shadow(0px 1px 2px rgba(0, 0, 0, 0.3));\n",
              "      fill: #FFFFFF;\n",
              "    }\n",
              "  </style>\n",
              "\n",
              "    <script>\n",
              "      const buttonEl =\n",
              "        document.querySelector('#df-170d0bb6-546c-4974-880f-76bbc1a4b249 button.colab-df-convert');\n",
              "      buttonEl.style.display =\n",
              "        google.colab.kernel.accessAllowed ? 'block' : 'none';\n",
              "\n",
              "      async function convertToInteractive(key) {\n",
              "        const element = document.querySelector('#df-170d0bb6-546c-4974-880f-76bbc1a4b249');\n",
              "        const dataTable =\n",
              "          await google.colab.kernel.invokeFunction('convertToInteractive',\n",
              "                                                    [key], {});\n",
              "        if (!dataTable) return;\n",
              "\n",
              "        const docLinkHtml = 'Like what you see? Visit the ' +\n",
              "          '<a target=\"_blank\" href=https://colab.research.google.com/notebooks/data_table.ipynb>data table notebook</a>'\n",
              "          + ' to learn more about interactive tables.';\n",
              "        element.innerHTML = '';\n",
              "        dataTable['output_type'] = 'display_data';\n",
              "        await google.colab.output.renderOutput(dataTable, element);\n",
              "        const docLink = document.createElement('div');\n",
              "        docLink.innerHTML = docLinkHtml;\n",
              "        element.appendChild(docLink);\n",
              "      }\n",
              "    </script>\n",
              "  </div>\n",
              "\n",
              "\n",
              "<div id=\"df-cef8c4f7-6f00-4f04-bfa5-589b13828265\">\n",
              "  <button class=\"colab-df-quickchart\" onclick=\"quickchart('df-cef8c4f7-6f00-4f04-bfa5-589b13828265')\"\n",
              "            title=\"Suggest charts.\"\n",
              "            style=\"display:none;\">\n",
              "\n",
              "<svg xmlns=\"http://www.w3.org/2000/svg\" height=\"24px\"viewBox=\"0 0 24 24\"\n",
              "     width=\"24px\">\n",
              "    <g>\n",
              "        <path d=\"M19 3H5c-1.1 0-2 .9-2 2v14c0 1.1.9 2 2 2h14c1.1 0 2-.9 2-2V5c0-1.1-.9-2-2-2zM9 17H7v-7h2v7zm4 0h-2V7h2v10zm4 0h-2v-4h2v4z\"/>\n",
              "    </g>\n",
              "</svg>\n",
              "  </button>\n",
              "\n",
              "<style>\n",
              "  .colab-df-quickchart {\n",
              "      --bg-color: #E8F0FE;\n",
              "      --fill-color: #1967D2;\n",
              "      --hover-bg-color: #E2EBFA;\n",
              "      --hover-fill-color: #174EA6;\n",
              "      --disabled-fill-color: #AAA;\n",
              "      --disabled-bg-color: #DDD;\n",
              "  }\n",
              "\n",
              "  [theme=dark] .colab-df-quickchart {\n",
              "      --bg-color: #3B4455;\n",
              "      --fill-color: #D2E3FC;\n",
              "      --hover-bg-color: #434B5C;\n",
              "      --hover-fill-color: #FFFFFF;\n",
              "      --disabled-bg-color: #3B4455;\n",
              "      --disabled-fill-color: #666;\n",
              "  }\n",
              "\n",
              "  .colab-df-quickchart {\n",
              "    background-color: var(--bg-color);\n",
              "    border: none;\n",
              "    border-radius: 50%;\n",
              "    cursor: pointer;\n",
              "    display: none;\n",
              "    fill: var(--fill-color);\n",
              "    height: 32px;\n",
              "    padding: 0;\n",
              "    width: 32px;\n",
              "  }\n",
              "\n",
              "  .colab-df-quickchart:hover {\n",
              "    background-color: var(--hover-bg-color);\n",
              "    box-shadow: 0 1px 2px rgba(60, 64, 67, 0.3), 0 1px 3px 1px rgba(60, 64, 67, 0.15);\n",
              "    fill: var(--button-hover-fill-color);\n",
              "  }\n",
              "\n",
              "  .colab-df-quickchart-complete:disabled,\n",
              "  .colab-df-quickchart-complete:disabled:hover {\n",
              "    background-color: var(--disabled-bg-color);\n",
              "    fill: var(--disabled-fill-color);\n",
              "    box-shadow: none;\n",
              "  }\n",
              "\n",
              "  .colab-df-spinner {\n",
              "    border: 2px solid var(--fill-color);\n",
              "    border-color: transparent;\n",
              "    border-bottom-color: var(--fill-color);\n",
              "    animation:\n",
              "      spin 1s steps(1) infinite;\n",
              "  }\n",
              "\n",
              "  @keyframes spin {\n",
              "    0% {\n",
              "      border-color: transparent;\n",
              "      border-bottom-color: var(--fill-color);\n",
              "      border-left-color: var(--fill-color);\n",
              "    }\n",
              "    20% {\n",
              "      border-color: transparent;\n",
              "      border-left-color: var(--fill-color);\n",
              "      border-top-color: var(--fill-color);\n",
              "    }\n",
              "    30% {\n",
              "      border-color: transparent;\n",
              "      border-left-color: var(--fill-color);\n",
              "      border-top-color: var(--fill-color);\n",
              "      border-right-color: var(--fill-color);\n",
              "    }\n",
              "    40% {\n",
              "      border-color: transparent;\n",
              "      border-right-color: var(--fill-color);\n",
              "      border-top-color: var(--fill-color);\n",
              "    }\n",
              "    60% {\n",
              "      border-color: transparent;\n",
              "      border-right-color: var(--fill-color);\n",
              "    }\n",
              "    80% {\n",
              "      border-color: transparent;\n",
              "      border-right-color: var(--fill-color);\n",
              "      border-bottom-color: var(--fill-color);\n",
              "    }\n",
              "    90% {\n",
              "      border-color: transparent;\n",
              "      border-bottom-color: var(--fill-color);\n",
              "    }\n",
              "  }\n",
              "</style>\n",
              "\n",
              "  <script>\n",
              "    async function quickchart(key) {\n",
              "      const quickchartButtonEl =\n",
              "        document.querySelector('#' + key + ' button');\n",
              "      quickchartButtonEl.disabled = true;  // To prevent multiple clicks.\n",
              "      quickchartButtonEl.classList.add('colab-df-spinner');\n",
              "      try {\n",
              "        const charts = await google.colab.kernel.invokeFunction(\n",
              "            'suggestCharts', [key], {});\n",
              "      } catch (error) {\n",
              "        console.error('Error during call to suggestCharts:', error);\n",
              "      }\n",
              "      quickchartButtonEl.classList.remove('colab-df-spinner');\n",
              "      quickchartButtonEl.classList.add('colab-df-quickchart-complete');\n",
              "    }\n",
              "    (() => {\n",
              "      let quickchartButtonEl =\n",
              "        document.querySelector('#df-cef8c4f7-6f00-4f04-bfa5-589b13828265 button');\n",
              "      quickchartButtonEl.style.display =\n",
              "        google.colab.kernel.accessAllowed ? 'block' : 'none';\n",
              "    })();\n",
              "  </script>\n",
              "</div>\n",
              "    </div>\n",
              "  </div>\n"
            ]
          },
          "metadata": {},
          "execution_count": 81
        }
      ]
    },
    {
      "cell_type": "code",
      "source": [
        "K_all.to_csv('/content/drive/MyDrive/최근/빅데이터/코로나와 무역/rawdata(20210101~20231026)_20231028/K_all_remove_stopwords.csv',index=False)"
      ],
      "metadata": {
        "colab": {
          "base_uri": "https://localhost:8080/"
        },
        "id": "yhKy6SbP8c17",
        "outputId": "6f378155-92c1-4a03-ce6c-d261dd24e423"
      },
      "execution_count": 82,
      "outputs": [
        {
          "output_type": "stream",
          "name": "stderr",
          "text": [
            "/usr/local/lib/python3.10/dist-packages/ipykernel/ipkernel.py:283: DeprecationWarning: `should_run_async` will not call `transform_cell` automatically in the future. Please pass the result to `transformed_cell` argument and any exception that happen during thetransform in `preprocessing_exc_tuple` in IPython 7.17 and above.\n",
            "  and should_run_async(code)\n"
          ]
        }
      ]
    },
    {
      "cell_type": "code",
      "source": [
        "!pip install konlpy\n",
        "!pip install mecab-python\n",
        "!bash <(curl -s https://raw.githubusercontent.com/konlpy/konlpy/master/scripts/mecab.sh)\n",
        "from konlpy.tag import Mecab\n",
        "mecab = Mecab()"
      ],
      "metadata": {
        "id": "-zqNbxig8o3l"
      },
      "execution_count": null,
      "outputs": []
    },
    {
      "cell_type": "code",
      "source": [
        "# 토큰화_명사만 남기기 (*mecab.morphs를 사용해 나온 결과는 별로였어서 아래처름 mecab.nouns로 명사만 추출)\n",
        "def tokenize_and_filter(text):\n",
        "    tokens = mecab.nouns(text)  # 텍스트에서 명사만 추출합니다\n",
        "    tokens = [token for token in tokens if len(token) > 1]  # 길이가 1보다 큰 토큰만 선택합니다\n",
        "    return tokens"
      ],
      "metadata": {
        "colab": {
          "base_uri": "https://localhost:8080/"
        },
        "id": "aCE-OcpY8o6j",
        "outputId": "54f858b4-06ed-4ac3-dae3-0db821e4c1cd"
      },
      "execution_count": 84,
      "outputs": [
        {
          "output_type": "stream",
          "name": "stderr",
          "text": [
            "/usr/local/lib/python3.10/dist-packages/ipykernel/ipkernel.py:283: DeprecationWarning: `should_run_async` will not call `transform_cell` automatically in the future. Please pass the result to `transformed_cell` argument and any exception that happen during thetransform in `preprocessing_exc_tuple` in IPython 7.17 and above.\n",
            "  and should_run_async(code)\n"
          ]
        }
      ]
    },
    {
      "cell_type": "code",
      "source": [
        "for i in tqdm(range(len(K_all[TARGET_COL]))):\n",
        "    # List of strings to single string\n",
        "    if isinstance(K_all[PROCESSED_COL][i], list):\n",
        "        input_string = ' '.join(K_all[PROCESSED_COL][i])\n",
        "    else:\n",
        "        input_string = K_all[PROCESSED_COL][i]\n",
        "    K_all[PROCESSED_COL][i] = tokenize_and_filter(input_string)"
      ],
      "metadata": {
        "colab": {
          "base_uri": "https://localhost:8080/"
        },
        "id": "94jBPRY_8o_l",
        "outputId": "fe173324-f940-4a81-bd5c-bda535aebd7a"
      },
      "execution_count": 85,
      "outputs": [
        {
          "output_type": "stream",
          "name": "stderr",
          "text": [
            "/usr/local/lib/python3.10/dist-packages/ipykernel/ipkernel.py:283: DeprecationWarning: `should_run_async` will not call `transform_cell` automatically in the future. Please pass the result to `transformed_cell` argument and any exception that happen during thetransform in `preprocessing_exc_tuple` in IPython 7.17 and above.\n",
            "  and should_run_async(code)\n",
            "100%|██████████| 32806/32806 [00:13<00:00, 2521.36it/s]\n"
          ]
        }
      ]
    },
    {
      "cell_type": "code",
      "source": [
        "K_all.head()"
      ],
      "metadata": {
        "colab": {
          "base_uri": "https://localhost:8080/",
          "height": 261
        },
        "id": "rZiYBBpQ-VUA",
        "outputId": "b0f01f1a-4740-4950-c80b-342c301228d1"
      },
      "execution_count": 86,
      "outputs": [
        {
          "output_type": "stream",
          "name": "stderr",
          "text": [
            "/usr/local/lib/python3.10/dist-packages/ipykernel/ipkernel.py:283: DeprecationWarning: `should_run_async` will not call `transform_cell` automatically in the future. Please pass the result to `transformed_cell` argument and any exception that happen during thetransform in `preprocessing_exc_tuple` in IPython 7.17 and above.\n",
            "  and should_run_async(code)\n"
          ]
        },
        {
          "output_type": "execute_result",
          "data": {
            "text/plain": [
              "                                            Contents  \\\n",
              "0  올 들어 이달 20일까지 338억4000만달러의 무역적자가 났다. 연간 기준 역대 ...   \n",
              "1  [앵커]\\n최근 각종 악재가 겹치면서 국내 경제를 둘러싼 우려가 커지고 있습니다.\\...   \n",
              "2  미 중 갈등이 격화하는 가운데 중국의 미국 유럽 상대 수출은 크게 감소한 반면 러시...   \n",
              "3  \"인플레이션(Inflation 전반적인 물가 수준 상승)에 대응하기 위해 금리를 올...   \n",
              "4  '시진핑(習近平) 3기로 인한 '차이나런'의 불똥이 원화로 튀었다. 25일 원화가치...   \n",
              "\n",
              "                                       ProcessedData  \n",
              "0  [이달, 달러, 무역, 적자, 연간, 기준, 역대, 최대, 달러, 기록, 추세, 무...  \n",
              "1  [앵커, 악재, 국내, 경제, 우려, 국제통화기금, 경제, 기초, 체력, 문제, 성...  \n",
              "2  [갈등, 격화, 가운데, 중국, 미국, 유럽, 수출, 감소, 반면, 러시아, 수출,...  \n",
              "3  [인플레이션, 전반, 물가, 수준, 상승, 대응, 금리, 성장, 전망, 악영향, 통...  \n",
              "4  [시진핑, 차이, 불똥, 원화, 원화, 가치, 장중, 연중, 최저, 추락, 미국, ...  "
            ],
            "text/html": [
              "\n",
              "  <div id=\"df-7452bc8f-9bbd-4ec1-a864-7ca49c87f738\" class=\"colab-df-container\">\n",
              "    <div>\n",
              "<style scoped>\n",
              "    .dataframe tbody tr th:only-of-type {\n",
              "        vertical-align: middle;\n",
              "    }\n",
              "\n",
              "    .dataframe tbody tr th {\n",
              "        vertical-align: top;\n",
              "    }\n",
              "\n",
              "    .dataframe thead th {\n",
              "        text-align: right;\n",
              "    }\n",
              "</style>\n",
              "<table border=\"1\" class=\"dataframe\">\n",
              "  <thead>\n",
              "    <tr style=\"text-align: right;\">\n",
              "      <th></th>\n",
              "      <th>Contents</th>\n",
              "      <th>ProcessedData</th>\n",
              "    </tr>\n",
              "  </thead>\n",
              "  <tbody>\n",
              "    <tr>\n",
              "      <th>0</th>\n",
              "      <td>올 들어 이달 20일까지 338억4000만달러의 무역적자가 났다. 연간 기준 역대 ...</td>\n",
              "      <td>[이달, 달러, 무역, 적자, 연간, 기준, 역대, 최대, 달러, 기록, 추세, 무...</td>\n",
              "    </tr>\n",
              "    <tr>\n",
              "      <th>1</th>\n",
              "      <td>[앵커]\\n최근 각종 악재가 겹치면서 국내 경제를 둘러싼 우려가 커지고 있습니다.\\...</td>\n",
              "      <td>[앵커, 악재, 국내, 경제, 우려, 국제통화기금, 경제, 기초, 체력, 문제, 성...</td>\n",
              "    </tr>\n",
              "    <tr>\n",
              "      <th>2</th>\n",
              "      <td>미 중 갈등이 격화하는 가운데 중국의 미국 유럽 상대 수출은 크게 감소한 반면 러시...</td>\n",
              "      <td>[갈등, 격화, 가운데, 중국, 미국, 유럽, 수출, 감소, 반면, 러시아, 수출,...</td>\n",
              "    </tr>\n",
              "    <tr>\n",
              "      <th>3</th>\n",
              "      <td>\"인플레이션(Inflation 전반적인 물가 수준 상승)에 대응하기 위해 금리를 올...</td>\n",
              "      <td>[인플레이션, 전반, 물가, 수준, 상승, 대응, 금리, 성장, 전망, 악영향, 통...</td>\n",
              "    </tr>\n",
              "    <tr>\n",
              "      <th>4</th>\n",
              "      <td>'시진핑(習近平) 3기로 인한 '차이나런'의 불똥이 원화로 튀었다. 25일 원화가치...</td>\n",
              "      <td>[시진핑, 차이, 불똥, 원화, 원화, 가치, 장중, 연중, 최저, 추락, 미국, ...</td>\n",
              "    </tr>\n",
              "  </tbody>\n",
              "</table>\n",
              "</div>\n",
              "    <div class=\"colab-df-buttons\">\n",
              "\n",
              "  <div class=\"colab-df-container\">\n",
              "    <button class=\"colab-df-convert\" onclick=\"convertToInteractive('df-7452bc8f-9bbd-4ec1-a864-7ca49c87f738')\"\n",
              "            title=\"Convert this dataframe to an interactive table.\"\n",
              "            style=\"display:none;\">\n",
              "\n",
              "  <svg xmlns=\"http://www.w3.org/2000/svg\" height=\"24px\" viewBox=\"0 -960 960 960\">\n",
              "    <path d=\"M120-120v-720h720v720H120Zm60-500h600v-160H180v160Zm220 220h160v-160H400v160Zm0 220h160v-160H400v160ZM180-400h160v-160H180v160Zm440 0h160v-160H620v160ZM180-180h160v-160H180v160Zm440 0h160v-160H620v160Z\"/>\n",
              "  </svg>\n",
              "    </button>\n",
              "\n",
              "  <style>\n",
              "    .colab-df-container {\n",
              "      display:flex;\n",
              "      gap: 12px;\n",
              "    }\n",
              "\n",
              "    .colab-df-convert {\n",
              "      background-color: #E8F0FE;\n",
              "      border: none;\n",
              "      border-radius: 50%;\n",
              "      cursor: pointer;\n",
              "      display: none;\n",
              "      fill: #1967D2;\n",
              "      height: 32px;\n",
              "      padding: 0 0 0 0;\n",
              "      width: 32px;\n",
              "    }\n",
              "\n",
              "    .colab-df-convert:hover {\n",
              "      background-color: #E2EBFA;\n",
              "      box-shadow: 0px 1px 2px rgba(60, 64, 67, 0.3), 0px 1px 3px 1px rgba(60, 64, 67, 0.15);\n",
              "      fill: #174EA6;\n",
              "    }\n",
              "\n",
              "    .colab-df-buttons div {\n",
              "      margin-bottom: 4px;\n",
              "    }\n",
              "\n",
              "    [theme=dark] .colab-df-convert {\n",
              "      background-color: #3B4455;\n",
              "      fill: #D2E3FC;\n",
              "    }\n",
              "\n",
              "    [theme=dark] .colab-df-convert:hover {\n",
              "      background-color: #434B5C;\n",
              "      box-shadow: 0px 1px 3px 1px rgba(0, 0, 0, 0.15);\n",
              "      filter: drop-shadow(0px 1px 2px rgba(0, 0, 0, 0.3));\n",
              "      fill: #FFFFFF;\n",
              "    }\n",
              "  </style>\n",
              "\n",
              "    <script>\n",
              "      const buttonEl =\n",
              "        document.querySelector('#df-7452bc8f-9bbd-4ec1-a864-7ca49c87f738 button.colab-df-convert');\n",
              "      buttonEl.style.display =\n",
              "        google.colab.kernel.accessAllowed ? 'block' : 'none';\n",
              "\n",
              "      async function convertToInteractive(key) {\n",
              "        const element = document.querySelector('#df-7452bc8f-9bbd-4ec1-a864-7ca49c87f738');\n",
              "        const dataTable =\n",
              "          await google.colab.kernel.invokeFunction('convertToInteractive',\n",
              "                                                    [key], {});\n",
              "        if (!dataTable) return;\n",
              "\n",
              "        const docLinkHtml = 'Like what you see? Visit the ' +\n",
              "          '<a target=\"_blank\" href=https://colab.research.google.com/notebooks/data_table.ipynb>data table notebook</a>'\n",
              "          + ' to learn more about interactive tables.';\n",
              "        element.innerHTML = '';\n",
              "        dataTable['output_type'] = 'display_data';\n",
              "        await google.colab.output.renderOutput(dataTable, element);\n",
              "        const docLink = document.createElement('div');\n",
              "        docLink.innerHTML = docLinkHtml;\n",
              "        element.appendChild(docLink);\n",
              "      }\n",
              "    </script>\n",
              "  </div>\n",
              "\n",
              "\n",
              "<div id=\"df-b6d0b840-112b-4a14-81e3-a88e5123c809\">\n",
              "  <button class=\"colab-df-quickchart\" onclick=\"quickchart('df-b6d0b840-112b-4a14-81e3-a88e5123c809')\"\n",
              "            title=\"Suggest charts.\"\n",
              "            style=\"display:none;\">\n",
              "\n",
              "<svg xmlns=\"http://www.w3.org/2000/svg\" height=\"24px\"viewBox=\"0 0 24 24\"\n",
              "     width=\"24px\">\n",
              "    <g>\n",
              "        <path d=\"M19 3H5c-1.1 0-2 .9-2 2v14c0 1.1.9 2 2 2h14c1.1 0 2-.9 2-2V5c0-1.1-.9-2-2-2zM9 17H7v-7h2v7zm4 0h-2V7h2v10zm4 0h-2v-4h2v4z\"/>\n",
              "    </g>\n",
              "</svg>\n",
              "  </button>\n",
              "\n",
              "<style>\n",
              "  .colab-df-quickchart {\n",
              "      --bg-color: #E8F0FE;\n",
              "      --fill-color: #1967D2;\n",
              "      --hover-bg-color: #E2EBFA;\n",
              "      --hover-fill-color: #174EA6;\n",
              "      --disabled-fill-color: #AAA;\n",
              "      --disabled-bg-color: #DDD;\n",
              "  }\n",
              "\n",
              "  [theme=dark] .colab-df-quickchart {\n",
              "      --bg-color: #3B4455;\n",
              "      --fill-color: #D2E3FC;\n",
              "      --hover-bg-color: #434B5C;\n",
              "      --hover-fill-color: #FFFFFF;\n",
              "      --disabled-bg-color: #3B4455;\n",
              "      --disabled-fill-color: #666;\n",
              "  }\n",
              "\n",
              "  .colab-df-quickchart {\n",
              "    background-color: var(--bg-color);\n",
              "    border: none;\n",
              "    border-radius: 50%;\n",
              "    cursor: pointer;\n",
              "    display: none;\n",
              "    fill: var(--fill-color);\n",
              "    height: 32px;\n",
              "    padding: 0;\n",
              "    width: 32px;\n",
              "  }\n",
              "\n",
              "  .colab-df-quickchart:hover {\n",
              "    background-color: var(--hover-bg-color);\n",
              "    box-shadow: 0 1px 2px rgba(60, 64, 67, 0.3), 0 1px 3px 1px rgba(60, 64, 67, 0.15);\n",
              "    fill: var(--button-hover-fill-color);\n",
              "  }\n",
              "\n",
              "  .colab-df-quickchart-complete:disabled,\n",
              "  .colab-df-quickchart-complete:disabled:hover {\n",
              "    background-color: var(--disabled-bg-color);\n",
              "    fill: var(--disabled-fill-color);\n",
              "    box-shadow: none;\n",
              "  }\n",
              "\n",
              "  .colab-df-spinner {\n",
              "    border: 2px solid var(--fill-color);\n",
              "    border-color: transparent;\n",
              "    border-bottom-color: var(--fill-color);\n",
              "    animation:\n",
              "      spin 1s steps(1) infinite;\n",
              "  }\n",
              "\n",
              "  @keyframes spin {\n",
              "    0% {\n",
              "      border-color: transparent;\n",
              "      border-bottom-color: var(--fill-color);\n",
              "      border-left-color: var(--fill-color);\n",
              "    }\n",
              "    20% {\n",
              "      border-color: transparent;\n",
              "      border-left-color: var(--fill-color);\n",
              "      border-top-color: var(--fill-color);\n",
              "    }\n",
              "    30% {\n",
              "      border-color: transparent;\n",
              "      border-left-color: var(--fill-color);\n",
              "      border-top-color: var(--fill-color);\n",
              "      border-right-color: var(--fill-color);\n",
              "    }\n",
              "    40% {\n",
              "      border-color: transparent;\n",
              "      border-right-color: var(--fill-color);\n",
              "      border-top-color: var(--fill-color);\n",
              "    }\n",
              "    60% {\n",
              "      border-color: transparent;\n",
              "      border-right-color: var(--fill-color);\n",
              "    }\n",
              "    80% {\n",
              "      border-color: transparent;\n",
              "      border-right-color: var(--fill-color);\n",
              "      border-bottom-color: var(--fill-color);\n",
              "    }\n",
              "    90% {\n",
              "      border-color: transparent;\n",
              "      border-bottom-color: var(--fill-color);\n",
              "    }\n",
              "  }\n",
              "</style>\n",
              "\n",
              "  <script>\n",
              "    async function quickchart(key) {\n",
              "      const quickchartButtonEl =\n",
              "        document.querySelector('#' + key + ' button');\n",
              "      quickchartButtonEl.disabled = true;  // To prevent multiple clicks.\n",
              "      quickchartButtonEl.classList.add('colab-df-spinner');\n",
              "      try {\n",
              "        const charts = await google.colab.kernel.invokeFunction(\n",
              "            'suggestCharts', [key], {});\n",
              "      } catch (error) {\n",
              "        console.error('Error during call to suggestCharts:', error);\n",
              "      }\n",
              "      quickchartButtonEl.classList.remove('colab-df-spinner');\n",
              "      quickchartButtonEl.classList.add('colab-df-quickchart-complete');\n",
              "    }\n",
              "    (() => {\n",
              "      let quickchartButtonEl =\n",
              "        document.querySelector('#df-b6d0b840-112b-4a14-81e3-a88e5123c809 button');\n",
              "      quickchartButtonEl.style.display =\n",
              "        google.colab.kernel.accessAllowed ? 'block' : 'none';\n",
              "    })();\n",
              "  </script>\n",
              "</div>\n",
              "    </div>\n",
              "  </div>\n"
            ]
          },
          "metadata": {},
          "execution_count": 86
        }
      ]
    },
    {
      "cell_type": "code",
      "source": [
        "K_all.to_csv('/content/drive/MyDrive/최근/빅데이터/코로나와 무역/rawdata(20210101~20231026)_20231028/K_all_token_words.csv',index=False)"
      ],
      "metadata": {
        "colab": {
          "base_uri": "https://localhost:8080/"
        },
        "id": "dVByLueS8pCZ",
        "outputId": "e90ee763-6e99-4c02-f3ea-99408605e1c2"
      },
      "execution_count": 87,
      "outputs": [
        {
          "output_type": "stream",
          "name": "stderr",
          "text": [
            "/usr/local/lib/python3.10/dist-packages/ipykernel/ipkernel.py:283: DeprecationWarning: `should_run_async` will not call `transform_cell` automatically in the future. Please pass the result to `transformed_cell` argument and any exception that happen during thetransform in `preprocessing_exc_tuple` in IPython 7.17 and above.\n",
            "  and should_run_async(code)\n"
          ]
        }
      ]
    },
    {
      "cell_type": "code",
      "source": [
        "# 빈도수 생성\n",
        "from collections import Counter\n",
        "\n",
        "all_words = []\n",
        "for text in K_all[PROCESSED_COL]:\n",
        "    if isinstance(text, list): # 如果数据是list类型（如单词列表），则将其添加到all_words中\n",
        "        all_words.extend(text)\n",
        "    else: # 如果数据是str类型（如句子），则将其分词后添加到all_words中\n",
        "        all_words.extend(text.split())"
      ],
      "metadata": {
        "colab": {
          "base_uri": "https://localhost:8080/"
        },
        "id": "VdfjkVjx-Nbo",
        "outputId": "97df3f51-af72-4ffb-b9b2-42026c879098"
      },
      "execution_count": 88,
      "outputs": [
        {
          "output_type": "stream",
          "name": "stderr",
          "text": [
            "/usr/local/lib/python3.10/dist-packages/ipykernel/ipkernel.py:283: DeprecationWarning: `should_run_async` will not call `transform_cell` automatically in the future. Please pass the result to `transformed_cell` argument and any exception that happen during thetransform in `preprocessing_exc_tuple` in IPython 7.17 and above.\n",
            "  and should_run_async(code)\n"
          ]
        }
      ]
    },
    {
      "cell_type": "code",
      "source": [
        "word_counts = Counter(all_words)\n",
        "K_all_word_counts = pd.DataFrame(word_counts.items(), columns=['Word', 'Frequency'])"
      ],
      "metadata": {
        "colab": {
          "base_uri": "https://localhost:8080/"
        },
        "id": "Ui_euyFX-NeU",
        "outputId": "64646350-92a0-4103-9253-fabd778f297f"
      },
      "execution_count": 89,
      "outputs": [
        {
          "output_type": "stream",
          "name": "stderr",
          "text": [
            "/usr/local/lib/python3.10/dist-packages/ipykernel/ipkernel.py:283: DeprecationWarning: `should_run_async` will not call `transform_cell` automatically in the future. Please pass the result to `transformed_cell` argument and any exception that happen during thetransform in `preprocessing_exc_tuple` in IPython 7.17 and above.\n",
            "  and should_run_async(code)\n"
          ]
        }
      ]
    },
    {
      "cell_type": "code",
      "source": [
        "K_all_word_counts_sorted = K_all_word_counts.sort_values(by='Frequency', ascending=False).reset_index(drop=True)\n",
        "print(K_all_word_counts_sorted.head())"
      ],
      "metadata": {
        "colab": {
          "base_uri": "https://localhost:8080/"
        },
        "id": "VoRB3k3P-Niw",
        "outputId": "fda2096c-c05c-48ee-b52f-234c62ecd1d9"
      },
      "execution_count": 92,
      "outputs": [
        {
          "output_type": "stream",
          "name": "stdout",
          "text": [
            "  Word  Frequency\n",
            "0   경제      17129\n",
            "1   미국      17102\n",
            "2   중국      16112\n",
            "3   무역      15549\n",
            "4   한국      14950\n"
          ]
        },
        {
          "output_type": "stream",
          "name": "stderr",
          "text": [
            "/usr/local/lib/python3.10/dist-packages/ipykernel/ipkernel.py:283: DeprecationWarning: `should_run_async` will not call `transform_cell` automatically in the future. Please pass the result to `transformed_cell` argument and any exception that happen during thetransform in `preprocessing_exc_tuple` in IPython 7.17 and above.\n",
            "  and should_run_async(code)\n"
          ]
        }
      ]
    },
    {
      "cell_type": "code",
      "source": [
        "K_all_word_counts_sorted.to_csv(\"/content/drive/MyDrive/최근/빅데이터/코로나와 무역/rawdata(20210101~20231026)_20231028/K_all_word_counts.csv\",index=False)"
      ],
      "metadata": {
        "colab": {
          "base_uri": "https://localhost:8080/"
        },
        "id": "0a5uoo5r-S-U",
        "outputId": "1af127c6-21f9-42aa-9512-16860ebf24e1"
      },
      "execution_count": 94,
      "outputs": [
        {
          "output_type": "stream",
          "name": "stderr",
          "text": [
            "/usr/local/lib/python3.10/dist-packages/ipykernel/ipkernel.py:283: DeprecationWarning: `should_run_async` will not call `transform_cell` automatically in the future. Please pass the result to `transformed_cell` argument and any exception that happen during thetransform in `preprocessing_exc_tuple` in IPython 7.17 and above.\n",
            "  and should_run_async(code)\n"
          ]
        }
      ]
    },
    {
      "cell_type": "code",
      "source": [
        "K_all=pd.read_csv('/content/drive/MyDrive/최근/빅데이터/코로나와 무역/rawdata(20210101~20231026)_20231028/K_all_token_words.csv')"
      ],
      "metadata": {
        "colab": {
          "base_uri": "https://localhost:8080/"
        },
        "id": "KpakZVDQAdBW",
        "outputId": "339c16a8-a24e-4751-caa5-6e04d515cc36"
      },
      "execution_count": 96,
      "outputs": [
        {
          "output_type": "stream",
          "name": "stderr",
          "text": [
            "/usr/local/lib/python3.10/dist-packages/ipykernel/ipkernel.py:283: DeprecationWarning: `should_run_async` will not call `transform_cell` automatically in the future. Please pass the result to `transformed_cell` argument and any exception that happen during thetransform in `preprocessing_exc_tuple` in IPython 7.17 and above.\n",
            "  and should_run_async(code)\n"
          ]
        }
      ]
    },
    {
      "cell_type": "code",
      "source": [
        "K_all.head()"
      ],
      "metadata": {
        "colab": {
          "base_uri": "https://localhost:8080/",
          "height": 261
        },
        "id": "7yCshfwqAiqe",
        "outputId": "25affe15-3b6f-4399-f0cc-8f29e4f21845"
      },
      "execution_count": 97,
      "outputs": [
        {
          "output_type": "stream",
          "name": "stderr",
          "text": [
            "/usr/local/lib/python3.10/dist-packages/ipykernel/ipkernel.py:283: DeprecationWarning: `should_run_async` will not call `transform_cell` automatically in the future. Please pass the result to `transformed_cell` argument and any exception that happen during thetransform in `preprocessing_exc_tuple` in IPython 7.17 and above.\n",
            "  and should_run_async(code)\n"
          ]
        },
        {
          "output_type": "execute_result",
          "data": {
            "text/plain": [
              "                                            Contents  \\\n",
              "0  올 들어 이달 20일까지 338억4000만달러의 무역적자가 났다. 연간 기준 역대 ...   \n",
              "1  [앵커]\\n최근 각종 악재가 겹치면서 국내 경제를 둘러싼 우려가 커지고 있습니다.\\...   \n",
              "2  미 중 갈등이 격화하는 가운데 중국의 미국 유럽 상대 수출은 크게 감소한 반면 러시...   \n",
              "3  \"인플레이션(Inflation 전반적인 물가 수준 상승)에 대응하기 위해 금리를 올...   \n",
              "4  '시진핑(習近平) 3기로 인한 '차이나런'의 불똥이 원화로 튀었다. 25일 원화가치...   \n",
              "\n",
              "                                       ProcessedData  \n",
              "0  ['이달', '달러', '무역', '적자', '연간', '기준', '역대', '최대...  \n",
              "1  ['앵커', '악재', '국내', '경제', '우려', '국제통화기금', '경제',...  \n",
              "2  ['갈등', '격화', '가운데', '중국', '미국', '유럽', '수출', '감...  \n",
              "3  ['인플레이션', '전반', '물가', '수준', '상승', '대응', '금리', ...  \n",
              "4  ['시진핑', '차이', '불똥', '원화', '원화', '가치', '장중', '연...  "
            ],
            "text/html": [
              "\n",
              "  <div id=\"df-caf21c84-962f-4082-a9f1-688ca931cc8d\" class=\"colab-df-container\">\n",
              "    <div>\n",
              "<style scoped>\n",
              "    .dataframe tbody tr th:only-of-type {\n",
              "        vertical-align: middle;\n",
              "    }\n",
              "\n",
              "    .dataframe tbody tr th {\n",
              "        vertical-align: top;\n",
              "    }\n",
              "\n",
              "    .dataframe thead th {\n",
              "        text-align: right;\n",
              "    }\n",
              "</style>\n",
              "<table border=\"1\" class=\"dataframe\">\n",
              "  <thead>\n",
              "    <tr style=\"text-align: right;\">\n",
              "      <th></th>\n",
              "      <th>Contents</th>\n",
              "      <th>ProcessedData</th>\n",
              "    </tr>\n",
              "  </thead>\n",
              "  <tbody>\n",
              "    <tr>\n",
              "      <th>0</th>\n",
              "      <td>올 들어 이달 20일까지 338억4000만달러의 무역적자가 났다. 연간 기준 역대 ...</td>\n",
              "      <td>['이달', '달러', '무역', '적자', '연간', '기준', '역대', '최대...</td>\n",
              "    </tr>\n",
              "    <tr>\n",
              "      <th>1</th>\n",
              "      <td>[앵커]\\n최근 각종 악재가 겹치면서 국내 경제를 둘러싼 우려가 커지고 있습니다.\\...</td>\n",
              "      <td>['앵커', '악재', '국내', '경제', '우려', '국제통화기금', '경제',...</td>\n",
              "    </tr>\n",
              "    <tr>\n",
              "      <th>2</th>\n",
              "      <td>미 중 갈등이 격화하는 가운데 중국의 미국 유럽 상대 수출은 크게 감소한 반면 러시...</td>\n",
              "      <td>['갈등', '격화', '가운데', '중국', '미국', '유럽', '수출', '감...</td>\n",
              "    </tr>\n",
              "    <tr>\n",
              "      <th>3</th>\n",
              "      <td>\"인플레이션(Inflation 전반적인 물가 수준 상승)에 대응하기 위해 금리를 올...</td>\n",
              "      <td>['인플레이션', '전반', '물가', '수준', '상승', '대응', '금리', ...</td>\n",
              "    </tr>\n",
              "    <tr>\n",
              "      <th>4</th>\n",
              "      <td>'시진핑(習近平) 3기로 인한 '차이나런'의 불똥이 원화로 튀었다. 25일 원화가치...</td>\n",
              "      <td>['시진핑', '차이', '불똥', '원화', '원화', '가치', '장중', '연...</td>\n",
              "    </tr>\n",
              "  </tbody>\n",
              "</table>\n",
              "</div>\n",
              "    <div class=\"colab-df-buttons\">\n",
              "\n",
              "  <div class=\"colab-df-container\">\n",
              "    <button class=\"colab-df-convert\" onclick=\"convertToInteractive('df-caf21c84-962f-4082-a9f1-688ca931cc8d')\"\n",
              "            title=\"Convert this dataframe to an interactive table.\"\n",
              "            style=\"display:none;\">\n",
              "\n",
              "  <svg xmlns=\"http://www.w3.org/2000/svg\" height=\"24px\" viewBox=\"0 -960 960 960\">\n",
              "    <path d=\"M120-120v-720h720v720H120Zm60-500h600v-160H180v160Zm220 220h160v-160H400v160Zm0 220h160v-160H400v160ZM180-400h160v-160H180v160Zm440 0h160v-160H620v160ZM180-180h160v-160H180v160Zm440 0h160v-160H620v160Z\"/>\n",
              "  </svg>\n",
              "    </button>\n",
              "\n",
              "  <style>\n",
              "    .colab-df-container {\n",
              "      display:flex;\n",
              "      gap: 12px;\n",
              "    }\n",
              "\n",
              "    .colab-df-convert {\n",
              "      background-color: #E8F0FE;\n",
              "      border: none;\n",
              "      border-radius: 50%;\n",
              "      cursor: pointer;\n",
              "      display: none;\n",
              "      fill: #1967D2;\n",
              "      height: 32px;\n",
              "      padding: 0 0 0 0;\n",
              "      width: 32px;\n",
              "    }\n",
              "\n",
              "    .colab-df-convert:hover {\n",
              "      background-color: #E2EBFA;\n",
              "      box-shadow: 0px 1px 2px rgba(60, 64, 67, 0.3), 0px 1px 3px 1px rgba(60, 64, 67, 0.15);\n",
              "      fill: #174EA6;\n",
              "    }\n",
              "\n",
              "    .colab-df-buttons div {\n",
              "      margin-bottom: 4px;\n",
              "    }\n",
              "\n",
              "    [theme=dark] .colab-df-convert {\n",
              "      background-color: #3B4455;\n",
              "      fill: #D2E3FC;\n",
              "    }\n",
              "\n",
              "    [theme=dark] .colab-df-convert:hover {\n",
              "      background-color: #434B5C;\n",
              "      box-shadow: 0px 1px 3px 1px rgba(0, 0, 0, 0.15);\n",
              "      filter: drop-shadow(0px 1px 2px rgba(0, 0, 0, 0.3));\n",
              "      fill: #FFFFFF;\n",
              "    }\n",
              "  </style>\n",
              "\n",
              "    <script>\n",
              "      const buttonEl =\n",
              "        document.querySelector('#df-caf21c84-962f-4082-a9f1-688ca931cc8d button.colab-df-convert');\n",
              "      buttonEl.style.display =\n",
              "        google.colab.kernel.accessAllowed ? 'block' : 'none';\n",
              "\n",
              "      async function convertToInteractive(key) {\n",
              "        const element = document.querySelector('#df-caf21c84-962f-4082-a9f1-688ca931cc8d');\n",
              "        const dataTable =\n",
              "          await google.colab.kernel.invokeFunction('convertToInteractive',\n",
              "                                                    [key], {});\n",
              "        if (!dataTable) return;\n",
              "\n",
              "        const docLinkHtml = 'Like what you see? Visit the ' +\n",
              "          '<a target=\"_blank\" href=https://colab.research.google.com/notebooks/data_table.ipynb>data table notebook</a>'\n",
              "          + ' to learn more about interactive tables.';\n",
              "        element.innerHTML = '';\n",
              "        dataTable['output_type'] = 'display_data';\n",
              "        await google.colab.output.renderOutput(dataTable, element);\n",
              "        const docLink = document.createElement('div');\n",
              "        docLink.innerHTML = docLinkHtml;\n",
              "        element.appendChild(docLink);\n",
              "      }\n",
              "    </script>\n",
              "  </div>\n",
              "\n",
              "\n",
              "<div id=\"df-f7be2766-0509-4f18-bd9c-0339dc629e29\">\n",
              "  <button class=\"colab-df-quickchart\" onclick=\"quickchart('df-f7be2766-0509-4f18-bd9c-0339dc629e29')\"\n",
              "            title=\"Suggest charts.\"\n",
              "            style=\"display:none;\">\n",
              "\n",
              "<svg xmlns=\"http://www.w3.org/2000/svg\" height=\"24px\"viewBox=\"0 0 24 24\"\n",
              "     width=\"24px\">\n",
              "    <g>\n",
              "        <path d=\"M19 3H5c-1.1 0-2 .9-2 2v14c0 1.1.9 2 2 2h14c1.1 0 2-.9 2-2V5c0-1.1-.9-2-2-2zM9 17H7v-7h2v7zm4 0h-2V7h2v10zm4 0h-2v-4h2v4z\"/>\n",
              "    </g>\n",
              "</svg>\n",
              "  </button>\n",
              "\n",
              "<style>\n",
              "  .colab-df-quickchart {\n",
              "      --bg-color: #E8F0FE;\n",
              "      --fill-color: #1967D2;\n",
              "      --hover-bg-color: #E2EBFA;\n",
              "      --hover-fill-color: #174EA6;\n",
              "      --disabled-fill-color: #AAA;\n",
              "      --disabled-bg-color: #DDD;\n",
              "  }\n",
              "\n",
              "  [theme=dark] .colab-df-quickchart {\n",
              "      --bg-color: #3B4455;\n",
              "      --fill-color: #D2E3FC;\n",
              "      --hover-bg-color: #434B5C;\n",
              "      --hover-fill-color: #FFFFFF;\n",
              "      --disabled-bg-color: #3B4455;\n",
              "      --disabled-fill-color: #666;\n",
              "  }\n",
              "\n",
              "  .colab-df-quickchart {\n",
              "    background-color: var(--bg-color);\n",
              "    border: none;\n",
              "    border-radius: 50%;\n",
              "    cursor: pointer;\n",
              "    display: none;\n",
              "    fill: var(--fill-color);\n",
              "    height: 32px;\n",
              "    padding: 0;\n",
              "    width: 32px;\n",
              "  }\n",
              "\n",
              "  .colab-df-quickchart:hover {\n",
              "    background-color: var(--hover-bg-color);\n",
              "    box-shadow: 0 1px 2px rgba(60, 64, 67, 0.3), 0 1px 3px 1px rgba(60, 64, 67, 0.15);\n",
              "    fill: var(--button-hover-fill-color);\n",
              "  }\n",
              "\n",
              "  .colab-df-quickchart-complete:disabled,\n",
              "  .colab-df-quickchart-complete:disabled:hover {\n",
              "    background-color: var(--disabled-bg-color);\n",
              "    fill: var(--disabled-fill-color);\n",
              "    box-shadow: none;\n",
              "  }\n",
              "\n",
              "  .colab-df-spinner {\n",
              "    border: 2px solid var(--fill-color);\n",
              "    border-color: transparent;\n",
              "    border-bottom-color: var(--fill-color);\n",
              "    animation:\n",
              "      spin 1s steps(1) infinite;\n",
              "  }\n",
              "\n",
              "  @keyframes spin {\n",
              "    0% {\n",
              "      border-color: transparent;\n",
              "      border-bottom-color: var(--fill-color);\n",
              "      border-left-color: var(--fill-color);\n",
              "    }\n",
              "    20% {\n",
              "      border-color: transparent;\n",
              "      border-left-color: var(--fill-color);\n",
              "      border-top-color: var(--fill-color);\n",
              "    }\n",
              "    30% {\n",
              "      border-color: transparent;\n",
              "      border-left-color: var(--fill-color);\n",
              "      border-top-color: var(--fill-color);\n",
              "      border-right-color: var(--fill-color);\n",
              "    }\n",
              "    40% {\n",
              "      border-color: transparent;\n",
              "      border-right-color: var(--fill-color);\n",
              "      border-top-color: var(--fill-color);\n",
              "    }\n",
              "    60% {\n",
              "      border-color: transparent;\n",
              "      border-right-color: var(--fill-color);\n",
              "    }\n",
              "    80% {\n",
              "      border-color: transparent;\n",
              "      border-right-color: var(--fill-color);\n",
              "      border-bottom-color: var(--fill-color);\n",
              "    }\n",
              "    90% {\n",
              "      border-color: transparent;\n",
              "      border-bottom-color: var(--fill-color);\n",
              "    }\n",
              "  }\n",
              "</style>\n",
              "\n",
              "  <script>\n",
              "    async function quickchart(key) {\n",
              "      const quickchartButtonEl =\n",
              "        document.querySelector('#' + key + ' button');\n",
              "      quickchartButtonEl.disabled = true;  // To prevent multiple clicks.\n",
              "      quickchartButtonEl.classList.add('colab-df-spinner');\n",
              "      try {\n",
              "        const charts = await google.colab.kernel.invokeFunction(\n",
              "            'suggestCharts', [key], {});\n",
              "      } catch (error) {\n",
              "        console.error('Error during call to suggestCharts:', error);\n",
              "      }\n",
              "      quickchartButtonEl.classList.remove('colab-df-spinner');\n",
              "      quickchartButtonEl.classList.add('colab-df-quickchart-complete');\n",
              "    }\n",
              "    (() => {\n",
              "      let quickchartButtonEl =\n",
              "        document.querySelector('#df-f7be2766-0509-4f18-bd9c-0339dc629e29 button');\n",
              "      quickchartButtonEl.style.display =\n",
              "        google.colab.kernel.accessAllowed ? 'block' : 'none';\n",
              "    })();\n",
              "  </script>\n",
              "</div>\n",
              "    </div>\n",
              "  </div>\n"
            ]
          },
          "metadata": {},
          "execution_count": 97
        }
      ]
    },
    {
      "cell_type": "code",
      "source": [
        "import ast\n",
        "\n",
        "K_all[\"ProcessedData\"] = K_all[\"ProcessedData\"].apply(ast.literal_eval)\n",
        "\n",
        "dictionary = corpora.Dictionary(K_all[\"ProcessedData\"])\n",
        "\n",
        "corpus = [dictionary.doc2bow(text) for text in K_all[\"ProcessedData\"]]\n",
        "\n",
        "processed_data = K_all[\"ProcessedData\"].tolist()"
      ],
      "metadata": {
        "colab": {
          "base_uri": "https://localhost:8080/"
        },
        "id": "blDzvphLAAPy",
        "outputId": "505b32fc-b240-4ec9-c461-623a0e2048bc"
      },
      "execution_count": 98,
      "outputs": [
        {
          "output_type": "stream",
          "name": "stderr",
          "text": [
            "/usr/local/lib/python3.10/dist-packages/ipykernel/ipkernel.py:283: DeprecationWarning: `should_run_async` will not call `transform_cell` automatically in the future. Please pass the result to `transformed_cell` argument and any exception that happen during thetransform in `preprocessing_exc_tuple` in IPython 7.17 and above.\n",
            "  and should_run_async(code)\n"
          ]
        }
      ]
    },
    {
      "cell_type": "code",
      "source": [
        "limit = 8\n",
        "NUM_TOPICS = find_optimal_number_of_topics(dictionary, corpus, processed_data, limit)"
      ],
      "metadata": {
        "colab": {
          "base_uri": "https://localhost:8080/",
          "height": 504
        },
        "id": "0JohRyCYAAWE",
        "outputId": "57cb0abe-dc00-4420-e389-39221207cf11"
      },
      "execution_count": 99,
      "outputs": [
        {
          "output_type": "stream",
          "name": "stderr",
          "text": [
            "/usr/local/lib/python3.10/dist-packages/ipykernel/ipkernel.py:283: DeprecationWarning: `should_run_async` will not call `transform_cell` automatically in the future. Please pass the result to `transformed_cell` argument and any exception that happen during thetransform in `preprocessing_exc_tuple` in IPython 7.17 and above.\n",
            "  and should_run_async(code)\n"
          ]
        },
        {
          "output_type": "display_data",
          "data": {
            "text/plain": [
              "<Figure size 640x480 with 1 Axes>"
            ],
            "image/png": "[encoded data removed]"
          },
          "metadata": {}
        }
      ]
    },
    {
      "cell_type": "code",
      "source": [
        "K_all[\"ProcessedData\"] = K_all[\"ProcessedData\"].apply(' '.join)\n",
        "\n",
        "vectorizer = TfidfVectorizer(max_features=1000)\n",
        "X = vectorizer.fit_transform(K_all[\"ProcessedData\"])"
      ],
      "metadata": {
        "colab": {
          "base_uri": "https://localhost:8080/"
        },
        "id": "CxGUOWpwAAZL",
        "outputId": "c891365a-567a-4845-ce14-3260e2d9fb85"
      },
      "execution_count": 100,
      "outputs": [
        {
          "output_type": "stream",
          "name": "stderr",
          "text": [
            "/usr/local/lib/python3.10/dist-packages/ipykernel/ipkernel.py:283: DeprecationWarning: `should_run_async` will not call `transform_cell` automatically in the future. Please pass the result to `transformed_cell` argument and any exception that happen during thetransform in `preprocessing_exc_tuple` in IPython 7.17 and above.\n",
            "  and should_run_async(code)\n"
          ]
        }
      ]
    },
    {
      "cell_type": "code",
      "source": [
        "# LDA모델 생성\n",
        "lda_model = LatentDirichletAllocation(n_components=4, learning_method='online', random_state=42, max_iter=1)\n",
        "lda_top = lda_model.fit_transform(X)"
      ],
      "metadata": {
        "colab": {
          "base_uri": "https://localhost:8080/"
        },
        "id": "EGmWpHnqA3X7",
        "outputId": "0e124794-f663-42dc-f758-d28684bfbb56"
      },
      "execution_count": 101,
      "outputs": [
        {
          "output_type": "stream",
          "name": "stderr",
          "text": [
            "/usr/local/lib/python3.10/dist-packages/ipykernel/ipkernel.py:283: DeprecationWarning: `should_run_async` will not call `transform_cell` automatically in the future. Please pass the result to `transformed_cell` argument and any exception that happen during thetransform in `preprocessing_exc_tuple` in IPython 7.17 and above.\n",
            "  and should_run_async(code)\n"
          ]
        }
      ]
    },
    {
      "cell_type": "code",
      "source": [
        "# 단어 집합. 1,000개의 단어가 저장됨.\n",
        "terms = vectorizer.get_feature_names_out()\n",
        "\n",
        "def get_topics(components, feature_names, n=20):\n",
        "    for idx, topic in enumerate(components):\n",
        "        print(\"Topic %d:\" % (idx+1), [(feature_names[i], topic[i].round(2)) for i in topic.argsort()[:-n - 1:-1]])"
      ],
      "metadata": {
        "colab": {
          "base_uri": "https://localhost:8080/"
        },
        "id": "v_pZc2krA3a6",
        "outputId": "f0b581d6-71d9-4c39-865f-c73aa27bcc6d"
      },
      "execution_count": 102,
      "outputs": [
        {
          "output_type": "stream",
          "name": "stderr",
          "text": [
            "/usr/local/lib/python3.10/dist-packages/ipykernel/ipkernel.py:283: DeprecationWarning: `should_run_async` will not call `transform_cell` automatically in the future. Please pass the result to `transformed_cell` argument and any exception that happen during thetransform in `preprocessing_exc_tuple` in IPython 7.17 and above.\n",
            "  and should_run_async(code)\n"
          ]
        }
      ]
    },
    {
      "cell_type": "code",
      "source": [
        "def get_topics2(components, terms):\n",
        "    topics = []\n",
        "    for topic_idx, topic in enumerate(components):\n",
        "        topic_terms = [(terms[i], topic[i]) for i in topic.argsort()[:-30 - 1:-1]]\n",
        "        topics.append((topic_idx, topic_terms))\n",
        "    return topics"
      ],
      "metadata": {
        "colab": {
          "base_uri": "https://localhost:8080/"
        },
        "id": "YdDM6onSA3hY",
        "outputId": "6aac196b-02da-4cb6-fd5d-bbabc1f4430c"
      },
      "execution_count": 103,
      "outputs": [
        {
          "output_type": "stream",
          "name": "stderr",
          "text": [
            "/usr/local/lib/python3.10/dist-packages/ipykernel/ipkernel.py:283: DeprecationWarning: `should_run_async` will not call `transform_cell` automatically in the future. Please pass the result to `transformed_cell` argument and any exception that happen during thetransform in `preprocessing_exc_tuple` in IPython 7.17 and above.\n",
            "  and should_run_async(code)\n"
          ]
        }
      ]
    },
    {
      "cell_type": "code",
      "source": [
        "K_all_topics = get_topics2(lda_model.components_, terms)\n",
        "if K_all_topics is not None:\n",
        "    df = pd.DataFrame(K_all_topics, columns=['Topic', 'Terms'])\n",
        "else:\n",
        "    df = pd.DataFrame()"
      ],
      "metadata": {
        "colab": {
          "base_uri": "https://localhost:8080/"
        },
        "id": "1O-UG1K4BzmO",
        "outputId": "bd155342-f7f5-46ed-b344-a1fbe1f71c98"
      },
      "execution_count": 104,
      "outputs": [
        {
          "output_type": "stream",
          "name": "stderr",
          "text": [
            "/usr/local/lib/python3.10/dist-packages/ipykernel/ipkernel.py:283: DeprecationWarning: `should_run_async` will not call `transform_cell` automatically in the future. Please pass the result to `transformed_cell` argument and any exception that happen during thetransform in `preprocessing_exc_tuple` in IPython 7.17 and above.\n",
            "  and should_run_async(code)\n"
          ]
        }
      ]
    },
    {
      "cell_type": "code",
      "source": [
        "topics_transformed = [(topic[0], word, value) for topic in K_all_topics for word, value in topic[1]]\n",
        "df = pd.DataFrame(topics_transformed, columns=['Topic', 'Word', 'Value'])\n",
        "df.to_csv(\"/content/drive/MyDrive/최근/빅데이터/코로나와 무역/rawdata(20210101~20231026)_20231028/K_all_topics.csv\",index=False)"
      ],
      "metadata": {
        "colab": {
          "base_uri": "https://localhost:8080/"
        },
        "id": "3qt6SW5IBzo7",
        "outputId": "5b5a8f6b-0ac2-4c5f-e37a-a9d62362d420"
      },
      "execution_count": 105,
      "outputs": [
        {
          "output_type": "stream",
          "name": "stderr",
          "text": [
            "/usr/local/lib/python3.10/dist-packages/ipykernel/ipkernel.py:283: DeprecationWarning: `should_run_async` will not call `transform_cell` automatically in the future. Please pass the result to `transformed_cell` argument and any exception that happen during thetransform in `preprocessing_exc_tuple` in IPython 7.17 and above.\n",
            "  and should_run_async(code)\n"
          ]
        }
      ]
    },
    {
      "cell_type": "code",
      "source": [],
      "metadata": {
        "id": "IjMGYJ2oBzsn"
      },
      "execution_count": null,
      "outputs": []
    },
    {
      "cell_type": "markdown",
      "source": [
        "* A_all"
      ],
      "metadata": {
        "id": "52-PLqzhFkVi"
      }
    },
    {
      "cell_type": "code",
      "source": [
        "dfs = []  # 用于存储每个文件的DataFrame\n",
        "\n",
        "for file in files:\n",
        "    if file.endswith(('A1.xlsx', 'A2.xlsx','A3.xlsx')):\n",
        "        file_path = os.path.join(folder_path, file)\n",
        "        df = pd.read_excel(file_path)\n",
        "        dfs.append(df)\n",
        "\n",
        "merged_df = pd.concat(dfs, ignore_index=True)"
      ],
      "metadata": {
        "colab": {
          "base_uri": "https://localhost:8080/"
        },
        "id": "XFr7sGI2FnmA",
        "outputId": "3ffd52fb-cf18-42d4-f837-1fa03e451590"
      },
      "execution_count": 106,
      "outputs": [
        {
          "output_type": "stream",
          "name": "stderr",
          "text": [
            "/usr/local/lib/python3.10/dist-packages/ipykernel/ipkernel.py:283: DeprecationWarning: `should_run_async` will not call `transform_cell` automatically in the future. Please pass the result to `transformed_cell` argument and any exception that happen during thetransform in `preprocessing_exc_tuple` in IPython 7.17 and above.\n",
            "  and should_run_async(code)\n"
          ]
        }
      ]
    },
    {
      "cell_type": "code",
      "source": [
        "# merged_df.info()"
      ],
      "metadata": {
        "colab": {
          "base_uri": "https://localhost:8080/"
        },
        "id": "-1llK0hxFozK",
        "outputId": "36e5fd4f-bb3f-4fa3-af91-af003e1c7d06"
      },
      "execution_count": 107,
      "outputs": [
        {
          "output_type": "stream",
          "name": "stdout",
          "text": [
            "<class 'pandas.core.frame.DataFrame'>\n",
            "RangeIndex: 40250 entries, 0 to 40249\n",
            "Data columns (total 19 columns):\n",
            " #   Column             Non-Null Count  Dtype  \n",
            "---  ------             --------------  -----  \n",
            " 0   뉴스 식별자             40250 non-null  float64\n",
            " 1   일자                 40250 non-null  int64  \n",
            " 2   언론사                40250 non-null  object \n",
            " 3   기고자                37918 non-null  object \n",
            " 4   제목                 40250 non-null  object \n",
            " 5   통합 분류1             40250 non-null  object \n",
            " 6   통합 분류2             36475 non-null  object \n",
            " 7   통합 분류3             29552 non-null  object \n",
            " 8   사건/사고 분류1          6469 non-null   object \n",
            " 9   사건/사고 분류2          1393 non-null   object \n",
            " 10  사건/사고 분류3          467 non-null    object \n",
            " 11  인물                 32226 non-null  object \n",
            " 12  위치                 40204 non-null  object \n",
            " 13  기관                 40235 non-null  object \n",
            " 14  키워드                40250 non-null  object \n",
            " 15  특성추출(가중치순 상위 50개)  40250 non-null  object \n",
            " 16  본문                 40250 non-null  object \n",
            " 17  URL                40123 non-null  object \n",
            " 18  분석제외 여부            0 non-null      float64\n",
            "dtypes: float64(2), int64(1), object(16)\n",
            "memory usage: 5.8+ MB\n"
          ]
        },
        {
          "output_type": "stream",
          "name": "stderr",
          "text": [
            "/usr/local/lib/python3.10/dist-packages/ipykernel/ipkernel.py:283: DeprecationWarning: `should_run_async` will not call `transform_cell` automatically in the future. Please pass the result to `transformed_cell` argument and any exception that happen during thetransform in `preprocessing_exc_tuple` in IPython 7.17 and above.\n",
            "  and should_run_async(code)\n"
          ]
        }
      ]
    },
    {
      "cell_type": "code",
      "source": [
        "merged_df.to_csv(\"/content/drive/MyDrive/최근/빅데이터/코로나와 무역/rawdata(20210101~20231026)_20231028/A_all.csv\", index=False)"
      ],
      "metadata": {
        "colab": {
          "base_uri": "https://localhost:8080/"
        },
        "id": "lMEYrwtKFo2N",
        "outputId": "d25374a5-f409-4132-a1d6-ca774b82e031"
      },
      "execution_count": 108,
      "outputs": [
        {
          "output_type": "stream",
          "name": "stderr",
          "text": [
            "/usr/local/lib/python3.10/dist-packages/ipykernel/ipkernel.py:283: DeprecationWarning: `should_run_async` will not call `transform_cell` automatically in the future. Please pass the result to `transformed_cell` argument and any exception that happen during thetransform in `preprocessing_exc_tuple` in IPython 7.17 and above.\n",
            "  and should_run_async(code)\n"
          ]
        }
      ]
    },
    {
      "cell_type": "code",
      "source": [
        "dfs = []  # 用于存储每个文件的DataFrame\n",
        "\n",
        "for file in files:\n",
        "    if file.endswith(('C1.xlsx', 'C2.xlsx')):\n",
        "        file_path = os.path.join(folder_path, file)\n",
        "        df = pd.read_excel(file_path)\n",
        "        dfs.append(df)\n",
        "\n",
        "merged_df = pd.concat(dfs, ignore_index=True)"
      ],
      "metadata": {
        "colab": {
          "base_uri": "https://localhost:8080/"
        },
        "id": "ArmjOAViFo43",
        "outputId": "8e21e899-9fca-45ce-db66-0fb80df9e92e"
      },
      "execution_count": 109,
      "outputs": [
        {
          "output_type": "stream",
          "name": "stderr",
          "text": [
            "/usr/local/lib/python3.10/dist-packages/ipykernel/ipkernel.py:283: DeprecationWarning: `should_run_async` will not call `transform_cell` automatically in the future. Please pass the result to `transformed_cell` argument and any exception that happen during thetransform in `preprocessing_exc_tuple` in IPython 7.17 and above.\n",
            "  and should_run_async(code)\n"
          ]
        }
      ]
    },
    {
      "cell_type": "code",
      "source": [
        "merged_df.info()"
      ],
      "metadata": {
        "colab": {
          "base_uri": "https://localhost:8080/"
        },
        "id": "2lJb-t6qK0J5",
        "outputId": "23736d30-a4ca-4bcc-80bc-04780e1c714a"
      },
      "execution_count": 110,
      "outputs": [
        {
          "output_type": "stream",
          "name": "stdout",
          "text": [
            "<class 'pandas.core.frame.DataFrame'>\n",
            "RangeIndex: 34734 entries, 0 to 34733\n",
            "Data columns (total 19 columns):\n",
            " #   Column             Non-Null Count  Dtype  \n",
            "---  ------             --------------  -----  \n",
            " 0   뉴스 식별자             34734 non-null  float64\n",
            " 1   일자                 34734 non-null  int64  \n",
            " 2   언론사                34734 non-null  object \n",
            " 3   기고자                32707 non-null  object \n",
            " 4   제목                 34734 non-null  object \n",
            " 5   통합 분류1             34734 non-null  object \n",
            " 6   통합 분류2             31777 non-null  object \n",
            " 7   통합 분류3             26208 non-null  object \n",
            " 8   사건/사고 분류1          5492 non-null   object \n",
            " 9   사건/사고 분류2          1091 non-null   object \n",
            " 10  사건/사고 분류3          383 non-null    object \n",
            " 11  인물                 26675 non-null  object \n",
            " 12  위치                 34710 non-null  object \n",
            " 13  기관                 34718 non-null  object \n",
            " 14  키워드                34734 non-null  object \n",
            " 15  특성추출(가중치순 상위 50개)  34734 non-null  object \n",
            " 16  본문                 34734 non-null  object \n",
            " 17  URL                34619 non-null  object \n",
            " 18  분석제외 여부            0 non-null      float64\n",
            "dtypes: float64(2), int64(1), object(16)\n",
            "memory usage: 5.0+ MB\n"
          ]
        },
        {
          "output_type": "stream",
          "name": "stderr",
          "text": [
            "/usr/local/lib/python3.10/dist-packages/ipykernel/ipkernel.py:283: DeprecationWarning: `should_run_async` will not call `transform_cell` automatically in the future. Please pass the result to `transformed_cell` argument and any exception that happen during thetransform in `preprocessing_exc_tuple` in IPython 7.17 and above.\n",
            "  and should_run_async(code)\n"
          ]
        }
      ]
    },
    {
      "cell_type": "code",
      "source": [
        "merged_df.to_csv(\"/content/drive/MyDrive/최근/빅데이터/코로나와 무역/rawdata(20210101~20231026)_20231028/C_all.csv\", index=False)"
      ],
      "metadata": {
        "colab": {
          "base_uri": "https://localhost:8080/"
        },
        "id": "snqi3U3VLDfL",
        "outputId": "dbc9bae5-f326-49e8-f9b7-4a8cd3143bd5"
      },
      "execution_count": 111,
      "outputs": [
        {
          "output_type": "stream",
          "name": "stderr",
          "text": [
            "/usr/local/lib/python3.10/dist-packages/ipykernel/ipkernel.py:283: DeprecationWarning: `should_run_async` will not call `transform_cell` automatically in the future. Please pass the result to `transformed_cell` argument and any exception that happen during thetransform in `preprocessing_exc_tuple` in IPython 7.17 and above.\n",
            "  and should_run_async(code)\n"
          ]
        }
      ]
    },
    {
      "cell_type": "code",
      "source": [
        "dfs = []  # 用于存储每个文件的DataFrame\n",
        "\n",
        "for file in files:\n",
        "    if file.endswith(('Economic1.xlsx', 'Economic2.xlsx')):\n",
        "        file_path = os.path.join(folder_path, file)\n",
        "        df = pd.read_excel(file_path)\n",
        "        dfs.append(df)\n",
        "\n",
        "merged_df = pd.concat(dfs, ignore_index=True)"
      ],
      "metadata": {
        "colab": {
          "base_uri": "https://localhost:8080/"
        },
        "id": "lA7ba7s2Fo7T",
        "outputId": "23e5a694-ec72-42af-81b8-85071b5d5784"
      },
      "execution_count": 113,
      "outputs": [
        {
          "output_type": "stream",
          "name": "stderr",
          "text": [
            "/usr/local/lib/python3.10/dist-packages/ipykernel/ipkernel.py:283: DeprecationWarning: `should_run_async` will not call `transform_cell` automatically in the future. Please pass the result to `transformed_cell` argument and any exception that happen during thetransform in `preprocessing_exc_tuple` in IPython 7.17 and above.\n",
            "  and should_run_async(code)\n"
          ]
        }
      ]
    },
    {
      "cell_type": "code",
      "source": [
        "merged_df.info()"
      ],
      "metadata": {
        "id": "eQPKiq0QLXe2"
      },
      "execution_count": null,
      "outputs": []
    },
    {
      "cell_type": "code",
      "source": [
        "merged_df.to_csv(\"/content/drive/MyDrive/최근/빅데이터/코로나와 무역/rawdata(20210101~20231026)_20231028/Economic_all.csv\", index=False)"
      ],
      "metadata": {
        "colab": {
          "base_uri": "https://localhost:8080/"
        },
        "id": "OWtBtvU5LXze",
        "outputId": "169b5b10-5f7f-4f0c-ecd4-236939e78b50"
      },
      "execution_count": 115,
      "outputs": [
        {
          "output_type": "stream",
          "name": "stderr",
          "text": [
            "/usr/local/lib/python3.10/dist-packages/ipykernel/ipkernel.py:283: DeprecationWarning: `should_run_async` will not call `transform_cell` automatically in the future. Please pass the result to `transformed_cell` argument and any exception that happen during thetransform in `preprocessing_exc_tuple` in IPython 7.17 and above.\n",
            "  and should_run_async(code)\n"
          ]
        }
      ]
    },
    {
      "cell_type": "code",
      "source": [
        "dfs = []  # 用于存储每个文件的DataFrame\n",
        "\n",
        "for file in files:\n",
        "    if file.endswith(('Eport1.xlsx', 'Export2.xlsx')):\n",
        "        file_path = os.path.join(folder_path, file)\n",
        "        df = pd.read_excel(file_path)\n",
        "        dfs.append(df)\n",
        "\n",
        "merged_df = pd.concat(dfs, ignore_index=True)"
      ],
      "metadata": {
        "colab": {
          "base_uri": "https://localhost:8080/"
        },
        "id": "Knyvp1ikLX2Y",
        "outputId": "3c6c5abd-08e0-477e-9aa7-3709b361d3ba"
      },
      "execution_count": 118,
      "outputs": [
        {
          "output_type": "stream",
          "name": "stderr",
          "text": [
            "/usr/local/lib/python3.10/dist-packages/ipykernel/ipkernel.py:283: DeprecationWarning: `should_run_async` will not call `transform_cell` automatically in the future. Please pass the result to `transformed_cell` argument and any exception that happen during thetransform in `preprocessing_exc_tuple` in IPython 7.17 and above.\n",
            "  and should_run_async(code)\n"
          ]
        }
      ]
    },
    {
      "cell_type": "code",
      "source": [
        "# merged_df.info()"
      ],
      "metadata": {
        "colab": {
          "base_uri": "https://localhost:8080/"
        },
        "id": "d0MnURrxLpNj",
        "outputId": "734b925b-12a5-4460-cb78-f42537619a8f"
      },
      "execution_count": 119,
      "outputs": [
        {
          "output_type": "stream",
          "name": "stdout",
          "text": [
            "<class 'pandas.core.frame.DataFrame'>\n",
            "RangeIndex: 33110 entries, 0 to 33109\n",
            "Data columns (total 19 columns):\n",
            " #   Column             Non-Null Count  Dtype  \n",
            "---  ------             --------------  -----  \n",
            " 0   뉴스 식별자             33110 non-null  float64\n",
            " 1   일자                 33110 non-null  int64  \n",
            " 2   언론사                33110 non-null  object \n",
            " 3   기고자                31604 non-null  object \n",
            " 4   제목                 33110 non-null  object \n",
            " 5   통합 분류1             33110 non-null  object \n",
            " 6   통합 분류2             29859 non-null  object \n",
            " 7   통합 분류3             23865 non-null  object \n",
            " 8   사건/사고 분류1          4167 non-null   object \n",
            " 9   사건/사고 분류2          822 non-null    object \n",
            " 10  사건/사고 분류3          278 non-null    object \n",
            " 11  인물                 22932 non-null  object \n",
            " 12  위치                 31857 non-null  object \n",
            " 13  기관                 32972 non-null  object \n",
            " 14  키워드                33110 non-null  object \n",
            " 15  특성추출(가중치순 상위 50개)  33110 non-null  object \n",
            " 16  본문                 33110 non-null  object \n",
            " 17  URL                32888 non-null  object \n",
            " 18  분석제외 여부            0 non-null      float64\n",
            "dtypes: float64(2), int64(1), object(16)\n",
            "memory usage: 4.8+ MB\n"
          ]
        },
        {
          "output_type": "stream",
          "name": "stderr",
          "text": [
            "/usr/local/lib/python3.10/dist-packages/ipykernel/ipkernel.py:283: DeprecationWarning: `should_run_async` will not call `transform_cell` automatically in the future. Please pass the result to `transformed_cell` argument and any exception that happen during thetransform in `preprocessing_exc_tuple` in IPython 7.17 and above.\n",
            "  and should_run_async(code)\n"
          ]
        }
      ]
    },
    {
      "cell_type": "code",
      "source": [
        "merged_df.to_csv(\"/content/drive/MyDrive/최근/빅데이터/코로나와 무역/rawdata(20210101~20231026)_20231028/Ex_all.csv\", index=False)"
      ],
      "metadata": {
        "colab": {
          "base_uri": "https://localhost:8080/"
        },
        "id": "9TOQDk63Lr5w",
        "outputId": "7960c4a9-2777-481a-a3de-3fb980f0fa6d"
      },
      "execution_count": 120,
      "outputs": [
        {
          "output_type": "stream",
          "name": "stderr",
          "text": [
            "/usr/local/lib/python3.10/dist-packages/ipykernel/ipkernel.py:283: DeprecationWarning: `should_run_async` will not call `transform_cell` automatically in the future. Please pass the result to `transformed_cell` argument and any exception that happen during thetransform in `preprocessing_exc_tuple` in IPython 7.17 and above.\n",
            "  and should_run_async(code)\n"
          ]
        }
      ]
    },
    {
      "cell_type": "code",
      "source": [
        "A_all=pd.read_csv('/content/drive/MyDrive/최근/빅데이터/코로나와 무역/rawdata(20210101~20231026)_20231028/A_all.csv')\n",
        "C_all=pd.read_csv('/content/drive/MyDrive/최근/빅데이터/코로나와 무역/rawdata(20210101~20231026)_20231028/C_all.csv')\n",
        "Ex_all=pd.read_csv('/content/drive/MyDrive/최근/빅데이터/코로나와 무역/rawdata(20210101~20231026)_20231028/Ex_all.csv')\n",
        "Economic_all=pd.read_csv('/content/drive/MyDrive/최근/빅데이터/코로나와 무역/rawdata(20210101~20231026)_20231028/Economic_all.csv')\n",
        "\n"
      ],
      "metadata": {
        "colab": {
          "base_uri": "https://localhost:8080/"
        },
        "id": "nxjlR6adMIqe",
        "outputId": "a7a61b84-e243-4093-a99b-6084496bec35"
      },
      "execution_count": 123,
      "outputs": [
        {
          "output_type": "stream",
          "name": "stderr",
          "text": [
            "/usr/local/lib/python3.10/dist-packages/ipykernel/ipkernel.py:283: DeprecationWarning: `should_run_async` will not call `transform_cell` automatically in the future. Please pass the result to `transformed_cell` argument and any exception that happen during thetransform in `preprocessing_exc_tuple` in IPython 7.17 and above.\n",
            "  and should_run_async(code)\n"
          ]
        }
      ]
    },
    {
      "cell_type": "code",
      "source": [
        "A_all=A_all.rename(columns={'본문':'Contents'})\n",
        "C_all=C_all.rename(columns={'본문':'Contents'})\n",
        "Ex_all=Ex_all.rename(columns={'본문':'Contents'})\n",
        "Economic_all=Economic_all.rename(columns={'본문':'Contents'})"
      ],
      "metadata": {
        "colab": {
          "base_uri": "https://localhost:8080/"
        },
        "id": "LVI6x4kmMIuP",
        "outputId": "9f659b05-28fa-4cd9-fe78-79a7766bb68f"
      },
      "execution_count": 124,
      "outputs": [
        {
          "output_type": "stream",
          "name": "stderr",
          "text": [
            "/usr/local/lib/python3.10/dist-packages/ipykernel/ipkernel.py:283: DeprecationWarning: `should_run_async` will not call `transform_cell` automatically in the future. Please pass the result to `transformed_cell` argument and any exception that happen during thetransform in `preprocessing_exc_tuple` in IPython 7.17 and above.\n",
            "  and should_run_async(code)\n"
          ]
        }
      ]
    },
    {
      "cell_type": "code",
      "source": [
        "dataframes = [A_all, C_all, Ex_all, Economic_all]\n",
        "names = ['A_all', 'C_all', 'Ex_all', 'Economic_all']\n",
        "\n",
        "for name, df in zip(names, dataframes):\n",
        "    print(f\"{name}: {len(df)}\")"
      ],
      "metadata": {
        "colab": {
          "base_uri": "https://localhost:8080/"
        },
        "id": "2AxKsthFMIxi",
        "outputId": "2fea6ab9-c6db-4ad4-d61b-ea9e520695b2"
      },
      "execution_count": 126,
      "outputs": [
        {
          "output_type": "stream",
          "name": "stdout",
          "text": [
            "A_all: 40250\n",
            "C_all: 34734\n",
            "Ex_all: 33110\n",
            "Economic_all: 36879\n"
          ]
        },
        {
          "output_type": "stream",
          "name": "stderr",
          "text": [
            "/usr/local/lib/python3.10/dist-packages/ipykernel/ipkernel.py:283: DeprecationWarning: `should_run_async` will not call `transform_cell` automatically in the future. Please pass the result to `transformed_cell` argument and any exception that happen during thetransform in `preprocessing_exc_tuple` in IPython 7.17 and above.\n",
            "  and should_run_async(code)\n"
          ]
        }
      ]
    },
    {
      "cell_type": "code",
      "source": [
        "TARGET_COL = \"Contents\"\n",
        "PROCESSED_COL = \"ProcessedData\""
      ],
      "metadata": {
        "colab": {
          "base_uri": "https://localhost:8080/"
        },
        "id": "GEBRLdGERn_P",
        "outputId": "2fe3f33c-b19e-4785-ca57-7e8730872dbf"
      },
      "execution_count": 127,
      "outputs": [
        {
          "output_type": "stream",
          "name": "stderr",
          "text": [
            "/usr/local/lib/python3.10/dist-packages/ipykernel/ipkernel.py:283: DeprecationWarning: `should_run_async` will not call `transform_cell` automatically in the future. Please pass the result to `transformed_cell` argument and any exception that happen during thetransform in `preprocessing_exc_tuple` in IPython 7.17 and above.\n",
            "  and should_run_async(code)\n"
          ]
        }
      ]
    },
    {
      "cell_type": "code",
      "source": [
        "C_all[PROCESSED_COL]=[False for _ in range(len(C_all[TARGET_COL]))]\n",
        "A_all[PROCESSED_COL]=[False for _ in range(len(A_all[TARGET_COL]))]\n",
        "Ex_all[PROCESSED_COL]=[False for _ in range(len(Ex_all[TARGET_COL]))]\n",
        "Economic_all[PROCESSED_COL]=[False for _ in range(len(Economic_all[TARGET_COL]))]"
      ],
      "metadata": {
        "colab": {
          "base_uri": "https://localhost:8080/"
        },
        "id": "g9rUMQzhRoGv",
        "outputId": "2f34a3f4-9283-406f-fef3-f9aed52158e1"
      },
      "execution_count": 128,
      "outputs": [
        {
          "output_type": "stream",
          "name": "stderr",
          "text": [
            "/usr/local/lib/python3.10/dist-packages/ipykernel/ipkernel.py:283: DeprecationWarning: `should_run_async` will not call `transform_cell` automatically in the future. Please pass the result to `transformed_cell` argument and any exception that happen during thetransform in `preprocessing_exc_tuple` in IPython 7.17 and above.\n",
            "  and should_run_async(code)\n"
          ]
        }
      ]
    },
    {
      "cell_type": "code",
      "source": [
        "C_all=C_all[[\"Contents\",\"ProcessedData\"]]\n",
        "A_all=A_all[[\"Contents\",\"ProcessedData\"]]\n",
        "Ex_all=Ex_all[[\"Contents\",\"ProcessedData\"]]\n",
        "Economic_all=Economic_all[[\"Contents\",\"ProcessedData\"]]"
      ],
      "metadata": {
        "colab": {
          "base_uri": "https://localhost:8080/"
        },
        "id": "FotkNgnARoKS",
        "outputId": "6abb03db-d23a-4620-bc9c-442aac391c1c"
      },
      "execution_count": 129,
      "outputs": [
        {
          "output_type": "stream",
          "name": "stderr",
          "text": [
            "/usr/local/lib/python3.10/dist-packages/ipykernel/ipkernel.py:283: DeprecationWarning: `should_run_async` will not call `transform_cell` automatically in the future. Please pass the result to `transformed_cell` argument and any exception that happen during thetransform in `preprocessing_exc_tuple` in IPython 7.17 and above.\n",
            "  and should_run_async(code)\n"
          ]
        }
      ]
    },
    {
      "cell_type": "code",
      "source": [
        "# C_all.head()"
      ],
      "metadata": {
        "colab": {
          "base_uri": "https://localhost:8080/",
          "height": 261
        },
        "id": "3hJyTmoUTufy",
        "outputId": "e3d0883b-ad61-41f7-e98f-ee1bba5f22f1"
      },
      "execution_count": 133,
      "outputs": [
        {
          "output_type": "stream",
          "name": "stderr",
          "text": [
            "/usr/local/lib/python3.10/dist-packages/ipykernel/ipkernel.py:283: DeprecationWarning: `should_run_async` will not call `transform_cell` automatically in the future. Please pass the result to `transformed_cell` argument and any exception that happen during thetransform in `preprocessing_exc_tuple` in IPython 7.17 and above.\n",
            "  and should_run_async(code)\n"
          ]
        },
        {
          "output_type": "execute_result",
          "data": {
            "text/plain": [
              "                                            Contents  \\\n",
              "0  올 들어 이달 20일까지 338억4000만달러의 무역적자가 났다. 연간 기준 역대 ...   \n",
              "1  미 중 갈등이 격화하는 가운데 중국의 미국 유럽 상대 수출은 크게 감소한 반면 러시...   \n",
              "2  [머니투데이 송지유 기자] [루치르 샤르마 회장, 파이낸셜타임스에 기고문 \\n\"인구...   \n",
              "3  1980년대 제3세계 국가에서나 벌어질 법한 일이 2022년 유럽, 그것도 세계 5...   \n",
              "4  '시진핑(習近平) 3기로 인한 '차이나런'의 불똥이 원화로 튀었다. 25일 원화가치...   \n",
              "\n",
              "                                       ProcessedData  \n",
              "0  올 들어 이달 20일까지 338억4000만달러의 무역적자가 났다. 연간 기준 역대 ...  \n",
              "1  미 중 갈등이 격화하는 가운데 중국의 미국 유럽 상대 수출은 크게 감소한 반면 러시...  \n",
              "2  [머니투데이 송지유 기자] [루치르 샤르마 회장, 파이낸셜타임스에 기고문  \"인구 ...  \n",
              "3  1980년대 제3세계 국가에서나 벌어질 법한 일이 2022년 유럽, 그것도 세계 5...  \n",
              "4  '시진핑(習近平) 3기로 인한 '차이나런'의 불똥이 원화로 튀었다. 25일 원화가치...  "
            ],
            "text/html": [
              "\n",
              "  <div id=\"df-3bfc85a1-5fbe-4d8e-b8bc-1fb9067cc6bb\" class=\"colab-df-container\">\n",
              "    <div>\n",
              "<style scoped>\n",
              "    .dataframe tbody tr th:only-of-type {\n",
              "        vertical-align: middle;\n",
              "    }\n",
              "\n",
              "    .dataframe tbody tr th {\n",
              "        vertical-align: top;\n",
              "    }\n",
              "\n",
              "    .dataframe thead th {\n",
              "        text-align: right;\n",
              "    }\n",
              "</style>\n",
              "<table border=\"1\" class=\"dataframe\">\n",
              "  <thead>\n",
              "    <tr style=\"text-align: right;\">\n",
              "      <th></th>\n",
              "      <th>Contents</th>\n",
              "      <th>ProcessedData</th>\n",
              "    </tr>\n",
              "  </thead>\n",
              "  <tbody>\n",
              "    <tr>\n",
              "      <th>0</th>\n",
              "      <td>올 들어 이달 20일까지 338억4000만달러의 무역적자가 났다. 연간 기준 역대 ...</td>\n",
              "      <td>올 들어 이달 20일까지 338억4000만달러의 무역적자가 났다. 연간 기준 역대 ...</td>\n",
              "    </tr>\n",
              "    <tr>\n",
              "      <th>1</th>\n",
              "      <td>미 중 갈등이 격화하는 가운데 중국의 미국 유럽 상대 수출은 크게 감소한 반면 러시...</td>\n",
              "      <td>미 중 갈등이 격화하는 가운데 중국의 미국 유럽 상대 수출은 크게 감소한 반면 러시...</td>\n",
              "    </tr>\n",
              "    <tr>\n",
              "      <th>2</th>\n",
              "      <td>[머니투데이 송지유 기자] [루치르 샤르마 회장, 파이낸셜타임스에 기고문 \\n\"인구...</td>\n",
              "      <td>[머니투데이 송지유 기자] [루치르 샤르마 회장, 파이낸셜타임스에 기고문  \"인구 ...</td>\n",
              "    </tr>\n",
              "    <tr>\n",
              "      <th>3</th>\n",
              "      <td>1980년대 제3세계 국가에서나 벌어질 법한 일이 2022년 유럽, 그것도 세계 5...</td>\n",
              "      <td>1980년대 제3세계 국가에서나 벌어질 법한 일이 2022년 유럽, 그것도 세계 5...</td>\n",
              "    </tr>\n",
              "    <tr>\n",
              "      <th>4</th>\n",
              "      <td>'시진핑(習近平) 3기로 인한 '차이나런'의 불똥이 원화로 튀었다. 25일 원화가치...</td>\n",
              "      <td>'시진핑(習近平) 3기로 인한 '차이나런'의 불똥이 원화로 튀었다. 25일 원화가치...</td>\n",
              "    </tr>\n",
              "  </tbody>\n",
              "</table>\n",
              "</div>\n",
              "    <div class=\"colab-df-buttons\">\n",
              "\n",
              "  <div class=\"colab-df-container\">\n",
              "    <button class=\"colab-df-convert\" onclick=\"convertToInteractive('df-3bfc85a1-5fbe-4d8e-b8bc-1fb9067cc6bb')\"\n",
              "            title=\"Convert this dataframe to an interactive table.\"\n",
              "            style=\"display:none;\">\n",
              "\n",
              "  <svg xmlns=\"http://www.w3.org/2000/svg\" height=\"24px\" viewBox=\"0 -960 960 960\">\n",
              "    <path d=\"M120-120v-720h720v720H120Zm60-500h600v-160H180v160Zm220 220h160v-160H400v160Zm0 220h160v-160H400v160ZM180-400h160v-160H180v160Zm440 0h160v-160H620v160ZM180-180h160v-160H180v160Zm440 0h160v-160H620v160Z\"/>\n",
              "  </svg>\n",
              "    </button>\n",
              "\n",
              "  <style>\n",
              "    .colab-df-container {\n",
              "      display:flex;\n",
              "      gap: 12px;\n",
              "    }\n",
              "\n",
              "    .colab-df-convert {\n",
              "      background-color: #E8F0FE;\n",
              "      border: none;\n",
              "      border-radius: 50%;\n",
              "      cursor: pointer;\n",
              "      display: none;\n",
              "      fill: #1967D2;\n",
              "      height: 32px;\n",
              "      padding: 0 0 0 0;\n",
              "      width: 32px;\n",
              "    }\n",
              "\n",
              "    .colab-df-convert:hover {\n",
              "      background-color: #E2EBFA;\n",
              "      box-shadow: 0px 1px 2px rgba(60, 64, 67, 0.3), 0px 1px 3px 1px rgba(60, 64, 67, 0.15);\n",
              "      fill: #174EA6;\n",
              "    }\n",
              "\n",
              "    .colab-df-buttons div {\n",
              "      margin-bottom: 4px;\n",
              "    }\n",
              "\n",
              "    [theme=dark] .colab-df-convert {\n",
              "      background-color: #3B4455;\n",
              "      fill: #D2E3FC;\n",
              "    }\n",
              "\n",
              "    [theme=dark] .colab-df-convert:hover {\n",
              "      background-color: #434B5C;\n",
              "      box-shadow: 0px 1px 3px 1px rgba(0, 0, 0, 0.15);\n",
              "      filter: drop-shadow(0px 1px 2px rgba(0, 0, 0, 0.3));\n",
              "      fill: #FFFFFF;\n",
              "    }\n",
              "  </style>\n",
              "\n",
              "    <script>\n",
              "      const buttonEl =\n",
              "        document.querySelector('#df-3bfc85a1-5fbe-4d8e-b8bc-1fb9067cc6bb button.colab-df-convert');\n",
              "      buttonEl.style.display =\n",
              "        google.colab.kernel.accessAllowed ? 'block' : 'none';\n",
              "\n",
              "      async function convertToInteractive(key) {\n",
              "        const element = document.querySelector('#df-3bfc85a1-5fbe-4d8e-b8bc-1fb9067cc6bb');\n",
              "        const dataTable =\n",
              "          await google.colab.kernel.invokeFunction('convertToInteractive',\n",
              "                                                    [key], {});\n",
              "        if (!dataTable) return;\n",
              "\n",
              "        const docLinkHtml = 'Like what you see? Visit the ' +\n",
              "          '<a target=\"_blank\" href=https://colab.research.google.com/notebooks/data_table.ipynb>data table notebook</a>'\n",
              "          + ' to learn more about interactive tables.';\n",
              "        element.innerHTML = '';\n",
              "        dataTable['output_type'] = 'display_data';\n",
              "        await google.colab.output.renderOutput(dataTable, element);\n",
              "        const docLink = document.createElement('div');\n",
              "        docLink.innerHTML = docLinkHtml;\n",
              "        element.appendChild(docLink);\n",
              "      }\n",
              "    </script>\n",
              "  </div>\n",
              "\n",
              "\n",
              "<div id=\"df-86c2d7f8-c6ad-44c7-908e-718214aa0923\">\n",
              "  <button class=\"colab-df-quickchart\" onclick=\"quickchart('df-86c2d7f8-c6ad-44c7-908e-718214aa0923')\"\n",
              "            title=\"Suggest charts.\"\n",
              "            style=\"display:none;\">\n",
              "\n",
              "<svg xmlns=\"http://www.w3.org/2000/svg\" height=\"24px\"viewBox=\"0 0 24 24\"\n",
              "     width=\"24px\">\n",
              "    <g>\n",
              "        <path d=\"M19 3H5c-1.1 0-2 .9-2 2v14c0 1.1.9 2 2 2h14c1.1 0 2-.9 2-2V5c0-1.1-.9-2-2-2zM9 17H7v-7h2v7zm4 0h-2V7h2v10zm4 0h-2v-4h2v4z\"/>\n",
              "    </g>\n",
              "</svg>\n",
              "  </button>\n",
              "\n",
              "<style>\n",
              "  .colab-df-quickchart {\n",
              "      --bg-color: #E8F0FE;\n",
              "      --fill-color: #1967D2;\n",
              "      --hover-bg-color: #E2EBFA;\n",
              "      --hover-fill-color: #174EA6;\n",
              "      --disabled-fill-color: #AAA;\n",
              "      --disabled-bg-color: #DDD;\n",
              "  }\n",
              "\n",
              "  [theme=dark] .colab-df-quickchart {\n",
              "      --bg-color: #3B4455;\n",
              "      --fill-color: #D2E3FC;\n",
              "      --hover-bg-color: #434B5C;\n",
              "      --hover-fill-color: #FFFFFF;\n",
              "      --disabled-bg-color: #3B4455;\n",
              "      --disabled-fill-color: #666;\n",
              "  }\n",
              "\n",
              "  .colab-df-quickchart {\n",
              "    background-color: var(--bg-color);\n",
              "    border: none;\n",
              "    border-radius: 50%;\n",
              "    cursor: pointer;\n",
              "    display: none;\n",
              "    fill: var(--fill-color);\n",
              "    height: 32px;\n",
              "    padding: 0;\n",
              "    width: 32px;\n",
              "  }\n",
              "\n",
              "  .colab-df-quickchart:hover {\n",
              "    background-color: var(--hover-bg-color);\n",
              "    box-shadow: 0 1px 2px rgba(60, 64, 67, 0.3), 0 1px 3px 1px rgba(60, 64, 67, 0.15);\n",
              "    fill: var(--button-hover-fill-color);\n",
              "  }\n",
              "\n",
              "  .colab-df-quickchart-complete:disabled,\n",
              "  .colab-df-quickchart-complete:disabled:hover {\n",
              "    background-color: var(--disabled-bg-color);\n",
              "    fill: var(--disabled-fill-color);\n",
              "    box-shadow: none;\n",
              "  }\n",
              "\n",
              "  .colab-df-spinner {\n",
              "    border: 2px solid var(--fill-color);\n",
              "    border-color: transparent;\n",
              "    border-bottom-color: var(--fill-color);\n",
              "    animation:\n",
              "      spin 1s steps(1) infinite;\n",
              "  }\n",
              "\n",
              "  @keyframes spin {\n",
              "    0% {\n",
              "      border-color: transparent;\n",
              "      border-bottom-color: var(--fill-color);\n",
              "      border-left-color: var(--fill-color);\n",
              "    }\n",
              "    20% {\n",
              "      border-color: transparent;\n",
              "      border-left-color: var(--fill-color);\n",
              "      border-top-color: var(--fill-color);\n",
              "    }\n",
              "    30% {\n",
              "      border-color: transparent;\n",
              "      border-left-color: var(--fill-color);\n",
              "      border-top-color: var(--fill-color);\n",
              "      border-right-color: var(--fill-color);\n",
              "    }\n",
              "    40% {\n",
              "      border-color: transparent;\n",
              "      border-right-color: var(--fill-color);\n",
              "      border-top-color: var(--fill-color);\n",
              "    }\n",
              "    60% {\n",
              "      border-color: transparent;\n",
              "      border-right-color: var(--fill-color);\n",
              "    }\n",
              "    80% {\n",
              "      border-color: transparent;\n",
              "      border-right-color: var(--fill-color);\n",
              "      border-bottom-color: var(--fill-color);\n",
              "    }\n",
              "    90% {\n",
              "      border-color: transparent;\n",
              "      border-bottom-color: var(--fill-color);\n",
              "    }\n",
              "  }\n",
              "</style>\n",
              "\n",
              "  <script>\n",
              "    async function quickchart(key) {\n",
              "      const quickchartButtonEl =\n",
              "        document.querySelector('#' + key + ' button');\n",
              "      quickchartButtonEl.disabled = true;  // To prevent multiple clicks.\n",
              "      quickchartButtonEl.classList.add('colab-df-spinner');\n",
              "      try {\n",
              "        const charts = await google.colab.kernel.invokeFunction(\n",
              "            'suggestCharts', [key], {});\n",
              "      } catch (error) {\n",
              "        console.error('Error during call to suggestCharts:', error);\n",
              "      }\n",
              "      quickchartButtonEl.classList.remove('colab-df-spinner');\n",
              "      quickchartButtonEl.classList.add('colab-df-quickchart-complete');\n",
              "    }\n",
              "    (() => {\n",
              "      let quickchartButtonEl =\n",
              "        document.querySelector('#df-86c2d7f8-c6ad-44c7-908e-718214aa0923 button');\n",
              "      quickchartButtonEl.style.display =\n",
              "        google.colab.kernel.accessAllowed ? 'block' : 'none';\n",
              "    })();\n",
              "  </script>\n",
              "</div>\n",
              "    </div>\n",
              "  </div>\n"
            ]
          },
          "metadata": {},
          "execution_count": 133
        }
      ]
    },
    {
      "cell_type": "code",
      "source": [
        "for i in range(len(C_all[TARGET_COL])):\n",
        "    C_all[PROCESSED_COL][i] = remove_CRLF(C_all[TARGET_COL][i])\n",
        "\n",
        "for i in range(len(A_all[TARGET_COL])):\n",
        "    A_all[PROCESSED_COL][i] = remove_CRLF(A_all[TARGET_COL][i])\n",
        "\n",
        "for i in range(len(Ex_all[TARGET_COL])):\n",
        "    Ex_all[PROCESSED_COL][i] = remove_CRLF(Ex_all[TARGET_COL][i])\n",
        "\n",
        "for i in range(len(Economic_all[TARGET_COL])):\n",
        "    Economic_all[PROCESSED_COL][i] = remove_CRLF(Economic_all[TARGET_COL][i])"
      ],
      "metadata": {
        "colab": {
          "base_uri": "https://localhost:8080/"
        },
        "id": "duO2xc09MI1G",
        "outputId": "f99a9384-80aa-4467-b33e-4b64bc17750a"
      },
      "execution_count": 130,
      "outputs": [
        {
          "output_type": "stream",
          "name": "stderr",
          "text": [
            "/usr/local/lib/python3.10/dist-packages/ipykernel/ipkernel.py:283: DeprecationWarning: `should_run_async` will not call `transform_cell` automatically in the future. Please pass the result to `transformed_cell` argument and any exception that happen during thetransform in `preprocessing_exc_tuple` in IPython 7.17 and above.\n",
            "  and should_run_async(code)\n"
          ]
        }
      ]
    },
    {
      "cell_type": "code",
      "source": [
        "#简写的代码\n",
        "dfs = [C_all, A_all, Ex_all, Economic_all]\n",
        "\n",
        "for df in dfs:\n",
        "    for i in range(len(df[TARGET_COL])):\n",
        "        df.at[i, PROCESSED_COL] = remove_CRLF(df.at[i, TARGET_COL])\n"
      ],
      "metadata": {
        "colab": {
          "base_uri": "https://localhost:8080/"
        },
        "id": "u5a-a6GdMI4f",
        "outputId": "240fc07a-4bac-4afa-ab8c-8b478e43f5db"
      },
      "execution_count": 131,
      "outputs": [
        {
          "output_type": "stream",
          "name": "stderr",
          "text": [
            "/usr/local/lib/python3.10/dist-packages/ipykernel/ipkernel.py:283: DeprecationWarning: `should_run_async` will not call `transform_cell` automatically in the future. Please pass the result to `transformed_cell` argument and any exception that happen during thetransform in `preprocessing_exc_tuple` in IPython 7.17 and above.\n",
            "  and should_run_async(code)\n"
          ]
        }
      ]
    },
    {
      "cell_type": "code",
      "source": [
        "dfs = [C_all, A_all, Ex_all, Economic_all]\n",
        "names = ['C_all', 'A_all', 'Ex_all', 'Economic_all']\n",
        "\n",
        "for df, name in zip(dfs, names):\n",
        "    for i in range(len(df[TARGET_COL])):\n",
        "        df.at[i, PROCESSED_COL] = remove_CRLF(df.at[i, TARGET_COL])\n",
        "\n",
        "    # 각 DataFrame의 상위 5줄 출력\n",
        "    print(f\"{name}의 상위 5줄:\")\n",
        "    print(df.head())\n",
        "    print(\"\\n\")\n"
      ],
      "metadata": {
        "id": "KMCo5xtHTF4L"
      },
      "execution_count": null,
      "outputs": []
    },
    {
      "cell_type": "code",
      "source": [
        "dfs = [C_all, A_all, Ex_all, Economic_all]\n",
        "\n",
        "# 첫 번째 단계: 텍스트 정제\n",
        "for df in dfs:\n",
        "    for i in range(len(df[TARGET_COL])):\n",
        "        df.at[i, PROCESSED_COL] = cleansing(df.at[i, TARGET_COL])\n",
        "\n",
        "# 두 번째 단계: 불용어 제거 (tqdm 사용)\n",
        "from tqdm import tqdm\n",
        "\n",
        "for df in dfs:\n",
        "    for i in tqdm(range(len(df[TARGET_COL]))):\n",
        "        df.at[i, PROCESSED_COL] = remove_stopwords(df.at[i, PROCESSED_COL])\n"
      ],
      "metadata": {
        "colab": {
          "base_uri": "https://localhost:8080/"
        },
        "id": "nxpEd3uzVZPn",
        "outputId": "0a8b0f4d-b9da-4cc5-cadf-9226ba23094e"
      },
      "execution_count": 135,
      "outputs": [
        {
          "output_type": "stream",
          "name": "stderr",
          "text": [
            "/usr/local/lib/python3.10/dist-packages/ipykernel/ipkernel.py:283: DeprecationWarning: `should_run_async` will not call `transform_cell` automatically in the future. Please pass the result to `transformed_cell` argument and any exception that happen during thetransform in `preprocessing_exc_tuple` in IPython 7.17 and above.\n",
            "  and should_run_async(code)\n",
            "100%|██████████| 34734/34734 [00:19<00:00, 1757.28it/s]\n",
            "100%|██████████| 40250/40250 [00:23<00:00, 1745.52it/s]\n",
            "100%|██████████| 33110/33110 [00:18<00:00, 1767.36it/s]\n",
            "100%|██████████| 36879/36879 [00:20<00:00, 1781.79it/s]\n"
          ]
        }
      ]
    },
    {
      "cell_type": "code",
      "source": [
        "def process_dataframe(df):\n",
        "    for i in tqdm(range(len(df[TARGET_COL]))):\n",
        "        # List of strings to single string\n",
        "        if isinstance(df[PROCESSED_COL][i], list):\n",
        "            input_string = ' '.join(df[PROCESSED_COL][i])\n",
        "        else:\n",
        "            input_string = df[PROCESSED_COL][i]\n",
        "        df.at[i, PROCESSED_COL] = tokenize_and_filter(input_string)\n",
        "\n",
        "# 각 DataFrame에 대해 처리 함수 호출\n",
        "dataframes = [C_all, A_all, Ex_all, Economic_all]\n",
        "for df in dataframes:\n",
        "    process_dataframe(df)\n"
      ],
      "metadata": {
        "colab": {
          "base_uri": "https://localhost:8080/"
        },
        "id": "JfPZOY7XVZTp",
        "outputId": "1469d070-457b-4ad0-d705-767a05f6d6d4"
      },
      "execution_count": 136,
      "outputs": [
        {
          "output_type": "stream",
          "name": "stderr",
          "text": [
            "/usr/local/lib/python3.10/dist-packages/ipykernel/ipkernel.py:283: DeprecationWarning: `should_run_async` will not call `transform_cell` automatically in the future. Please pass the result to `transformed_cell` argument and any exception that happen during thetransform in `preprocessing_exc_tuple` in IPython 7.17 and above.\n",
            "  and should_run_async(code)\n",
            "100%|██████████| 34734/34734 [00:17<00:00, 1930.82it/s]\n",
            "100%|██████████| 40250/40250 [00:20<00:00, 1983.88it/s]\n",
            "100%|██████████| 33110/33110 [00:16<00:00, 2015.33it/s]\n",
            "100%|██████████| 36879/36879 [00:18<00:00, 1948.10it/s]\n"
          ]
        }
      ]
    },
    {
      "cell_type": "code",
      "source": [
        "# 查看每个DataFrame的前几行\n",
        "for df_name, df in zip(['C_all', 'A_all', 'Ex_all', 'Economic_all'], [C_all, A_all, Ex_all, Economic_all]):\n",
        "    print(f\"{df_name} DataFrame:\\n\")\n",
        "    print(df.head())\n",
        "    print(\"\\n\" + \"=\"*50 + \"\\n\")"
      ],
      "metadata": {
        "id": "Az-edEbHX1M0"
      },
      "execution_count": null,
      "outputs": []
    },
    {
      "cell_type": "code",
      "source": [
        "base_path = \"/content/drive/MyDrive/최근/빅데이터/코로나와 무역/rawdata(20210101~20231026)_20231028\"\n",
        "\n",
        "for df_name, df in zip(['C_all', 'A_all', 'Ex_all', 'Economic_all'], [C_all, A_all, Ex_all, Economic_all]):\n",
        "    file_name = f\"{base_path}/{df_name}_processed.csv\"\n",
        "    df.to_csv(file_name, index=False)\n",
        "    print(f\"{df_name} DataFrame has been saved to {file_name}\\n\")\n"
      ],
      "metadata": {
        "colab": {
          "base_uri": "https://localhost:8080/"
        },
        "id": "2rPA7BFfYaBP",
        "outputId": "dc43a0ab-1103-49a0-8238-4c9c40d087d8"
      },
      "execution_count": 138,
      "outputs": [
        {
          "output_type": "stream",
          "name": "stderr",
          "text": [
            "/usr/local/lib/python3.10/dist-packages/ipykernel/ipkernel.py:283: DeprecationWarning: `should_run_async` will not call `transform_cell` automatically in the future. Please pass the result to `transformed_cell` argument and any exception that happen during thetransform in `preprocessing_exc_tuple` in IPython 7.17 and above.\n",
            "  and should_run_async(code)\n"
          ]
        },
        {
          "output_type": "stream",
          "name": "stdout",
          "text": [
            "C_all DataFrame has been saved to /content/drive/MyDrive/최근/빅데이터/코로나와 무역/rawdata(20210101~20231026)_20231028/C_all_processed.csv\n",
            "\n",
            "A_all DataFrame has been saved to /content/drive/MyDrive/최근/빅데이터/코로나와 무역/rawdata(20210101~20231026)_20231028/A_all_processed.csv\n",
            "\n",
            "Ex_all DataFrame has been saved to /content/drive/MyDrive/최근/빅데이터/코로나와 무역/rawdata(20210101~20231026)_20231028/Ex_all_processed.csv\n",
            "\n",
            "Economic_all DataFrame has been saved to /content/drive/MyDrive/최근/빅데이터/코로나와 무역/rawdata(20210101~20231026)_20231028/Economic_all_processed.csv\n",
            "\n"
          ]
        }
      ]
    },
    {
      "cell_type": "code",
      "source": [
        "def compute_word_frequencies(df, column_name):\n",
        "    all_words = []\n",
        "    for text in df[column_name]:\n",
        "        if isinstance(text, list):\n",
        "            all_words.extend(text)\n",
        "        else:\n",
        "            all_words.extend(text.split())\n",
        "\n",
        "    word_counts = Counter(all_words)\n",
        "    word_counts_df = pd.DataFrame(word_counts.items(), columns=['Word', 'Frequency'])\n",
        "    word_counts_sorted = word_counts_df.sort_values(by='Frequency', ascending=False).reset_index(drop=True)\n",
        "\n",
        "    return word_counts_sorted\n"
      ],
      "metadata": {
        "colab": {
          "base_uri": "https://localhost:8080/"
        },
        "id": "cl_ufo-0ZROk",
        "outputId": "e2716f3f-9fe4-463a-e409-679d2fd8d2d6"
      },
      "execution_count": 140,
      "outputs": [
        {
          "output_type": "stream",
          "name": "stderr",
          "text": [
            "/usr/local/lib/python3.10/dist-packages/ipykernel/ipkernel.py:283: DeprecationWarning: `should_run_async` will not call `transform_cell` automatically in the future. Please pass the result to `transformed_cell` argument and any exception that happen during thetransform in `preprocessing_exc_tuple` in IPython 7.17 and above.\n",
            "  and should_run_async(code)\n"
          ]
        }
      ]
    },
    {
      "cell_type": "code",
      "source": [
        "dataframes = {\"C_all\": C_all, \"A_all\": A_all, \"Ex_all\": Ex_all, \"Economic_all\": Economic_all}\n",
        "results = {}\n",
        "for name, df in dataframes.items():\n",
        "    results[name] = compute_word_frequencies(df, PROCESSED_COL)"
      ],
      "metadata": {
        "colab": {
          "base_uri": "https://localhost:8080/"
        },
        "id": "xGPRSEnOZRWx",
        "outputId": "7abc517b-f921-440d-9bec-36cdd5516b5d"
      },
      "execution_count": 141,
      "outputs": [
        {
          "output_type": "stream",
          "name": "stderr",
          "text": [
            "/usr/local/lib/python3.10/dist-packages/ipykernel/ipkernel.py:283: DeprecationWarning: `should_run_async` will not call `transform_cell` automatically in the future. Please pass the result to `transformed_cell` argument and any exception that happen during thetransform in `preprocessing_exc_tuple` in IPython 7.17 and above.\n",
            "  and should_run_async(code)\n"
          ]
        }
      ]
    },
    {
      "cell_type": "code",
      "source": [
        "for name, df in results.items():\n",
        "    print(f\"\\n{name} Top Words:\")\n",
        "    print(df.head())"
      ],
      "metadata": {
        "id": "gbFodAvVYaER"
      },
      "execution_count": null,
      "outputs": []
    },
    {
      "cell_type": "code",
      "source": [
        "for name, df in results.items():\n",
        "    file_name = f\"{name}_word_counts.csv\"  # 指定文件名\n",
        "    full_save_path = f\"{base_path}/{file_name}\"\n",
        "\n",
        "    df.to_csv(full_save_path, index=False)  # 保存DataFrame为CSV文件\n",
        "    print(f\"Word counts for {name} saved to {full_save_path}\")\n"
      ],
      "metadata": {
        "colab": {
          "base_uri": "https://localhost:8080/"
        },
        "id": "em8VCT1ZYaGa",
        "outputId": "0e9c40d6-3002-4249-ddc3-2db72484b3d3"
      },
      "execution_count": 143,
      "outputs": [
        {
          "output_type": "stream",
          "name": "stderr",
          "text": [
            "/usr/local/lib/python3.10/dist-packages/ipykernel/ipkernel.py:283: DeprecationWarning: `should_run_async` will not call `transform_cell` automatically in the future. Please pass the result to `transformed_cell` argument and any exception that happen during thetransform in `preprocessing_exc_tuple` in IPython 7.17 and above.\n",
            "  and should_run_async(code)\n"
          ]
        },
        {
          "output_type": "stream",
          "name": "stdout",
          "text": [
            "Word counts for C_all saved to /content/drive/MyDrive/최근/빅데이터/코로나와 무역/rawdata(20210101~20231026)_20231028/C_all_word_counts.csv\n",
            "Word counts for A_all saved to /content/drive/MyDrive/최근/빅데이터/코로나와 무역/rawdata(20210101~20231026)_20231028/A_all_word_counts.csv\n",
            "Word counts for Ex_all saved to /content/drive/MyDrive/최근/빅데이터/코로나와 무역/rawdata(20210101~20231026)_20231028/Ex_all_word_counts.csv\n",
            "Word counts for Economic_all saved to /content/drive/MyDrive/최근/빅데이터/코로나와 무역/rawdata(20210101~20231026)_20231028/Economic_all_word_counts.csv\n"
          ]
        }
      ]
    },
    {
      "cell_type": "code",
      "source": [
        "C_all_counts=pd.read_csv(\"/content/drive/MyDrive/최근/빅데이터/코로나와 무역/rawdata(20210101~20231026)_20231028/C_all_word_counts.csv\")\n",
        "A_all_counts=pd.read_csv(\"/content/drive/MyDrive/최근/빅데이터/코로나와 무역/rawdata(20210101~20231026)_20231028/A_all_word_counts.csv\")\n",
        "K_all_counts=pd.read_csv(\"/content/drive/MyDrive/최근/빅데이터/코로나와 무역/rawdata(20210101~20231026)_20231028/K_all_word_counts.csv\")\n",
        "Ex_all_counts=pd.read_csv(\"/content/drive/MyDrive/최근/빅데이터/코로나와 무역/rawdata(20210101~20231026)_20231028/Ex_all_word_counts.csv\")\n",
        "Economic_all_counts=pd.read_csv(\"/content/drive/MyDrive/최근/빅데이터/코로나와 무역/rawdata(20210101~20231026)_20231028/Economic_all_word_counts.csv\")"
      ],
      "metadata": {
        "colab": {
          "base_uri": "https://localhost:8080/"
        },
        "id": "aPDR4kAzfZeW",
        "outputId": "fe516865-4c51-426f-9c92-e36d98cd1215"
      },
      "execution_count": 153,
      "outputs": [
        {
          "output_type": "stream",
          "name": "stderr",
          "text": [
            "/usr/local/lib/python3.10/dist-packages/ipykernel/ipkernel.py:283: DeprecationWarning: `should_run_async` will not call `transform_cell` automatically in the future. Please pass the result to `transformed_cell` argument and any exception that happen during thetransform in `preprocessing_exc_tuple` in IPython 7.17 and above.\n",
            "  and should_run_async(code)\n"
          ]
        }
      ]
    },
    {
      "cell_type": "code",
      "source": [
        "dataframes_to_merge = [C_all_counts, K_all_counts, A_all_counts, Ex_all_counts, Economic_all_counts]\n",
        "suffixes_list = ['_C', '_K', '_A', '_Ex', '_Economic']\n",
        "\n",
        "merged_df = dataframes_to_merge[0]\n",
        "for i in range(1, len(dataframes_to_merge)):\n",
        "    merged_df = pd.merge(merged_df, dataframes_to_merge[i], on='Word', how='inner', suffixes=('', suffixes_list[i]))\n",
        "\n",
        "# 创建一个新列来存放重复词的总频率\n",
        "merged_df['Total_Frequency'] = merged_df.filter(regex='Frequency').sum(axis=1)\n",
        "\n",
        "print(merged_df)"
      ],
      "metadata": {
        "id": "lCOWgaPzjZmd"
      },
      "execution_count": null,
      "outputs": []
    },
    {
      "cell_type": "code",
      "source": [
        "merged_df.to_csv('/content/drive/MyDrive/최근/빅데이터/코로나와 무역/rawdata(20210101~20231026)_20231028/rpeated_word_counts.csv')"
      ],
      "metadata": {
        "colab": {
          "base_uri": "https://localhost:8080/"
        },
        "id": "SJRikp86jm_D",
        "outputId": "702394b5-c49e-48b5-ca5d-6dfd2cad13bb"
      },
      "execution_count": 159,
      "outputs": [
        {
          "output_type": "stream",
          "name": "stderr",
          "text": [
            "/usr/local/lib/python3.10/dist-packages/ipykernel/ipkernel.py:283: DeprecationWarning: `should_run_async` will not call `transform_cell` automatically in the future. Please pass the result to `transformed_cell` argument and any exception that happen during thetransform in `preprocessing_exc_tuple` in IPython 7.17 and above.\n",
            "  and should_run_async(code)\n"
          ]
        }
      ]
    },
    {
      "cell_type": "markdown",
      "source": [
        "# 토픽분석"
      ],
      "metadata": {
        "id": "ZzlxR4tjmDnq"
      }
    },
    {
      "cell_type": "code",
      "source": [
        "C_all_p=pd.read_csv(\"/content/drive/MyDrive/최근/빅데이터/코로나와 무역/rawdata(20210101~20231026)_20231028/C_all_processed.csv\")\n",
        "A_all_p=pd.read_csv(\"/content/drive/MyDrive/최근/빅데이터/코로나와 무역/rawdata(20210101~20231026)_20231028/A_all_processed.csv\")\n",
        "Ex_all_p=pd.read_csv(\"/content/drive/MyDrive/최근/빅데이터/코로나와 무역/rawdata(20210101~20231026)_20231028/Ex_all_processed.csv\")\n",
        "Economic_all_p=pd.read_csv(\"/content/drive/MyDrive/최근/빅데이터/코로나와 무역/rawdata(20210101~20231026)_20231028/Economic_all_processed.csv\")"
      ],
      "metadata": {
        "colab": {
          "base_uri": "https://localhost:8080/"
        },
        "id": "UnFr3bLymCdC",
        "outputId": "4b3689db-9cc2-4945-b327-4689070de415"
      },
      "execution_count": 162,
      "outputs": [
        {
          "output_type": "stream",
          "name": "stderr",
          "text": [
            "/usr/local/lib/python3.10/dist-packages/ipykernel/ipkernel.py:283: DeprecationWarning: `should_run_async` will not call `transform_cell` automatically in the future. Please pass the result to `transformed_cell` argument and any exception that happen during thetransform in `preprocessing_exc_tuple` in IPython 7.17 and above.\n",
            "  and should_run_async(code)\n"
          ]
        }
      ]
    },
    {
      "cell_type": "code",
      "source": [
        "# C_all_p.head()"
      ],
      "metadata": {
        "colab": {
          "base_uri": "https://localhost:8080/",
          "height": 261
        },
        "id": "9t4T93SJm_vS",
        "outputId": "e469a7e7-0357-4017-bdfd-b53bf6a6a3c2"
      },
      "execution_count": 163,
      "outputs": [
        {
          "output_type": "stream",
          "name": "stderr",
          "text": [
            "/usr/local/lib/python3.10/dist-packages/ipykernel/ipkernel.py:283: DeprecationWarning: `should_run_async` will not call `transform_cell` automatically in the future. Please pass the result to `transformed_cell` argument and any exception that happen during thetransform in `preprocessing_exc_tuple` in IPython 7.17 and above.\n",
            "  and should_run_async(code)\n"
          ]
        },
        {
          "output_type": "execute_result",
          "data": {
            "text/plain": [
              "                                            Contents  \\\n",
              "0  올 들어 이달 20일까지 338억4000만달러의 무역적자가 났다. 연간 기준 역대 ...   \n",
              "1  미 중 갈등이 격화하는 가운데 중국의 미국 유럽 상대 수출은 크게 감소한 반면 러시...   \n",
              "2  [머니투데이 송지유 기자] [루치르 샤르마 회장, 파이낸셜타임스에 기고문 \\n\"인구...   \n",
              "3  1980년대 제3세계 국가에서나 벌어질 법한 일이 2022년 유럽, 그것도 세계 5...   \n",
              "4  '시진핑(習近平) 3기로 인한 '차이나런'의 불똥이 원화로 튀었다. 25일 원화가치...   \n",
              "\n",
              "                                       ProcessedData  \n",
              "0  ['이달', '달러', '무역', '적자', '연간', '기준', '역대', '최대...  \n",
              "1  ['갈등', '격화', '가운데', '중국', '미국', '유럽', '수출', '감...  \n",
              "2  ['송지유', '루치', '샤르마', '회장', '파이낸셜', '타임스', '인구'...  \n",
              "3  ['세계', '국가', '유럽', '그것', '세계', '경제', '대국인', '영...  \n",
              "4  ['시진핑', '차이', '불똥', '원화', '원화', '가치', '장중', '연...  "
            ],
            "text/html": [
              "\n",
              "  <div id=\"df-fe70e2c5-5bcc-40cb-99ee-5365c517de1c\" class=\"colab-df-container\">\n",
              "    <div>\n",
              "<style scoped>\n",
              "    .dataframe tbody tr th:only-of-type {\n",
              "        vertical-align: middle;\n",
              "    }\n",
              "\n",
              "    .dataframe tbody tr th {\n",
              "        vertical-align: top;\n",
              "    }\n",
              "\n",
              "    .dataframe thead th {\n",
              "        text-align: right;\n",
              "    }\n",
              "</style>\n",
              "<table border=\"1\" class=\"dataframe\">\n",
              "  <thead>\n",
              "    <tr style=\"text-align: right;\">\n",
              "      <th></th>\n",
              "      <th>Contents</th>\n",
              "      <th>ProcessedData</th>\n",
              "    </tr>\n",
              "  </thead>\n",
              "  <tbody>\n",
              "    <tr>\n",
              "      <th>0</th>\n",
              "      <td>올 들어 이달 20일까지 338억4000만달러의 무역적자가 났다. 연간 기준 역대 ...</td>\n",
              "      <td>['이달', '달러', '무역', '적자', '연간', '기준', '역대', '최대...</td>\n",
              "    </tr>\n",
              "    <tr>\n",
              "      <th>1</th>\n",
              "      <td>미 중 갈등이 격화하는 가운데 중국의 미국 유럽 상대 수출은 크게 감소한 반면 러시...</td>\n",
              "      <td>['갈등', '격화', '가운데', '중국', '미국', '유럽', '수출', '감...</td>\n",
              "    </tr>\n",
              "    <tr>\n",
              "      <th>2</th>\n",
              "      <td>[머니투데이 송지유 기자] [루치르 샤르마 회장, 파이낸셜타임스에 기고문 \\n\"인구...</td>\n",
              "      <td>['송지유', '루치', '샤르마', '회장', '파이낸셜', '타임스', '인구'...</td>\n",
              "    </tr>\n",
              "    <tr>\n",
              "      <th>3</th>\n",
              "      <td>1980년대 제3세계 국가에서나 벌어질 법한 일이 2022년 유럽, 그것도 세계 5...</td>\n",
              "      <td>['세계', '국가', '유럽', '그것', '세계', '경제', '대국인', '영...</td>\n",
              "    </tr>\n",
              "    <tr>\n",
              "      <th>4</th>\n",
              "      <td>'시진핑(習近平) 3기로 인한 '차이나런'의 불똥이 원화로 튀었다. 25일 원화가치...</td>\n",
              "      <td>['시진핑', '차이', '불똥', '원화', '원화', '가치', '장중', '연...</td>\n",
              "    </tr>\n",
              "  </tbody>\n",
              "</table>\n",
              "</div>\n",
              "    <div class=\"colab-df-buttons\">\n",
              "\n",
              "  <div class=\"colab-df-container\">\n",
              "    <button class=\"colab-df-convert\" onclick=\"convertToInteractive('df-fe70e2c5-5bcc-40cb-99ee-5365c517de1c')\"\n",
              "            title=\"Convert this dataframe to an interactive table.\"\n",
              "            style=\"display:none;\">\n",
              "\n",
              "  <svg xmlns=\"http://www.w3.org/2000/svg\" height=\"24px\" viewBox=\"0 -960 960 960\">\n",
              "    <path d=\"M120-120v-720h720v720H120Zm60-500h600v-160H180v160Zm220 220h160v-160H400v160Zm0 220h160v-160H400v160ZM180-400h160v-160H180v160Zm440 0h160v-160H620v160ZM180-180h160v-160H180v160Zm440 0h160v-160H620v160Z\"/>\n",
              "  </svg>\n",
              "    </button>\n",
              "\n",
              "  <style>\n",
              "    .colab-df-container {\n",
              "      display:flex;\n",
              "      gap: 12px;\n",
              "    }\n",
              "\n",
              "    .colab-df-convert {\n",
              "      background-color: #E8F0FE;\n",
              "      border: none;\n",
              "      border-radius: 50%;\n",
              "      cursor: pointer;\n",
              "      display: none;\n",
              "      fill: #1967D2;\n",
              "      height: 32px;\n",
              "      padding: 0 0 0 0;\n",
              "      width: 32px;\n",
              "    }\n",
              "\n",
              "    .colab-df-convert:hover {\n",
              "      background-color: #E2EBFA;\n",
              "      box-shadow: 0px 1px 2px rgba(60, 64, 67, 0.3), 0px 1px 3px 1px rgba(60, 64, 67, 0.15);\n",
              "      fill: #174EA6;\n",
              "    }\n",
              "\n",
              "    .colab-df-buttons div {\n",
              "      margin-bottom: 4px;\n",
              "    }\n",
              "\n",
              "    [theme=dark] .colab-df-convert {\n",
              "      background-color: #3B4455;\n",
              "      fill: #D2E3FC;\n",
              "    }\n",
              "\n",
              "    [theme=dark] .colab-df-convert:hover {\n",
              "      background-color: #434B5C;\n",
              "      box-shadow: 0px 1px 3px 1px rgba(0, 0, 0, 0.15);\n",
              "      filter: drop-shadow(0px 1px 2px rgba(0, 0, 0, 0.3));\n",
              "      fill: #FFFFFF;\n",
              "    }\n",
              "  </style>\n",
              "\n",
              "    <script>\n",
              "      const buttonEl =\n",
              "        document.querySelector('#df-fe70e2c5-5bcc-40cb-99ee-5365c517de1c button.colab-df-convert');\n",
              "      buttonEl.style.display =\n",
              "        google.colab.kernel.accessAllowed ? 'block' : 'none';\n",
              "\n",
              "      async function convertToInteractive(key) {\n",
              "        const element = document.querySelector('#df-fe70e2c5-5bcc-40cb-99ee-5365c517de1c');\n",
              "        const dataTable =\n",
              "          await google.colab.kernel.invokeFunction('convertToInteractive',\n",
              "                                                    [key], {});\n",
              "        if (!dataTable) return;\n",
              "\n",
              "        const docLinkHtml = 'Like what you see? Visit the ' +\n",
              "          '<a target=\"_blank\" href=https://colab.research.google.com/notebooks/data_table.ipynb>data table notebook</a>'\n",
              "          + ' to learn more about interactive tables.';\n",
              "        element.innerHTML = '';\n",
              "        dataTable['output_type'] = 'display_data';\n",
              "        await google.colab.output.renderOutput(dataTable, element);\n",
              "        const docLink = document.createElement('div');\n",
              "        docLink.innerHTML = docLinkHtml;\n",
              "        element.appendChild(docLink);\n",
              "      }\n",
              "    </script>\n",
              "  </div>\n",
              "\n",
              "\n",
              "<div id=\"df-ccd8d001-e037-4fbb-8b9e-5ba5855f22c8\">\n",
              "  <button class=\"colab-df-quickchart\" onclick=\"quickchart('df-ccd8d001-e037-4fbb-8b9e-5ba5855f22c8')\"\n",
              "            title=\"Suggest charts.\"\n",
              "            style=\"display:none;\">\n",
              "\n",
              "<svg xmlns=\"http://www.w3.org/2000/svg\" height=\"24px\"viewBox=\"0 0 24 24\"\n",
              "     width=\"24px\">\n",
              "    <g>\n",
              "        <path d=\"M19 3H5c-1.1 0-2 .9-2 2v14c0 1.1.9 2 2 2h14c1.1 0 2-.9 2-2V5c0-1.1-.9-2-2-2zM9 17H7v-7h2v7zm4 0h-2V7h2v10zm4 0h-2v-4h2v4z\"/>\n",
              "    </g>\n",
              "</svg>\n",
              "  </button>\n",
              "\n",
              "<style>\n",
              "  .colab-df-quickchart {\n",
              "      --bg-color: #E8F0FE;\n",
              "      --fill-color: #1967D2;\n",
              "      --hover-bg-color: #E2EBFA;\n",
              "      --hover-fill-color: #174EA6;\n",
              "      --disabled-fill-color: #AAA;\n",
              "      --disabled-bg-color: #DDD;\n",
              "  }\n",
              "\n",
              "  [theme=dark] .colab-df-quickchart {\n",
              "      --bg-color: #3B4455;\n",
              "      --fill-color: #D2E3FC;\n",
              "      --hover-bg-color: #434B5C;\n",
              "      --hover-fill-color: #FFFFFF;\n",
              "      --disabled-bg-color: #3B4455;\n",
              "      --disabled-fill-color: #666;\n",
              "  }\n",
              "\n",
              "  .colab-df-quickchart {\n",
              "    background-color: var(--bg-color);\n",
              "    border: none;\n",
              "    border-radius: 50%;\n",
              "    cursor: pointer;\n",
              "    display: none;\n",
              "    fill: var(--fill-color);\n",
              "    height: 32px;\n",
              "    padding: 0;\n",
              "    width: 32px;\n",
              "  }\n",
              "\n",
              "  .colab-df-quickchart:hover {\n",
              "    background-color: var(--hover-bg-color);\n",
              "    box-shadow: 0 1px 2px rgba(60, 64, 67, 0.3), 0 1px 3px 1px rgba(60, 64, 67, 0.15);\n",
              "    fill: var(--button-hover-fill-color);\n",
              "  }\n",
              "\n",
              "  .colab-df-quickchart-complete:disabled,\n",
              "  .colab-df-quickchart-complete:disabled:hover {\n",
              "    background-color: var(--disabled-bg-color);\n",
              "    fill: var(--disabled-fill-color);\n",
              "    box-shadow: none;\n",
              "  }\n",
              "\n",
              "  .colab-df-spinner {\n",
              "    border: 2px solid var(--fill-color);\n",
              "    border-color: transparent;\n",
              "    border-bottom-color: var(--fill-color);\n",
              "    animation:\n",
              "      spin 1s steps(1) infinite;\n",
              "  }\n",
              "\n",
              "  @keyframes spin {\n",
              "    0% {\n",
              "      border-color: transparent;\n",
              "      border-bottom-color: var(--fill-color);\n",
              "      border-left-color: var(--fill-color);\n",
              "    }\n",
              "    20% {\n",
              "      border-color: transparent;\n",
              "      border-left-color: var(--fill-color);\n",
              "      border-top-color: var(--fill-color);\n",
              "    }\n",
              "    30% {\n",
              "      border-color: transparent;\n",
              "      border-left-color: var(--fill-color);\n",
              "      border-top-color: var(--fill-color);\n",
              "      border-right-color: var(--fill-color);\n",
              "    }\n",
              "    40% {\n",
              "      border-color: transparent;\n",
              "      border-right-color: var(--fill-color);\n",
              "      border-top-color: var(--fill-color);\n",
              "    }\n",
              "    60% {\n",
              "      border-color: transparent;\n",
              "      border-right-color: var(--fill-color);\n",
              "    }\n",
              "    80% {\n",
              "      border-color: transparent;\n",
              "      border-right-color: var(--fill-color);\n",
              "      border-bottom-color: var(--fill-color);\n",
              "    }\n",
              "    90% {\n",
              "      border-color: transparent;\n",
              "      border-bottom-color: var(--fill-color);\n",
              "    }\n",
              "  }\n",
              "</style>\n",
              "\n",
              "  <script>\n",
              "    async function quickchart(key) {\n",
              "      const quickchartButtonEl =\n",
              "        document.querySelector('#' + key + ' button');\n",
              "      quickchartButtonEl.disabled = true;  // To prevent multiple clicks.\n",
              "      quickchartButtonEl.classList.add('colab-df-spinner');\n",
              "      try {\n",
              "        const charts = await google.colab.kernel.invokeFunction(\n",
              "            'suggestCharts', [key], {});\n",
              "      } catch (error) {\n",
              "        console.error('Error during call to suggestCharts:', error);\n",
              "      }\n",
              "      quickchartButtonEl.classList.remove('colab-df-spinner');\n",
              "      quickchartButtonEl.classList.add('colab-df-quickchart-complete');\n",
              "    }\n",
              "    (() => {\n",
              "      let quickchartButtonEl =\n",
              "        document.querySelector('#df-ccd8d001-e037-4fbb-8b9e-5ba5855f22c8 button');\n",
              "      quickchartButtonEl.style.display =\n",
              "        google.colab.kernel.accessAllowed ? 'block' : 'none';\n",
              "    })();\n",
              "  </script>\n",
              "</div>\n",
              "    </div>\n",
              "  </div>\n"
            ]
          },
          "metadata": {},
          "execution_count": 163
        }
      ]
    },
    {
      "cell_type": "code",
      "source": [
        "import ast\n",
        "\n",
        "C_all_p[\"ProcessedData\"] = C_all_p[\"ProcessedData\"].apply(ast.literal_eval)\n",
        "\n",
        "dictionary = corpora.Dictionary(C_all_p[\"ProcessedData\"])\n",
        "\n",
        "corpus = [dictionary.doc2bow(text) for text in C_all_p[\"ProcessedData\"]]\n",
        "\n",
        "processed_data = C_all_p[\"ProcessedData\"].tolist()"
      ],
      "metadata": {
        "colab": {
          "base_uri": "https://localhost:8080/"
        },
        "id": "cHGmC0nIm_yG",
        "outputId": "29568018-7871-4148-f2b2-c637c0469a4f"
      },
      "execution_count": 164,
      "outputs": [
        {
          "output_type": "stream",
          "name": "stderr",
          "text": [
            "/usr/local/lib/python3.10/dist-packages/ipykernel/ipkernel.py:283: DeprecationWarning: `should_run_async` will not call `transform_cell` automatically in the future. Please pass the result to `transformed_cell` argument and any exception that happen during thetransform in `preprocessing_exc_tuple` in IPython 7.17 and above.\n",
            "  and should_run_async(code)\n"
          ]
        }
      ]
    },
    {
      "cell_type": "code",
      "source": [
        "limit = 8\n",
        "NUM_TOPICS = find_optimal_number_of_topics(dictionary, corpus, processed_data, limit)"
      ],
      "metadata": {
        "colab": {
          "base_uri": "https://localhost:8080/",
          "height": 504
        },
        "id": "_XpYYpSmni_L",
        "outputId": "b6cdab84-d321-4bf8-d8c5-49b31ea7da02"
      },
      "execution_count": 165,
      "outputs": [
        {
          "output_type": "stream",
          "name": "stderr",
          "text": [
            "/usr/local/lib/python3.10/dist-packages/ipykernel/ipkernel.py:283: DeprecationWarning: `should_run_async` will not call `transform_cell` automatically in the future. Please pass the result to `transformed_cell` argument and any exception that happen during thetransform in `preprocessing_exc_tuple` in IPython 7.17 and above.\n",
            "  and should_run_async(code)\n"
          ]
        },
        {
          "output_type": "display_data",
          "data": {
            "text/plain": [
              "<Figure size 640x480 with 1 Axes>"
            ],
            "image/png": "[encoded data removed]"
          },
          "metadata": {}
        }
      ]
    },
    {
      "cell_type": "code",
      "source": [
        "C_all_p[\"ProcessedData\"] = C_all_p[\"ProcessedData\"].apply(' '.join)\n",
        "\n",
        "vectorizer = TfidfVectorizer(max_features=1000)\n",
        "X = vectorizer.fit_transform(C_all_p[\"ProcessedData\"])"
      ],
      "metadata": {
        "colab": {
          "base_uri": "https://localhost:8080/"
        },
        "id": "4frh4b7hrqeu",
        "outputId": "770cd6a1-f98f-4cce-9b2b-028c76f42970"
      },
      "execution_count": 166,
      "outputs": [
        {
          "output_type": "stream",
          "name": "stderr",
          "text": [
            "/usr/local/lib/python3.10/dist-packages/ipykernel/ipkernel.py:283: DeprecationWarning: `should_run_async` will not call `transform_cell` automatically in the future. Please pass the result to `transformed_cell` argument and any exception that happen during thetransform in `preprocessing_exc_tuple` in IPython 7.17 and above.\n",
            "  and should_run_async(code)\n"
          ]
        }
      ]
    },
    {
      "cell_type": "code",
      "source": [
        "# LDA모델 생성\n",
        "lda_model = LatentDirichletAllocation(n_components=5, learning_method='online', random_state=42, max_iter=1)\n",
        "lda_top = lda_model.fit_transform(X)"
      ],
      "metadata": {
        "colab": {
          "base_uri": "https://localhost:8080/"
        },
        "id": "45B_4CGQrqmk",
        "outputId": "aa5bed10-a820-41b4-dcb2-61d236f94f62"
      },
      "execution_count": 169,
      "outputs": [
        {
          "output_type": "stream",
          "name": "stderr",
          "text": [
            "/usr/local/lib/python3.10/dist-packages/ipykernel/ipkernel.py:283: DeprecationWarning: `should_run_async` will not call `transform_cell` automatically in the future. Please pass the result to `transformed_cell` argument and any exception that happen during thetransform in `preprocessing_exc_tuple` in IPython 7.17 and above.\n",
            "  and should_run_async(code)\n"
          ]
        }
      ]
    },
    {
      "cell_type": "code",
      "source": [
        "def get_topics2(components, terms):\n",
        "    topics = []\n",
        "    for topic_idx, topic in enumerate(components):\n",
        "        topic_terms = [(terms[i], topic[i]) for i in topic.argsort()[:-30 - 1:-1]]\n",
        "        topics.append((topic_idx, topic_terms))\n",
        "    return topics"
      ],
      "metadata": {
        "colab": {
          "base_uri": "https://localhost:8080/"
        },
        "id": "kv2qVRzTrqpb",
        "outputId": "0c5c1f21-0db2-46cb-e7b9-d68ed6dbb787"
      },
      "execution_count": 170,
      "outputs": [
        {
          "output_type": "stream",
          "name": "stderr",
          "text": [
            "/usr/local/lib/python3.10/dist-packages/ipykernel/ipkernel.py:283: DeprecationWarning: `should_run_async` will not call `transform_cell` automatically in the future. Please pass the result to `transformed_cell` argument and any exception that happen during thetransform in `preprocessing_exc_tuple` in IPython 7.17 and above.\n",
            "  and should_run_async(code)\n"
          ]
        }
      ]
    },
    {
      "cell_type": "code",
      "source": [
        "C_all_topics = get_topics2(lda_model.components_, terms)\n",
        "if C_all_topics is not None:\n",
        "    df = pd.DataFrame(C_all_topics, columns=['Topic', 'Terms'])\n",
        "else:\n",
        "    df = pd.DataFrame()"
      ],
      "metadata": {
        "colab": {
          "base_uri": "https://localhost:8080/"
        },
        "id": "8u02QhTcsFai",
        "outputId": "114c9583-ce1f-49b4-fd09-1bdd1968dcd4"
      },
      "execution_count": 171,
      "outputs": [
        {
          "output_type": "stream",
          "name": "stderr",
          "text": [
            "/usr/local/lib/python3.10/dist-packages/ipykernel/ipkernel.py:283: DeprecationWarning: `should_run_async` will not call `transform_cell` automatically in the future. Please pass the result to `transformed_cell` argument and any exception that happen during thetransform in `preprocessing_exc_tuple` in IPython 7.17 and above.\n",
            "  and should_run_async(code)\n"
          ]
        }
      ]
    },
    {
      "cell_type": "code",
      "source": [
        "topics_transformed = [(topic[0], word, value) for topic in C_all_topics for word, value in topic[1]]\n",
        "df = pd.DataFrame(topics_transformed, columns=['Topic', 'Word', 'Value'])\n",
        "df.to_csv(\"/content/drive/MyDrive/최근/빅데이터/코로나와 무역/rawdata(20210101~20231026)_20231028/C_all_topics.csv\",index=False)"
      ],
      "metadata": {
        "colab": {
          "base_uri": "https://localhost:8080/"
        },
        "id": "8gxDDqgMtFSr",
        "outputId": "edbee85b-9f3b-4ef0-a56c-f45ce054a706"
      },
      "execution_count": 172,
      "outputs": [
        {
          "output_type": "stream",
          "name": "stderr",
          "text": [
            "/usr/local/lib/python3.10/dist-packages/ipykernel/ipkernel.py:283: DeprecationWarning: `should_run_async` will not call `transform_cell` automatically in the future. Please pass the result to `transformed_cell` argument and any exception that happen during thetransform in `preprocessing_exc_tuple` in IPython 7.17 and above.\n",
            "  and should_run_async(code)\n"
          ]
        }
      ]
    },
    {
      "cell_type": "code",
      "source": [],
      "metadata": {
        "id": "yzLNNCocvKrS"
      },
      "execution_count": null,
      "outputs": []
    },
    {
      "cell_type": "markdown",
      "source": [
        "* A_topic"
      ],
      "metadata": {
        "id": "K5DZ-3_FvLdH"
      }
    },
    {
      "cell_type": "code",
      "source": [
        "import ast\n",
        "\n",
        "A_all_p[\"ProcessedData\"] = A_all_p[\"ProcessedData\"].apply(ast.literal_eval)\n",
        "\n",
        "dictionary = corpora.Dictionary(A_all_p[\"ProcessedData\"])\n",
        "\n",
        "corpus = [dictionary.doc2bow(text) for text in A_all_p[\"ProcessedData\"]]\n",
        "\n",
        "processed_data = A_all_p[\"ProcessedData\"].tolist()"
      ],
      "metadata": {
        "colab": {
          "base_uri": "https://localhost:8080/"
        },
        "id": "fS8aQ-yBvKww",
        "outputId": "34876fb8-5a8d-4cbb-b471-a402f180952e"
      },
      "execution_count": 173,
      "outputs": [
        {
          "output_type": "stream",
          "name": "stderr",
          "text": [
            "/usr/local/lib/python3.10/dist-packages/ipykernel/ipkernel.py:283: DeprecationWarning: `should_run_async` will not call `transform_cell` automatically in the future. Please pass the result to `transformed_cell` argument and any exception that happen during thetransform in `preprocessing_exc_tuple` in IPython 7.17 and above.\n",
            "  and should_run_async(code)\n"
          ]
        }
      ]
    },
    {
      "cell_type": "code",
      "source": [
        "limit = 8\n",
        "NUM_TOPICS = find_optimal_number_of_topics(dictionary, corpus, processed_data, limit)"
      ],
      "metadata": {
        "colab": {
          "base_uri": "https://localhost:8080/",
          "height": 509
        },
        "id": "ocJUdA2nvKz8",
        "outputId": "8c1cd14b-a77c-4128-d7a7-fa5604156697"
      },
      "execution_count": 174,
      "outputs": [
        {
          "output_type": "stream",
          "name": "stderr",
          "text": [
            "/usr/local/lib/python3.10/dist-packages/ipykernel/ipkernel.py:283: DeprecationWarning: `should_run_async` will not call `transform_cell` automatically in the future. Please pass the result to `transformed_cell` argument and any exception that happen during thetransform in `preprocessing_exc_tuple` in IPython 7.17 and above.\n",
            "  and should_run_async(code)\n"
          ]
        },
        {
          "output_type": "display_data",
          "data": {
            "text/plain": [
              "<Figure size 640x480 with 1 Axes>"
            ],
            "image/png": "[encoded data removed]"
          },
          "metadata": {}
        }
      ]
    },
    {
      "cell_type": "code",
      "source": [
        "A_all_p[\"ProcessedData\"] = A_all_p[\"ProcessedData\"].apply(' '.join)\n",
        "\n",
        "vectorizer = TfidfVectorizer(max_features=1000)\n",
        "X = vectorizer.fit_transform(A_all_p[\"ProcessedData\"])"
      ],
      "metadata": {
        "colab": {
          "base_uri": "https://localhost:8080/"
        },
        "id": "1SniO7wpvK44",
        "outputId": "0e902798-5076-46b2-b947-35119435367a"
      },
      "execution_count": 175,
      "outputs": [
        {
          "output_type": "stream",
          "name": "stderr",
          "text": [
            "/usr/local/lib/python3.10/dist-packages/ipykernel/ipkernel.py:283: DeprecationWarning: `should_run_async` will not call `transform_cell` automatically in the future. Please pass the result to `transformed_cell` argument and any exception that happen during thetransform in `preprocessing_exc_tuple` in IPython 7.17 and above.\n",
            "  and should_run_async(code)\n"
          ]
        }
      ]
    },
    {
      "cell_type": "code",
      "source": [
        "# LDA모델 생성\n",
        "lda_model = LatentDirichletAllocation(n_components=4, learning_method='online', random_state=42, max_iter=1)\n",
        "lda_top = lda_model.fit_transform(X)"
      ],
      "metadata": {
        "colab": {
          "base_uri": "https://localhost:8080/"
        },
        "id": "r0h3zNzpvmkw",
        "outputId": "cbaa9a7e-7f26-4b86-b8a8-5bb2fe2a5fb0"
      },
      "execution_count": 176,
      "outputs": [
        {
          "output_type": "stream",
          "name": "stderr",
          "text": [
            "/usr/local/lib/python3.10/dist-packages/ipykernel/ipkernel.py:283: DeprecationWarning: `should_run_async` will not call `transform_cell` automatically in the future. Please pass the result to `transformed_cell` argument and any exception that happen during thetransform in `preprocessing_exc_tuple` in IPython 7.17 and above.\n",
            "  and should_run_async(code)\n"
          ]
        }
      ]
    },
    {
      "cell_type": "code",
      "source": [
        "A_all_topics = get_topics2(lda_model.components_, terms)\n",
        "if A_all_topics is not None:\n",
        "    df = pd.DataFrame(A_all_topics, columns=['Topic', 'Terms'])\n",
        "else:\n",
        "    df = pd.DataFrame()"
      ],
      "metadata": {
        "colab": {
          "base_uri": "https://localhost:8080/"
        },
        "id": "rpzEu_FDvmn1",
        "outputId": "42cde278-3d56-44a0-ec9a-81ad06390572"
      },
      "execution_count": 177,
      "outputs": [
        {
          "output_type": "stream",
          "name": "stderr",
          "text": [
            "/usr/local/lib/python3.10/dist-packages/ipykernel/ipkernel.py:283: DeprecationWarning: `should_run_async` will not call `transform_cell` automatically in the future. Please pass the result to `transformed_cell` argument and any exception that happen during thetransform in `preprocessing_exc_tuple` in IPython 7.17 and above.\n",
            "  and should_run_async(code)\n"
          ]
        }
      ]
    },
    {
      "cell_type": "code",
      "source": [
        "topics_transformed = [(topic[0], word, value) for topic in A_all_topics for word, value in topic[1]]\n",
        "df = pd.DataFrame(topics_transformed, columns=['Topic', 'Word', 'Value'])\n",
        "df.to_csv(\"/content/drive/MyDrive/최근/빅데이터/코로나와 무역/rawdata(20210101~20231026)_20231028/A_all_topics.csv\",index=False)"
      ],
      "metadata": {
        "colab": {
          "base_uri": "https://localhost:8080/"
        },
        "id": "-uJ5oMIsvmqd",
        "outputId": "0bdf2e17-04c4-43d1-a8e5-227cf977ae38"
      },
      "execution_count": 178,
      "outputs": [
        {
          "output_type": "stream",
          "name": "stderr",
          "text": [
            "/usr/local/lib/python3.10/dist-packages/ipykernel/ipkernel.py:283: DeprecationWarning: `should_run_async` will not call `transform_cell` automatically in the future. Please pass the result to `transformed_cell` argument and any exception that happen during thetransform in `preprocessing_exc_tuple` in IPython 7.17 and above.\n",
            "  and should_run_async(code)\n"
          ]
        }
      ]
    },
    {
      "cell_type": "markdown",
      "source": [
        "* Export"
      ],
      "metadata": {
        "id": "1AZWDQkky7dv"
      }
    },
    {
      "cell_type": "code",
      "source": [
        "import ast\n",
        "\n",
        "Ex_all_p[\"ProcessedData\"] = Ex_all_p[\"ProcessedData\"].apply(ast.literal_eval)\n",
        "\n",
        "dictionary = corpora.Dictionary(Ex_all_p[\"ProcessedData\"])\n",
        "\n",
        "corpus = [dictionary.doc2bow(text) for text in Ex_all_p[\"ProcessedData\"]]\n",
        "\n",
        "processed_data = Ex_all_p[\"ProcessedData\"].tolist()"
      ],
      "metadata": {
        "colab": {
          "base_uri": "https://localhost:8080/"
        },
        "id": "2nFjK7Pey89s",
        "outputId": "56670774-253b-4fca-fc7f-68f7eae61498"
      },
      "execution_count": 179,
      "outputs": [
        {
          "output_type": "stream",
          "name": "stderr",
          "text": [
            "/usr/local/lib/python3.10/dist-packages/ipykernel/ipkernel.py:283: DeprecationWarning: `should_run_async` will not call `transform_cell` automatically in the future. Please pass the result to `transformed_cell` argument and any exception that happen during thetransform in `preprocessing_exc_tuple` in IPython 7.17 and above.\n",
            "  and should_run_async(code)\n"
          ]
        }
      ]
    },
    {
      "cell_type": "code",
      "source": [
        "limit = 8\n",
        "NUM_TOPICS = find_optimal_number_of_topics(dictionary, corpus, processed_data, limit)"
      ],
      "metadata": {
        "colab": {
          "base_uri": "https://localhost:8080/",
          "height": 506
        },
        "id": "qI4o-GQyzI5o",
        "outputId": "1474aea4-1414-42a3-f684-37db7fbc39ea"
      },
      "execution_count": 180,
      "outputs": [
        {
          "output_type": "stream",
          "name": "stderr",
          "text": [
            "/usr/local/lib/python3.10/dist-packages/ipykernel/ipkernel.py:283: DeprecationWarning: `should_run_async` will not call `transform_cell` automatically in the future. Please pass the result to `transformed_cell` argument and any exception that happen during thetransform in `preprocessing_exc_tuple` in IPython 7.17 and above.\n",
            "  and should_run_async(code)\n"
          ]
        },
        {
          "output_type": "display_data",
          "data": {
            "text/plain": [
              "<Figure size 640x480 with 1 Axes>"
            ],
            "image/png": "[encoded data removed]"
          },
          "metadata": {}
        }
      ]
    },
    {
      "cell_type": "code",
      "source": [
        "Ex_all_p[\"ProcessedData\"] = Ex_all_p[\"ProcessedData\"].apply(' '.join)\n",
        "\n",
        "vectorizer = TfidfVectorizer(max_features=1000)\n",
        "X = vectorizer.fit_transform(Ex_all_p[\"ProcessedData\"])"
      ],
      "metadata": {
        "colab": {
          "base_uri": "https://localhost:8080/"
        },
        "id": "l1TeCA-xzzo0",
        "outputId": "a1a9a2d4-515a-43f5-8344-b7f4a82306a4"
      },
      "execution_count": 181,
      "outputs": [
        {
          "output_type": "stream",
          "name": "stderr",
          "text": [
            "/usr/local/lib/python3.10/dist-packages/ipykernel/ipkernel.py:283: DeprecationWarning: `should_run_async` will not call `transform_cell` automatically in the future. Please pass the result to `transformed_cell` argument and any exception that happen during thetransform in `preprocessing_exc_tuple` in IPython 7.17 and above.\n",
            "  and should_run_async(code)\n"
          ]
        }
      ]
    },
    {
      "cell_type": "code",
      "source": [
        "# LDA모델 생성\n",
        "lda_model = LatentDirichletAllocation(n_components=5, learning_method='online', random_state=42, max_iter=1)\n",
        "lda_top = lda_model.fit_transform(X)"
      ],
      "metadata": {
        "colab": {
          "base_uri": "https://localhost:8080/"
        },
        "id": "7_I4cOw5z2JC",
        "outputId": "b0462bf9-cf4d-4c76-cfcb-301c3a8d5276"
      },
      "execution_count": 182,
      "outputs": [
        {
          "output_type": "stream",
          "name": "stderr",
          "text": [
            "/usr/local/lib/python3.10/dist-packages/ipykernel/ipkernel.py:283: DeprecationWarning: `should_run_async` will not call `transform_cell` automatically in the future. Please pass the result to `transformed_cell` argument and any exception that happen during thetransform in `preprocessing_exc_tuple` in IPython 7.17 and above.\n",
            "  and should_run_async(code)\n"
          ]
        }
      ]
    },
    {
      "cell_type": "code",
      "source": [
        "Ex_all_topics = get_topics2(lda_model.components_, terms)\n",
        "if Ex_all_topics is not None:\n",
        "    df = pd.DataFrame(Ex_all_topics, columns=['Topic', 'Terms'])\n",
        "else:\n",
        "    df = pd.DataFrame()"
      ],
      "metadata": {
        "colab": {
          "base_uri": "https://localhost:8080/"
        },
        "id": "ItQUfxjmz2L1",
        "outputId": "c301560f-bf16-427c-b5f7-e504f53ee95f"
      },
      "execution_count": 183,
      "outputs": [
        {
          "output_type": "stream",
          "name": "stderr",
          "text": [
            "/usr/local/lib/python3.10/dist-packages/ipykernel/ipkernel.py:283: DeprecationWarning: `should_run_async` will not call `transform_cell` automatically in the future. Please pass the result to `transformed_cell` argument and any exception that happen during thetransform in `preprocessing_exc_tuple` in IPython 7.17 and above.\n",
            "  and should_run_async(code)\n"
          ]
        }
      ]
    },
    {
      "cell_type": "code",
      "source": [
        "topics_transformed = [(topic[0], word, value) for topic in Ex_all_topics for word, value in topic[1]]\n",
        "df = pd.DataFrame(topics_transformed, columns=['Topic', 'Word', 'Value'])\n",
        "df.to_csv(\"/content/drive/MyDrive/최근/빅데이터/코로나와 무역/rawdata(20210101~20231026)_20231028/Ex_all_topics.csv\",index=False)"
      ],
      "metadata": {
        "colab": {
          "base_uri": "https://localhost:8080/"
        },
        "id": "NqpGtUZtz2TJ",
        "outputId": "98718b17-699c-4a78-a16f-ae99d7925f82"
      },
      "execution_count": 184,
      "outputs": [
        {
          "output_type": "stream",
          "name": "stderr",
          "text": [
            "/usr/local/lib/python3.10/dist-packages/ipykernel/ipkernel.py:283: DeprecationWarning: `should_run_async` will not call `transform_cell` automatically in the future. Please pass the result to `transformed_cell` argument and any exception that happen during thetransform in `preprocessing_exc_tuple` in IPython 7.17 and above.\n",
            "  and should_run_async(code)\n"
          ]
        }
      ]
    },
    {
      "cell_type": "markdown",
      "source": [
        "* Economic"
      ],
      "metadata": {
        "id": "9Jv2o3_82o7o"
      }
    },
    {
      "cell_type": "code",
      "source": [
        "import ast\n",
        "\n",
        "Economic_all_p[\"ProcessedData\"] = Economic_all_p[\"ProcessedData\"].apply(ast.literal_eval)\n",
        "\n",
        "dictionary = corpora.Dictionary(Economic_all_p[\"ProcessedData\"])\n",
        "\n",
        "corpus = [dictionary.doc2bow(text) for text in Economic_all_p[\"ProcessedData\"]]\n",
        "\n",
        "processed_data = Economic_all_p[\"ProcessedData\"].tolist()"
      ],
      "metadata": {
        "colab": {
          "base_uri": "https://localhost:8080/"
        },
        "id": "L3v2Dp-12oEV",
        "outputId": "9d91292c-45e5-419d-e755-a28f68a28cc3"
      },
      "execution_count": 185,
      "outputs": [
        {
          "output_type": "stream",
          "name": "stderr",
          "text": [
            "/usr/local/lib/python3.10/dist-packages/ipykernel/ipkernel.py:283: DeprecationWarning: `should_run_async` will not call `transform_cell` automatically in the future. Please pass the result to `transformed_cell` argument and any exception that happen during thetransform in `preprocessing_exc_tuple` in IPython 7.17 and above.\n",
            "  and should_run_async(code)\n"
          ]
        }
      ]
    },
    {
      "cell_type": "code",
      "source": [
        "limit = 8\n",
        "NUM_TOPICS = find_optimal_number_of_topics(dictionary, corpus, processed_data, limit)"
      ],
      "metadata": {
        "colab": {
          "base_uri": "https://localhost:8080/",
          "height": 504
        },
        "id": "9Vfu4D9m2oIw",
        "outputId": "762b158c-f67b-4390-cc03-aa6e596635a2"
      },
      "execution_count": 186,
      "outputs": [
        {
          "output_type": "stream",
          "name": "stderr",
          "text": [
            "/usr/local/lib/python3.10/dist-packages/ipykernel/ipkernel.py:283: DeprecationWarning: `should_run_async` will not call `transform_cell` automatically in the future. Please pass the result to `transformed_cell` argument and any exception that happen during thetransform in `preprocessing_exc_tuple` in IPython 7.17 and above.\n",
            "  and should_run_async(code)\n"
          ]
        },
        {
          "output_type": "display_data",
          "data": {
            "text/plain": [
              "<Figure size 640x480 with 1 Axes>"
            ],
            "image/png": "[encoded data removed]"
          },
          "metadata": {}
        }
      ]
    },
    {
      "cell_type": "code",
      "source": [
        "Economic_all_p[\"ProcessedData\"] = Economic_all_p[\"ProcessedData\"].apply(' '.join)\n",
        "\n",
        "vectorizer = TfidfVectorizer(max_features=1000)\n",
        "X = vectorizer.fit_transform(Economic_all_p[\"ProcessedData\"])"
      ],
      "metadata": {
        "colab": {
          "base_uri": "https://localhost:8080/"
        },
        "id": "IDZG7i7k2oMd",
        "outputId": "246130ba-bf9f-4daf-a111-b6cd8dcca8aa"
      },
      "execution_count": 187,
      "outputs": [
        {
          "output_type": "stream",
          "name": "stderr",
          "text": [
            "/usr/local/lib/python3.10/dist-packages/ipykernel/ipkernel.py:283: DeprecationWarning: `should_run_async` will not call `transform_cell` automatically in the future. Please pass the result to `transformed_cell` argument and any exception that happen during thetransform in `preprocessing_exc_tuple` in IPython 7.17 and above.\n",
            "  and should_run_async(code)\n"
          ]
        }
      ]
    },
    {
      "cell_type": "code",
      "source": [
        "# LDA모델 생성\n",
        "lda_model = LatentDirichletAllocation(n_components=3, learning_method='online', random_state=42, max_iter=1)\n",
        "lda_top = lda_model.fit_transform(X)"
      ],
      "metadata": {
        "colab": {
          "base_uri": "https://localhost:8080/"
        },
        "id": "S-hol_wi2oPo",
        "outputId": "45acc380-8f06-4c8b-8904-88c4ac39ccc1"
      },
      "execution_count": 188,
      "outputs": [
        {
          "output_type": "stream",
          "name": "stderr",
          "text": [
            "/usr/local/lib/python3.10/dist-packages/ipykernel/ipkernel.py:283: DeprecationWarning: `should_run_async` will not call `transform_cell` automatically in the future. Please pass the result to `transformed_cell` argument and any exception that happen during thetransform in `preprocessing_exc_tuple` in IPython 7.17 and above.\n",
            "  and should_run_async(code)\n"
          ]
        }
      ]
    },
    {
      "cell_type": "code",
      "source": [
        "Economic_all_topics = get_topics2(lda_model.components_, terms)\n",
        "if Economic_all_topics is not None:\n",
        "    df = pd.DataFrame(Economic_all_topics, columns=['Topic', 'Terms'])\n",
        "else:\n",
        "    df = pd.DataFrame()"
      ],
      "metadata": {
        "colab": {
          "base_uri": "https://localhost:8080/"
        },
        "id": "gZVi2jEe52V2",
        "outputId": "2f6c4975-24c0-4fc4-f1e6-ef5b1bda8284"
      },
      "execution_count": 189,
      "outputs": [
        {
          "output_type": "stream",
          "name": "stderr",
          "text": [
            "/usr/local/lib/python3.10/dist-packages/ipykernel/ipkernel.py:283: DeprecationWarning: `should_run_async` will not call `transform_cell` automatically in the future. Please pass the result to `transformed_cell` argument and any exception that happen during thetransform in `preprocessing_exc_tuple` in IPython 7.17 and above.\n",
            "  and should_run_async(code)\n"
          ]
        }
      ]
    },
    {
      "cell_type": "code",
      "source": [
        "topics_transformed = [(topic[0], word, value) for topic in Economic_all_topics for word, value in topic[1]]\n",
        "df = pd.DataFrame(topics_transformed, columns=['Topic', 'Word', 'Value'])\n",
        "df.to_csv(\"/content/drive/MyDrive/최근/빅데이터/코로나와 무역/rawdata(20210101~20231026)_20231028/Economic_all_topics.csv\",index=False)"
      ],
      "metadata": {
        "colab": {
          "base_uri": "https://localhost:8080/"
        },
        "id": "5Kr-1dN552a0",
        "outputId": "229dcaf6-1016-4dad-a766-0e9b3af9e640"
      },
      "execution_count": 190,
      "outputs": [
        {
          "output_type": "stream",
          "name": "stderr",
          "text": [
            "/usr/local/lib/python3.10/dist-packages/ipykernel/ipkernel.py:283: DeprecationWarning: `should_run_async` will not call `transform_cell` automatically in the future. Please pass the result to `transformed_cell` argument and any exception that happen during thetransform in `preprocessing_exc_tuple` in IPython 7.17 and above.\n",
            "  and should_run_async(code)\n"
          ]
        }
      ]
    },
    {
      "cell_type": "code",
      "source": [
        "import matplotlib.pyplot as plt\n",
        "import seaborn as sns\n"
      ],
      "metadata": {
        "colab": {
          "base_uri": "https://localhost:8080/"
        },
        "id": "glJ_lZoN52dm",
        "outputId": "92a880f4-96af-4171-fdff-eea069f0143b"
      },
      "execution_count": 191,
      "outputs": [
        {
          "output_type": "stream",
          "name": "stderr",
          "text": [
            "/usr/local/lib/python3.10/dist-packages/ipykernel/ipkernel.py:283: DeprecationWarning: `should_run_async` will not call `transform_cell` automatically in the future. Please pass the result to `transformed_cell` argument and any exception that happen during thetransform in `preprocessing_exc_tuple` in IPython 7.17 and above.\n",
            "  and should_run_async(code)\n"
          ]
        }
      ]
    },
    {
      "cell_type": "code",
      "source": [
        "# 특정 토픽 선택 (예: Topic 0)\n",
        "selected_topic = 0\n",
        "topic_words = df[df['Topic'] == selected_topic]\n",
        "\n",
        "# 상위 20개 키워드만 선택\n",
        "top_20_words = topic_words.sort_values(by='Value', ascending=False).head(20)\n",
        "\n",
        "# 시각화\n",
        "plt.figure(figsize=(10, 6))\n",
        "sns.barplot(x='Value', y='Word', data=top_20_words, palette=\"viridis\")\n",
        "plt.title(f'Top 20 Words for Topic {selected_topic}')\n",
        "plt.xlabel('Weight')\n",
        "plt.ylabel('Word')\n",
        "plt.show()"
      ],
      "metadata": {
        "colab": {
          "base_uri": "https://localhost:8080/",
          "height": 619
        },
        "id": "v4H_vyGFIb1e",
        "outputId": "fa5a0cb5-9f65-41c7-d7de-7c8ab05874ec"
      },
      "execution_count": 192,
      "outputs": [
        {
          "output_type": "stream",
          "name": "stderr",
          "text": [
            "/usr/local/lib/python3.10/dist-packages/ipykernel/ipkernel.py:283: DeprecationWarning: `should_run_async` will not call `transform_cell` automatically in the future. Please pass the result to `transformed_cell` argument and any exception that happen during thetransform in `preprocessing_exc_tuple` in IPython 7.17 and above.\n",
            "  and should_run_async(code)\n"
          ]
        },
        {
          "output_type": "display_data",
          "data": {
            "text/plain": [
              "<Figure size 1000x600 with 1 Axes>"
            ],
            "image/png": "[encoded data removed]"
          },
          "metadata": {}
        }
      ]
    },
    {
      "cell_type": "markdown",
      "source": [],
      "metadata": {
        "id": "9nzC1kcbM3aQ"
      }
    },
    {
      "cell_type": "markdown",
      "source": [
        "# 코로나-경제"
      ],
      "metadata": {
        "id": "63NENsr3M3oJ"
      }
    },
    {
      "cell_type": "code",
      "source": [
        "folder_path = \"/content/drive/MyDrive/최근/빅데이터/코로나와 무역/rawdata(20210101~20231026)_20231028\"\n",
        "files=os.listdir(folder_path)\n",
        "files"
      ],
      "metadata": {
        "id": "9ZTp6UBvM69q"
      },
      "execution_count": null,
      "outputs": []
    },
    {
      "cell_type": "code",
      "source": [],
      "metadata": {
        "id": "wEHD_yO3RJZJ"
      },
      "execution_count": null,
      "outputs": []
    },
    {
      "cell_type": "code",
      "source": [],
      "metadata": {
        "id": "o6AuopPQRJcR"
      },
      "execution_count": null,
      "outputs": []
    },
    {
      "cell_type": "code",
      "source": [],
      "metadata": {
        "id": "Js64hdsPRJfC"
      },
      "execution_count": null,
      "outputs": []
    },
    {
      "cell_type": "code",
      "source": [],
      "metadata": {
        "id": "2_G6r5bkRJib"
      },
      "execution_count": null,
      "outputs": []
    }
  ]
}