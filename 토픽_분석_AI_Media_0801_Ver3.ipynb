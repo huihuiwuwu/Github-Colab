{
  "nbformat": 4,
  "nbformat_minor": 0,
  "metadata": {
    "colab": {
      "provenance": [],
      "machine_shape": "hm",
      "authorship_tag": "ABX9TyPWxCytnxCDwiZ5FmLW7d23",
      "include_colab_link": true
    },
    "kernelspec": {
      "name": "python3",
      "display_name": "Python 3"
    },
    "language_info": {
      "name": "python"
    },
    "accelerator": "TPU"
  },
  "cells": [
    {
      "cell_type": "markdown",
      "metadata": {
        "id": "view-in-github",
        "colab_type": "text"
      },
      "source": [
        "<a href=\"https://colab.research.google.com/github/huihuiwuwu/Github-Colab/blob/main/%ED%86%A0%ED%94%BD_%EB%B6%84%EC%84%9D_AI_Media_0801_Ver3.ipynb\" target=\"_parent\"><img src=\"https://colab.research.google.com/assets/colab-badge.svg\" alt=\"Open In Colab\"/></a>"
      ]
    },
    {
      "cell_type": "code",
      "source": [
        "# 토큰화된 데이터 = \"tokenize(mecab_noun)_words\""
      ],
      "metadata": {
        "id": "Z3nv9y2MqsIF"
      },
      "execution_count": null,
      "outputs": []
    },
    {
      "cell_type": "code",
      "execution_count": 1,
      "metadata": {
        "colab": {
          "base_uri": "https://localhost:8080/"
        },
        "id": "uG3nIth_mu6y",
        "outputId": "35037687-cfc3-4bf6-d92d-86e0cb554c72"
      },
      "outputs": [
        {
          "output_type": "execute_result",
          "data": {
            "text/plain": [
              "<tensorflow.python.tpu.topology.Topology at 0x7aad7823afb0>"
            ]
          },
          "metadata": {},
          "execution_count": 1
        }
      ],
      "source": [
        "import tensorflow as tf\n",
        "import os\n",
        "\n",
        "resolver = tf.distribute.cluster_resolver.TPUClusterResolver(tpu='grpc://' + os.environ['COLAB_TPU_ADDR'])\n",
        "\n",
        "tf.config.experimental_connect_to_cluster(resolver)\n",
        "tf.tpu.experimental.initialize_tpu_system(resolver)"
      ]
    },
    {
      "cell_type": "code",
      "source": [
        "strategy = tf.distribute.TPUStrategy(resolver)"
      ],
      "metadata": {
        "id": "eaB4mi7Mo5OM"
      },
      "execution_count": 2,
      "outputs": []
    },
    {
      "cell_type": "code",
      "source": [
        "from google.colab import drive\n",
        "drive.mount(\"/content/drive\")"
      ],
      "metadata": {
        "colab": {
          "base_uri": "https://localhost:8080/"
        },
        "id": "HLoDk_hXo5UM",
        "outputId": "67956492-e40d-4fc6-e93b-18e374d6f6be"
      },
      "execution_count": 3,
      "outputs": [
        {
          "output_type": "stream",
          "name": "stdout",
          "text": [
            "Mounted at /content/drive\n"
          ]
        }
      ]
    },
    {
      "cell_type": "code",
      "source": [
        "import warnings\n",
        "warnings.filterwarnings('ignore')"
      ],
      "metadata": {
        "id": "tYSvdIFdo5W0"
      },
      "execution_count": 4,
      "outputs": []
    },
    {
      "cell_type": "code",
      "source": [
        "import site\n",
        "import os\n",
        "import pandas as pd\n",
        "import re\n",
        "from tqdm import tqdm"
      ],
      "metadata": {
        "id": "A2JA53M0o5ZI"
      },
      "execution_count": 5,
      "outputs": []
    },
    {
      "cell_type": "code",
      "source": [
        "!pip install pyLDAvis"
      ],
      "metadata": {
        "id": "36CJvTKOpxC0"
      },
      "execution_count": null,
      "outputs": []
    },
    {
      "cell_type": "code",
      "source": [
        "from gensim.models.ldamodel import LdaModel\n",
        "from gensim.models import CoherenceModel\n",
        "import matplotlib.pyplot as plt\n",
        "from gensim import corpora\n",
        "import numpy as np\n",
        "from sklearn.decomposition import LatentDirichletAllocation\n",
        "import pyLDAvis.gensim_models\n",
        "import gensim"
      ],
      "metadata": {
        "id": "kdI4D66Io5bY"
      },
      "execution_count": 10,
      "outputs": []
    },
    {
      "cell_type": "code",
      "source": [
        "# mecab로 1보다 큰 명사만 추출된 파일 불어오기\n",
        "data=pd.read_csv('/content/drive/MyDrive/졸업논문/AI Media/tokenize(mecab_noun)_words.csv')"
      ],
      "metadata": {
        "colab": {
          "base_uri": "https://localhost:8080/"
        },
        "id": "bXlLuFtFo5d4",
        "outputId": "3a18d92e-5a6a-4823-affa-478d91fb4afd"
      },
      "execution_count": 11,
      "outputs": [
        {
          "output_type": "stream",
          "name": "stderr",
          "text": [
            "/usr/local/lib/python3.10/dist-packages/ipykernel/ipkernel.py:283: DeprecationWarning: `should_run_async` will not call `transform_cell` automatically in the future. Please pass the result to `transformed_cell` argument and any exception that happen during thetransform in `preprocessing_exc_tuple` in IPython 7.17 and above.\n",
            "  and should_run_async(code)\n"
          ]
        }
      ]
    },
    {
      "cell_type": "code",
      "source": [
        "# data[:5]"
      ],
      "metadata": {
        "colab": {
          "base_uri": "https://localhost:8080/",
          "height": 261
        },
        "id": "HdyL2M-1o5gB",
        "outputId": "e92d43ed-c841-45c1-f175-aee0cbce54f9"
      },
      "execution_count": 12,
      "outputs": [
        {
          "output_type": "stream",
          "name": "stderr",
          "text": [
            "/usr/local/lib/python3.10/dist-packages/ipykernel/ipkernel.py:283: DeprecationWarning: `should_run_async` will not call `transform_cell` automatically in the future. Please pass the result to `transformed_cell` argument and any exception that happen during thetransform in `preprocessing_exc_tuple` in IPython 7.17 and above.\n",
            "  and should_run_async(code)\n"
          ]
        },
        {
          "output_type": "execute_result",
          "data": {
            "text/plain": [
              "                                            Contents  \\\n",
              "0  전산망 ‘먹통’ 사고가 또 났다. 지난 30일 서울 강남고속버스터미널 버스표 발권 ...   \n",
              "1  ‘IT 강국 대한민국’이지만 첨단 IT를 활용한 법률서비스인 ‘리걸테크 산업’은 걸...   \n",
              "2  살아있는 동물처럼 네 다리로 걷고 계단과 비탈길에서 자유자재로 움직이는 로봇을 제조...   \n",
              "3  대전 동구 역세권지구에 한국기상산업기술원 이전이 가시화되면서 '기상산업 클러스터' ...   \n",
              "4  국내 데이터 네트워크 인공지능(AI) 생태계가 급성장하며 SW AI 역량을 갖춘 이...   \n",
              "\n",
              "                                       ProcessedData  \n",
              "0  ['전산망', '먹통', '사고', '강남', '고속버스', '터미널', '버스표'...  \n",
              "1  ['강국', '대한민국', '첨단', '활용', '법률', '서비스', '리걸', ...  \n",
              "2  ['동물', '다리', '계단', '비탈길', '자유자재', '제조', '보스턴',...  \n",
              "3  ['대전', '동구', '역세', '지구', '한국', '기상', '산업', '기술...  \n",
              "4  ['국내', '데이터', '네트워크', '인공지능', '생태', '급성장', '역량...  "
            ],
            "text/html": [
              "\n",
              "\n",
              "  <div id=\"df-9e3e0f3f-dc26-4e65-b721-3bbea125cd11\">\n",
              "    <div class=\"colab-df-container\">\n",
              "      <div>\n",
              "<style scoped>\n",
              "    .dataframe tbody tr th:only-of-type {\n",
              "        vertical-align: middle;\n",
              "    }\n",
              "\n",
              "    .dataframe tbody tr th {\n",
              "        vertical-align: top;\n",
              "    }\n",
              "\n",
              "    .dataframe thead th {\n",
              "        text-align: right;\n",
              "    }\n",
              "</style>\n",
              "<table border=\"1\" class=\"dataframe\">\n",
              "  <thead>\n",
              "    <tr style=\"text-align: right;\">\n",
              "      <th></th>\n",
              "      <th>Contents</th>\n",
              "      <th>ProcessedData</th>\n",
              "    </tr>\n",
              "  </thead>\n",
              "  <tbody>\n",
              "    <tr>\n",
              "      <th>0</th>\n",
              "      <td>전산망 ‘먹통’ 사고가 또 났다. 지난 30일 서울 강남고속버스터미널 버스표 발권 ...</td>\n",
              "      <td>['전산망', '먹통', '사고', '강남', '고속버스', '터미널', '버스표'...</td>\n",
              "    </tr>\n",
              "    <tr>\n",
              "      <th>1</th>\n",
              "      <td>‘IT 강국 대한민국’이지만 첨단 IT를 활용한 법률서비스인 ‘리걸테크 산업’은 걸...</td>\n",
              "      <td>['강국', '대한민국', '첨단', '활용', '법률', '서비스', '리걸', ...</td>\n",
              "    </tr>\n",
              "    <tr>\n",
              "      <th>2</th>\n",
              "      <td>살아있는 동물처럼 네 다리로 걷고 계단과 비탈길에서 자유자재로 움직이는 로봇을 제조...</td>\n",
              "      <td>['동물', '다리', '계단', '비탈길', '자유자재', '제조', '보스턴',...</td>\n",
              "    </tr>\n",
              "    <tr>\n",
              "      <th>3</th>\n",
              "      <td>대전 동구 역세권지구에 한국기상산업기술원 이전이 가시화되면서 '기상산업 클러스터' ...</td>\n",
              "      <td>['대전', '동구', '역세', '지구', '한국', '기상', '산업', '기술...</td>\n",
              "    </tr>\n",
              "    <tr>\n",
              "      <th>4</th>\n",
              "      <td>국내 데이터 네트워크 인공지능(AI) 생태계가 급성장하며 SW AI 역량을 갖춘 이...</td>\n",
              "      <td>['국내', '데이터', '네트워크', '인공지능', '생태', '급성장', '역량...</td>\n",
              "    </tr>\n",
              "  </tbody>\n",
              "</table>\n",
              "</div>\n",
              "      <button class=\"colab-df-convert\" onclick=\"convertToInteractive('df-9e3e0f3f-dc26-4e65-b721-3bbea125cd11')\"\n",
              "              title=\"Convert this dataframe to an interactive table.\"\n",
              "              style=\"display:none;\">\n",
              "\n",
              "  <svg xmlns=\"http://www.w3.org/2000/svg\" height=\"24px\"viewBox=\"0 0 24 24\"\n",
              "       width=\"24px\">\n",
              "    <path d=\"M0 0h24v24H0V0z\" fill=\"none\"/>\n",
              "    <path d=\"M18.56 5.44l.94 2.06.94-2.06 2.06-.94-2.06-.94-.94-2.06-.94 2.06-2.06.94zm-11 1L8.5 8.5l.94-2.06 2.06-.94-2.06-.94L8.5 2.5l-.94 2.06-2.06.94zm10 10l.94 2.06.94-2.06 2.06-.94-2.06-.94-.94-2.06-.94 2.06-2.06.94z\"/><path d=\"M17.41 7.96l-1.37-1.37c-.4-.4-.92-.59-1.43-.59-.52 0-1.04.2-1.43.59L10.3 9.45l-7.72 7.72c-.78.78-.78 2.05 0 2.83L4 21.41c.39.39.9.59 1.41.59.51 0 1.02-.2 1.41-.59l7.78-7.78 2.81-2.81c.8-.78.8-2.07 0-2.86zM5.41 20L4 18.59l7.72-7.72 1.47 1.35L5.41 20z\"/>\n",
              "  </svg>\n",
              "      </button>\n",
              "\n",
              "\n",
              "\n",
              "    <div id=\"df-dea913e6-48ad-4063-a415-63ac82f94c1e\">\n",
              "      <button class=\"colab-df-quickchart\" onclick=\"quickchart('df-dea913e6-48ad-4063-a415-63ac82f94c1e')\"\n",
              "              title=\"Suggest charts.\"\n",
              "              style=\"display:none;\">\n",
              "\n",
              "<svg xmlns=\"http://www.w3.org/2000/svg\" height=\"24px\"viewBox=\"0 0 24 24\"\n",
              "     width=\"24px\">\n",
              "    <g>\n",
              "        <path d=\"M19 3H5c-1.1 0-2 .9-2 2v14c0 1.1.9 2 2 2h14c1.1 0 2-.9 2-2V5c0-1.1-.9-2-2-2zM9 17H7v-7h2v7zm4 0h-2V7h2v10zm4 0h-2v-4h2v4z\"/>\n",
              "    </g>\n",
              "</svg>\n",
              "      </button>\n",
              "    </div>\n",
              "\n",
              "<style>\n",
              "  .colab-df-quickchart {\n",
              "    background-color: #E8F0FE;\n",
              "    border: none;\n",
              "    border-radius: 50%;\n",
              "    cursor: pointer;\n",
              "    display: none;\n",
              "    fill: #1967D2;\n",
              "    height: 32px;\n",
              "    padding: 0 0 0 0;\n",
              "    width: 32px;\n",
              "  }\n",
              "\n",
              "  .colab-df-quickchart:hover {\n",
              "    background-color: #E2EBFA;\n",
              "    box-shadow: 0px 1px 2px rgba(60, 64, 67, 0.3), 0px 1px 3px 1px rgba(60, 64, 67, 0.15);\n",
              "    fill: #174EA6;\n",
              "  }\n",
              "\n",
              "  [theme=dark] .colab-df-quickchart {\n",
              "    background-color: #3B4455;\n",
              "    fill: #D2E3FC;\n",
              "  }\n",
              "\n",
              "  [theme=dark] .colab-df-quickchart:hover {\n",
              "    background-color: #434B5C;\n",
              "    box-shadow: 0px 1px 3px 1px rgba(0, 0, 0, 0.15);\n",
              "    filter: drop-shadow(0px 1px 2px rgba(0, 0, 0, 0.3));\n",
              "    fill: #FFFFFF;\n",
              "  }\n",
              "</style>\n",
              "\n",
              "    <script>\n",
              "      async function quickchart(key) {\n",
              "        const containerElement = document.querySelector('#' + key);\n",
              "        const charts = await google.colab.kernel.invokeFunction(\n",
              "            'suggestCharts', [key], {});\n",
              "      }\n",
              "    </script>\n",
              "\n",
              "      <script>\n",
              "\n",
              "function displayQuickchartButton(domScope) {\n",
              "  let quickchartButtonEl =\n",
              "    domScope.querySelector('#df-dea913e6-48ad-4063-a415-63ac82f94c1e button.colab-df-quickchart');\n",
              "  quickchartButtonEl.style.display =\n",
              "    google.colab.kernel.accessAllowed ? 'block' : 'none';\n",
              "}\n",
              "\n",
              "        displayQuickchartButton(document);\n",
              "      </script>\n",
              "      <style>\n",
              "    .colab-df-container {\n",
              "      display:flex;\n",
              "      flex-wrap:wrap;\n",
              "      gap: 12px;\n",
              "    }\n",
              "\n",
              "    .colab-df-convert {\n",
              "      background-color: #E8F0FE;\n",
              "      border: none;\n",
              "      border-radius: 50%;\n",
              "      cursor: pointer;\n",
              "      display: none;\n",
              "      fill: #1967D2;\n",
              "      height: 32px;\n",
              "      padding: 0 0 0 0;\n",
              "      width: 32px;\n",
              "    }\n",
              "\n",
              "    .colab-df-convert:hover {\n",
              "      background-color: #E2EBFA;\n",
              "      box-shadow: 0px 1px 2px rgba(60, 64, 67, 0.3), 0px 1px 3px 1px rgba(60, 64, 67, 0.15);\n",
              "      fill: #174EA6;\n",
              "    }\n",
              "\n",
              "    [theme=dark] .colab-df-convert {\n",
              "      background-color: #3B4455;\n",
              "      fill: #D2E3FC;\n",
              "    }\n",
              "\n",
              "    [theme=dark] .colab-df-convert:hover {\n",
              "      background-color: #434B5C;\n",
              "      box-shadow: 0px 1px 3px 1px rgba(0, 0, 0, 0.15);\n",
              "      filter: drop-shadow(0px 1px 2px rgba(0, 0, 0, 0.3));\n",
              "      fill: #FFFFFF;\n",
              "    }\n",
              "  </style>\n",
              "\n",
              "      <script>\n",
              "        const buttonEl =\n",
              "          document.querySelector('#df-9e3e0f3f-dc26-4e65-b721-3bbea125cd11 button.colab-df-convert');\n",
              "        buttonEl.style.display =\n",
              "          google.colab.kernel.accessAllowed ? 'block' : 'none';\n",
              "\n",
              "        async function convertToInteractive(key) {\n",
              "          const element = document.querySelector('#df-9e3e0f3f-dc26-4e65-b721-3bbea125cd11');\n",
              "          const dataTable =\n",
              "            await google.colab.kernel.invokeFunction('convertToInteractive',\n",
              "                                                     [key], {});\n",
              "          if (!dataTable) return;\n",
              "\n",
              "          const docLinkHtml = 'Like what you see? Visit the ' +\n",
              "            '<a target=\"_blank\" href=https://colab.research.google.com/notebooks/data_table.ipynb>data table notebook</a>'\n",
              "            + ' to learn more about interactive tables.';\n",
              "          element.innerHTML = '';\n",
              "          dataTable['output_type'] = 'display_data';\n",
              "          await google.colab.output.renderOutput(dataTable, element);\n",
              "          const docLink = document.createElement('div');\n",
              "          docLink.innerHTML = docLinkHtml;\n",
              "          element.appendChild(docLink);\n",
              "        }\n",
              "      </script>\n",
              "    </div>\n",
              "  </div>\n"
            ]
          },
          "metadata": {},
          "execution_count": 12
        }
      ]
    },
    {
      "cell_type": "code",
      "source": [
        "# 토픽 모델링\n",
        "# 1. 최적의 토픽 수 계산\n",
        "coherence_values = []\n",
        "model_list = []"
      ],
      "metadata": {
        "colab": {
          "base_uri": "https://localhost:8080/"
        },
        "id": "q1gi-FTjrScs",
        "outputId": "6ab21969-42fe-4e13-9fa0-37ba7fda5e24"
      },
      "execution_count": 13,
      "outputs": [
        {
          "output_type": "stream",
          "name": "stderr",
          "text": [
            "/usr/local/lib/python3.10/dist-packages/ipykernel/ipkernel.py:283: DeprecationWarning: `should_run_async` will not call `transform_cell` automatically in the future. Please pass the result to `transformed_cell` argument and any exception that happen during thetransform in `preprocessing_exc_tuple` in IPython 7.17 and above.\n",
            "  and should_run_async(code)\n"
          ]
        }
      ]
    },
    {
      "cell_type": "code",
      "source": [
        "def compute_coherence_values(dictionary, corpus, texts, limit, start=2, step=1):\n",
        "    for num_topics in range(start, limit, step):\n",
        "#         model = pyLDAvis.gensim_models.wrappers.LdaMallet(mallet_path, corpus=corpus, num_topics=num_topics, id2word=id2word)\n",
        "#         model = gensim.models.wrappers.LdaMallet(mallet_path, corpus=corpus, num_topics=num_topics, id2word=id2word)\n",
        "        model = LdaModel(corpus=corpus, id2word=dictionary, num_topics=num_topics)\n",
        "        model_list.append(model)\n",
        "        coherencemodel = CoherenceModel(model=model, texts=texts, dictionary=dictionary, coherence='c_v')\n",
        "        coherence_values.append(coherencemodel.get_coherence())\n",
        "\n",
        "    return model_list, coherence_values"
      ],
      "metadata": {
        "colab": {
          "base_uri": "https://localhost:8080/"
        },
        "id": "fQvolKRQrSkM",
        "outputId": "a9772176-cbc9-457f-a328-1f67eef4afc4"
      },
      "execution_count": 14,
      "outputs": [
        {
          "output_type": "stream",
          "name": "stderr",
          "text": [
            "/usr/local/lib/python3.10/dist-packages/ipykernel/ipkernel.py:283: DeprecationWarning: `should_run_async` will not call `transform_cell` automatically in the future. Please pass the result to `transformed_cell` argument and any exception that happen during thetransform in `preprocessing_exc_tuple` in IPython 7.17 and above.\n",
            "  and should_run_async(code)\n"
          ]
        }
      ]
    },
    {
      "cell_type": "code",
      "source": [
        "def find_optimal_number_of_topics(dictionary, corpus, processed_data, limit=8):\n",
        "    start = 1;\n",
        "    step = 1;\n",
        "\n",
        "    model_list, coherence_values = compute_coherence_values(dictionary=dictionary, corpus=corpus, texts=processed_data, start=start, limit=limit, step=step)\n",
        "\n",
        "    x = range(start, limit, step)\n",
        "    plt.plot(x, coherence_values)\n",
        "    plt.xlabel(\"Num Topics\")\n",
        "    plt.ylabel(\"Coherence score\")\n",
        "    plt.legend((\"coherence_values\"), loc='best')\n",
        "\n",
        "    dic = { coherence_values:x for x, coherence_values in zip(x, coherence_values) }\n",
        "\n",
        "    plt.text(dic[max(coherence_values)],min(coherence_values),\n",
        "             str(dic[max(coherence_values)]) + ' at MAX',\n",
        "             color='r',\n",
        "             horizontalalignment='center',\n",
        "             verticalalignment='bottom')\n",
        "\n",
        "    plt.show()\n",
        "\n",
        "    return dic[max(coherence_values)]"
      ],
      "metadata": {
        "colab": {
          "base_uri": "https://localhost:8080/"
        },
        "id": "nRKxIuturSmu",
        "outputId": "0bdcb196-4fe4-480d-cb2b-479493d68eb4"
      },
      "execution_count": 15,
      "outputs": [
        {
          "output_type": "stream",
          "name": "stderr",
          "text": [
            "/usr/local/lib/python3.10/dist-packages/ipykernel/ipkernel.py:283: DeprecationWarning: `should_run_async` will not call `transform_cell` automatically in the future. Please pass the result to `transformed_cell` argument and any exception that happen during thetransform in `preprocessing_exc_tuple` in IPython 7.17 and above.\n",
            "  and should_run_async(code)\n"
          ]
        }
      ]
    },
    {
      "cell_type": "code",
      "source": [
        "from sklearn.feature_extraction.text import TfidfVectorizer"
      ],
      "metadata": {
        "colab": {
          "base_uri": "https://localhost:8080/"
        },
        "id": "fCN2FSgZs0pU",
        "outputId": "9dec761f-ef44-450d-9e99-ea098cbc7947"
      },
      "execution_count": 17,
      "outputs": [
        {
          "output_type": "stream",
          "name": "stderr",
          "text": [
            "/usr/local/lib/python3.10/dist-packages/ipykernel/ipkernel.py:283: DeprecationWarning: `should_run_async` will not call `transform_cell` automatically in the future. Please pass the result to `transformed_cell` argument and any exception that happen during thetransform in `preprocessing_exc_tuple` in IPython 7.17 and above.\n",
            "  and should_run_async(code)\n"
          ]
        }
      ]
    },
    {
      "cell_type": "code",
      "source": [
        "# 상위 1,000개의 단어를 보존\n",
        "TARGET_COL = \"contents\"\n",
        "PROCESSED_COL = \"ProcessedData\"\n",
        "\n",
        "vectorizer = TfidfVectorizer(stop_words='english', max_features= 1000)\n",
        "X = vectorizer.fit_transform(data[PROCESSED_COL])\n"
      ],
      "metadata": {
        "colab": {
          "base_uri": "https://localhost:8080/"
        },
        "id": "uPRaAC_DrSpK",
        "outputId": "df2bee3d-e6c4-452e-eb03-a799e75c152a"
      },
      "execution_count": 18,
      "outputs": [
        {
          "output_type": "stream",
          "name": "stderr",
          "text": [
            "/usr/local/lib/python3.10/dist-packages/ipykernel/ipkernel.py:283: DeprecationWarning: `should_run_async` will not call `transform_cell` automatically in the future. Please pass the result to `transformed_cell` argument and any exception that happen during thetransform in `preprocessing_exc_tuple` in IPython 7.17 and above.\n",
            "  and should_run_async(code)\n"
          ]
        }
      ]
    },
    {
      "cell_type": "code",
      "source": [
        "dictionary = corpora.Dictionary(data['ProcessedData'])\n",
        "corpus = [dictionary.doc2bow(text) for text in data['ProcessedData']]\n",
        "processed_data = data['ProcessedData'].tolist()"
      ],
      "metadata": {
        "colab": {
          "base_uri": "https://localhost:8080/"
        },
        "id": "cdPWESTDrSrd",
        "outputId": "42d0603a-de4c-40ed-b35a-20badc28c5fe"
      },
      "execution_count": 22,
      "outputs": [
        {
          "output_type": "stream",
          "name": "stderr",
          "text": [
            "/usr/local/lib/python3.10/dist-packages/ipykernel/ipkernel.py:283: DeprecationWarning: `should_run_async` will not call `transform_cell` automatically in the future. Please pass the result to `transformed_cell` argument and any exception that happen during thetransform in `preprocessing_exc_tuple` in IPython 7.17 and above.\n",
            "  and should_run_async(code)\n"
          ]
        }
      ]
    },
    {
      "cell_type": "code",
      "source": [
        "limit = 8\n",
        "NUM_TOPICS = find_optimal_number_of_topics(dictionary, corpus, processed_data, limit)"
      ],
      "metadata": {
        "colab": {
          "base_uri": "https://localhost:8080/",
          "height": 504
        },
        "id": "GVRxz_-9y6gO",
        "outputId": "6e7d3ca3-901f-4a9e-8947-1b610b8b0db5"
      },
      "execution_count": 23,
      "outputs": [
        {
          "output_type": "stream",
          "name": "stderr",
          "text": [
            "/usr/local/lib/python3.10/dist-packages/ipykernel/ipkernel.py:283: DeprecationWarning: `should_run_async` will not call `transform_cell` automatically in the future. Please pass the result to `transformed_cell` argument and any exception that happen during thetransform in `preprocessing_exc_tuple` in IPython 7.17 and above.\n",
            "  and should_run_async(code)\n"
          ]
        },
        {
          "output_type": "display_data",
          "data": {
            "text/plain": [
              "<Figure size 640x480 with 1 Axes>"
            ],
            "image/png": "[encoded data removed]"
          },
          "metadata": {}
        }
      ]
    },
    {
      "cell_type": "code",
      "source": [
        "# LDA모델 생성\n",
        "lda_model = LatentDirichletAllocation(n_components=6, learning_method='online', random_state=42, max_iter=1)\n",
        "lda_top = lda_model.fit_transform(X)"
      ],
      "metadata": {
        "colab": {
          "base_uri": "https://localhost:8080/"
        },
        "id": "sbLwQJVFy6jQ",
        "outputId": "96cff093-d230-45e6-b4ab-6506e061f13c"
      },
      "execution_count": 24,
      "outputs": [
        {
          "output_type": "stream",
          "name": "stderr",
          "text": [
            "/usr/local/lib/python3.10/dist-packages/ipykernel/ipkernel.py:283: DeprecationWarning: `should_run_async` will not call `transform_cell` automatically in the future. Please pass the result to `transformed_cell` argument and any exception that happen during thetransform in `preprocessing_exc_tuple` in IPython 7.17 and above.\n",
            "  and should_run_async(code)\n"
          ]
        }
      ]
    },
    {
      "cell_type": "code",
      "source": [
        "# 단어 집합. 1,000개의 단어가 저장됨.\n",
        "terms = vectorizer.get_feature_names_out()\n",
        "\n",
        "def get_topics(components, feature_names, n=20):\n",
        "    for idx, topic in enumerate(components):\n",
        "        print(\"Topic %d:\" % (idx+1), [(feature_names[i], topic[i].round(2)) for i in topic.argsort()[:-n - 1:-1]])"
      ],
      "metadata": {
        "colab": {
          "base_uri": "https://localhost:8080/"
        },
        "id": "7sUqTnf5zQiX",
        "outputId": "446744ac-50aa-4bab-b04b-b2777f89b532"
      },
      "execution_count": 45,
      "outputs": [
        {
          "output_type": "stream",
          "name": "stderr",
          "text": [
            "/usr/local/lib/python3.10/dist-packages/ipykernel/ipkernel.py:283: DeprecationWarning: `should_run_async` will not call `transform_cell` automatically in the future. Please pass the result to `transformed_cell` argument and any exception that happen during thetransform in `preprocessing_exc_tuple` in IPython 7.17 and above.\n",
            "  and should_run_async(code)\n"
          ]
        }
      ]
    },
    {
      "cell_type": "code",
      "source": [
        "topics6_mecab_noun=get_topics(lda_model.components_,terms)"
      ],
      "metadata": {
        "colab": {
          "base_uri": "https://localhost:8080/"
        },
        "id": "aC4zdmXWzplU",
        "outputId": "74f10143-0e82-4bdb-a208-e4654d5dfa6c"
      },
      "execution_count": 46,
      "outputs": [
        {
          "output_type": "stream",
          "name": "stdout",
          "text": [
            "Topic 1: [('중국', 11968.7), ('코로나', 10594.73), ('미국', 10553.07), ('현지', 9925.15), ('시간', 9556.49), ('러시아', 8470.75), ('사람', 6962.48), ('미디어', 6730.0), ('여성', 6643.05), ('우크라', 6541.01), ('기자', 6044.56), ('세계', 5542.82), ('올림픽', 5468.1), ('보도', 5294.41), ('일본', 5002.96), ('선수', 4980.27), ('베이징', 4643.75), ('영국', 4394.14), ('상황', 4314.11), ('페이스북', 4283.29)]\n",
            "Topic 2: [('투자', 19968.62), ('기업', 18480.66), ('스타트업', 13305.01), ('기술', 12448.7), ('사업', 8870.42), ('메타', 8840.44), ('기자', 8538.05), ('대표', 8456.75), ('그룹', 8437.47), ('글로벌', 8366.15), ('금융', 8338.36), ('반도체', 8176.05), ('버스', 8037.34), ('벤처', 7746.3), ('디지털', 7709.29), ('국내', 7459.12), ('플랫', 7408.36), ('시장', 7247.4), ('데이터', 7198.2), ('규모', 7017.21)]\n",
            "Topic 3: [('교육', 18472.65), ('미디어', 14691.52), ('문화', 14246.06), ('대학', 10832.38), ('아트', 9512.29), ('교수', 8943.75), ('개최', 8893.46), ('예술', 8877.86), ('부산', 8104.76), ('전시', 8090.08), ('진행', 7847.35), ('한국', 7752.69), ('대학교', 7703.28), ('작품', 7692.45), ('콘텐츠', 7411.18), ('프로그램', 7236.78), ('대회', 7223.69), ('학생', 7182.46), ('작가', 6862.99), ('센터', 6723.16)]\n",
            "Topic 4: [('콘텐츠', 12294.92), ('브랜드', 8775.0), ('서비스', 7582.53), ('출시', 7503.05), ('미디어', 7354.96), ('네이버', 6864.1), ('게임', 6765.63), ('카카오', 6717.61), ('플랫', 6407.41), ('드라마', 6281.39), ('시리즈', 5763.17), ('시장', 5720.66), ('온라인', 5579.48), ('채널', 5498.23), ('제품', 5465.65), ('기사', 5274.6), ('제공', 5250.28), ('공개', 5111.69), ('유튜브', 5035.58), ('국내', 4986.87)]\n",
            "Topic 5: [('후보', 18935.84), ('대통령', 15308.21), ('국민', 14318.4), ('방송', 11669.47), ('대선', 10409.4), ('윤석열', 10288.72), ('민주당', 10138.31), ('선거', 9290.51), ('언론', 9130.64), ('소셜', 8483.21), ('위원회', 7840.24), ('의원', 7506.94), ('미디어', 6851.48), ('위원장', 5736.39), ('스튜디오', 5691.23), ('이날', 5636.69), ('국회', 5405.06), ('대표', 5355.2), ('자신', 5230.6), ('정부', 5024.94)]\n",
            "Topic 6: [('사업', 13492.64), ('기술', 10400.53), ('산업', 9896.24), ('지역', 9637.58), ('지원', 7855.96), ('도시', 7723.0), ('정보', 6969.57), ('관광', 6795.88), ('추진', 6669.82), ('디지털', 6400.53), ('기업', 6364.48), ('과학', 6190.22), ('개발', 5966.29), ('정부', 5938.47), ('의료', 5905.4), ('인공지능', 5737.38), ('인천', 5440.11), ('데이터', 5409.42), ('구축', 5343.48), ('혁신', 5312.77)]\n"
          ]
        },
        {
          "output_type": "stream",
          "name": "stderr",
          "text": [
            "/usr/local/lib/python3.10/dist-packages/ipykernel/ipkernel.py:283: DeprecationWarning: `should_run_async` will not call `transform_cell` automatically in the future. Please pass the result to `transformed_cell` argument and any exception that happen during thetransform in `preprocessing_exc_tuple` in IPython 7.17 and above.\n",
            "  and should_run_async(code)\n"
          ]
        }
      ]
    },
    {
      "cell_type": "code",
      "source": [
        "def get_topics2(components, terms):\n",
        "    topics = []\n",
        "    for topic_idx, topic in enumerate(components):\n",
        "        topic_terms = [(terms[i], topic[i]) for i in topic.argsort()[:-20 - 1:-1]]\n",
        "        topics.append((topic_idx, topic_terms))\n",
        "    return topics"
      ],
      "metadata": {
        "colab": {
          "base_uri": "https://localhost:8080/"
        },
        "id": "sCtAofkbLf7G",
        "outputId": "50968c97-a7f2-4a99-9dbf-0b1cd6371c52"
      },
      "execution_count": 49,
      "outputs": [
        {
          "output_type": "stream",
          "name": "stderr",
          "text": [
            "/usr/local/lib/python3.10/dist-packages/ipykernel/ipkernel.py:283: DeprecationWarning: `should_run_async` will not call `transform_cell` automatically in the future. Please pass the result to `transformed_cell` argument and any exception that happen during thetransform in `preprocessing_exc_tuple` in IPython 7.17 and above.\n",
            "  and should_run_async(code)\n"
          ]
        }
      ]
    },
    {
      "cell_type": "code",
      "source": [
        "topics = get_topics2(lda_model.components_, terms)\n",
        "if topics is not None:\n",
        "    df = pd.DataFrame(topics, columns=['Topic', 'Terms'])\n",
        "else:\n",
        "    df = pd.DataFrame()"
      ],
      "metadata": {
        "colab": {
          "base_uri": "https://localhost:8080/"
        },
        "id": "-kAoFv2bBS3N",
        "outputId": "2ba44a4d-71f8-4b89-8714-c1b4dcdee375"
      },
      "execution_count": 50,
      "outputs": [
        {
          "output_type": "stream",
          "name": "stderr",
          "text": [
            "/usr/local/lib/python3.10/dist-packages/ipykernel/ipkernel.py:283: DeprecationWarning: `should_run_async` will not call `transform_cell` automatically in the future. Please pass the result to `transformed_cell` argument and any exception that happen during thetransform in `preprocessing_exc_tuple` in IPython 7.17 and above.\n",
            "  and should_run_async(code)\n"
          ]
        }
      ]
    },
    {
      "cell_type": "code",
      "source": [
        "# print(type(topics))"
      ],
      "metadata": {
        "colab": {
          "base_uri": "https://localhost:8080/"
        },
        "id": "jdyvl9FvB7Mu",
        "outputId": "519881cd-d774-4e97-a465-5518d12ac3fc"
      },
      "execution_count": 51,
      "outputs": [
        {
          "output_type": "stream",
          "name": "stdout",
          "text": [
            "<class 'list'>\n"
          ]
        },
        {
          "output_type": "stream",
          "name": "stderr",
          "text": [
            "/usr/local/lib/python3.10/dist-packages/ipykernel/ipkernel.py:283: DeprecationWarning: `should_run_async` will not call `transform_cell` automatically in the future. Please pass the result to `transformed_cell` argument and any exception that happen during thetransform in `preprocessing_exc_tuple` in IPython 7.17 and above.\n",
            "  and should_run_async(code)\n"
          ]
        }
      ]
    },
    {
      "cell_type": "code",
      "source": [
        "topics"
      ],
      "metadata": {
        "colab": {
          "base_uri": "https://localhost:8080/"
        },
        "id": "KoAcRkhsBVpR",
        "outputId": "2bd77ad6-d600-4298-dd23-e96face31df5"
      },
      "execution_count": 52,
      "outputs": [
        {
          "output_type": "stream",
          "name": "stderr",
          "text": [
            "/usr/local/lib/python3.10/dist-packages/ipykernel/ipkernel.py:283: DeprecationWarning: `should_run_async` will not call `transform_cell` automatically in the future. Please pass the result to `transformed_cell` argument and any exception that happen during thetransform in `preprocessing_exc_tuple` in IPython 7.17 and above.\n",
            "  and should_run_async(code)\n"
          ]
        },
        {
          "output_type": "execute_result",
          "data": {
            "text/plain": [
              "[(0,\n",
              "  [('중국', 11968.700538111409),\n",
              "   ('코로나', 10594.73406142946),\n",
              "   ('미국', 10553.074550281606),\n",
              "   ('현지', 9925.15207809386),\n",
              "   ('시간', 9556.491341197256),\n",
              "   ('러시아', 8470.74641259585),\n",
              "   ('사람', 6962.476441352155),\n",
              "   ('미디어', 6729.998132565182),\n",
              "   ('여성', 6643.053635656544),\n",
              "   ('우크라', 6541.014830259468),\n",
              "   ('기자', 6044.563570738856),\n",
              "   ('세계', 5542.82356192524),\n",
              "   ('올림픽', 5468.09741064986),\n",
              "   ('보도', 5294.412497362127),\n",
              "   ('일본', 5002.958740899633),\n",
              "   ('선수', 4980.266110343156),\n",
              "   ('베이징', 4643.749420006195),\n",
              "   ('영국', 4394.138282693383),\n",
              "   ('상황', 4314.107771847276),\n",
              "   ('페이스북', 4283.290287009014)]),\n",
              " (1,\n",
              "  [('투자', 19968.622973546517),\n",
              "   ('기업', 18480.664381174614),\n",
              "   ('스타트업', 13305.010379832003),\n",
              "   ('기술', 12448.697079442385),\n",
              "   ('사업', 8870.4182261299),\n",
              "   ('메타', 8840.438909385812),\n",
              "   ('기자', 8538.0496986266),\n",
              "   ('대표', 8456.752708687769),\n",
              "   ('그룹', 8437.469956478753),\n",
              "   ('글로벌', 8366.154501305002),\n",
              "   ('금융', 8338.356440414715),\n",
              "   ('반도체', 8176.046479245),\n",
              "   ('버스', 8037.33940405378),\n",
              "   ('벤처', 7746.303886903025),\n",
              "   ('디지털', 7709.289856231083),\n",
              "   ('국내', 7459.120513757768),\n",
              "   ('플랫', 7408.364686687969),\n",
              "   ('시장', 7247.404257413899),\n",
              "   ('데이터', 7198.201955831966),\n",
              "   ('규모', 7017.208934329797)]),\n",
              " (2,\n",
              "  [('교육', 18472.64549431051),\n",
              "   ('미디어', 14691.520478541828),\n",
              "   ('문화', 14246.061682828475),\n",
              "   ('대학', 10832.381916380793),\n",
              "   ('아트', 9512.289117584334),\n",
              "   ('교수', 8943.749419663885),\n",
              "   ('개최', 8893.464688341233),\n",
              "   ('예술', 8877.862101635474),\n",
              "   ('부산', 8104.759841121479),\n",
              "   ('전시', 8090.08108754411),\n",
              "   ('진행', 7847.3469564695715),\n",
              "   ('한국', 7752.689796833906),\n",
              "   ('대학교', 7703.28483165318),\n",
              "   ('작품', 7692.453343129026),\n",
              "   ('콘텐츠', 7411.179985372849),\n",
              "   ('프로그램', 7236.780619966195),\n",
              "   ('대회', 7223.688571071404),\n",
              "   ('학생', 7182.455624261168),\n",
              "   ('작가', 6862.9853115532105),\n",
              "   ('센터', 6723.156440907506)]),\n",
              " (3,\n",
              "  [('콘텐츠', 12294.924140445837),\n",
              "   ('브랜드', 8775.00441006036),\n",
              "   ('서비스', 7582.527588122999),\n",
              "   ('출시', 7503.048324277792),\n",
              "   ('미디어', 7354.962293674163),\n",
              "   ('네이버', 6864.100231213343),\n",
              "   ('게임', 6765.63327264074),\n",
              "   ('카카오', 6717.609299113005),\n",
              "   ('플랫', 6407.408252096911),\n",
              "   ('드라마', 6281.394406715306),\n",
              "   ('시리즈', 5763.173821738749),\n",
              "   ('시장', 5720.664865060064),\n",
              "   ('온라인', 5579.483662154581),\n",
              "   ('채널', 5498.226966730833),\n",
              "   ('제품', 5465.652271352904),\n",
              "   ('기사', 5274.604240914787),\n",
              "   ('제공', 5250.275982098753),\n",
              "   ('공개', 5111.688946609162),\n",
              "   ('유튜브', 5035.575247039422),\n",
              "   ('국내', 4986.865465927298)]),\n",
              " (4,\n",
              "  [('후보', 18935.842494532535),\n",
              "   ('대통령', 15308.212166945603),\n",
              "   ('국민', 14318.403663472698),\n",
              "   ('방송', 11669.46706861338),\n",
              "   ('대선', 10409.404019211579),\n",
              "   ('윤석열', 10288.719997063086),\n",
              "   ('민주당', 10138.313827170034),\n",
              "   ('선거', 9290.509526205129),\n",
              "   ('언론', 9130.63995283949),\n",
              "   ('소셜', 8483.20933582604),\n",
              "   ('위원회', 7840.2376887930195),\n",
              "   ('의원', 7506.941771663788),\n",
              "   ('미디어', 6851.483534070898),\n",
              "   ('위원장', 5736.3940550481475),\n",
              "   ('스튜디오', 5691.227168896463),\n",
              "   ('이날', 5636.688609000345),\n",
              "   ('국회', 5405.063698933254),\n",
              "   ('대표', 5355.19527965751),\n",
              "   ('자신', 5230.598615047792),\n",
              "   ('정부', 5024.942949083877)]),\n",
              " (5,\n",
              "  [('사업', 13492.638906217506),\n",
              "   ('기술', 10400.532899449161),\n",
              "   ('산업', 9896.24203179109),\n",
              "   ('지역', 9637.577584998231),\n",
              "   ('지원', 7855.959719624748),\n",
              "   ('도시', 7723.001853131045),\n",
              "   ('정보', 6969.565963668779),\n",
              "   ('관광', 6795.882885288466),\n",
              "   ('추진', 6669.815032531708),\n",
              "   ('디지털', 6400.53060702199),\n",
              "   ('기업', 6364.483987500806),\n",
              "   ('과학', 6190.220885804583),\n",
              "   ('개발', 5966.288081168372),\n",
              "   ('정부', 5938.472537774062),\n",
              "   ('의료', 5905.402098476541),\n",
              "   ('인공지능', 5737.376474043591),\n",
              "   ('인천', 5440.112933760935),\n",
              "   ('데이터', 5409.422668981357),\n",
              "   ('구축', 5343.480139525591),\n",
              "   ('혁신', 5312.772678165955)])]"
            ]
          },
          "metadata": {},
          "execution_count": 52
        }
      ]
    },
    {
      "cell_type": "code",
      "source": [
        "# 首先，我们把 topics 转换成更容易处理的形式\n",
        "topics_transformed = [(topic[0], word, value) for topic in topics for word, value in topic[1]]\n",
        "\n",
        "# 然后我们把转换后的列表变成 DataFrame\n",
        "df = pd.DataFrame(topics_transformed, columns=['Topic', 'Word', 'Value'])\n",
        "\n",
        "# 最后，我们可以把 DataFrame 保存为 CSV 或 Excel 文件\n",
        "df.to_csv('/content/drive/MyDrive/졸업논문/AI Media/topics6_mecab_noun.csv',index=False)"
      ],
      "metadata": {
        "colab": {
          "base_uri": "https://localhost:8080/"
        },
        "id": "6EBqJFfkJnAT",
        "outputId": "d64f8aca-d22c-4891-ca28-b86401b54f20"
      },
      "execution_count": 53,
      "outputs": [
        {
          "output_type": "stream",
          "name": "stderr",
          "text": [
            "/usr/local/lib/python3.10/dist-packages/ipykernel/ipkernel.py:283: DeprecationWarning: `should_run_async` will not call `transform_cell` automatically in the future. Please pass the result to `transformed_cell` argument and any exception that happen during thetransform in `preprocessing_exc_tuple` in IPython 7.17 and above.\n",
            "  and should_run_async(code)\n"
          ]
        }
      ]
    },
    {
      "cell_type": "code",
      "source": [],
      "metadata": {
        "id": "3nZ2HNvaJnDS"
      },
      "execution_count": null,
      "outputs": []
    }
  ]
}