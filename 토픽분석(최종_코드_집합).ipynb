{
  "nbformat": 4,
  "nbformat_minor": 0,
  "metadata": {
    "colab": {
      "provenance": [],
      "collapsed_sections": [
        "N11Adyh29Om_",
        "KpXbJdMosii8",
        "KUGXb26jtR5V",
        "pjf7g6sSu5q-",
        "ISV-jRrPrwii",
        "LFBiI-iB9Hkd"
      ],
      "authorship_tag": "ABX9TyMGG8J/u/V9toO2+kb99gim",
      "include_colab_link": true
    },
    "kernelspec": {
      "name": "python3",
      "display_name": "Python 3"
    },
    "language_info": {
      "name": "python"
    }
  },
  "cells": [
    {
      "cell_type": "markdown",
      "metadata": {
        "id": "view-in-github",
        "colab_type": "text"
      },
      "source": [
        "<a href=\"https://colab.research.google.com/github/huihuiwuwu/Github-Colab/blob/main/%ED%86%A0%ED%94%BD%EB%B6%84%EC%84%9D(%EC%B5%9C%EC%A2%85_%EC%BD%94%EB%93%9C_%EC%A7%91%ED%95%A9).ipynb\" target=\"_parent\"><img src=\"https://colab.research.google.com/assets/colab-badge.svg\" alt=\"Open In Colab\"/></a>"
      ]
    },
    {
      "cell_type": "markdown",
      "source": [
        "## 토픽분석을 위한 전처리"
      ],
      "metadata": {
        "id": "N11Adyh29Om_"
      }
    },
    {
      "cell_type": "code",
      "execution_count": null,
      "metadata": {
        "colab": {
          "base_uri": "https://localhost:8080/"
        },
        "id": "uG3nIth_mu6y",
        "outputId": "cd7e46ab-53bb-4073-dd1b-e1016bc66d22"
      },
      "outputs": [
        {
          "output_type": "execute_result",
          "data": {
            "text/plain": [
              "<tensorflow.python.tpu.topology.Topology at 0x7ab51af04ac0>"
            ]
          },
          "metadata": {},
          "execution_count": 1
        }
      ],
      "source": [
        "import tensorflow as tf\n",
        "import os\n",
        "\n",
        "resolver = tf.distribute.cluster_resolver.TPUClusterResolver(tpu='grpc://' + os.environ['COLAB_TPU_ADDR'])\n",
        "\n",
        "tf.config.experimental_connect_to_cluster(resolver)\n",
        "tf.tpu.experimental.initialize_tpu_system(resolver)"
      ]
    },
    {
      "cell_type": "code",
      "source": [
        "strategy = tf.distribute.TPUStrategy(resolver)"
      ],
      "metadata": {
        "id": "eaB4mi7Mo5OM"
      },
      "execution_count": null,
      "outputs": []
    },
    {
      "cell_type": "code",
      "source": [
        "from google.colab import drive\n",
        "drive.mount(\"/content/drive\")"
      ],
      "metadata": {
        "colab": {
          "base_uri": "https://localhost:8080/"
        },
        "id": "HLoDk_hXo5UM",
        "outputId": "1df6fef2-5e07-49c2-bf83-eed41d7c91db"
      },
      "execution_count": null,
      "outputs": [
        {
          "output_type": "stream",
          "name": "stdout",
          "text": [
            "Mounted at /content/drive\n"
          ]
        }
      ]
    },
    {
      "cell_type": "code",
      "source": [
        "import warnings\n",
        "warnings.filterwarnings('ignore')"
      ],
      "metadata": {
        "id": "tYSvdIFdo5W0"
      },
      "execution_count": null,
      "outputs": []
    },
    {
      "cell_type": "code",
      "source": [
        "import site\n",
        "import os\n",
        "import pandas as pd\n",
        "import re\n",
        "from tqdm import tqdm"
      ],
      "metadata": {
        "id": "A2JA53M0o5ZI"
      },
      "execution_count": null,
      "outputs": []
    },
    {
      "cell_type": "code",
      "source": [
        "!pip install pyLDAvis"
      ],
      "metadata": {
        "id": "36CJvTKOpxC0"
      },
      "execution_count": null,
      "outputs": []
    },
    {
      "cell_type": "code",
      "source": [
        "from gensim.models.ldamodel import LdaModel\n",
        "from gensim.models import CoherenceModel\n",
        "import matplotlib.pyplot as plt\n",
        "from gensim import corpora\n",
        "import numpy as np\n",
        "from sklearn.decomposition import LatentDirichletAllocation\n",
        "import pyLDAvis.gensim_models\n",
        "import gensim"
      ],
      "metadata": {
        "id": "kdI4D66Io5bY"
      },
      "execution_count": null,
      "outputs": []
    },
    {
      "cell_type": "code",
      "source": [
        "All_data=pd.read_csv('/content/drive/MyDrive/졸업논문/AI Media/All_data.csv')"
      ],
      "metadata": {
        "id": "nNEM0PrWsMVv"
      },
      "execution_count": null,
      "outputs": []
    },
    {
      "cell_type": "code",
      "source": [
        "All_data=All_data.rename(columns={'x':'Contents'})"
      ],
      "metadata": {
        "id": "H9ghBiaDsMoq"
      },
      "execution_count": null,
      "outputs": []
    },
    {
      "cell_type": "code",
      "source": [
        "stopwords_df = pd.read_excel(\"/content/drive/MyDrive/졸업논문/AI Media/stopwords.xlsx\")"
      ],
      "metadata": {
        "id": "CyXnzhwGsMre"
      },
      "execution_count": null,
      "outputs": []
    },
    {
      "cell_type": "code",
      "source": [
        "TARGET_COL = \"Contents\"\n",
        "PROCESSED_COL = \"ProcessedData\""
      ],
      "metadata": {
        "id": "Ddy7EdBZsMwn"
      },
      "execution_count": null,
      "outputs": []
    },
    {
      "cell_type": "code",
      "source": [
        "# 데이터의 결측값 여부 확인\n",
        "print(f'충 데이터(row)의 수:{len(All_data)}')\n",
        "\n",
        "print(f\"\\n===== {TARGET_COL} column의 결측값 여부 확인 =====\")\n",
        "print('결측값 여부 :', All_data[TARGET_COL].isnull().values.any())\n",
        "print(f\"원본 데이터의 유니크한 값 : {All_data[TARGET_COL].nunique()}\")"
      ],
      "metadata": {
        "id": "kjp7hz4qxr4j"
      },
      "execution_count": null,
      "outputs": []
    },
    {
      "cell_type": "markdown",
      "source": [
        "## 토픽을 위한 전처리"
      ],
      "metadata": {
        "id": "KpXbJdMosii8"
      }
    },
    {
      "cell_type": "code",
      "source": [
        "All_data[PROCESSED_COL]=[False for _ in range(len(All_data[TARGET_COL]))]"
      ],
      "metadata": {
        "id": "NR3WfMg3sdf6"
      },
      "execution_count": null,
      "outputs": []
    },
    {
      "cell_type": "code",
      "source": [
        "# 개행 문자 (CRLF) 제거\n",
        "def remove_CRLF(input_str):\n",
        "    input_str = input_str.replace(\"\\n\", \" \")\n",
        "    input_str = input_str.replace(\"\\n\", \" \")\n",
        "    input_str = input_str.replace(\"\\r\", \" \")\n",
        "    input_str = input_str.replace(\"\\r\", \" \")\n",
        "\n",
        "    return input_str"
      ],
      "metadata": {
        "id": "NKjXG_3osdi3"
      },
      "execution_count": null,
      "outputs": []
    },
    {
      "cell_type": "code",
      "source": [
        "for i in range(len(All_data[TARGET_COL])):\n",
        "    All_data[PROCESSED_COL][i] = remove_CRLF(All_data[TARGET_COL][i])"
      ],
      "metadata": {
        "id": "Kpr7n89usdl2"
      },
      "execution_count": null,
      "outputs": []
    },
    {
      "cell_type": "code",
      "source": [
        "# 이모티콘 문자들, 사이트 URL주소, 의미없는 문자 지우기\n",
        "def cleansing(input_str):\n",
        "    output_str = re.sub(pattern='<[U]\\+[A-Z0-9]*>', repl=' ', string=input_str)\n",
        "    output_str = re.sub(pattern='http[s]?://(?:[a-zA-Z]|[0-9]|[_$\\-@\\.&+:/?=]|[!*,]|(?:%[0-9a-fA-F_][0-9a-fA-F_]))+', repl=' ', string=output_str)\n",
        "    output_str = re.sub(pattern='^[0-9]+$', repl=' ', string=output_str)\n",
        "\n",
        "    return output_str"
      ],
      "metadata": {
        "id": "gWTVdBA2sdpD"
      },
      "execution_count": null,
      "outputs": []
    },
    {
      "cell_type": "code",
      "source": [
        "for i in range(len(All_data[TARGET_COL])):\n",
        "    All_data[PROCESSED_COL][i] = cleansing(All_data[PROCESSED_COL][i])"
      ],
      "metadata": {
        "id": "JpaEG-Oxsdri"
      },
      "execution_count": null,
      "outputs": []
    },
    {
      "cell_type": "code",
      "source": [
        " 데이터의 앞뒤에 공백 추가\n",
        "def add_space(input_str):\n",
        "    return \" \"+input_str+\" \""
      ],
      "metadata": {
        "id": "N8xpwUhJsyOe"
      },
      "execution_count": null,
      "outputs": []
    },
    {
      "cell_type": "code",
      "source": [
        "for i in range(len(All_data[TARGET_COL])):\n",
        "    All_data[PROCESSED_COL][i] = add_space(All_data[PROCESSED_COL][i])"
      ],
      "metadata": {
        "id": "xutXvsSYsyXr"
      },
      "execution_count": null,
      "outputs": []
    },
    {
      "cell_type": "code",
      "source": [
        " 불용어 제거 단계\n",
        "from nltk.corpus import stopwords\n",
        "from nltk.tokenize import word_tokenize"
      ],
      "metadata": {
        "id": "CotZAmvmsyai"
      },
      "execution_count": null,
      "outputs": []
    },
    {
      "cell_type": "code",
      "source": [
        "stop_words = set(stopwords_df['stopword'].str.lower())"
      ],
      "metadata": {
        "id": "uFqMSiGdsyc8"
      },
      "execution_count": null,
      "outputs": []
    },
    {
      "cell_type": "code",
      "source": [
        "# 불용어 제거 함수 정의\n",
        "def remove_stopwords(text):\n",
        "    word_tokens = word_tokenize(text)\n",
        "    filtered_text = [word for word in word_tokens if word.casefold() not in stop_words]\n",
        "    return ' '.join(filtered_text)"
      ],
      "metadata": {
        "id": "S5A9Yz1Jsyf_"
      },
      "execution_count": null,
      "outputs": []
    },
    {
      "cell_type": "code",
      "source": [
        "for i in tqdm(range(len(All_data[TARGET_COL]))):\n",
        "    All_data[PROCESSED_COL][i] = remove_stopwords(All_data[PROCESSED_COL][i])"
      ],
      "metadata": {
        "id": "I1H169iJsyjK"
      },
      "execution_count": null,
      "outputs": []
    },
    {
      "cell_type": "code",
      "source": [
        "All_data.to_csv('/content/drive/MyDrive/졸업논문/AI Media/remove_stopwords.csv',index=False)"
      ],
      "metadata": {
        "id": "aJDr27pituve"
      },
      "execution_count": null,
      "outputs": []
    },
    {
      "cell_type": "code",
      "source": [
        "All_data2=pd.read_csv('/content/drive/MyDrive/졸업논문/AI Media/remove_stopwords.csv') #제대로 저장된지 확인"
      ],
      "metadata": {
        "id": "yT3w9qZNtyvt"
      },
      "execution_count": null,
      "outputs": []
    },
    {
      "cell_type": "markdown",
      "source": [
        "## 토큰화 단계"
      ],
      "metadata": {
        "id": "KUGXb26jtR5V"
      }
    },
    {
      "cell_type": "code",
      "source": [
        "# 토큰화_명사만 남기기 (*mecab.morphs를 사용해 나온 결과는 별로였어서 아래처름 mecab.nouns로 명사만 추출)\n",
        "def tokenize_and_filter(text):\n",
        "    tokens = mecab.nouns(text)  # 텍스트에서 명사만 추출합니다\n",
        "    tokens = [token for token in tokens if len(token) > 1]  # 길이가 1보다 큰 토큰만 선택합니다\n",
        "    return tokens"
      ],
      "metadata": {
        "id": "FQMbYNlUsymI"
      },
      "execution_count": null,
      "outputs": []
    },
    {
      "cell_type": "code",
      "source": [
        "for i in tqdm(range(len(All_data2[TARGET_COL]))):\n",
        "    # List of strings to single string\n",
        "    if isinstance(All_data2[PROCESSED_COL][i], list):\n",
        "        input_string = ' '.join(All_data2[PROCESSED_COL][i])\n",
        "    else:\n",
        "        input_string = All_data2[PROCESSED_COL][i]\n",
        "    All_data2[PROCESSED_COL][i] = tokenize_and_filter(input_string)"
      ],
      "metadata": {
        "id": "_Ed4cR2_syob"
      },
      "execution_count": null,
      "outputs": []
    },
    {
      "cell_type": "code",
      "source": [
        "All_data2.to_csv('/content/drive/MyDrive/졸업논문/AI Media/tokenize(mecab_noun)_words.csv',index=False)"
      ],
      "metadata": {
        "id": "iioLwQM7syrQ"
      },
      "execution_count": null,
      "outputs": []
    },
    {
      "cell_type": "code",
      "source": [
        "# mecab로 1보다 큰 명사만 추출된 파일 불어오기\n",
        "data=pd.read_csv('/content/drive/MyDrive/졸업논문/AI Media/tokenize(mecab_noun)_words.csv')"
      ],
      "metadata": {
        "colab": {
          "base_uri": "https://localhost:8080/"
        },
        "id": "bXlLuFtFo5d4",
        "outputId": "f6a8c58a-3cef-4925-b620-8498011cc557"
      },
      "execution_count": null,
      "outputs": [
        {
          "output_type": "stream",
          "name": "stderr",
          "text": [
            "/usr/local/lib/python3.10/dist-packages/ipykernel/ipkernel.py:283: DeprecationWarning: `should_run_async` will not call `transform_cell` automatically in the future. Please pass the result to `transformed_cell` argument and any exception that happen during thetransform in `preprocessing_exc_tuple` in IPython 7.17 and above.\n",
            "  and should_run_async(code)\n"
          ]
        }
      ]
    },
    {
      "cell_type": "code",
      "source": [
        "data[:5]"
      ],
      "metadata": {
        "colab": {
          "base_uri": "https://localhost:8080/",
          "height": 501
        },
        "id": "HdyL2M-1o5gB",
        "outputId": "4459ccd7-b1f9-4844-ff18-8714f664b13c"
      },
      "execution_count": null,
      "outputs": [
        {
          "output_type": "stream",
          "name": "stderr",
          "text": [
            "/usr/local/lib/python3.10/dist-packages/ipykernel/ipkernel.py:283: DeprecationWarning: `should_run_async` will not call `transform_cell` automatically in the future. Please pass the result to `transformed_cell` argument and any exception that happen during thetransform in `preprocessing_exc_tuple` in IPython 7.17 and above.\n",
            "  and should_run_async(code)\n"
          ]
        },
        {
          "output_type": "execute_result",
          "data": {
            "text/plain": [
              "                                            Contents  \\\n",
              "0  전산망 ‘먹통’ 사고가 또 났다. 지난 30일 서울 강남고속버스터미널 버스표 발권 ...   \n",
              "1  ‘IT 강국 대한민국’이지만 첨단 IT를 활용한 법률서비스인 ‘리걸테크 산업’은 걸...   \n",
              "2  살아있는 동물처럼 네 다리로 걷고 계단과 비탈길에서 자유자재로 움직이는 로봇을 제조...   \n",
              "3  대전 동구 역세권지구에 한국기상산업기술원 이전이 가시화되면서 '기상산업 클러스터' ...   \n",
              "4  국내 데이터 네트워크 인공지능(AI) 생태계가 급성장하며 SW AI 역량을 갖춘 이...   \n",
              "\n",
              "                                       ProcessedData  \n",
              "0  ['전산망', '먹통', '사고', '강남', '고속버스', '터미널', '버스표'...  \n",
              "1  ['강국', '대한민국', '첨단', '활용', '법률', '서비스', '리걸', ...  \n",
              "2  ['동물', '다리', '계단', '비탈길', '자유자재', '제조', '보스턴',...  \n",
              "3  ['대전', '동구', '역세', '지구', '한국', '기상', '산업', '기술...  \n",
              "4  ['국내', '데이터', '네트워크', '인공지능', '생태', '급성장', '역량...  "
            ],
            "text/html": [
              "\n",
              "\n",
              "  <div id=\"df-6c9de1b5-ffc4-4882-97e6-e811f4fc3ca9\">\n",
              "    <div class=\"colab-df-container\">\n",
              "      <div>\n",
              "<style scoped>\n",
              "    .dataframe tbody tr th:only-of-type {\n",
              "        vertical-align: middle;\n",
              "    }\n",
              "\n",
              "    .dataframe tbody tr th {\n",
              "        vertical-align: top;\n",
              "    }\n",
              "\n",
              "    .dataframe thead th {\n",
              "        text-align: right;\n",
              "    }\n",
              "</style>\n",
              "<table border=\"1\" class=\"dataframe\">\n",
              "  <thead>\n",
              "    <tr style=\"text-align: right;\">\n",
              "      <th></th>\n",
              "      <th>Contents</th>\n",
              "      <th>ProcessedData</th>\n",
              "    </tr>\n",
              "  </thead>\n",
              "  <tbody>\n",
              "    <tr>\n",
              "      <th>0</th>\n",
              "      <td>전산망 ‘먹통’ 사고가 또 났다. 지난 30일 서울 강남고속버스터미널 버스표 발권 ...</td>\n",
              "      <td>['전산망', '먹통', '사고', '강남', '고속버스', '터미널', '버스표'...</td>\n",
              "    </tr>\n",
              "    <tr>\n",
              "      <th>1</th>\n",
              "      <td>‘IT 강국 대한민국’이지만 첨단 IT를 활용한 법률서비스인 ‘리걸테크 산업’은 걸...</td>\n",
              "      <td>['강국', '대한민국', '첨단', '활용', '법률', '서비스', '리걸', ...</td>\n",
              "    </tr>\n",
              "    <tr>\n",
              "      <th>2</th>\n",
              "      <td>살아있는 동물처럼 네 다리로 걷고 계단과 비탈길에서 자유자재로 움직이는 로봇을 제조...</td>\n",
              "      <td>['동물', '다리', '계단', '비탈길', '자유자재', '제조', '보스턴',...</td>\n",
              "    </tr>\n",
              "    <tr>\n",
              "      <th>3</th>\n",
              "      <td>대전 동구 역세권지구에 한국기상산업기술원 이전이 가시화되면서 '기상산업 클러스터' ...</td>\n",
              "      <td>['대전', '동구', '역세', '지구', '한국', '기상', '산업', '기술...</td>\n",
              "    </tr>\n",
              "    <tr>\n",
              "      <th>4</th>\n",
              "      <td>국내 데이터 네트워크 인공지능(AI) 생태계가 급성장하며 SW AI 역량을 갖춘 이...</td>\n",
              "      <td>['국내', '데이터', '네트워크', '인공지능', '생태', '급성장', '역량...</td>\n",
              "    </tr>\n",
              "  </tbody>\n",
              "</table>\n",
              "</div>\n",
              "      <button class=\"colab-df-convert\" onclick=\"convertToInteractive('df-6c9de1b5-ffc4-4882-97e6-e811f4fc3ca9')\"\n",
              "              title=\"Convert this dataframe to an interactive table.\"\n",
              "              style=\"display:none;\">\n",
              "\n",
              "  <svg xmlns=\"http://www.w3.org/2000/svg\" height=\"24px\"viewBox=\"0 0 24 24\"\n",
              "       width=\"24px\">\n",
              "    <path d=\"M0 0h24v24H0V0z\" fill=\"none\"/>\n",
              "    <path d=\"M18.56 5.44l.94 2.06.94-2.06 2.06-.94-2.06-.94-.94-2.06-.94 2.06-2.06.94zm-11 1L8.5 8.5l.94-2.06 2.06-.94-2.06-.94L8.5 2.5l-.94 2.06-2.06.94zm10 10l.94 2.06.94-2.06 2.06-.94-2.06-.94-.94-2.06-.94 2.06-2.06.94z\"/><path d=\"M17.41 7.96l-1.37-1.37c-.4-.4-.92-.59-1.43-.59-.52 0-1.04.2-1.43.59L10.3 9.45l-7.72 7.72c-.78.78-.78 2.05 0 2.83L4 21.41c.39.39.9.59 1.41.59.51 0 1.02-.2 1.41-.59l7.78-7.78 2.81-2.81c.8-.78.8-2.07 0-2.86zM5.41 20L4 18.59l7.72-7.72 1.47 1.35L5.41 20z\"/>\n",
              "  </svg>\n",
              "      </button>\n",
              "\n",
              "\n",
              "\n",
              "    <div id=\"df-99421dd0-7b34-40d5-b7d3-94ab38dd3721\">\n",
              "      <button class=\"colab-df-quickchart\" onclick=\"quickchart('df-99421dd0-7b34-40d5-b7d3-94ab38dd3721')\"\n",
              "              title=\"Suggest charts.\"\n",
              "              style=\"display:none;\">\n",
              "\n",
              "<svg xmlns=\"http://www.w3.org/2000/svg\" height=\"24px\"viewBox=\"0 0 24 24\"\n",
              "     width=\"24px\">\n",
              "    <g>\n",
              "        <path d=\"M19 3H5c-1.1 0-2 .9-2 2v14c0 1.1.9 2 2 2h14c1.1 0 2-.9 2-2V5c0-1.1-.9-2-2-2zM9 17H7v-7h2v7zm4 0h-2V7h2v10zm4 0h-2v-4h2v4z\"/>\n",
              "    </g>\n",
              "</svg>\n",
              "      </button>\n",
              "    </div>\n",
              "\n",
              "<style>\n",
              "  .colab-df-quickchart {\n",
              "    background-color: #E8F0FE;\n",
              "    border: none;\n",
              "    border-radius: 50%;\n",
              "    cursor: pointer;\n",
              "    display: none;\n",
              "    fill: #1967D2;\n",
              "    height: 32px;\n",
              "    padding: 0 0 0 0;\n",
              "    width: 32px;\n",
              "  }\n",
              "\n",
              "  .colab-df-quickchart:hover {\n",
              "    background-color: #E2EBFA;\n",
              "    box-shadow: 0px 1px 2px rgba(60, 64, 67, 0.3), 0px 1px 3px 1px rgba(60, 64, 67, 0.15);\n",
              "    fill: #174EA6;\n",
              "  }\n",
              "\n",
              "  [theme=dark] .colab-df-quickchart {\n",
              "    background-color: #3B4455;\n",
              "    fill: #D2E3FC;\n",
              "  }\n",
              "\n",
              "  [theme=dark] .colab-df-quickchart:hover {\n",
              "    background-color: #434B5C;\n",
              "    box-shadow: 0px 1px 3px 1px rgba(0, 0, 0, 0.15);\n",
              "    filter: drop-shadow(0px 1px 2px rgba(0, 0, 0, 0.3));\n",
              "    fill: #FFFFFF;\n",
              "  }\n",
              "</style>\n",
              "\n",
              "    <script>\n",
              "      async function quickchart(key) {\n",
              "        const containerElement = document.querySelector('#' + key);\n",
              "        const charts = await google.colab.kernel.invokeFunction(\n",
              "            'suggestCharts', [key], {});\n",
              "      }\n",
              "    </script>\n",
              "\n",
              "      <script>\n",
              "\n",
              "function displayQuickchartButton(domScope) {\n",
              "  let quickchartButtonEl =\n",
              "    domScope.querySelector('#df-99421dd0-7b34-40d5-b7d3-94ab38dd3721 button.colab-df-quickchart');\n",
              "  quickchartButtonEl.style.display =\n",
              "    google.colab.kernel.accessAllowed ? 'block' : 'none';\n",
              "}\n",
              "\n",
              "        displayQuickchartButton(document);\n",
              "      </script>\n",
              "      <style>\n",
              "    .colab-df-container {\n",
              "      display:flex;\n",
              "      flex-wrap:wrap;\n",
              "      gap: 12px;\n",
              "    }\n",
              "\n",
              "    .colab-df-convert {\n",
              "      background-color: #E8F0FE;\n",
              "      border: none;\n",
              "      border-radius: 50%;\n",
              "      cursor: pointer;\n",
              "      display: none;\n",
              "      fill: #1967D2;\n",
              "      height: 32px;\n",
              "      padding: 0 0 0 0;\n",
              "      width: 32px;\n",
              "    }\n",
              "\n",
              "    .colab-df-convert:hover {\n",
              "      background-color: #E2EBFA;\n",
              "      box-shadow: 0px 1px 2px rgba(60, 64, 67, 0.3), 0px 1px 3px 1px rgba(60, 64, 67, 0.15);\n",
              "      fill: #174EA6;\n",
              "    }\n",
              "\n",
              "    [theme=dark] .colab-df-convert {\n",
              "      background-color: #3B4455;\n",
              "      fill: #D2E3FC;\n",
              "    }\n",
              "\n",
              "    [theme=dark] .colab-df-convert:hover {\n",
              "      background-color: #434B5C;\n",
              "      box-shadow: 0px 1px 3px 1px rgba(0, 0, 0, 0.15);\n",
              "      filter: drop-shadow(0px 1px 2px rgba(0, 0, 0, 0.3));\n",
              "      fill: #FFFFFF;\n",
              "    }\n",
              "  </style>\n",
              "\n",
              "      <script>\n",
              "        const buttonEl =\n",
              "          document.querySelector('#df-6c9de1b5-ffc4-4882-97e6-e811f4fc3ca9 button.colab-df-convert');\n",
              "        buttonEl.style.display =\n",
              "          google.colab.kernel.accessAllowed ? 'block' : 'none';\n",
              "\n",
              "        async function convertToInteractive(key) {\n",
              "          const element = document.querySelector('#df-6c9de1b5-ffc4-4882-97e6-e811f4fc3ca9');\n",
              "          const dataTable =\n",
              "            await google.colab.kernel.invokeFunction('convertToInteractive',\n",
              "                                                     [key], {});\n",
              "          if (!dataTable) return;\n",
              "\n",
              "          const docLinkHtml = 'Like what you see? Visit the ' +\n",
              "            '<a target=\"_blank\" href=https://colab.research.google.com/notebooks/data_table.ipynb>data table notebook</a>'\n",
              "            + ' to learn more about interactive tables.';\n",
              "          element.innerHTML = '';\n",
              "          dataTable['output_type'] = 'display_data';\n",
              "          await google.colab.output.renderOutput(dataTable, element);\n",
              "          const docLink = document.createElement('div');\n",
              "          docLink.innerHTML = docLinkHtml;\n",
              "          element.appendChild(docLink);\n",
              "        }\n",
              "      </script>\n",
              "    </div>\n",
              "  </div>\n"
            ]
          },
          "metadata": {},
          "execution_count": 10
        },
        {
          "output_type": "stream",
          "name": "stderr",
          "text": [
            "/usr/local/lib/python3.10/dist-packages/ipykernel/ipkernel.py:283: DeprecationWarning: `should_run_async` will not call `transform_cell` automatically in the future. Please pass the result to `transformed_cell` argument and any exception that happen during thetransform in `preprocessing_exc_tuple` in IPython 7.17 and above.\n",
            "  and should_run_async(code)\n"
          ]
        }
      ]
    },
    {
      "cell_type": "code",
      "source": [
        "data.info()"
      ],
      "metadata": {
        "colab": {
          "base_uri": "https://localhost:8080/"
        },
        "id": "E7OABsmOtc24",
        "outputId": "8f4e6fd1-39cc-4baa-9c5d-9e14ee38d510"
      },
      "execution_count": null,
      "outputs": [
        {
          "output_type": "stream",
          "name": "stderr",
          "text": [
            "/usr/local/lib/python3.10/dist-packages/ipykernel/ipkernel.py:283: DeprecationWarning: `should_run_async` will not call `transform_cell` automatically in the future. Please pass the result to `transformed_cell` argument and any exception that happen during thetransform in `preprocessing_exc_tuple` in IPython 7.17 and above.\n",
            "  and should_run_async(code)\n"
          ]
        },
        {
          "output_type": "stream",
          "name": "stdout",
          "text": [
            "<class 'pandas.core.frame.DataFrame'>\n",
            "RangeIndex: 1320049 entries, 0 to 1320048\n",
            "Data columns (total 2 columns):\n",
            " #   Column         Non-Null Count    Dtype \n",
            "---  ------         --------------    ----- \n",
            " 0   Contents       1320049 non-null  object\n",
            " 1   ProcessedData  1320049 non-null  object\n",
            "dtypes: object(2)\n",
            "memory usage: 20.1+ MB\n"
          ]
        }
      ]
    },
    {
      "cell_type": "code",
      "source": [
        "# 토픽 모델링\n",
        "# 1. 최적의 토픽 수 계산\n",
        "coherence_values = []\n",
        "model_list = []"
      ],
      "metadata": {
        "id": "WsN60MPZuNWF"
      },
      "execution_count": null,
      "outputs": []
    },
    {
      "cell_type": "code",
      "source": [
        "def compute_coherence_values(dictionary, corpus, texts, limit, start=2, step=1):\n",
        "    for num_topics in range(start, limit, step):\n",
        "#         model = pyLDAvis.gensim_models.wrappers.LdaMallet(mallet_path, corpus=corpus, num_topics=num_topics, id2word=id2word)\n",
        "#         model = gensim.models.wrappers.LdaMallet(mallet_path, corpus=corpus, num_topics=num_topics, id2word=id2word)\n",
        "        model = LdaModel(corpus=corpus, id2word=dictionary, num_topics=num_topics)\n",
        "        model_list.append(model)\n",
        "        coherencemodel = CoherenceModel(model=model, texts=texts, dictionary=dictionary, coherence='c_v')\n",
        "        coherence_values.append(coherencemodel.get_coherence())\n",
        "\n",
        "    return model_list, coherence_values"
      ],
      "metadata": {
        "id": "ZJZBj_sFuNh8"
      },
      "execution_count": null,
      "outputs": []
    },
    {
      "cell_type": "code",
      "source": [
        "def find_optimal_number_of_topics(dictionary, corpus, processed_data, limit=8):\n",
        "    start = 1;\n",
        "    step = 1;\n",
        "\n",
        "    model_list, coherence_values = compute_coherence_values(dictionary=dictionary, corpus=corpus, texts=processed_data, start=start, limit=limit, step=step)\n",
        "\n",
        "    x = range(start, limit, step)\n",
        "    plt.plot(x, coherence_values)\n",
        "    plt.xlabel(\"Num Topics\")\n",
        "    plt.ylabel(\"Coherence score\")\n",
        "    plt.legend((\"coherence_values\"), loc='best')\n",
        "\n",
        "    dic = { coherence_values:x for x, coherence_values in zip(x, coherence_values) }\n",
        "\n",
        "    plt.text(dic[max(coherence_values)],min(coherence_values),\n",
        "             str(dic[max(coherence_values)]) + ' at MAX',\n",
        "             color='r',\n",
        "             horizontalalignment='center',\n",
        "             verticalalignment='bottom')\n",
        "\n",
        "    plt.show()\n",
        "\n",
        "    return dic[max(coherence_values)]"
      ],
      "metadata": {
        "id": "D1g99FyUuNqD"
      },
      "execution_count": null,
      "outputs": []
    },
    {
      "cell_type": "code",
      "source": [
        "from sklearn.feature_extraction.text import TfidfVectorizer"
      ],
      "metadata": {
        "id": "WXZvWWLCuNtC"
      },
      "execution_count": null,
      "outputs": []
    },
    {
      "cell_type": "code",
      "source": [
        "# 상위 1,000개의 단어를 보존\n",
        "TARGET_COL = \"contents\"\n",
        "PROCESSED_COL = \"ProcessedData\"\n",
        "\n",
        "vectorizer = TfidfVectorizer(stop_words='english', max_features= 1000)\n",
        "X = vectorizer.fit_transform(data[PROCESSED_COL])"
      ],
      "metadata": {
        "id": "SmWrDXq5uNv4"
      },
      "execution_count": null,
      "outputs": []
    },
    {
      "cell_type": "code",
      "source": [
        "dictionary = corpora.Dictionary(data['ProcessedData'])\n",
        "corpus = [dictionary.doc2bow(text) for text in data['ProcessedData']]\n",
        "processed_data = data['ProcessedData'].tolist()"
      ],
      "metadata": {
        "id": "xj1IAsZ_uNyU"
      },
      "execution_count": null,
      "outputs": []
    },
    {
      "cell_type": "code",
      "source": [
        "limit = 8\n",
        "NUM_TOPICS = find_optimal_number_of_topics(dictionary, corpus, processed_data, limit)"
      ],
      "metadata": {
        "id": "6VvZ7qoluN1W"
      },
      "execution_count": null,
      "outputs": []
    },
    {
      "cell_type": "code",
      "source": [
        "# LDA모델 생성\n",
        "lda_model = LatentDirichletAllocation(n_components=6, learning_method='online', random_state=42, max_iter=1)\n",
        "lda_top = lda_model.fit_transform(X)"
      ],
      "metadata": {
        "id": "yK73xi_TuN4N"
      },
      "execution_count": null,
      "outputs": []
    },
    {
      "cell_type": "code",
      "source": [
        "# 단어 집합. 1,000개의 단어가 저장됨.\n",
        "terms = vectorizer.get_feature_names_out()\n",
        "\n",
        "def get_topics2(components, terms):\n",
        "    topics = []\n",
        "    for topic_idx, topic in enumerate(components):\n",
        "        topic_terms = [(terms[i], topic[i]) for i in topic.argsort()[:-20 - 1:-1]]\n",
        "        topics.append((topic_idx, topic_terms))\n",
        "    return topics"
      ],
      "metadata": {
        "id": "BngPqp_ZulI4"
      },
      "execution_count": null,
      "outputs": []
    },
    {
      "cell_type": "code",
      "source": [
        "topics = get_topics2(lda_model.components_, terms)\n",
        "if topics is not None:\n",
        "    df = pd.DataFrame(topics, columns=['Topic', 'Terms'])\n",
        "else:\n",
        "    df = pd.DataFrame()"
      ],
      "metadata": {
        "id": "X9GqmPEzulRo"
      },
      "execution_count": null,
      "outputs": []
    },
    {
      "cell_type": "code",
      "source": [
        "topics_transformed = [(topic[0], word, value) for topic in topics for word, value in topic[1]]\n",
        "df = pd.DataFrame(topics_transformed, columns=['Topic', 'Word', 'Value'])\n",
        "df.to_csv('/content/drive/MyDrive/졸업논문/AI Media/topics6_mecab_noun.csv',index=False)"
      ],
      "metadata": {
        "id": "L7vMgWadulUh"
      },
      "execution_count": null,
      "outputs": []
    },
    {
      "cell_type": "markdown",
      "source": [
        "## AI, Media 데이터를 재확인"
      ],
      "metadata": {
        "id": "pjf7g6sSu5q-"
      }
    },
    {
      "cell_type": "code",
      "source": [
        "AI=pd.read_csv('/content/drive/MyDrive/졸업논문/AI Media/AI.csv')\n",
        "Media=pd.read_csv('/content/drive/MyDrive/졸업논문/AI Media/media.csv')"
      ],
      "metadata": {
        "colab": {
          "base_uri": "https://localhost:8080/"
        },
        "id": "jwer7ObzsIpD",
        "outputId": "1f83b320-68a0-4874-d7b2-82260b66fefe"
      },
      "execution_count": null,
      "outputs": [
        {
          "output_type": "stream",
          "name": "stderr",
          "text": [
            "/usr/local/lib/python3.10/dist-packages/ipykernel/ipkernel.py:283: DeprecationWarning: `should_run_async` will not call `transform_cell` automatically in the future. Please pass the result to `transformed_cell` argument and any exception that happen during thetransform in `preprocessing_exc_tuple` in IPython 7.17 and above.\n",
            "  and should_run_async(code)\n"
          ]
        }
      ]
    },
    {
      "cell_type": "code",
      "source": [
        "print(len(AI))\n",
        "print(len(Media))"
      ],
      "metadata": {
        "colab": {
          "base_uri": "https://localhost:8080/"
        },
        "id": "pK0wLbZ1sIxo",
        "outputId": "b5c26ea1-0c64-4187-a0e3-df764ef9bf37"
      },
      "execution_count": null,
      "outputs": [
        {
          "output_type": "stream",
          "name": "stdout",
          "text": [
            "83751\n",
            "48253\n"
          ]
        },
        {
          "output_type": "stream",
          "name": "stderr",
          "text": [
            "/usr/local/lib/python3.10/dist-packages/ipykernel/ipkernel.py:283: DeprecationWarning: `should_run_async` will not call `transform_cell` automatically in the future. Please pass the result to `transformed_cell` argument and any exception that happen during thetransform in `preprocessing_exc_tuple` in IPython 7.17 and above.\n",
            "  and should_run_async(code)\n"
          ]
        }
      ]
    },
    {
      "cell_type": "code",
      "source": [
        "AI.tail()"
      ],
      "metadata": {
        "colab": {
          "base_uri": "https://localhost:8080/",
          "height": 261
        },
        "id": "BpUAExC3vx4t",
        "outputId": "83cd9040-edd5-4901-e71c-81ab7b29107b"
      },
      "execution_count": null,
      "outputs": [
        {
          "output_type": "stream",
          "name": "stderr",
          "text": [
            "/usr/local/lib/python3.10/dist-packages/ipykernel/ipkernel.py:283: DeprecationWarning: `should_run_async` will not call `transform_cell` automatically in the future. Please pass the result to `transformed_cell` argument and any exception that happen during thetransform in `preprocessing_exc_tuple` in IPython 7.17 and above.\n",
            "  and should_run_async(code)\n"
          ]
        },
        {
          "output_type": "execute_result",
          "data": {
            "text/plain": [
              "       Unnamed: 0                                                  x\n",
              "83746       83747  \"2040년 '개교 100주년'을 향한 힘찬 날갯짓을 멈추지 않겠습니다.\" \\n\\n...\n",
              "83747       83748  [천안]남서울대학교 김의명 드론공간정보공학과 교수와 임상병리학과 이동하 교수가 지난...\n",
              "83748       83749  현대자동차가 신입 상시채용 제도에 지원자의 편의성을 높일 새로운 공고 게시 방식을 ...\n",
              "83749       83750  한밭대 컴퓨터공학과에 재학 중인 김민준 씨가 한국장학재단에서 수여하는 '대통령과학장...\n",
              "83750       83751  KT가 'KT Bridge Lab 대전센터' 개소로 대전ㆍ충청권 유망 스타트업 발굴..."
            ],
            "text/html": [
              "\n",
              "\n",
              "  <div id=\"df-50b070ca-3ff2-445c-94fa-ce92ed171dfa\">\n",
              "    <div class=\"colab-df-container\">\n",
              "      <div>\n",
              "<style scoped>\n",
              "    .dataframe tbody tr th:only-of-type {\n",
              "        vertical-align: middle;\n",
              "    }\n",
              "\n",
              "    .dataframe tbody tr th {\n",
              "        vertical-align: top;\n",
              "    }\n",
              "\n",
              "    .dataframe thead th {\n",
              "        text-align: right;\n",
              "    }\n",
              "</style>\n",
              "<table border=\"1\" class=\"dataframe\">\n",
              "  <thead>\n",
              "    <tr style=\"text-align: right;\">\n",
              "      <th></th>\n",
              "      <th>Unnamed: 0</th>\n",
              "      <th>x</th>\n",
              "    </tr>\n",
              "  </thead>\n",
              "  <tbody>\n",
              "    <tr>\n",
              "      <th>83746</th>\n",
              "      <td>83747</td>\n",
              "      <td>\"2040년 '개교 100주년'을 향한 힘찬 날갯짓을 멈추지 않겠습니다.\" \\n\\n...</td>\n",
              "    </tr>\n",
              "    <tr>\n",
              "      <th>83747</th>\n",
              "      <td>83748</td>\n",
              "      <td>[천안]남서울대학교 김의명 드론공간정보공학과 교수와 임상병리학과 이동하 교수가 지난...</td>\n",
              "    </tr>\n",
              "    <tr>\n",
              "      <th>83748</th>\n",
              "      <td>83749</td>\n",
              "      <td>현대자동차가 신입 상시채용 제도에 지원자의 편의성을 높일 새로운 공고 게시 방식을 ...</td>\n",
              "    </tr>\n",
              "    <tr>\n",
              "      <th>83749</th>\n",
              "      <td>83750</td>\n",
              "      <td>한밭대 컴퓨터공학과에 재학 중인 김민준 씨가 한국장학재단에서 수여하는 '대통령과학장...</td>\n",
              "    </tr>\n",
              "    <tr>\n",
              "      <th>83750</th>\n",
              "      <td>83751</td>\n",
              "      <td>KT가 'KT Bridge Lab 대전센터' 개소로 대전ㆍ충청권 유망 스타트업 발굴...</td>\n",
              "    </tr>\n",
              "  </tbody>\n",
              "</table>\n",
              "</div>\n",
              "      <button class=\"colab-df-convert\" onclick=\"convertToInteractive('df-50b070ca-3ff2-445c-94fa-ce92ed171dfa')\"\n",
              "              title=\"Convert this dataframe to an interactive table.\"\n",
              "              style=\"display:none;\">\n",
              "\n",
              "  <svg xmlns=\"http://www.w3.org/2000/svg\" height=\"24px\"viewBox=\"0 0 24 24\"\n",
              "       width=\"24px\">\n",
              "    <path d=\"M0 0h24v24H0V0z\" fill=\"none\"/>\n",
              "    <path d=\"M18.56 5.44l.94 2.06.94-2.06 2.06-.94-2.06-.94-.94-2.06-.94 2.06-2.06.94zm-11 1L8.5 8.5l.94-2.06 2.06-.94-2.06-.94L8.5 2.5l-.94 2.06-2.06.94zm10 10l.94 2.06.94-2.06 2.06-.94-2.06-.94-.94-2.06-.94 2.06-2.06.94z\"/><path d=\"M17.41 7.96l-1.37-1.37c-.4-.4-.92-.59-1.43-.59-.52 0-1.04.2-1.43.59L10.3 9.45l-7.72 7.72c-.78.78-.78 2.05 0 2.83L4 21.41c.39.39.9.59 1.41.59.51 0 1.02-.2 1.41-.59l7.78-7.78 2.81-2.81c.8-.78.8-2.07 0-2.86zM5.41 20L4 18.59l7.72-7.72 1.47 1.35L5.41 20z\"/>\n",
              "  </svg>\n",
              "      </button>\n",
              "\n",
              "\n",
              "\n",
              "    <div id=\"df-783e8c72-2039-4998-a8c7-5a045d1c124e\">\n",
              "      <button class=\"colab-df-quickchart\" onclick=\"quickchart('df-783e8c72-2039-4998-a8c7-5a045d1c124e')\"\n",
              "              title=\"Suggest charts.\"\n",
              "              style=\"display:none;\">\n",
              "\n",
              "<svg xmlns=\"http://www.w3.org/2000/svg\" height=\"24px\"viewBox=\"0 0 24 24\"\n",
              "     width=\"24px\">\n",
              "    <g>\n",
              "        <path d=\"M19 3H5c-1.1 0-2 .9-2 2v14c0 1.1.9 2 2 2h14c1.1 0 2-.9 2-2V5c0-1.1-.9-2-2-2zM9 17H7v-7h2v7zm4 0h-2V7h2v10zm4 0h-2v-4h2v4z\"/>\n",
              "    </g>\n",
              "</svg>\n",
              "      </button>\n",
              "    </div>\n",
              "\n",
              "<style>\n",
              "  .colab-df-quickchart {\n",
              "    background-color: #E8F0FE;\n",
              "    border: none;\n",
              "    border-radius: 50%;\n",
              "    cursor: pointer;\n",
              "    display: none;\n",
              "    fill: #1967D2;\n",
              "    height: 32px;\n",
              "    padding: 0 0 0 0;\n",
              "    width: 32px;\n",
              "  }\n",
              "\n",
              "  .colab-df-quickchart:hover {\n",
              "    background-color: #E2EBFA;\n",
              "    box-shadow: 0px 1px 2px rgba(60, 64, 67, 0.3), 0px 1px 3px 1px rgba(60, 64, 67, 0.15);\n",
              "    fill: #174EA6;\n",
              "  }\n",
              "\n",
              "  [theme=dark] .colab-df-quickchart {\n",
              "    background-color: #3B4455;\n",
              "    fill: #D2E3FC;\n",
              "  }\n",
              "\n",
              "  [theme=dark] .colab-df-quickchart:hover {\n",
              "    background-color: #434B5C;\n",
              "    box-shadow: 0px 1px 3px 1px rgba(0, 0, 0, 0.15);\n",
              "    filter: drop-shadow(0px 1px 2px rgba(0, 0, 0, 0.3));\n",
              "    fill: #FFFFFF;\n",
              "  }\n",
              "</style>\n",
              "\n",
              "    <script>\n",
              "      async function quickchart(key) {\n",
              "        const containerElement = document.querySelector('#' + key);\n",
              "        const charts = await google.colab.kernel.invokeFunction(\n",
              "            'suggestCharts', [key], {});\n",
              "      }\n",
              "    </script>\n",
              "\n",
              "      <script>\n",
              "\n",
              "function displayQuickchartButton(domScope) {\n",
              "  let quickchartButtonEl =\n",
              "    domScope.querySelector('#df-783e8c72-2039-4998-a8c7-5a045d1c124e button.colab-df-quickchart');\n",
              "  quickchartButtonEl.style.display =\n",
              "    google.colab.kernel.accessAllowed ? 'block' : 'none';\n",
              "}\n",
              "\n",
              "        displayQuickchartButton(document);\n",
              "      </script>\n",
              "      <style>\n",
              "    .colab-df-container {\n",
              "      display:flex;\n",
              "      flex-wrap:wrap;\n",
              "      gap: 12px;\n",
              "    }\n",
              "\n",
              "    .colab-df-convert {\n",
              "      background-color: #E8F0FE;\n",
              "      border: none;\n",
              "      border-radius: 50%;\n",
              "      cursor: pointer;\n",
              "      display: none;\n",
              "      fill: #1967D2;\n",
              "      height: 32px;\n",
              "      padding: 0 0 0 0;\n",
              "      width: 32px;\n",
              "    }\n",
              "\n",
              "    .colab-df-convert:hover {\n",
              "      background-color: #E2EBFA;\n",
              "      box-shadow: 0px 1px 2px rgba(60, 64, 67, 0.3), 0px 1px 3px 1px rgba(60, 64, 67, 0.15);\n",
              "      fill: #174EA6;\n",
              "    }\n",
              "\n",
              "    [theme=dark] .colab-df-convert {\n",
              "      background-color: #3B4455;\n",
              "      fill: #D2E3FC;\n",
              "    }\n",
              "\n",
              "    [theme=dark] .colab-df-convert:hover {\n",
              "      background-color: #434B5C;\n",
              "      box-shadow: 0px 1px 3px 1px rgba(0, 0, 0, 0.15);\n",
              "      filter: drop-shadow(0px 1px 2px rgba(0, 0, 0, 0.3));\n",
              "      fill: #FFFFFF;\n",
              "    }\n",
              "  </style>\n",
              "\n",
              "      <script>\n",
              "        const buttonEl =\n",
              "          document.querySelector('#df-50b070ca-3ff2-445c-94fa-ce92ed171dfa button.colab-df-convert');\n",
              "        buttonEl.style.display =\n",
              "          google.colab.kernel.accessAllowed ? 'block' : 'none';\n",
              "\n",
              "        async function convertToInteractive(key) {\n",
              "          const element = document.querySelector('#df-50b070ca-3ff2-445c-94fa-ce92ed171dfa');\n",
              "          const dataTable =\n",
              "            await google.colab.kernel.invokeFunction('convertToInteractive',\n",
              "                                                     [key], {});\n",
              "          if (!dataTable) return;\n",
              "\n",
              "          const docLinkHtml = 'Like what you see? Visit the ' +\n",
              "            '<a target=\"_blank\" href=https://colab.research.google.com/notebooks/data_table.ipynb>data table notebook</a>'\n",
              "            + ' to learn more about interactive tables.';\n",
              "          element.innerHTML = '';\n",
              "          dataTable['output_type'] = 'display_data';\n",
              "          await google.colab.output.renderOutput(dataTable, element);\n",
              "          const docLink = document.createElement('div');\n",
              "          docLink.innerHTML = docLinkHtml;\n",
              "          element.appendChild(docLink);\n",
              "        }\n",
              "      </script>\n",
              "    </div>\n",
              "  </div>\n"
            ]
          },
          "metadata": {},
          "execution_count": 23
        }
      ]
    },
    {
      "cell_type": "markdown",
      "source": [
        "## Topic analysis for AI data"
      ],
      "metadata": {
        "id": "ISV-jRrPrwii"
      }
    },
    {
      "cell_type": "code",
      "source": [
        "selected_data_AI = data.head(83751)"
      ],
      "metadata": {
        "colab": {
          "base_uri": "https://localhost:8080/"
        },
        "id": "3G53dxqduP4D",
        "outputId": "c3670ca5-32b1-4644-dcf8-f10c60e641b6"
      },
      "execution_count": null,
      "outputs": [
        {
          "output_type": "stream",
          "name": "stderr",
          "text": [
            "/usr/local/lib/python3.10/dist-packages/ipykernel/ipkernel.py:283: DeprecationWarning: `should_run_async` will not call `transform_cell` automatically in the future. Please pass the result to `transformed_cell` argument and any exception that happen during thetransform in `preprocessing_exc_tuple` in IPython 7.17 and above.\n",
            "  and should_run_async(code)\n"
          ]
        }
      ]
    },
    {
      "cell_type": "code",
      "source": [
        "selected_data_AI.head()"
      ],
      "metadata": {
        "colab": {
          "base_uri": "https://localhost:8080/",
          "height": 261
        },
        "id": "cRjrobIHxNmn",
        "outputId": "69187fdb-e77d-4af4-9fee-665b02c60cc5"
      },
      "execution_count": null,
      "outputs": [
        {
          "output_type": "stream",
          "name": "stderr",
          "text": [
            "/usr/local/lib/python3.10/dist-packages/ipykernel/ipkernel.py:283: DeprecationWarning: `should_run_async` will not call `transform_cell` automatically in the future. Please pass the result to `transformed_cell` argument and any exception that happen during thetransform in `preprocessing_exc_tuple` in IPython 7.17 and above.\n",
            "  and should_run_async(code)\n"
          ]
        },
        {
          "output_type": "execute_result",
          "data": {
            "text/plain": [
              "                                            Contents  \\\n",
              "0  전산망 ‘먹통’ 사고가 또 났다. 지난 30일 서울 강남고속버스터미널 버스표 발권 ...   \n",
              "1  ‘IT 강국 대한민국’이지만 첨단 IT를 활용한 법률서비스인 ‘리걸테크 산업’은 걸...   \n",
              "2  살아있는 동물처럼 네 다리로 걷고 계단과 비탈길에서 자유자재로 움직이는 로봇을 제조...   \n",
              "3  대전 동구 역세권지구에 한국기상산업기술원 이전이 가시화되면서 '기상산업 클러스터' ...   \n",
              "4  국내 데이터 네트워크 인공지능(AI) 생태계가 급성장하며 SW AI 역량을 갖춘 이...   \n",
              "\n",
              "                                       ProcessedData  \n",
              "0  ['전산망', '먹통', '사고', '강남', '고속버스', '터미널', '버스표'...  \n",
              "1  ['강국', '대한민국', '첨단', '활용', '법률', '서비스', '리걸', ...  \n",
              "2  ['동물', '다리', '계단', '비탈길', '자유자재', '제조', '보스턴',...  \n",
              "3  ['대전', '동구', '역세', '지구', '한국', '기상', '산업', '기술...  \n",
              "4  ['국내', '데이터', '네트워크', '인공지능', '생태', '급성장', '역량...  "
            ],
            "text/html": [
              "\n",
              "\n",
              "  <div id=\"df-eaeae5fd-766d-4951-bb3a-22cdb11b04bf\">\n",
              "    <div class=\"colab-df-container\">\n",
              "      <div>\n",
              "<style scoped>\n",
              "    .dataframe tbody tr th:only-of-type {\n",
              "        vertical-align: middle;\n",
              "    }\n",
              "\n",
              "    .dataframe tbody tr th {\n",
              "        vertical-align: top;\n",
              "    }\n",
              "\n",
              "    .dataframe thead th {\n",
              "        text-align: right;\n",
              "    }\n",
              "</style>\n",
              "<table border=\"1\" class=\"dataframe\">\n",
              "  <thead>\n",
              "    <tr style=\"text-align: right;\">\n",
              "      <th></th>\n",
              "      <th>Contents</th>\n",
              "      <th>ProcessedData</th>\n",
              "    </tr>\n",
              "  </thead>\n",
              "  <tbody>\n",
              "    <tr>\n",
              "      <th>0</th>\n",
              "      <td>전산망 ‘먹통’ 사고가 또 났다. 지난 30일 서울 강남고속버스터미널 버스표 발권 ...</td>\n",
              "      <td>['전산망', '먹통', '사고', '강남', '고속버스', '터미널', '버스표'...</td>\n",
              "    </tr>\n",
              "    <tr>\n",
              "      <th>1</th>\n",
              "      <td>‘IT 강국 대한민국’이지만 첨단 IT를 활용한 법률서비스인 ‘리걸테크 산업’은 걸...</td>\n",
              "      <td>['강국', '대한민국', '첨단', '활용', '법률', '서비스', '리걸', ...</td>\n",
              "    </tr>\n",
              "    <tr>\n",
              "      <th>2</th>\n",
              "      <td>살아있는 동물처럼 네 다리로 걷고 계단과 비탈길에서 자유자재로 움직이는 로봇을 제조...</td>\n",
              "      <td>['동물', '다리', '계단', '비탈길', '자유자재', '제조', '보스턴',...</td>\n",
              "    </tr>\n",
              "    <tr>\n",
              "      <th>3</th>\n",
              "      <td>대전 동구 역세권지구에 한국기상산업기술원 이전이 가시화되면서 '기상산업 클러스터' ...</td>\n",
              "      <td>['대전', '동구', '역세', '지구', '한국', '기상', '산업', '기술...</td>\n",
              "    </tr>\n",
              "    <tr>\n",
              "      <th>4</th>\n",
              "      <td>국내 데이터 네트워크 인공지능(AI) 생태계가 급성장하며 SW AI 역량을 갖춘 이...</td>\n",
              "      <td>['국내', '데이터', '네트워크', '인공지능', '생태', '급성장', '역량...</td>\n",
              "    </tr>\n",
              "  </tbody>\n",
              "</table>\n",
              "</div>\n",
              "      <button class=\"colab-df-convert\" onclick=\"convertToInteractive('df-eaeae5fd-766d-4951-bb3a-22cdb11b04bf')\"\n",
              "              title=\"Convert this dataframe to an interactive table.\"\n",
              "              style=\"display:none;\">\n",
              "\n",
              "  <svg xmlns=\"http://www.w3.org/2000/svg\" height=\"24px\"viewBox=\"0 0 24 24\"\n",
              "       width=\"24px\">\n",
              "    <path d=\"M0 0h24v24H0V0z\" fill=\"none\"/>\n",
              "    <path d=\"M18.56 5.44l.94 2.06.94-2.06 2.06-.94-2.06-.94-.94-2.06-.94 2.06-2.06.94zm-11 1L8.5 8.5l.94-2.06 2.06-.94-2.06-.94L8.5 2.5l-.94 2.06-2.06.94zm10 10l.94 2.06.94-2.06 2.06-.94-2.06-.94-.94-2.06-.94 2.06-2.06.94z\"/><path d=\"M17.41 7.96l-1.37-1.37c-.4-.4-.92-.59-1.43-.59-.52 0-1.04.2-1.43.59L10.3 9.45l-7.72 7.72c-.78.78-.78 2.05 0 2.83L4 21.41c.39.39.9.59 1.41.59.51 0 1.02-.2 1.41-.59l7.78-7.78 2.81-2.81c.8-.78.8-2.07 0-2.86zM5.41 20L4 18.59l7.72-7.72 1.47 1.35L5.41 20z\"/>\n",
              "  </svg>\n",
              "      </button>\n",
              "\n",
              "\n",
              "\n",
              "    <div id=\"df-23ed2ef3-f47b-42ce-b482-86126ee679db\">\n",
              "      <button class=\"colab-df-quickchart\" onclick=\"quickchart('df-23ed2ef3-f47b-42ce-b482-86126ee679db')\"\n",
              "              title=\"Suggest charts.\"\n",
              "              style=\"display:none;\">\n",
              "\n",
              "<svg xmlns=\"http://www.w3.org/2000/svg\" height=\"24px\"viewBox=\"0 0 24 24\"\n",
              "     width=\"24px\">\n",
              "    <g>\n",
              "        <path d=\"M19 3H5c-1.1 0-2 .9-2 2v14c0 1.1.9 2 2 2h14c1.1 0 2-.9 2-2V5c0-1.1-.9-2-2-2zM9 17H7v-7h2v7zm4 0h-2V7h2v10zm4 0h-2v-4h2v4z\"/>\n",
              "    </g>\n",
              "</svg>\n",
              "      </button>\n",
              "    </div>\n",
              "\n",
              "<style>\n",
              "  .colab-df-quickchart {\n",
              "    background-color: #E8F0FE;\n",
              "    border: none;\n",
              "    border-radius: 50%;\n",
              "    cursor: pointer;\n",
              "    display: none;\n",
              "    fill: #1967D2;\n",
              "    height: 32px;\n",
              "    padding: 0 0 0 0;\n",
              "    width: 32px;\n",
              "  }\n",
              "\n",
              "  .colab-df-quickchart:hover {\n",
              "    background-color: #E2EBFA;\n",
              "    box-shadow: 0px 1px 2px rgba(60, 64, 67, 0.3), 0px 1px 3px 1px rgba(60, 64, 67, 0.15);\n",
              "    fill: #174EA6;\n",
              "  }\n",
              "\n",
              "  [theme=dark] .colab-df-quickchart {\n",
              "    background-color: #3B4455;\n",
              "    fill: #D2E3FC;\n",
              "  }\n",
              "\n",
              "  [theme=dark] .colab-df-quickchart:hover {\n",
              "    background-color: #434B5C;\n",
              "    box-shadow: 0px 1px 3px 1px rgba(0, 0, 0, 0.15);\n",
              "    filter: drop-shadow(0px 1px 2px rgba(0, 0, 0, 0.3));\n",
              "    fill: #FFFFFF;\n",
              "  }\n",
              "</style>\n",
              "\n",
              "    <script>\n",
              "      async function quickchart(key) {\n",
              "        const containerElement = document.querySelector('#' + key);\n",
              "        const charts = await google.colab.kernel.invokeFunction(\n",
              "            'suggestCharts', [key], {});\n",
              "      }\n",
              "    </script>\n",
              "\n",
              "      <script>\n",
              "\n",
              "function displayQuickchartButton(domScope) {\n",
              "  let quickchartButtonEl =\n",
              "    domScope.querySelector('#df-23ed2ef3-f47b-42ce-b482-86126ee679db button.colab-df-quickchart');\n",
              "  quickchartButtonEl.style.display =\n",
              "    google.colab.kernel.accessAllowed ? 'block' : 'none';\n",
              "}\n",
              "\n",
              "        displayQuickchartButton(document);\n",
              "      </script>\n",
              "      <style>\n",
              "    .colab-df-container {\n",
              "      display:flex;\n",
              "      flex-wrap:wrap;\n",
              "      gap: 12px;\n",
              "    }\n",
              "\n",
              "    .colab-df-convert {\n",
              "      background-color: #E8F0FE;\n",
              "      border: none;\n",
              "      border-radius: 50%;\n",
              "      cursor: pointer;\n",
              "      display: none;\n",
              "      fill: #1967D2;\n",
              "      height: 32px;\n",
              "      padding: 0 0 0 0;\n",
              "      width: 32px;\n",
              "    }\n",
              "\n",
              "    .colab-df-convert:hover {\n",
              "      background-color: #E2EBFA;\n",
              "      box-shadow: 0px 1px 2px rgba(60, 64, 67, 0.3), 0px 1px 3px 1px rgba(60, 64, 67, 0.15);\n",
              "      fill: #174EA6;\n",
              "    }\n",
              "\n",
              "    [theme=dark] .colab-df-convert {\n",
              "      background-color: #3B4455;\n",
              "      fill: #D2E3FC;\n",
              "    }\n",
              "\n",
              "    [theme=dark] .colab-df-convert:hover {\n",
              "      background-color: #434B5C;\n",
              "      box-shadow: 0px 1px 3px 1px rgba(0, 0, 0, 0.15);\n",
              "      filter: drop-shadow(0px 1px 2px rgba(0, 0, 0, 0.3));\n",
              "      fill: #FFFFFF;\n",
              "    }\n",
              "  </style>\n",
              "\n",
              "      <script>\n",
              "        const buttonEl =\n",
              "          document.querySelector('#df-eaeae5fd-766d-4951-bb3a-22cdb11b04bf button.colab-df-convert');\n",
              "        buttonEl.style.display =\n",
              "          google.colab.kernel.accessAllowed ? 'block' : 'none';\n",
              "\n",
              "        async function convertToInteractive(key) {\n",
              "          const element = document.querySelector('#df-eaeae5fd-766d-4951-bb3a-22cdb11b04bf');\n",
              "          const dataTable =\n",
              "            await google.colab.kernel.invokeFunction('convertToInteractive',\n",
              "                                                     [key], {});\n",
              "          if (!dataTable) return;\n",
              "\n",
              "          const docLinkHtml = 'Like what you see? Visit the ' +\n",
              "            '<a target=\"_blank\" href=https://colab.research.google.com/notebooks/data_table.ipynb>data table notebook</a>'\n",
              "            + ' to learn more about interactive tables.';\n",
              "          element.innerHTML = '';\n",
              "          dataTable['output_type'] = 'display_data';\n",
              "          await google.colab.output.renderOutput(dataTable, element);\n",
              "          const docLink = document.createElement('div');\n",
              "          docLink.innerHTML = docLinkHtml;\n",
              "          element.appendChild(docLink);\n",
              "        }\n",
              "      </script>\n",
              "    </div>\n",
              "  </div>\n"
            ]
          },
          "metadata": {},
          "execution_count": 51
        }
      ]
    },
    {
      "cell_type": "code",
      "source": [
        "selected_data_AI.tail()"
      ],
      "metadata": {
        "colab": {
          "base_uri": "https://localhost:8080/",
          "height": 261
        },
        "id": "_TIXI69lvONz",
        "outputId": "0e921e06-e194-453c-9ec2-ac02434e7e31"
      },
      "execution_count": null,
      "outputs": [
        {
          "output_type": "stream",
          "name": "stderr",
          "text": [
            "/usr/local/lib/python3.10/dist-packages/ipykernel/ipkernel.py:283: DeprecationWarning: `should_run_async` will not call `transform_cell` automatically in the future. Please pass the result to `transformed_cell` argument and any exception that happen during thetransform in `preprocessing_exc_tuple` in IPython 7.17 and above.\n",
            "  and should_run_async(code)\n"
          ]
        },
        {
          "output_type": "execute_result",
          "data": {
            "text/plain": [
              "                                                Contents  \\\n",
              "83746  \"2040년 '개교 100주년'을 향한 힘찬 날갯짓을 멈추지 않겠습니다.\" \\n\\n...   \n",
              "83747  [천안]남서울대학교 김의명 드론공간정보공학과 교수와 임상병리학과 이동하 교수가 지난...   \n",
              "83748  현대자동차가 신입 상시채용 제도에 지원자의 편의성을 높일 새로운 공고 게시 방식을 ...   \n",
              "83749  한밭대 컴퓨터공학과에 재학 중인 김민준 씨가 한국장학재단에서 수여하는 '대통령과학장...   \n",
              "83750  KT가 'KT Bridge Lab 대전센터' 개소로 대전ㆍ충청권 유망 스타트업 발굴...   \n",
              "\n",
              "                                           ProcessedData  \n",
              "83746  ['개교', '주년', '날갯짓', '효인', '대전', '학기', '술대', '총...  \n",
              "83747  ['천안', '서울', '대학교', '김의명', '드론', '공간', '정보', '...  \n",
              "83748  ['현대', '자동차', '신입', '시채', '제도', '지원자', '편의', '...  \n",
              "83749  ['한밭', '컴퓨터', '공학', '재학', '김민준', '한국장학재단', '수여...  \n",
              "83750  ['대전', '센터', '개소', '대전', '유망', '스타트업', '발굴', '...  "
            ],
            "text/html": [
              "\n",
              "\n",
              "  <div id=\"df-913c5409-7ab6-49cc-a983-b7fe93dbbe7b\">\n",
              "    <div class=\"colab-df-container\">\n",
              "      <div>\n",
              "<style scoped>\n",
              "    .dataframe tbody tr th:only-of-type {\n",
              "        vertical-align: middle;\n",
              "    }\n",
              "\n",
              "    .dataframe tbody tr th {\n",
              "        vertical-align: top;\n",
              "    }\n",
              "\n",
              "    .dataframe thead th {\n",
              "        text-align: right;\n",
              "    }\n",
              "</style>\n",
              "<table border=\"1\" class=\"dataframe\">\n",
              "  <thead>\n",
              "    <tr style=\"text-align: right;\">\n",
              "      <th></th>\n",
              "      <th>Contents</th>\n",
              "      <th>ProcessedData</th>\n",
              "    </tr>\n",
              "  </thead>\n",
              "  <tbody>\n",
              "    <tr>\n",
              "      <th>83746</th>\n",
              "      <td>\"2040년 '개교 100주년'을 향한 힘찬 날갯짓을 멈추지 않겠습니다.\" \\n\\n...</td>\n",
              "      <td>['개교', '주년', '날갯짓', '효인', '대전', '학기', '술대', '총...</td>\n",
              "    </tr>\n",
              "    <tr>\n",
              "      <th>83747</th>\n",
              "      <td>[천안]남서울대학교 김의명 드론공간정보공학과 교수와 임상병리학과 이동하 교수가 지난...</td>\n",
              "      <td>['천안', '서울', '대학교', '김의명', '드론', '공간', '정보', '...</td>\n",
              "    </tr>\n",
              "    <tr>\n",
              "      <th>83748</th>\n",
              "      <td>현대자동차가 신입 상시채용 제도에 지원자의 편의성을 높일 새로운 공고 게시 방식을 ...</td>\n",
              "      <td>['현대', '자동차', '신입', '시채', '제도', '지원자', '편의', '...</td>\n",
              "    </tr>\n",
              "    <tr>\n",
              "      <th>83749</th>\n",
              "      <td>한밭대 컴퓨터공학과에 재학 중인 김민준 씨가 한국장학재단에서 수여하는 '대통령과학장...</td>\n",
              "      <td>['한밭', '컴퓨터', '공학', '재학', '김민준', '한국장학재단', '수여...</td>\n",
              "    </tr>\n",
              "    <tr>\n",
              "      <th>83750</th>\n",
              "      <td>KT가 'KT Bridge Lab 대전센터' 개소로 대전ㆍ충청권 유망 스타트업 발굴...</td>\n",
              "      <td>['대전', '센터', '개소', '대전', '유망', '스타트업', '발굴', '...</td>\n",
              "    </tr>\n",
              "  </tbody>\n",
              "</table>\n",
              "</div>\n",
              "      <button class=\"colab-df-convert\" onclick=\"convertToInteractive('df-913c5409-7ab6-49cc-a983-b7fe93dbbe7b')\"\n",
              "              title=\"Convert this dataframe to an interactive table.\"\n",
              "              style=\"display:none;\">\n",
              "\n",
              "  <svg xmlns=\"http://www.w3.org/2000/svg\" height=\"24px\"viewBox=\"0 0 24 24\"\n",
              "       width=\"24px\">\n",
              "    <path d=\"M0 0h24v24H0V0z\" fill=\"none\"/>\n",
              "    <path d=\"M18.56 5.44l.94 2.06.94-2.06 2.06-.94-2.06-.94-.94-2.06-.94 2.06-2.06.94zm-11 1L8.5 8.5l.94-2.06 2.06-.94-2.06-.94L8.5 2.5l-.94 2.06-2.06.94zm10 10l.94 2.06.94-2.06 2.06-.94-2.06-.94-.94-2.06-.94 2.06-2.06.94z\"/><path d=\"M17.41 7.96l-1.37-1.37c-.4-.4-.92-.59-1.43-.59-.52 0-1.04.2-1.43.59L10.3 9.45l-7.72 7.72c-.78.78-.78 2.05 0 2.83L4 21.41c.39.39.9.59 1.41.59.51 0 1.02-.2 1.41-.59l7.78-7.78 2.81-2.81c.8-.78.8-2.07 0-2.86zM5.41 20L4 18.59l7.72-7.72 1.47 1.35L5.41 20z\"/>\n",
              "  </svg>\n",
              "      </button>\n",
              "\n",
              "\n",
              "\n",
              "    <div id=\"df-296fadfa-9283-45fb-80d4-cc4934d0516a\">\n",
              "      <button class=\"colab-df-quickchart\" onclick=\"quickchart('df-296fadfa-9283-45fb-80d4-cc4934d0516a')\"\n",
              "              title=\"Suggest charts.\"\n",
              "              style=\"display:none;\">\n",
              "\n",
              "<svg xmlns=\"http://www.w3.org/2000/svg\" height=\"24px\"viewBox=\"0 0 24 24\"\n",
              "     width=\"24px\">\n",
              "    <g>\n",
              "        <path d=\"M19 3H5c-1.1 0-2 .9-2 2v14c0 1.1.9 2 2 2h14c1.1 0 2-.9 2-2V5c0-1.1-.9-2-2-2zM9 17H7v-7h2v7zm4 0h-2V7h2v10zm4 0h-2v-4h2v4z\"/>\n",
              "    </g>\n",
              "</svg>\n",
              "      </button>\n",
              "    </div>\n",
              "\n",
              "<style>\n",
              "  .colab-df-quickchart {\n",
              "    background-color: #E8F0FE;\n",
              "    border: none;\n",
              "    border-radius: 50%;\n",
              "    cursor: pointer;\n",
              "    display: none;\n",
              "    fill: #1967D2;\n",
              "    height: 32px;\n",
              "    padding: 0 0 0 0;\n",
              "    width: 32px;\n",
              "  }\n",
              "\n",
              "  .colab-df-quickchart:hover {\n",
              "    background-color: #E2EBFA;\n",
              "    box-shadow: 0px 1px 2px rgba(60, 64, 67, 0.3), 0px 1px 3px 1px rgba(60, 64, 67, 0.15);\n",
              "    fill: #174EA6;\n",
              "  }\n",
              "\n",
              "  [theme=dark] .colab-df-quickchart {\n",
              "    background-color: #3B4455;\n",
              "    fill: #D2E3FC;\n",
              "  }\n",
              "\n",
              "  [theme=dark] .colab-df-quickchart:hover {\n",
              "    background-color: #434B5C;\n",
              "    box-shadow: 0px 1px 3px 1px rgba(0, 0, 0, 0.15);\n",
              "    filter: drop-shadow(0px 1px 2px rgba(0, 0, 0, 0.3));\n",
              "    fill: #FFFFFF;\n",
              "  }\n",
              "</style>\n",
              "\n",
              "    <script>\n",
              "      async function quickchart(key) {\n",
              "        const containerElement = document.querySelector('#' + key);\n",
              "        const charts = await google.colab.kernel.invokeFunction(\n",
              "            'suggestCharts', [key], {});\n",
              "      }\n",
              "    </script>\n",
              "\n",
              "      <script>\n",
              "\n",
              "function displayQuickchartButton(domScope) {\n",
              "  let quickchartButtonEl =\n",
              "    domScope.querySelector('#df-296fadfa-9283-45fb-80d4-cc4934d0516a button.colab-df-quickchart');\n",
              "  quickchartButtonEl.style.display =\n",
              "    google.colab.kernel.accessAllowed ? 'block' : 'none';\n",
              "}\n",
              "\n",
              "        displayQuickchartButton(document);\n",
              "      </script>\n",
              "      <style>\n",
              "    .colab-df-container {\n",
              "      display:flex;\n",
              "      flex-wrap:wrap;\n",
              "      gap: 12px;\n",
              "    }\n",
              "\n",
              "    .colab-df-convert {\n",
              "      background-color: #E8F0FE;\n",
              "      border: none;\n",
              "      border-radius: 50%;\n",
              "      cursor: pointer;\n",
              "      display: none;\n",
              "      fill: #1967D2;\n",
              "      height: 32px;\n",
              "      padding: 0 0 0 0;\n",
              "      width: 32px;\n",
              "    }\n",
              "\n",
              "    .colab-df-convert:hover {\n",
              "      background-color: #E2EBFA;\n",
              "      box-shadow: 0px 1px 2px rgba(60, 64, 67, 0.3), 0px 1px 3px 1px rgba(60, 64, 67, 0.15);\n",
              "      fill: #174EA6;\n",
              "    }\n",
              "\n",
              "    [theme=dark] .colab-df-convert {\n",
              "      background-color: #3B4455;\n",
              "      fill: #D2E3FC;\n",
              "    }\n",
              "\n",
              "    [theme=dark] .colab-df-convert:hover {\n",
              "      background-color: #434B5C;\n",
              "      box-shadow: 0px 1px 3px 1px rgba(0, 0, 0, 0.15);\n",
              "      filter: drop-shadow(0px 1px 2px rgba(0, 0, 0, 0.3));\n",
              "      fill: #FFFFFF;\n",
              "    }\n",
              "  </style>\n",
              "\n",
              "      <script>\n",
              "        const buttonEl =\n",
              "          document.querySelector('#df-913c5409-7ab6-49cc-a983-b7fe93dbbe7b button.colab-df-convert');\n",
              "        buttonEl.style.display =\n",
              "          google.colab.kernel.accessAllowed ? 'block' : 'none';\n",
              "\n",
              "        async function convertToInteractive(key) {\n",
              "          const element = document.querySelector('#df-913c5409-7ab6-49cc-a983-b7fe93dbbe7b');\n",
              "          const dataTable =\n",
              "            await google.colab.kernel.invokeFunction('convertToInteractive',\n",
              "                                                     [key], {});\n",
              "          if (!dataTable) return;\n",
              "\n",
              "          const docLinkHtml = 'Like what you see? Visit the ' +\n",
              "            '<a target=\"_blank\" href=https://colab.research.google.com/notebooks/data_table.ipynb>data table notebook</a>'\n",
              "            + ' to learn more about interactive tables.';\n",
              "          element.innerHTML = '';\n",
              "          dataTable['output_type'] = 'display_data';\n",
              "          await google.colab.output.renderOutput(dataTable, element);\n",
              "          const docLink = document.createElement('div');\n",
              "          docLink.innerHTML = docLinkHtml;\n",
              "          element.appendChild(docLink);\n",
              "        }\n",
              "      </script>\n",
              "    </div>\n",
              "  </div>\n"
            ]
          },
          "metadata": {},
          "execution_count": 52
        }
      ]
    },
    {
      "cell_type": "code",
      "source": [
        "AI_data = selected_data_AI"
      ],
      "metadata": {
        "colab": {
          "base_uri": "https://localhost:8080/"
        },
        "id": "cKD4Ghdwxuib",
        "outputId": "8e1f47b1-78f5-40d0-bc9f-9005b4c88c73"
      },
      "execution_count": null,
      "outputs": [
        {
          "output_type": "stream",
          "name": "stderr",
          "text": [
            "/usr/local/lib/python3.10/dist-packages/ipykernel/ipkernel.py:283: DeprecationWarning: `should_run_async` will not call `transform_cell` automatically in the future. Please pass the result to `transformed_cell` argument and any exception that happen during thetransform in `preprocessing_exc_tuple` in IPython 7.17 and above.\n",
            "  and should_run_async(code)\n"
          ]
        }
      ]
    },
    {
      "cell_type": "code",
      "source": [
        "AI_data.info()"
      ],
      "metadata": {
        "colab": {
          "base_uri": "https://localhost:8080/"
        },
        "id": "TDeaNDh-0xDQ",
        "outputId": "d6d6b029-a4f5-4fd1-bc3b-4377ee0ac089"
      },
      "execution_count": null,
      "outputs": [
        {
          "output_type": "stream",
          "name": "stdout",
          "text": [
            "<class 'pandas.core.frame.DataFrame'>\n",
            "RangeIndex: 83751 entries, 0 to 83750\n",
            "Data columns (total 2 columns):\n",
            " #   Column         Non-Null Count  Dtype \n",
            "---  ------         --------------  ----- \n",
            " 0   Contents       83751 non-null  object\n",
            " 1   ProcessedData  83751 non-null  object\n",
            "dtypes: object(2)\n",
            "memory usage: 1.3+ MB\n"
          ]
        },
        {
          "output_type": "stream",
          "name": "stderr",
          "text": [
            "/usr/local/lib/python3.10/dist-packages/ipykernel/ipkernel.py:283: DeprecationWarning: `should_run_async` will not call `transform_cell` automatically in the future. Please pass the result to `transformed_cell` argument and any exception that happen during thetransform in `preprocessing_exc_tuple` in IPython 7.17 and above.\n",
            "  and should_run_async(code)\n"
          ]
        }
      ]
    },
    {
      "cell_type": "code",
      "source": [
        "AI_data.head()"
      ],
      "metadata": {
        "colab": {
          "base_uri": "https://localhost:8080/",
          "height": 261
        },
        "id": "2LK3LMe_1n01",
        "outputId": "c5d550ee-a4d1-4054-8a42-311db40d8a85"
      },
      "execution_count": null,
      "outputs": [
        {
          "output_type": "stream",
          "name": "stderr",
          "text": [
            "/usr/local/lib/python3.10/dist-packages/ipykernel/ipkernel.py:283: DeprecationWarning: `should_run_async` will not call `transform_cell` automatically in the future. Please pass the result to `transformed_cell` argument and any exception that happen during thetransform in `preprocessing_exc_tuple` in IPython 7.17 and above.\n",
            "  and should_run_async(code)\n"
          ]
        },
        {
          "output_type": "execute_result",
          "data": {
            "text/plain": [
              "                                            Contents  \\\n",
              "0  전산망 ‘먹통’ 사고가 또 났다. 지난 30일 서울 강남고속버스터미널 버스표 발권 ...   \n",
              "1  ‘IT 강국 대한민국’이지만 첨단 IT를 활용한 법률서비스인 ‘리걸테크 산업’은 걸...   \n",
              "2  살아있는 동물처럼 네 다리로 걷고 계단과 비탈길에서 자유자재로 움직이는 로봇을 제조...   \n",
              "3  대전 동구 역세권지구에 한국기상산업기술원 이전이 가시화되면서 '기상산업 클러스터' ...   \n",
              "4  국내 데이터 네트워크 인공지능(AI) 생태계가 급성장하며 SW AI 역량을 갖춘 이...   \n",
              "\n",
              "                                       ProcessedData  \n",
              "0  ['전산망', '먹통', '사고', '강남', '고속버스', '터미널', '버스표'...  \n",
              "1  ['강국', '대한민국', '첨단', '활용', '법률', '서비스', '리걸', ...  \n",
              "2  ['동물', '다리', '계단', '비탈길', '자유자재', '제조', '보스턴',...  \n",
              "3  ['대전', '동구', '역세', '지구', '한국', '기상', '산업', '기술...  \n",
              "4  ['국내', '데이터', '네트워크', '인공지능', '생태', '급성장', '역량...  "
            ],
            "text/html": [
              "\n",
              "\n",
              "  <div id=\"df-26134cbf-6993-48dd-868f-564509d06d99\">\n",
              "    <div class=\"colab-df-container\">\n",
              "      <div>\n",
              "<style scoped>\n",
              "    .dataframe tbody tr th:only-of-type {\n",
              "        vertical-align: middle;\n",
              "    }\n",
              "\n",
              "    .dataframe tbody tr th {\n",
              "        vertical-align: top;\n",
              "    }\n",
              "\n",
              "    .dataframe thead th {\n",
              "        text-align: right;\n",
              "    }\n",
              "</style>\n",
              "<table border=\"1\" class=\"dataframe\">\n",
              "  <thead>\n",
              "    <tr style=\"text-align: right;\">\n",
              "      <th></th>\n",
              "      <th>Contents</th>\n",
              "      <th>ProcessedData</th>\n",
              "    </tr>\n",
              "  </thead>\n",
              "  <tbody>\n",
              "    <tr>\n",
              "      <th>0</th>\n",
              "      <td>전산망 ‘먹통’ 사고가 또 났다. 지난 30일 서울 강남고속버스터미널 버스표 발권 ...</td>\n",
              "      <td>['전산망', '먹통', '사고', '강남', '고속버스', '터미널', '버스표'...</td>\n",
              "    </tr>\n",
              "    <tr>\n",
              "      <th>1</th>\n",
              "      <td>‘IT 강국 대한민국’이지만 첨단 IT를 활용한 법률서비스인 ‘리걸테크 산업’은 걸...</td>\n",
              "      <td>['강국', '대한민국', '첨단', '활용', '법률', '서비스', '리걸', ...</td>\n",
              "    </tr>\n",
              "    <tr>\n",
              "      <th>2</th>\n",
              "      <td>살아있는 동물처럼 네 다리로 걷고 계단과 비탈길에서 자유자재로 움직이는 로봇을 제조...</td>\n",
              "      <td>['동물', '다리', '계단', '비탈길', '자유자재', '제조', '보스턴',...</td>\n",
              "    </tr>\n",
              "    <tr>\n",
              "      <th>3</th>\n",
              "      <td>대전 동구 역세권지구에 한국기상산업기술원 이전이 가시화되면서 '기상산업 클러스터' ...</td>\n",
              "      <td>['대전', '동구', '역세', '지구', '한국', '기상', '산업', '기술...</td>\n",
              "    </tr>\n",
              "    <tr>\n",
              "      <th>4</th>\n",
              "      <td>국내 데이터 네트워크 인공지능(AI) 생태계가 급성장하며 SW AI 역량을 갖춘 이...</td>\n",
              "      <td>['국내', '데이터', '네트워크', '인공지능', '생태', '급성장', '역량...</td>\n",
              "    </tr>\n",
              "  </tbody>\n",
              "</table>\n",
              "</div>\n",
              "      <button class=\"colab-df-convert\" onclick=\"convertToInteractive('df-26134cbf-6993-48dd-868f-564509d06d99')\"\n",
              "              title=\"Convert this dataframe to an interactive table.\"\n",
              "              style=\"display:none;\">\n",
              "\n",
              "  <svg xmlns=\"http://www.w3.org/2000/svg\" height=\"24px\"viewBox=\"0 0 24 24\"\n",
              "       width=\"24px\">\n",
              "    <path d=\"M0 0h24v24H0V0z\" fill=\"none\"/>\n",
              "    <path d=\"M18.56 5.44l.94 2.06.94-2.06 2.06-.94-2.06-.94-.94-2.06-.94 2.06-2.06.94zm-11 1L8.5 8.5l.94-2.06 2.06-.94-2.06-.94L8.5 2.5l-.94 2.06-2.06.94zm10 10l.94 2.06.94-2.06 2.06-.94-2.06-.94-.94-2.06-.94 2.06-2.06.94z\"/><path d=\"M17.41 7.96l-1.37-1.37c-.4-.4-.92-.59-1.43-.59-.52 0-1.04.2-1.43.59L10.3 9.45l-7.72 7.72c-.78.78-.78 2.05 0 2.83L4 21.41c.39.39.9.59 1.41.59.51 0 1.02-.2 1.41-.59l7.78-7.78 2.81-2.81c.8-.78.8-2.07 0-2.86zM5.41 20L4 18.59l7.72-7.72 1.47 1.35L5.41 20z\"/>\n",
              "  </svg>\n",
              "      </button>\n",
              "\n",
              "\n",
              "\n",
              "    <div id=\"df-11b55c0d-1908-49f6-968e-8bf7f0daf6b0\">\n",
              "      <button class=\"colab-df-quickchart\" onclick=\"quickchart('df-11b55c0d-1908-49f6-968e-8bf7f0daf6b0')\"\n",
              "              title=\"Suggest charts.\"\n",
              "              style=\"display:none;\">\n",
              "\n",
              "<svg xmlns=\"http://www.w3.org/2000/svg\" height=\"24px\"viewBox=\"0 0 24 24\"\n",
              "     width=\"24px\">\n",
              "    <g>\n",
              "        <path d=\"M19 3H5c-1.1 0-2 .9-2 2v14c0 1.1.9 2 2 2h14c1.1 0 2-.9 2-2V5c0-1.1-.9-2-2-2zM9 17H7v-7h2v7zm4 0h-2V7h2v10zm4 0h-2v-4h2v4z\"/>\n",
              "    </g>\n",
              "</svg>\n",
              "      </button>\n",
              "    </div>\n",
              "\n",
              "<style>\n",
              "  .colab-df-quickchart {\n",
              "    background-color: #E8F0FE;\n",
              "    border: none;\n",
              "    border-radius: 50%;\n",
              "    cursor: pointer;\n",
              "    display: none;\n",
              "    fill: #1967D2;\n",
              "    height: 32px;\n",
              "    padding: 0 0 0 0;\n",
              "    width: 32px;\n",
              "  }\n",
              "\n",
              "  .colab-df-quickchart:hover {\n",
              "    background-color: #E2EBFA;\n",
              "    box-shadow: 0px 1px 2px rgba(60, 64, 67, 0.3), 0px 1px 3px 1px rgba(60, 64, 67, 0.15);\n",
              "    fill: #174EA6;\n",
              "  }\n",
              "\n",
              "  [theme=dark] .colab-df-quickchart {\n",
              "    background-color: #3B4455;\n",
              "    fill: #D2E3FC;\n",
              "  }\n",
              "\n",
              "  [theme=dark] .colab-df-quickchart:hover {\n",
              "    background-color: #434B5C;\n",
              "    box-shadow: 0px 1px 3px 1px rgba(0, 0, 0, 0.15);\n",
              "    filter: drop-shadow(0px 1px 2px rgba(0, 0, 0, 0.3));\n",
              "    fill: #FFFFFF;\n",
              "  }\n",
              "</style>\n",
              "\n",
              "    <script>\n",
              "      async function quickchart(key) {\n",
              "        const containerElement = document.querySelector('#' + key);\n",
              "        const charts = await google.colab.kernel.invokeFunction(\n",
              "            'suggestCharts', [key], {});\n",
              "      }\n",
              "    </script>\n",
              "\n",
              "      <script>\n",
              "\n",
              "function displayQuickchartButton(domScope) {\n",
              "  let quickchartButtonEl =\n",
              "    domScope.querySelector('#df-11b55c0d-1908-49f6-968e-8bf7f0daf6b0 button.colab-df-quickchart');\n",
              "  quickchartButtonEl.style.display =\n",
              "    google.colab.kernel.accessAllowed ? 'block' : 'none';\n",
              "}\n",
              "\n",
              "        displayQuickchartButton(document);\n",
              "      </script>\n",
              "      <style>\n",
              "    .colab-df-container {\n",
              "      display:flex;\n",
              "      flex-wrap:wrap;\n",
              "      gap: 12px;\n",
              "    }\n",
              "\n",
              "    .colab-df-convert {\n",
              "      background-color: #E8F0FE;\n",
              "      border: none;\n",
              "      border-radius: 50%;\n",
              "      cursor: pointer;\n",
              "      display: none;\n",
              "      fill: #1967D2;\n",
              "      height: 32px;\n",
              "      padding: 0 0 0 0;\n",
              "      width: 32px;\n",
              "    }\n",
              "\n",
              "    .colab-df-convert:hover {\n",
              "      background-color: #E2EBFA;\n",
              "      box-shadow: 0px 1px 2px rgba(60, 64, 67, 0.3), 0px 1px 3px 1px rgba(60, 64, 67, 0.15);\n",
              "      fill: #174EA6;\n",
              "    }\n",
              "\n",
              "    [theme=dark] .colab-df-convert {\n",
              "      background-color: #3B4455;\n",
              "      fill: #D2E3FC;\n",
              "    }\n",
              "\n",
              "    [theme=dark] .colab-df-convert:hover {\n",
              "      background-color: #434B5C;\n",
              "      box-shadow: 0px 1px 3px 1px rgba(0, 0, 0, 0.15);\n",
              "      filter: drop-shadow(0px 1px 2px rgba(0, 0, 0, 0.3));\n",
              "      fill: #FFFFFF;\n",
              "    }\n",
              "  </style>\n",
              "\n",
              "      <script>\n",
              "        const buttonEl =\n",
              "          document.querySelector('#df-26134cbf-6993-48dd-868f-564509d06d99 button.colab-df-convert');\n",
              "        buttonEl.style.display =\n",
              "          google.colab.kernel.accessAllowed ? 'block' : 'none';\n",
              "\n",
              "        async function convertToInteractive(key) {\n",
              "          const element = document.querySelector('#df-26134cbf-6993-48dd-868f-564509d06d99');\n",
              "          const dataTable =\n",
              "            await google.colab.kernel.invokeFunction('convertToInteractive',\n",
              "                                                     [key], {});\n",
              "          if (!dataTable) return;\n",
              "\n",
              "          const docLinkHtml = 'Like what you see? Visit the ' +\n",
              "            '<a target=\"_blank\" href=https://colab.research.google.com/notebooks/data_table.ipynb>data table notebook</a>'\n",
              "            + ' to learn more about interactive tables.';\n",
              "          element.innerHTML = '';\n",
              "          dataTable['output_type'] = 'display_data';\n",
              "          await google.colab.output.renderOutput(dataTable, element);\n",
              "          const docLink = document.createElement('div');\n",
              "          docLink.innerHTML = docLinkHtml;\n",
              "          element.appendChild(docLink);\n",
              "        }\n",
              "      </script>\n",
              "    </div>\n",
              "  </div>\n"
            ]
          },
          "metadata": {},
          "execution_count": 58
        }
      ]
    },
    {
      "cell_type": "code",
      "source": [
        "# 토픽 모델링\n",
        "# 1. 최적의 토픽 수 계산\n",
        "coherence_values = []\n",
        "model_list = []"
      ],
      "metadata": {
        "colab": {
          "base_uri": "https://localhost:8080/"
        },
        "id": "q1gi-FTjrScs",
        "outputId": "1cc4dbcd-986d-4790-9350-96bfa4e7a47c"
      },
      "execution_count": null,
      "outputs": [
        {
          "output_type": "stream",
          "name": "stderr",
          "text": [
            "/usr/local/lib/python3.10/dist-packages/ipykernel/ipkernel.py:283: DeprecationWarning: `should_run_async` will not call `transform_cell` automatically in the future. Please pass the result to `transformed_cell` argument and any exception that happen during thetransform in `preprocessing_exc_tuple` in IPython 7.17 and above.\n",
            "  and should_run_async(code)\n"
          ]
        }
      ]
    },
    {
      "cell_type": "code",
      "source": [
        "def compute_coherence_values(dictionary, corpus, texts, limit, start=2, step=1):\n",
        "    for num_topics in range(start, limit, step):\n",
        "#         model = pyLDAvis.gensim_models.wrappers.LdaMallet(mallet_path, corpus=corpus, num_topics=num_topics, id2word=id2word)\n",
        "#         model = gensim.models.wrappers.LdaMallet(mallet_path, corpus=corpus, num_topics=num_topics, id2word=id2word)\n",
        "        model = LdaModel(corpus=corpus, id2word=dictionary, num_topics=num_topics)\n",
        "        model_list.append(model)\n",
        "        coherencemodel = CoherenceModel(model=model, texts=texts, dictionary=dictionary, coherence='c_v')\n",
        "        coherence_values.append(coherencemodel.get_coherence())\n",
        "\n",
        "    return model_list, coherence_values"
      ],
      "metadata": {
        "colab": {
          "base_uri": "https://localhost:8080/"
        },
        "id": "fQvolKRQrSkM",
        "outputId": "08041e2c-cfb2-4d93-e07e-5c389456f05e"
      },
      "execution_count": null,
      "outputs": [
        {
          "output_type": "stream",
          "name": "stderr",
          "text": [
            "/usr/local/lib/python3.10/dist-packages/ipykernel/ipkernel.py:283: DeprecationWarning: `should_run_async` will not call `transform_cell` automatically in the future. Please pass the result to `transformed_cell` argument and any exception that happen during thetransform in `preprocessing_exc_tuple` in IPython 7.17 and above.\n",
            "  and should_run_async(code)\n"
          ]
        }
      ]
    },
    {
      "cell_type": "code",
      "source": [
        "def find_optimal_number_of_topics(dictionary, corpus, processed_data, limit=8):\n",
        "    start = 1;\n",
        "    step = 1;\n",
        "\n",
        "    model_list, coherence_values = compute_coherence_values(dictionary=dictionary, corpus=corpus, texts=processed_data, start=start, limit=limit, step=step)\n",
        "\n",
        "    x = range(start, limit, step)\n",
        "    plt.plot(x, coherence_values)\n",
        "    plt.xlabel(\"Num Topics\")\n",
        "    plt.ylabel(\"Coherence score\")\n",
        "    plt.legend((\"coherence_values\"), loc='best')\n",
        "\n",
        "    dic = { coherence_values:x for x, coherence_values in zip(x, coherence_values) }\n",
        "\n",
        "    plt.text(dic[max(coherence_values)],min(coherence_values),\n",
        "             str(dic[max(coherence_values)]) + ' at MAX',\n",
        "             color='r',\n",
        "             horizontalalignment='center',\n",
        "             verticalalignment='bottom')\n",
        "\n",
        "    plt.show()\n",
        "\n",
        "    return dic[max(coherence_values)]"
      ],
      "metadata": {
        "colab": {
          "base_uri": "https://localhost:8080/"
        },
        "id": "nRKxIuturSmu",
        "outputId": "4402d17b-8cb9-4821-c047-3c13291e5efe"
      },
      "execution_count": null,
      "outputs": [
        {
          "output_type": "stream",
          "name": "stderr",
          "text": [
            "/usr/local/lib/python3.10/dist-packages/ipykernel/ipkernel.py:283: DeprecationWarning: `should_run_async` will not call `transform_cell` automatically in the future. Please pass the result to `transformed_cell` argument and any exception that happen during thetransform in `preprocessing_exc_tuple` in IPython 7.17 and above.\n",
            "  and should_run_async(code)\n"
          ]
        }
      ]
    },
    {
      "cell_type": "code",
      "source": [
        "from sklearn.feature_extraction.text import TfidfVectorizer"
      ],
      "metadata": {
        "colab": {
          "base_uri": "https://localhost:8080/"
        },
        "id": "fCN2FSgZs0pU",
        "outputId": "cbd0eda0-24cb-4c76-a7a9-b2f282190994"
      },
      "execution_count": null,
      "outputs": [
        {
          "output_type": "stream",
          "name": "stderr",
          "text": [
            "/usr/local/lib/python3.10/dist-packages/ipykernel/ipkernel.py:283: DeprecationWarning: `should_run_async` will not call `transform_cell` automatically in the future. Please pass the result to `transformed_cell` argument and any exception that happen during thetransform in `preprocessing_exc_tuple` in IPython 7.17 and above.\n",
            "  and should_run_async(code)\n"
          ]
        }
      ]
    },
    {
      "cell_type": "code",
      "source": [
        "# 상위 1,000개의 단어를 보존\n",
        "TARGET_COL = \"contents\"\n",
        "PROCESSED_COL = \"ProcessedData\""
      ],
      "metadata": {
        "colab": {
          "base_uri": "https://localhost:8080/"
        },
        "id": "uPRaAC_DrSpK",
        "outputId": "10d369cb-1141-44c1-d333-133e73b548e5"
      },
      "execution_count": null,
      "outputs": [
        {
          "output_type": "stream",
          "name": "stderr",
          "text": [
            "/usr/local/lib/python3.10/dist-packages/ipykernel/ipkernel.py:283: DeprecationWarning: `should_run_async` will not call `transform_cell` automatically in the future. Please pass the result to `transformed_cell` argument and any exception that happen during thetransform in `preprocessing_exc_tuple` in IPython 7.17 and above.\n",
            "  and should_run_async(code)\n"
          ]
        }
      ]
    },
    {
      "cell_type": "code",
      "source": [
        "vectorizer = TfidfVectorizer(stop_words='english', max_features= 1000)\n",
        "X = vectorizer.fit_transform(AI_data[PROCESSED_COL])"
      ],
      "metadata": {
        "colab": {
          "base_uri": "https://localhost:8080/"
        },
        "id": "1cq1UeC0079k",
        "outputId": "17897e1c-30da-4b75-8aae-ecda03165f51"
      },
      "execution_count": null,
      "outputs": [
        {
          "output_type": "stream",
          "name": "stderr",
          "text": [
            "/usr/local/lib/python3.10/dist-packages/ipykernel/ipkernel.py:283: DeprecationWarning: `should_run_async` will not call `transform_cell` automatically in the future. Please pass the result to `transformed_cell` argument and any exception that happen during thetransform in `preprocessing_exc_tuple` in IPython 7.17 and above.\n",
            "  and should_run_async(code)\n"
          ]
        }
      ]
    },
    {
      "cell_type": "code",
      "source": [
        "import ast\n",
        "\n",
        "AI_data['ProcessedData'] = AI_data['ProcessedData'].apply(ast.literal_eval)\n",
        "\n",
        "dictionary = corpora.Dictionary(AI_data['ProcessedData'])\n",
        "\n",
        "corpus = [dictionary.doc2bow(text) for text in AI_data['ProcessedData']]\n",
        "\n",
        "processed_data = AI_data['ProcessedData'].tolist()"
      ],
      "metadata": {
        "colab": {
          "base_uri": "https://localhost:8080/"
        },
        "id": "_KiL8xxF3F_l",
        "outputId": "a661e281-fa9d-4f5d-8897-894c644ed89e"
      },
      "execution_count": null,
      "outputs": [
        {
          "output_type": "stream",
          "name": "stderr",
          "text": [
            "/usr/local/lib/python3.10/dist-packages/ipykernel/ipkernel.py:283: DeprecationWarning: `should_run_async` will not call `transform_cell` automatically in the future. Please pass the result to `transformed_cell` argument and any exception that happen during thetransform in `preprocessing_exc_tuple` in IPython 7.17 and above.\n",
            "  and should_run_async(code)\n"
          ]
        }
      ]
    },
    {
      "cell_type": "code",
      "source": [
        "limit = 8\n",
        "NUM_TOPICS = find_optimal_number_of_topics(dictionary, corpus, processed_data, limit)"
      ],
      "metadata": {
        "colab": {
          "base_uri": "https://localhost:8080/",
          "height": 504
        },
        "id": "GVRxz_-9y6gO",
        "outputId": "dba77fce-4c82-4806-bf98-8b42131ac638"
      },
      "execution_count": null,
      "outputs": [
        {
          "output_type": "stream",
          "name": "stderr",
          "text": [
            "/usr/local/lib/python3.10/dist-packages/ipykernel/ipkernel.py:283: DeprecationWarning: `should_run_async` will not call `transform_cell` automatically in the future. Please pass the result to `transformed_cell` argument and any exception that happen during thetransform in `preprocessing_exc_tuple` in IPython 7.17 and above.\n",
            "  and should_run_async(code)\n"
          ]
        },
        {
          "output_type": "display_data",
          "data": {
            "text/plain": [
              "<Figure size 640x480 with 1 Axes>"
            ],
            "image/png": "[encoded data removed]"
          },
          "metadata": {}
        }
      ]
    },
    {
      "cell_type": "code",
      "source": [
        "# LDA모델 생성\n",
        "lda_model = LatentDirichletAllocation(n_components=6, learning_method='online', random_state=42, max_iter=1)\n",
        "lda_top = lda_model.fit_transform(X)"
      ],
      "metadata": {
        "colab": {
          "base_uri": "https://localhost:8080/"
        },
        "id": "sbLwQJVFy6jQ",
        "outputId": "55458425-c775-4cc1-88b2-2c50b7d20eff"
      },
      "execution_count": null,
      "outputs": [
        {
          "output_type": "stream",
          "name": "stderr",
          "text": [
            "/usr/local/lib/python3.10/dist-packages/ipykernel/ipkernel.py:283: DeprecationWarning: `should_run_async` will not call `transform_cell` automatically in the future. Please pass the result to `transformed_cell` argument and any exception that happen during thetransform in `preprocessing_exc_tuple` in IPython 7.17 and above.\n",
            "  and should_run_async(code)\n"
          ]
        }
      ]
    },
    {
      "cell_type": "code",
      "source": [
        "# 단어 집합. 1,000개의 단어가 저장됨.\n",
        "terms = vectorizer.get_feature_names_out()\n",
        "\n",
        "def get_topics(components, feature_names, n=20):\n",
        "    for idx, topic in enumerate(components):\n",
        "        print(\"Topic %d:\" % (idx+1), [(feature_names[i], topic[i].round(2)) for i in topic.argsort()[:-n - 1:-1]])"
      ],
      "metadata": {
        "colab": {
          "base_uri": "https://localhost:8080/"
        },
        "id": "7sUqTnf5zQiX",
        "outputId": "1d1cf9cc-ed3e-415e-9790-997ca8fb7961"
      },
      "execution_count": null,
      "outputs": [
        {
          "output_type": "stream",
          "name": "stderr",
          "text": [
            "/usr/local/lib/python3.10/dist-packages/ipykernel/ipkernel.py:283: DeprecationWarning: `should_run_async` will not call `transform_cell` automatically in the future. Please pass the result to `transformed_cell` argument and any exception that happen during thetransform in `preprocessing_exc_tuple` in IPython 7.17 and above.\n",
            "  and should_run_async(code)\n"
          ]
        }
      ]
    },
    {
      "cell_type": "code",
      "source": [
        "AI_topics6_mecab_noun=get_topics(lda_model.components_,terms)"
      ],
      "metadata": {
        "colab": {
          "base_uri": "https://localhost:8080/"
        },
        "id": "aC4zdmXWzplU",
        "outputId": "58bc7b0f-77da-44ea-f078-6321942ffdc8"
      },
      "execution_count": null,
      "outputs": [
        {
          "output_type": "stream",
          "name": "stdout",
          "text": [
            "Topic 1: [('산업', 1503.52), ('사업', 1362.74), ('기술', 1315.79), ('지원', 937.5), ('과학', 913.27), ('혁신', 888.52), ('정부', 879.74), ('기업', 868.88), ('정보', 782.26), ('한국', 772.13), ('디지털', 744.26), ('경제', 726.46), ('선정', 723.54), ('분야', 689.54), ('미래', 678.97), ('반도체', 618.4), ('추진', 608.33), ('지역', 603.92), ('인공지능', 580.3), ('개최', 571.88)]\n",
            "Topic 2: [('교육', 1490.32), ('대통령', 1130.72), ('윤석열', 834.18), ('후보', 657.93), ('학생', 608.19), ('대학', 582.88), ('교육감', 573.28), ('교수', 496.92), ('학교', 481.41), ('국민', 478.27), ('과정', 419.08), ('선거', 412.97), ('교육청', 383.55), ('대학교', 367.58), ('광주', 353.2), ('기자', 340.46), ('공약', 318.58), ('학과', 309.16), ('방송', 302.88), ('프로그램', 290.43)]\n",
            "Topic 3: [('투자', 1262.95), ('미국', 758.05), ('스타트업', 625.73), ('중국', 572.76), ('반도체', 486.66), ('기업', 485.05), ('금융', 480.1), ('뉴스', 439.17), ('일본', 415.04), ('기사', 378.94), ('규모', 363.76), ('인간', 329.22), ('인수', 326.0), ('그룹', 313.36), ('글로벌', 296.8), ('유치', 290.94), ('펀드', 279.72), ('벤처', 275.61), ('시장', 274.45), ('자산', 262.28)]\n",
            "Topic 4: [('삼성전자', 920.44), ('제품', 616.46), ('메타', 492.17), ('버스', 468.05), ('세계', 449.15), ('반도체', 399.73), ('게임', 376.07), ('로봇', 372.83), ('텔레콤', 370.79), ('출시', 356.68), ('자율', 328.13), ('세대', 293.25), ('구글', 278.33), ('주행', 275.29), ('광고', 266.76), ('기술', 260.35), ('전자', 257.6), ('시장', 248.3), ('국내', 246.68), ('메모리', 245.3)]\n",
            "Topic 5: [('충북', 644.15), ('채용', 497.63), ('매매', 479.07), ('종목', 449.87), ('분석', 439.01), ('정보', 390.51), ('시장', 389.62), ('분기', 384.0), ('매출', 365.29), ('대비', 312.46), ('영업', 309.18), ('기준', 306.99), ('기록', 301.9), ('증가', 289.61), ('신호', 270.89), ('코로나', 268.27), ('고용', 254.99), ('제공', 253.52), ('이익', 246.7), ('기업', 246.02)]\n",
            "Topic 6: [('데이터', 1126.73), ('인공지능', 1113.55), ('기술', 1076.32), ('서비스', 1075.32), ('개발', 886.03), ('기반', 850.1), ('기업', 797.14), ('플랫', 785.15), ('협약', 771.08), ('솔루션', 755.09), ('디지털', 740.92), ('체결', 708.17), ('업무', 707.51), ('네이버', 672.53), ('사업', 655.23), ('대표', 650.23), ('의료', 647.65), ('클라우드', 615.11), ('활용', 595.39), ('제공', 589.93)]\n"
          ]
        },
        {
          "output_type": "stream",
          "name": "stderr",
          "text": [
            "/usr/local/lib/python3.10/dist-packages/ipykernel/ipkernel.py:283: DeprecationWarning: `should_run_async` will not call `transform_cell` automatically in the future. Please pass the result to `transformed_cell` argument and any exception that happen during thetransform in `preprocessing_exc_tuple` in IPython 7.17 and above.\n",
            "  and should_run_async(code)\n"
          ]
        }
      ]
    },
    {
      "cell_type": "code",
      "source": [
        "def get_topics2(components, terms):\n",
        "    topics = []\n",
        "    for topic_idx, topic in enumerate(components):\n",
        "        topic_terms = [(terms[i], topic[i]) for i in topic.argsort()[:-20 - 1:-1]]\n",
        "        topics.append((topic_idx, topic_terms))\n",
        "    return topics"
      ],
      "metadata": {
        "colab": {
          "base_uri": "https://localhost:8080/"
        },
        "id": "sCtAofkbLf7G",
        "outputId": "c017e93e-a416-416a-bbe2-d8d7cbd7f236"
      },
      "execution_count": null,
      "outputs": [
        {
          "output_type": "stream",
          "name": "stderr",
          "text": [
            "/usr/local/lib/python3.10/dist-packages/ipykernel/ipkernel.py:283: DeprecationWarning: `should_run_async` will not call `transform_cell` automatically in the future. Please pass the result to `transformed_cell` argument and any exception that happen during thetransform in `preprocessing_exc_tuple` in IPython 7.17 and above.\n",
            "  and should_run_async(code)\n"
          ]
        }
      ]
    },
    {
      "cell_type": "code",
      "source": [
        "AI_topics = get_topics2(lda_model.components_, terms)\n",
        "if AI_topics is not None:\n",
        "    df = pd.DataFrame(AI_topics, columns=['Topic', 'Terms'])\n",
        "else:\n",
        "    df = pd.DataFrame()"
      ],
      "metadata": {
        "colab": {
          "base_uri": "https://localhost:8080/"
        },
        "id": "-kAoFv2bBS3N",
        "outputId": "98d02063-bed5-4f6c-ce27-c7368c03aa03"
      },
      "execution_count": null,
      "outputs": [
        {
          "output_type": "stream",
          "name": "stderr",
          "text": [
            "/usr/local/lib/python3.10/dist-packages/ipykernel/ipkernel.py:283: DeprecationWarning: `should_run_async` will not call `transform_cell` automatically in the future. Please pass the result to `transformed_cell` argument and any exception that happen during thetransform in `preprocessing_exc_tuple` in IPython 7.17 and above.\n",
            "  and should_run_async(code)\n"
          ]
        }
      ]
    },
    {
      "cell_type": "code",
      "source": [
        "# print(type(AI_topics))"
      ],
      "metadata": {
        "colab": {
          "base_uri": "https://localhost:8080/"
        },
        "id": "jdyvl9FvB7Mu",
        "outputId": "f4a15c89-2e1e-45e9-c724-9a6ce879dbf6"
      },
      "execution_count": null,
      "outputs": [
        {
          "output_type": "stream",
          "name": "stdout",
          "text": [
            "<class 'list'>\n"
          ]
        },
        {
          "output_type": "stream",
          "name": "stderr",
          "text": [
            "/usr/local/lib/python3.10/dist-packages/ipykernel/ipkernel.py:283: DeprecationWarning: `should_run_async` will not call `transform_cell` automatically in the future. Please pass the result to `transformed_cell` argument and any exception that happen during thetransform in `preprocessing_exc_tuple` in IPython 7.17 and above.\n",
            "  and should_run_async(code)\n"
          ]
        }
      ]
    },
    {
      "cell_type": "code",
      "source": [
        "AI_topics"
      ],
      "metadata": {
        "colab": {
          "base_uri": "https://localhost:8080/"
        },
        "id": "KoAcRkhsBVpR",
        "outputId": "f011b097-e261-4b47-e6ca-3f33a87fa36e"
      },
      "execution_count": null,
      "outputs": [
        {
          "output_type": "stream",
          "name": "stderr",
          "text": [
            "/usr/local/lib/python3.10/dist-packages/ipykernel/ipkernel.py:283: DeprecationWarning: `should_run_async` will not call `transform_cell` automatically in the future. Please pass the result to `transformed_cell` argument and any exception that happen during thetransform in `preprocessing_exc_tuple` in IPython 7.17 and above.\n",
            "  and should_run_async(code)\n"
          ]
        },
        {
          "output_type": "execute_result",
          "data": {
            "text/plain": [
              "[(0,\n",
              "  [('산업', 1503.521821736712),\n",
              "   ('사업', 1362.7389645557164),\n",
              "   ('기술', 1315.7883290901966),\n",
              "   ('지원', 937.4970146277542),\n",
              "   ('과학', 913.2727554766263),\n",
              "   ('혁신', 888.5224130850409),\n",
              "   ('정부', 879.7404631239724),\n",
              "   ('기업', 868.875532313342),\n",
              "   ('정보', 782.2581699561559),\n",
              "   ('한국', 772.1332367688574),\n",
              "   ('디지털', 744.2627848360949),\n",
              "   ('경제', 726.4605201645212),\n",
              "   ('선정', 723.5437757631855),\n",
              "   ('분야', 689.54276684662),\n",
              "   ('미래', 678.9699684948592),\n",
              "   ('반도체', 618.4047611637302),\n",
              "   ('추진', 608.3263835471216),\n",
              "   ('지역', 603.9233438247836),\n",
              "   ('인공지능', 580.2966949713148),\n",
              "   ('개최', 571.8827508332336)]),\n",
              " (1,\n",
              "  [('교육', 1490.317912380254),\n",
              "   ('대통령', 1130.7226597676358),\n",
              "   ('윤석열', 834.1846063777936),\n",
              "   ('후보', 657.9268506911126),\n",
              "   ('학생', 608.1903704146148),\n",
              "   ('대학', 582.8795009137601),\n",
              "   ('교육감', 573.280040214869),\n",
              "   ('교수', 496.91626283370283),\n",
              "   ('학교', 481.4056041808638),\n",
              "   ('국민', 478.26589858246615),\n",
              "   ('과정', 419.0816262053069),\n",
              "   ('선거', 412.97149385278516),\n",
              "   ('교육청', 383.55304167694686),\n",
              "   ('대학교', 367.58143808513836),\n",
              "   ('광주', 353.1964084963926),\n",
              "   ('기자', 340.4594421517299),\n",
              "   ('공약', 318.5777643134057),\n",
              "   ('학과', 309.1550341337349),\n",
              "   ('방송', 302.8806179497299),\n",
              "   ('프로그램', 290.4272209508008)]),\n",
              " (2,\n",
              "  [('투자', 1262.9537983695618),\n",
              "   ('미국', 758.0492195484563),\n",
              "   ('스타트업', 625.7269205118773),\n",
              "   ('중국', 572.7594527977434),\n",
              "   ('반도체', 486.6606388121331),\n",
              "   ('기업', 485.0490164878191),\n",
              "   ('금융', 480.104536430216),\n",
              "   ('뉴스', 439.16583032393174),\n",
              "   ('일본', 415.0371134002989),\n",
              "   ('기사', 378.93793310511967),\n",
              "   ('규모', 363.75555003153596),\n",
              "   ('인간', 329.2177698439952),\n",
              "   ('인수', 326.00259781073464),\n",
              "   ('그룹', 313.3647644965187),\n",
              "   ('글로벌', 296.7972147232438),\n",
              "   ('유치', 290.93548918507486),\n",
              "   ('펀드', 279.72301327520773),\n",
              "   ('벤처', 275.60995161048874),\n",
              "   ('시장', 274.44808203127485),\n",
              "   ('자산', 262.2761661007983)]),\n",
              " (3,\n",
              "  [('삼성전자', 920.4423636517157),\n",
              "   ('제품', 616.4553796539554),\n",
              "   ('메타', 492.16988137591346),\n",
              "   ('버스', 468.0544010974907),\n",
              "   ('세계', 449.153697003589),\n",
              "   ('반도체', 399.7331681348643),\n",
              "   ('게임', 376.0695971506101),\n",
              "   ('로봇', 372.8257501977007),\n",
              "   ('텔레콤', 370.7880494452278),\n",
              "   ('출시', 356.67952305025943),\n",
              "   ('자율', 328.12880173610307),\n",
              "   ('세대', 293.251817499499),\n",
              "   ('구글', 278.32971476679825),\n",
              "   ('주행', 275.2917753170796),\n",
              "   ('광고', 266.75683612721014),\n",
              "   ('기술', 260.3518960900303),\n",
              "   ('전자', 257.5999902560143),\n",
              "   ('시장', 248.2999347879104),\n",
              "   ('국내', 246.67743238698134),\n",
              "   ('메모리', 245.2965791254309)]),\n",
              " (4,\n",
              "  [('충북', 644.148572883646),\n",
              "   ('채용', 497.6258038166756),\n",
              "   ('매매', 479.06506824672164),\n",
              "   ('종목', 449.86665162115156),\n",
              "   ('분석', 439.0142645561133),\n",
              "   ('정보', 390.5139868472394),\n",
              "   ('시장', 389.62082078502226),\n",
              "   ('분기', 384.00299423256683),\n",
              "   ('매출', 365.288207013625),\n",
              "   ('대비', 312.4578967864336),\n",
              "   ('영업', 309.1809520434751),\n",
              "   ('기준', 306.99183804296956),\n",
              "   ('기록', 301.90258854600364),\n",
              "   ('증가', 289.60657166673934),\n",
              "   ('신호', 270.88997651075135),\n",
              "   ('코로나', 268.27170730562096),\n",
              "   ('고용', 254.99465423242427),\n",
              "   ('제공', 253.52011017987726),\n",
              "   ('이익', 246.69595796105187),\n",
              "   ('기업', 246.02470694808414)]),\n",
              " (5,\n",
              "  [('데이터', 1126.732559329326),\n",
              "   ('인공지능', 1113.5547691181837),\n",
              "   ('기술', 1076.3228365335444),\n",
              "   ('서비스', 1075.3212427916449),\n",
              "   ('개발', 886.0348134291164),\n",
              "   ('기반', 850.0991605442555),\n",
              "   ('기업', 797.1428798574075),\n",
              "   ('플랫', 785.1497970920303),\n",
              "   ('협약', 771.0754729271617),\n",
              "   ('솔루션', 755.0881530465344),\n",
              "   ('디지털', 740.9246586267412),\n",
              "   ('체결', 708.1717720710141),\n",
              "   ('업무', 707.5143017040521),\n",
              "   ('네이버', 672.5287720334212),\n",
              "   ('사업', 655.2272187911863),\n",
              "   ('대표', 650.2262515358609),\n",
              "   ('의료', 647.6516366907117),\n",
              "   ('클라우드', 615.106551714286),\n",
              "   ('활용', 595.3948226098914),\n",
              "   ('제공', 589.9270088398706)])]"
            ]
          },
          "metadata": {},
          "execution_count": 69
        }
      ]
    },
    {
      "cell_type": "code",
      "source": [
        "topics_transformed = [(topic[0], word, value) for topic in AI_topics for word, value in topic[1]]\n",
        "df = pd.DataFrame(topics_transformed, columns=['Topic', 'Word', 'Value'])\n",
        "df.to_csv('/content/drive/MyDrive/졸업논문/AI Media/토픽분석_결과/AI_topics.csv',index=False)"
      ],
      "metadata": {
        "colab": {
          "base_uri": "https://localhost:8080/"
        },
        "id": "6EBqJFfkJnAT",
        "outputId": "8b037374-7e2b-47db-f8e2-20721b95a821"
      },
      "execution_count": null,
      "outputs": [
        {
          "output_type": "stream",
          "name": "stderr",
          "text": [
            "/usr/local/lib/python3.10/dist-packages/ipykernel/ipkernel.py:283: DeprecationWarning: `should_run_async` will not call `transform_cell` automatically in the future. Please pass the result to `transformed_cell` argument and any exception that happen during thetransform in `preprocessing_exc_tuple` in IPython 7.17 and above.\n",
            "  and should_run_async(code)\n"
          ]
        }
      ]
    },
    {
      "cell_type": "code",
      "source": [],
      "metadata": {
        "id": "3nZ2HNvaJnDS"
      },
      "execution_count": null,
      "outputs": []
    },
    {
      "cell_type": "markdown",
      "source": [
        "## Topics analysis for Media data"
      ],
      "metadata": {
        "id": "LFBiI-iB9Hkd"
      }
    },
    {
      "cell_type": "code",
      "source": [
        "selected_data_Media = data.tail(48235)"
      ],
      "metadata": {
        "colab": {
          "base_uri": "https://localhost:8080/"
        },
        "id": "LAWZHcZn9K1o",
        "outputId": "6075727a-4bb3-4508-d1d5-d7111fddd40b"
      },
      "execution_count": null,
      "outputs": [
        {
          "output_type": "stream",
          "name": "stderr",
          "text": [
            "/usr/local/lib/python3.10/dist-packages/ipykernel/ipkernel.py:283: DeprecationWarning: `should_run_async` will not call `transform_cell` automatically in the future. Please pass the result to `transformed_cell` argument and any exception that happen during thetransform in `preprocessing_exc_tuple` in IPython 7.17 and above.\n",
            "  and should_run_async(code)\n"
          ]
        }
      ]
    },
    {
      "cell_type": "code",
      "source": [
        "selected_data_Media.head()"
      ],
      "metadata": {
        "colab": {
          "base_uri": "https://localhost:8080/",
          "height": 261
        },
        "id": "TcpE3DkX9z8b",
        "outputId": "a1ca0a48-2820-4662-c03b-ae19cd58339e"
      },
      "execution_count": null,
      "outputs": [
        {
          "output_type": "stream",
          "name": "stderr",
          "text": [
            "/usr/local/lib/python3.10/dist-packages/ipykernel/ipkernel.py:283: DeprecationWarning: `should_run_async` will not call `transform_cell` automatically in the future. Please pass the result to `transformed_cell` argument and any exception that happen during thetransform in `preprocessing_exc_tuple` in IPython 7.17 and above.\n",
            "  and should_run_async(code)\n"
          ]
        },
        {
          "output_type": "execute_result",
          "data": {
            "text/plain": [
              "                                                  Contents  \\\n",
              "1271814  내일부터 만 16세 미만 청소년의 심야 시간대 온라인 게임 이용을 금지한 ‘게임셧다...   \n",
              "1271815  [머니투데이 고석용 기자] 경찰이 법률 플랫폼 '로톡'과 관련해 변호사법을 위반하지...   \n",
              "1271816  나라를 구했다는 ‘삼프로TV’ 인기가 말하는 것\\n\\n\\n\\n‘삼프로TV가 나라를 ...   \n",
              "1271817  올해 글로벌 인수합병(M&A) 규모가 5조 8,000억 달러(약 6,900조 원)로...   \n",
              "1271818  방탄소년단(BTS) 소속사 하이브의 대체 불가 토큰(NFT) 사업 진출을 두고 일부...   \n",
              "\n",
              "                                             ProcessedData  \n",
              "1271814  ['내일', '미만', '청소년', '심야', '시간', '온라인', '게임', '...  \n",
              "1271815  ['고석용', '기자', '경찰', '법률', '플랫', '관련', '변호사법', ...  \n",
              "1271816  ['나라', '프로', '인기', '프로', '나라', '경제', '주식', '유튜...  \n",
              "1271817  ['글로벌', '인수', '합병', '규모', '달러', '조사', '시작', '사...  \n",
              "1271818  ['방탄소년단', '소속', '하이브', '대체', '불가', '토큰', '사업',...  "
            ],
            "text/html": [
              "\n",
              "\n",
              "  <div id=\"df-43ca92a8-1e6e-4180-a878-4b4940af3bb7\">\n",
              "    <div class=\"colab-df-container\">\n",
              "      <div>\n",
              "<style scoped>\n",
              "    .dataframe tbody tr th:only-of-type {\n",
              "        vertical-align: middle;\n",
              "    }\n",
              "\n",
              "    .dataframe tbody tr th {\n",
              "        vertical-align: top;\n",
              "    }\n",
              "\n",
              "    .dataframe thead th {\n",
              "        text-align: right;\n",
              "    }\n",
              "</style>\n",
              "<table border=\"1\" class=\"dataframe\">\n",
              "  <thead>\n",
              "    <tr style=\"text-align: right;\">\n",
              "      <th></th>\n",
              "      <th>Contents</th>\n",
              "      <th>ProcessedData</th>\n",
              "    </tr>\n",
              "  </thead>\n",
              "  <tbody>\n",
              "    <tr>\n",
              "      <th>1271814</th>\n",
              "      <td>내일부터 만 16세 미만 청소년의 심야 시간대 온라인 게임 이용을 금지한 ‘게임셧다...</td>\n",
              "      <td>['내일', '미만', '청소년', '심야', '시간', '온라인', '게임', '...</td>\n",
              "    </tr>\n",
              "    <tr>\n",
              "      <th>1271815</th>\n",
              "      <td>[머니투데이 고석용 기자] 경찰이 법률 플랫폼 '로톡'과 관련해 변호사법을 위반하지...</td>\n",
              "      <td>['고석용', '기자', '경찰', '법률', '플랫', '관련', '변호사법', ...</td>\n",
              "    </tr>\n",
              "    <tr>\n",
              "      <th>1271816</th>\n",
              "      <td>나라를 구했다는 ‘삼프로TV’ 인기가 말하는 것\\n\\n\\n\\n‘삼프로TV가 나라를 ...</td>\n",
              "      <td>['나라', '프로', '인기', '프로', '나라', '경제', '주식', '유튜...</td>\n",
              "    </tr>\n",
              "    <tr>\n",
              "      <th>1271817</th>\n",
              "      <td>올해 글로벌 인수합병(M&amp;A) 규모가 5조 8,000억 달러(약 6,900조 원)로...</td>\n",
              "      <td>['글로벌', '인수', '합병', '규모', '달러', '조사', '시작', '사...</td>\n",
              "    </tr>\n",
              "    <tr>\n",
              "      <th>1271818</th>\n",
              "      <td>방탄소년단(BTS) 소속사 하이브의 대체 불가 토큰(NFT) 사업 진출을 두고 일부...</td>\n",
              "      <td>['방탄소년단', '소속', '하이브', '대체', '불가', '토큰', '사업',...</td>\n",
              "    </tr>\n",
              "  </tbody>\n",
              "</table>\n",
              "</div>\n",
              "      <button class=\"colab-df-convert\" onclick=\"convertToInteractive('df-43ca92a8-1e6e-4180-a878-4b4940af3bb7')\"\n",
              "              title=\"Convert this dataframe to an interactive table.\"\n",
              "              style=\"display:none;\">\n",
              "\n",
              "  <svg xmlns=\"http://www.w3.org/2000/svg\" height=\"24px\"viewBox=\"0 0 24 24\"\n",
              "       width=\"24px\">\n",
              "    <path d=\"M0 0h24v24H0V0z\" fill=\"none\"/>\n",
              "    <path d=\"M18.56 5.44l.94 2.06.94-2.06 2.06-.94-2.06-.94-.94-2.06-.94 2.06-2.06.94zm-11 1L8.5 8.5l.94-2.06 2.06-.94-2.06-.94L8.5 2.5l-.94 2.06-2.06.94zm10 10l.94 2.06.94-2.06 2.06-.94-2.06-.94-.94-2.06-.94 2.06-2.06.94z\"/><path d=\"M17.41 7.96l-1.37-1.37c-.4-.4-.92-.59-1.43-.59-.52 0-1.04.2-1.43.59L10.3 9.45l-7.72 7.72c-.78.78-.78 2.05 0 2.83L4 21.41c.39.39.9.59 1.41.59.51 0 1.02-.2 1.41-.59l7.78-7.78 2.81-2.81c.8-.78.8-2.07 0-2.86zM5.41 20L4 18.59l7.72-7.72 1.47 1.35L5.41 20z\"/>\n",
              "  </svg>\n",
              "      </button>\n",
              "\n",
              "\n",
              "\n",
              "    <div id=\"df-c7d2a4c8-f4d6-4c9c-9116-ec97b17bd946\">\n",
              "      <button class=\"colab-df-quickchart\" onclick=\"quickchart('df-c7d2a4c8-f4d6-4c9c-9116-ec97b17bd946')\"\n",
              "              title=\"Suggest charts.\"\n",
              "              style=\"display:none;\">\n",
              "\n",
              "<svg xmlns=\"http://www.w3.org/2000/svg\" height=\"24px\"viewBox=\"0 0 24 24\"\n",
              "     width=\"24px\">\n",
              "    <g>\n",
              "        <path d=\"M19 3H5c-1.1 0-2 .9-2 2v14c0 1.1.9 2 2 2h14c1.1 0 2-.9 2-2V5c0-1.1-.9-2-2-2zM9 17H7v-7h2v7zm4 0h-2V7h2v10zm4 0h-2v-4h2v4z\"/>\n",
              "    </g>\n",
              "</svg>\n",
              "      </button>\n",
              "    </div>\n",
              "\n",
              "<style>\n",
              "  .colab-df-quickchart {\n",
              "    background-color: #E8F0FE;\n",
              "    border: none;\n",
              "    border-radius: 50%;\n",
              "    cursor: pointer;\n",
              "    display: none;\n",
              "    fill: #1967D2;\n",
              "    height: 32px;\n",
              "    padding: 0 0 0 0;\n",
              "    width: 32px;\n",
              "  }\n",
              "\n",
              "  .colab-df-quickchart:hover {\n",
              "    background-color: #E2EBFA;\n",
              "    box-shadow: 0px 1px 2px rgba(60, 64, 67, 0.3), 0px 1px 3px 1px rgba(60, 64, 67, 0.15);\n",
              "    fill: #174EA6;\n",
              "  }\n",
              "\n",
              "  [theme=dark] .colab-df-quickchart {\n",
              "    background-color: #3B4455;\n",
              "    fill: #D2E3FC;\n",
              "  }\n",
              "\n",
              "  [theme=dark] .colab-df-quickchart:hover {\n",
              "    background-color: #434B5C;\n",
              "    box-shadow: 0px 1px 3px 1px rgba(0, 0, 0, 0.15);\n",
              "    filter: drop-shadow(0px 1px 2px rgba(0, 0, 0, 0.3));\n",
              "    fill: #FFFFFF;\n",
              "  }\n",
              "</style>\n",
              "\n",
              "    <script>\n",
              "      async function quickchart(key) {\n",
              "        const containerElement = document.querySelector('#' + key);\n",
              "        const charts = await google.colab.kernel.invokeFunction(\n",
              "            'suggestCharts', [key], {});\n",
              "      }\n",
              "    </script>\n",
              "\n",
              "      <script>\n",
              "\n",
              "function displayQuickchartButton(domScope) {\n",
              "  let quickchartButtonEl =\n",
              "    domScope.querySelector('#df-c7d2a4c8-f4d6-4c9c-9116-ec97b17bd946 button.colab-df-quickchart');\n",
              "  quickchartButtonEl.style.display =\n",
              "    google.colab.kernel.accessAllowed ? 'block' : 'none';\n",
              "}\n",
              "\n",
              "        displayQuickchartButton(document);\n",
              "      </script>\n",
              "      <style>\n",
              "    .colab-df-container {\n",
              "      display:flex;\n",
              "      flex-wrap:wrap;\n",
              "      gap: 12px;\n",
              "    }\n",
              "\n",
              "    .colab-df-convert {\n",
              "      background-color: #E8F0FE;\n",
              "      border: none;\n",
              "      border-radius: 50%;\n",
              "      cursor: pointer;\n",
              "      display: none;\n",
              "      fill: #1967D2;\n",
              "      height: 32px;\n",
              "      padding: 0 0 0 0;\n",
              "      width: 32px;\n",
              "    }\n",
              "\n",
              "    .colab-df-convert:hover {\n",
              "      background-color: #E2EBFA;\n",
              "      box-shadow: 0px 1px 2px rgba(60, 64, 67, 0.3), 0px 1px 3px 1px rgba(60, 64, 67, 0.15);\n",
              "      fill: #174EA6;\n",
              "    }\n",
              "\n",
              "    [theme=dark] .colab-df-convert {\n",
              "      background-color: #3B4455;\n",
              "      fill: #D2E3FC;\n",
              "    }\n",
              "\n",
              "    [theme=dark] .colab-df-convert:hover {\n",
              "      background-color: #434B5C;\n",
              "      box-shadow: 0px 1px 3px 1px rgba(0, 0, 0, 0.15);\n",
              "      filter: drop-shadow(0px 1px 2px rgba(0, 0, 0, 0.3));\n",
              "      fill: #FFFFFF;\n",
              "    }\n",
              "  </style>\n",
              "\n",
              "      <script>\n",
              "        const buttonEl =\n",
              "          document.querySelector('#df-43ca92a8-1e6e-4180-a878-4b4940af3bb7 button.colab-df-convert');\n",
              "        buttonEl.style.display =\n",
              "          google.colab.kernel.accessAllowed ? 'block' : 'none';\n",
              "\n",
              "        async function convertToInteractive(key) {\n",
              "          const element = document.querySelector('#df-43ca92a8-1e6e-4180-a878-4b4940af3bb7');\n",
              "          const dataTable =\n",
              "            await google.colab.kernel.invokeFunction('convertToInteractive',\n",
              "                                                     [key], {});\n",
              "          if (!dataTable) return;\n",
              "\n",
              "          const docLinkHtml = 'Like what you see? Visit the ' +\n",
              "            '<a target=\"_blank\" href=https://colab.research.google.com/notebooks/data_table.ipynb>data table notebook</a>'\n",
              "            + ' to learn more about interactive tables.';\n",
              "          element.innerHTML = '';\n",
              "          dataTable['output_type'] = 'display_data';\n",
              "          await google.colab.output.renderOutput(dataTable, element);\n",
              "          const docLink = document.createElement('div');\n",
              "          docLink.innerHTML = docLinkHtml;\n",
              "          element.appendChild(docLink);\n",
              "        }\n",
              "      </script>\n",
              "    </div>\n",
              "  </div>\n"
            ]
          },
          "metadata": {},
          "execution_count": 85
        }
      ]
    },
    {
      "cell_type": "code",
      "source": [
        "selected_data_Media.tail()"
      ],
      "metadata": {
        "colab": {
          "base_uri": "https://localhost:8080/",
          "height": 261
        },
        "id": "x_Ftyz9D94XE",
        "outputId": "704f6af3-1f8f-422c-854a-689017636f8b"
      },
      "execution_count": null,
      "outputs": [
        {
          "output_type": "stream",
          "name": "stderr",
          "text": [
            "/usr/local/lib/python3.10/dist-packages/ipykernel/ipkernel.py:283: DeprecationWarning: `should_run_async` will not call `transform_cell` automatically in the future. Please pass the result to `transformed_cell` argument and any exception that happen during thetransform in `preprocessing_exc_tuple` in IPython 7.17 and above.\n",
            "  and should_run_async(code)\n"
          ]
        },
        {
          "output_type": "execute_result",
          "data": {
            "text/plain": [
              "                                                  Contents  \\\n",
              "1320044  공주시가 국립공주대학교 공주학연구원(원장 유석호)과 함께 개최하는 '2022 디지털...   \n",
              "1320045  시스코시스템즈가 클라우드 시대에 접어들면서 전통적인 네트워크장비 공급업체에서 소프트...   \n",
              "1320046  네이버 등 소셜미디어 인증 통해 \\n서울시, 과태료 납부 서비스 제공 \\n\\n \\n...   \n",
              "1320047  오는 9월16일까지 주프랑스한국문화원에서 개최하는 <연등회: 빛과 색의 향연> 특별...   \n",
              "1320048  광주 동구에 위치한 국윤미술관이 오는 6월 23일까지 이상필 작가를 초대해 '미디어...   \n",
              "\n",
              "                                             ProcessedData  \n",
              "1320044  ['공주', '국립', '공주', '대학교', '공주', '학연', '구원', '원...  \n",
              "1320045  ['시스코', '시스템즈', '클라우드', '시대', '전통', '네트워크', '장...  \n",
              "1320046  ['네이버', '소셜', '미디어', '인증', '서울시', '과태료', '납부',...  \n",
              "1320047  ['프랑스', '한국', '문화원', '개최', '연등회', '향연', '특별', ...  \n",
              "1320048  ['광주', '동구', '위치', '미술관', '이상필', '작가', '초대', '...  "
            ],
            "text/html": [
              "\n",
              "\n",
              "  <div id=\"df-918c8f30-2d1b-4c34-809e-6660cad990db\">\n",
              "    <div class=\"colab-df-container\">\n",
              "      <div>\n",
              "<style scoped>\n",
              "    .dataframe tbody tr th:only-of-type {\n",
              "        vertical-align: middle;\n",
              "    }\n",
              "\n",
              "    .dataframe tbody tr th {\n",
              "        vertical-align: top;\n",
              "    }\n",
              "\n",
              "    .dataframe thead th {\n",
              "        text-align: right;\n",
              "    }\n",
              "</style>\n",
              "<table border=\"1\" class=\"dataframe\">\n",
              "  <thead>\n",
              "    <tr style=\"text-align: right;\">\n",
              "      <th></th>\n",
              "      <th>Contents</th>\n",
              "      <th>ProcessedData</th>\n",
              "    </tr>\n",
              "  </thead>\n",
              "  <tbody>\n",
              "    <tr>\n",
              "      <th>1320044</th>\n",
              "      <td>공주시가 국립공주대학교 공주학연구원(원장 유석호)과 함께 개최하는 '2022 디지털...</td>\n",
              "      <td>['공주', '국립', '공주', '대학교', '공주', '학연', '구원', '원...</td>\n",
              "    </tr>\n",
              "    <tr>\n",
              "      <th>1320045</th>\n",
              "      <td>시스코시스템즈가 클라우드 시대에 접어들면서 전통적인 네트워크장비 공급업체에서 소프트...</td>\n",
              "      <td>['시스코', '시스템즈', '클라우드', '시대', '전통', '네트워크', '장...</td>\n",
              "    </tr>\n",
              "    <tr>\n",
              "      <th>1320046</th>\n",
              "      <td>네이버 등 소셜미디어 인증 통해 \\n서울시, 과태료 납부 서비스 제공 \\n\\n \\n...</td>\n",
              "      <td>['네이버', '소셜', '미디어', '인증', '서울시', '과태료', '납부',...</td>\n",
              "    </tr>\n",
              "    <tr>\n",
              "      <th>1320047</th>\n",
              "      <td>오는 9월16일까지 주프랑스한국문화원에서 개최하는 &lt;연등회: 빛과 색의 향연&gt; 특별...</td>\n",
              "      <td>['프랑스', '한국', '문화원', '개최', '연등회', '향연', '특별', ...</td>\n",
              "    </tr>\n",
              "    <tr>\n",
              "      <th>1320048</th>\n",
              "      <td>광주 동구에 위치한 국윤미술관이 오는 6월 23일까지 이상필 작가를 초대해 '미디어...</td>\n",
              "      <td>['광주', '동구', '위치', '미술관', '이상필', '작가', '초대', '...</td>\n",
              "    </tr>\n",
              "  </tbody>\n",
              "</table>\n",
              "</div>\n",
              "      <button class=\"colab-df-convert\" onclick=\"convertToInteractive('df-918c8f30-2d1b-4c34-809e-6660cad990db')\"\n",
              "              title=\"Convert this dataframe to an interactive table.\"\n",
              "              style=\"display:none;\">\n",
              "\n",
              "  <svg xmlns=\"http://www.w3.org/2000/svg\" height=\"24px\"viewBox=\"0 0 24 24\"\n",
              "       width=\"24px\">\n",
              "    <path d=\"M0 0h24v24H0V0z\" fill=\"none\"/>\n",
              "    <path d=\"M18.56 5.44l.94 2.06.94-2.06 2.06-.94-2.06-.94-.94-2.06-.94 2.06-2.06.94zm-11 1L8.5 8.5l.94-2.06 2.06-.94-2.06-.94L8.5 2.5l-.94 2.06-2.06.94zm10 10l.94 2.06.94-2.06 2.06-.94-2.06-.94-.94-2.06-.94 2.06-2.06.94z\"/><path d=\"M17.41 7.96l-1.37-1.37c-.4-.4-.92-.59-1.43-.59-.52 0-1.04.2-1.43.59L10.3 9.45l-7.72 7.72c-.78.78-.78 2.05 0 2.83L4 21.41c.39.39.9.59 1.41.59.51 0 1.02-.2 1.41-.59l7.78-7.78 2.81-2.81c.8-.78.8-2.07 0-2.86zM5.41 20L4 18.59l7.72-7.72 1.47 1.35L5.41 20z\"/>\n",
              "  </svg>\n",
              "      </button>\n",
              "\n",
              "\n",
              "\n",
              "    <div id=\"df-eda77585-95c5-458d-b8e6-9eb6116f7470\">\n",
              "      <button class=\"colab-df-quickchart\" onclick=\"quickchart('df-eda77585-95c5-458d-b8e6-9eb6116f7470')\"\n",
              "              title=\"Suggest charts.\"\n",
              "              style=\"display:none;\">\n",
              "\n",
              "<svg xmlns=\"http://www.w3.org/2000/svg\" height=\"24px\"viewBox=\"0 0 24 24\"\n",
              "     width=\"24px\">\n",
              "    <g>\n",
              "        <path d=\"M19 3H5c-1.1 0-2 .9-2 2v14c0 1.1.9 2 2 2h14c1.1 0 2-.9 2-2V5c0-1.1-.9-2-2-2zM9 17H7v-7h2v7zm4 0h-2V7h2v10zm4 0h-2v-4h2v4z\"/>\n",
              "    </g>\n",
              "</svg>\n",
              "      </button>\n",
              "    </div>\n",
              "\n",
              "<style>\n",
              "  .colab-df-quickchart {\n",
              "    background-color: #E8F0FE;\n",
              "    border: none;\n",
              "    border-radius: 50%;\n",
              "    cursor: pointer;\n",
              "    display: none;\n",
              "    fill: #1967D2;\n",
              "    height: 32px;\n",
              "    padding: 0 0 0 0;\n",
              "    width: 32px;\n",
              "  }\n",
              "\n",
              "  .colab-df-quickchart:hover {\n",
              "    background-color: #E2EBFA;\n",
              "    box-shadow: 0px 1px 2px rgba(60, 64, 67, 0.3), 0px 1px 3px 1px rgba(60, 64, 67, 0.15);\n",
              "    fill: #174EA6;\n",
              "  }\n",
              "\n",
              "  [theme=dark] .colab-df-quickchart {\n",
              "    background-color: #3B4455;\n",
              "    fill: #D2E3FC;\n",
              "  }\n",
              "\n",
              "  [theme=dark] .colab-df-quickchart:hover {\n",
              "    background-color: #434B5C;\n",
              "    box-shadow: 0px 1px 3px 1px rgba(0, 0, 0, 0.15);\n",
              "    filter: drop-shadow(0px 1px 2px rgba(0, 0, 0, 0.3));\n",
              "    fill: #FFFFFF;\n",
              "  }\n",
              "</style>\n",
              "\n",
              "    <script>\n",
              "      async function quickchart(key) {\n",
              "        const containerElement = document.querySelector('#' + key);\n",
              "        const charts = await google.colab.kernel.invokeFunction(\n",
              "            'suggestCharts', [key], {});\n",
              "      }\n",
              "    </script>\n",
              "\n",
              "      <script>\n",
              "\n",
              "function displayQuickchartButton(domScope) {\n",
              "  let quickchartButtonEl =\n",
              "    domScope.querySelector('#df-eda77585-95c5-458d-b8e6-9eb6116f7470 button.colab-df-quickchart');\n",
              "  quickchartButtonEl.style.display =\n",
              "    google.colab.kernel.accessAllowed ? 'block' : 'none';\n",
              "}\n",
              "\n",
              "        displayQuickchartButton(document);\n",
              "      </script>\n",
              "      <style>\n",
              "    .colab-df-container {\n",
              "      display:flex;\n",
              "      flex-wrap:wrap;\n",
              "      gap: 12px;\n",
              "    }\n",
              "\n",
              "    .colab-df-convert {\n",
              "      background-color: #E8F0FE;\n",
              "      border: none;\n",
              "      border-radius: 50%;\n",
              "      cursor: pointer;\n",
              "      display: none;\n",
              "      fill: #1967D2;\n",
              "      height: 32px;\n",
              "      padding: 0 0 0 0;\n",
              "      width: 32px;\n",
              "    }\n",
              "\n",
              "    .colab-df-convert:hover {\n",
              "      background-color: #E2EBFA;\n",
              "      box-shadow: 0px 1px 2px rgba(60, 64, 67, 0.3), 0px 1px 3px 1px rgba(60, 64, 67, 0.15);\n",
              "      fill: #174EA6;\n",
              "    }\n",
              "\n",
              "    [theme=dark] .colab-df-convert {\n",
              "      background-color: #3B4455;\n",
              "      fill: #D2E3FC;\n",
              "    }\n",
              "\n",
              "    [theme=dark] .colab-df-convert:hover {\n",
              "      background-color: #434B5C;\n",
              "      box-shadow: 0px 1px 3px 1px rgba(0, 0, 0, 0.15);\n",
              "      filter: drop-shadow(0px 1px 2px rgba(0, 0, 0, 0.3));\n",
              "      fill: #FFFFFF;\n",
              "    }\n",
              "  </style>\n",
              "\n",
              "      <script>\n",
              "        const buttonEl =\n",
              "          document.querySelector('#df-918c8f30-2d1b-4c34-809e-6660cad990db button.colab-df-convert');\n",
              "        buttonEl.style.display =\n",
              "          google.colab.kernel.accessAllowed ? 'block' : 'none';\n",
              "\n",
              "        async function convertToInteractive(key) {\n",
              "          const element = document.querySelector('#df-918c8f30-2d1b-4c34-809e-6660cad990db');\n",
              "          const dataTable =\n",
              "            await google.colab.kernel.invokeFunction('convertToInteractive',\n",
              "                                                     [key], {});\n",
              "          if (!dataTable) return;\n",
              "\n",
              "          const docLinkHtml = 'Like what you see? Visit the ' +\n",
              "            '<a target=\"_blank\" href=https://colab.research.google.com/notebooks/data_table.ipynb>data table notebook</a>'\n",
              "            + ' to learn more about interactive tables.';\n",
              "          element.innerHTML = '';\n",
              "          dataTable['output_type'] = 'display_data';\n",
              "          await google.colab.output.renderOutput(dataTable, element);\n",
              "          const docLink = document.createElement('div');\n",
              "          docLink.innerHTML = docLinkHtml;\n",
              "          element.appendChild(docLink);\n",
              "        }\n",
              "      </script>\n",
              "    </div>\n",
              "  </div>\n"
            ]
          },
          "metadata": {},
          "execution_count": 86
        }
      ]
    },
    {
      "cell_type": "code",
      "source": [
        "data.tail()"
      ],
      "metadata": {
        "colab": {
          "base_uri": "https://localhost:8080/",
          "height": 261
        },
        "id": "O6GG7mZy-ABu",
        "outputId": "0a84a818-c59c-419e-bb77-6ae1ef1de38b"
      },
      "execution_count": null,
      "outputs": [
        {
          "output_type": "stream",
          "name": "stderr",
          "text": [
            "/usr/local/lib/python3.10/dist-packages/ipykernel/ipkernel.py:283: DeprecationWarning: `should_run_async` will not call `transform_cell` automatically in the future. Please pass the result to `transformed_cell` argument and any exception that happen during thetransform in `preprocessing_exc_tuple` in IPython 7.17 and above.\n",
            "  and should_run_async(code)\n"
          ]
        },
        {
          "output_type": "execute_result",
          "data": {
            "text/plain": [
              "                                                  Contents  \\\n",
              "1320044  공주시가 국립공주대학교 공주학연구원(원장 유석호)과 함께 개최하는 '2022 디지털...   \n",
              "1320045  시스코시스템즈가 클라우드 시대에 접어들면서 전통적인 네트워크장비 공급업체에서 소프트...   \n",
              "1320046  네이버 등 소셜미디어 인증 통해 \\n서울시, 과태료 납부 서비스 제공 \\n\\n \\n...   \n",
              "1320047  오는 9월16일까지 주프랑스한국문화원에서 개최하는 <연등회: 빛과 색의 향연> 특별...   \n",
              "1320048  광주 동구에 위치한 국윤미술관이 오는 6월 23일까지 이상필 작가를 초대해 '미디어...   \n",
              "\n",
              "                                             ProcessedData  \n",
              "1320044  ['공주', '국립', '공주', '대학교', '공주', '학연', '구원', '원...  \n",
              "1320045  ['시스코', '시스템즈', '클라우드', '시대', '전통', '네트워크', '장...  \n",
              "1320046  ['네이버', '소셜', '미디어', '인증', '서울시', '과태료', '납부',...  \n",
              "1320047  ['프랑스', '한국', '문화원', '개최', '연등회', '향연', '특별', ...  \n",
              "1320048  ['광주', '동구', '위치', '미술관', '이상필', '작가', '초대', '...  "
            ],
            "text/html": [
              "\n",
              "\n",
              "  <div id=\"df-593611d0-7737-448f-bc4c-5c84e8b2699e\">\n",
              "    <div class=\"colab-df-container\">\n",
              "      <div>\n",
              "<style scoped>\n",
              "    .dataframe tbody tr th:only-of-type {\n",
              "        vertical-align: middle;\n",
              "    }\n",
              "\n",
              "    .dataframe tbody tr th {\n",
              "        vertical-align: top;\n",
              "    }\n",
              "\n",
              "    .dataframe thead th {\n",
              "        text-align: right;\n",
              "    }\n",
              "</style>\n",
              "<table border=\"1\" class=\"dataframe\">\n",
              "  <thead>\n",
              "    <tr style=\"text-align: right;\">\n",
              "      <th></th>\n",
              "      <th>Contents</th>\n",
              "      <th>ProcessedData</th>\n",
              "    </tr>\n",
              "  </thead>\n",
              "  <tbody>\n",
              "    <tr>\n",
              "      <th>1320044</th>\n",
              "      <td>공주시가 국립공주대학교 공주학연구원(원장 유석호)과 함께 개최하는 '2022 디지털...</td>\n",
              "      <td>['공주', '국립', '공주', '대학교', '공주', '학연', '구원', '원...</td>\n",
              "    </tr>\n",
              "    <tr>\n",
              "      <th>1320045</th>\n",
              "      <td>시스코시스템즈가 클라우드 시대에 접어들면서 전통적인 네트워크장비 공급업체에서 소프트...</td>\n",
              "      <td>['시스코', '시스템즈', '클라우드', '시대', '전통', '네트워크', '장...</td>\n",
              "    </tr>\n",
              "    <tr>\n",
              "      <th>1320046</th>\n",
              "      <td>네이버 등 소셜미디어 인증 통해 \\n서울시, 과태료 납부 서비스 제공 \\n\\n \\n...</td>\n",
              "      <td>['네이버', '소셜', '미디어', '인증', '서울시', '과태료', '납부',...</td>\n",
              "    </tr>\n",
              "    <tr>\n",
              "      <th>1320047</th>\n",
              "      <td>오는 9월16일까지 주프랑스한국문화원에서 개최하는 &lt;연등회: 빛과 색의 향연&gt; 특별...</td>\n",
              "      <td>['프랑스', '한국', '문화원', '개최', '연등회', '향연', '특별', ...</td>\n",
              "    </tr>\n",
              "    <tr>\n",
              "      <th>1320048</th>\n",
              "      <td>광주 동구에 위치한 국윤미술관이 오는 6월 23일까지 이상필 작가를 초대해 '미디어...</td>\n",
              "      <td>['광주', '동구', '위치', '미술관', '이상필', '작가', '초대', '...</td>\n",
              "    </tr>\n",
              "  </tbody>\n",
              "</table>\n",
              "</div>\n",
              "      <button class=\"colab-df-convert\" onclick=\"convertToInteractive('df-593611d0-7737-448f-bc4c-5c84e8b2699e')\"\n",
              "              title=\"Convert this dataframe to an interactive table.\"\n",
              "              style=\"display:none;\">\n",
              "\n",
              "  <svg xmlns=\"http://www.w3.org/2000/svg\" height=\"24px\"viewBox=\"0 0 24 24\"\n",
              "       width=\"24px\">\n",
              "    <path d=\"M0 0h24v24H0V0z\" fill=\"none\"/>\n",
              "    <path d=\"M18.56 5.44l.94 2.06.94-2.06 2.06-.94-2.06-.94-.94-2.06-.94 2.06-2.06.94zm-11 1L8.5 8.5l.94-2.06 2.06-.94-2.06-.94L8.5 2.5l-.94 2.06-2.06.94zm10 10l.94 2.06.94-2.06 2.06-.94-2.06-.94-.94-2.06-.94 2.06-2.06.94z\"/><path d=\"M17.41 7.96l-1.37-1.37c-.4-.4-.92-.59-1.43-.59-.52 0-1.04.2-1.43.59L10.3 9.45l-7.72 7.72c-.78.78-.78 2.05 0 2.83L4 21.41c.39.39.9.59 1.41.59.51 0 1.02-.2 1.41-.59l7.78-7.78 2.81-2.81c.8-.78.8-2.07 0-2.86zM5.41 20L4 18.59l7.72-7.72 1.47 1.35L5.41 20z\"/>\n",
              "  </svg>\n",
              "      </button>\n",
              "\n",
              "\n",
              "\n",
              "    <div id=\"df-c4e0db03-098d-4473-a4f6-daf676040367\">\n",
              "      <button class=\"colab-df-quickchart\" onclick=\"quickchart('df-c4e0db03-098d-4473-a4f6-daf676040367')\"\n",
              "              title=\"Suggest charts.\"\n",
              "              style=\"display:none;\">\n",
              "\n",
              "<svg xmlns=\"http://www.w3.org/2000/svg\" height=\"24px\"viewBox=\"0 0 24 24\"\n",
              "     width=\"24px\">\n",
              "    <g>\n",
              "        <path d=\"M19 3H5c-1.1 0-2 .9-2 2v14c0 1.1.9 2 2 2h14c1.1 0 2-.9 2-2V5c0-1.1-.9-2-2-2zM9 17H7v-7h2v7zm4 0h-2V7h2v10zm4 0h-2v-4h2v4z\"/>\n",
              "    </g>\n",
              "</svg>\n",
              "      </button>\n",
              "    </div>\n",
              "\n",
              "<style>\n",
              "  .colab-df-quickchart {\n",
              "    background-color: #E8F0FE;\n",
              "    border: none;\n",
              "    border-radius: 50%;\n",
              "    cursor: pointer;\n",
              "    display: none;\n",
              "    fill: #1967D2;\n",
              "    height: 32px;\n",
              "    padding: 0 0 0 0;\n",
              "    width: 32px;\n",
              "  }\n",
              "\n",
              "  .colab-df-quickchart:hover {\n",
              "    background-color: #E2EBFA;\n",
              "    box-shadow: 0px 1px 2px rgba(60, 64, 67, 0.3), 0px 1px 3px 1px rgba(60, 64, 67, 0.15);\n",
              "    fill: #174EA6;\n",
              "  }\n",
              "\n",
              "  [theme=dark] .colab-df-quickchart {\n",
              "    background-color: #3B4455;\n",
              "    fill: #D2E3FC;\n",
              "  }\n",
              "\n",
              "  [theme=dark] .colab-df-quickchart:hover {\n",
              "    background-color: #434B5C;\n",
              "    box-shadow: 0px 1px 3px 1px rgba(0, 0, 0, 0.15);\n",
              "    filter: drop-shadow(0px 1px 2px rgba(0, 0, 0, 0.3));\n",
              "    fill: #FFFFFF;\n",
              "  }\n",
              "</style>\n",
              "\n",
              "    <script>\n",
              "      async function quickchart(key) {\n",
              "        const containerElement = document.querySelector('#' + key);\n",
              "        const charts = await google.colab.kernel.invokeFunction(\n",
              "            'suggestCharts', [key], {});\n",
              "      }\n",
              "    </script>\n",
              "\n",
              "      <script>\n",
              "\n",
              "function displayQuickchartButton(domScope) {\n",
              "  let quickchartButtonEl =\n",
              "    domScope.querySelector('#df-c4e0db03-098d-4473-a4f6-daf676040367 button.colab-df-quickchart');\n",
              "  quickchartButtonEl.style.display =\n",
              "    google.colab.kernel.accessAllowed ? 'block' : 'none';\n",
              "}\n",
              "\n",
              "        displayQuickchartButton(document);\n",
              "      </script>\n",
              "      <style>\n",
              "    .colab-df-container {\n",
              "      display:flex;\n",
              "      flex-wrap:wrap;\n",
              "      gap: 12px;\n",
              "    }\n",
              "\n",
              "    .colab-df-convert {\n",
              "      background-color: #E8F0FE;\n",
              "      border: none;\n",
              "      border-radius: 50%;\n",
              "      cursor: pointer;\n",
              "      display: none;\n",
              "      fill: #1967D2;\n",
              "      height: 32px;\n",
              "      padding: 0 0 0 0;\n",
              "      width: 32px;\n",
              "    }\n",
              "\n",
              "    .colab-df-convert:hover {\n",
              "      background-color: #E2EBFA;\n",
              "      box-shadow: 0px 1px 2px rgba(60, 64, 67, 0.3), 0px 1px 3px 1px rgba(60, 64, 67, 0.15);\n",
              "      fill: #174EA6;\n",
              "    }\n",
              "\n",
              "    [theme=dark] .colab-df-convert {\n",
              "      background-color: #3B4455;\n",
              "      fill: #D2E3FC;\n",
              "    }\n",
              "\n",
              "    [theme=dark] .colab-df-convert:hover {\n",
              "      background-color: #434B5C;\n",
              "      box-shadow: 0px 1px 3px 1px rgba(0, 0, 0, 0.15);\n",
              "      filter: drop-shadow(0px 1px 2px rgba(0, 0, 0, 0.3));\n",
              "      fill: #FFFFFF;\n",
              "    }\n",
              "  </style>\n",
              "\n",
              "      <script>\n",
              "        const buttonEl =\n",
              "          document.querySelector('#df-593611d0-7737-448f-bc4c-5c84e8b2699e button.colab-df-convert');\n",
              "        buttonEl.style.display =\n",
              "          google.colab.kernel.accessAllowed ? 'block' : 'none';\n",
              "\n",
              "        async function convertToInteractive(key) {\n",
              "          const element = document.querySelector('#df-593611d0-7737-448f-bc4c-5c84e8b2699e');\n",
              "          const dataTable =\n",
              "            await google.colab.kernel.invokeFunction('convertToInteractive',\n",
              "                                                     [key], {});\n",
              "          if (!dataTable) return;\n",
              "\n",
              "          const docLinkHtml = 'Like what you see? Visit the ' +\n",
              "            '<a target=\"_blank\" href=https://colab.research.google.com/notebooks/data_table.ipynb>data table notebook</a>'\n",
              "            + ' to learn more about interactive tables.';\n",
              "          element.innerHTML = '';\n",
              "          dataTable['output_type'] = 'display_data';\n",
              "          await google.colab.output.renderOutput(dataTable, element);\n",
              "          const docLink = document.createElement('div');\n",
              "          docLink.innerHTML = docLinkHtml;\n",
              "          element.appendChild(docLink);\n",
              "        }\n",
              "      </script>\n",
              "    </div>\n",
              "  </div>\n"
            ]
          },
          "metadata": {},
          "execution_count": 87
        }
      ]
    },
    {
      "cell_type": "code",
      "source": [
        "Media_data = selected_data_Media"
      ],
      "metadata": {
        "colab": {
          "base_uri": "https://localhost:8080/"
        },
        "id": "s8G05Q5D-Pda",
        "outputId": "7a9087b0-73b4-407a-c1c9-397612354c2c"
      },
      "execution_count": null,
      "outputs": [
        {
          "output_type": "stream",
          "name": "stderr",
          "text": [
            "/usr/local/lib/python3.10/dist-packages/ipykernel/ipkernel.py:283: DeprecationWarning: `should_run_async` will not call `transform_cell` automatically in the future. Please pass the result to `transformed_cell` argument and any exception that happen during thetransform in `preprocessing_exc_tuple` in IPython 7.17 and above.\n",
            "  and should_run_async(code)\n"
          ]
        }
      ]
    },
    {
      "cell_type": "code",
      "source": [
        "vectorizer = TfidfVectorizer(stop_words='english', max_features= 1000)\n",
        "X = vectorizer.fit_transform(Media_data[PROCESSED_COL])"
      ],
      "metadata": {
        "colab": {
          "base_uri": "https://localhost:8080/"
        },
        "id": "AJ0urb5_-Pjk",
        "outputId": "ec3e9bce-0d32-4501-a25a-a0f0b36b2e74"
      },
      "execution_count": null,
      "outputs": [
        {
          "output_type": "stream",
          "name": "stderr",
          "text": [
            "/usr/local/lib/python3.10/dist-packages/ipykernel/ipkernel.py:283: DeprecationWarning: `should_run_async` will not call `transform_cell` automatically in the future. Please pass the result to `transformed_cell` argument and any exception that happen during thetransform in `preprocessing_exc_tuple` in IPython 7.17 and above.\n",
            "  and should_run_async(code)\n"
          ]
        }
      ]
    },
    {
      "cell_type": "code",
      "source": [
        "coherence_values = []\n",
        "model_list = []"
      ],
      "metadata": {
        "colab": {
          "base_uri": "https://localhost:8080/"
        },
        "id": "udf2-S-cM4Ks",
        "outputId": "4ea22947-8a1c-4e1e-e060-13ad5b6ffebb"
      },
      "execution_count": null,
      "outputs": [
        {
          "output_type": "stream",
          "name": "stderr",
          "text": [
            "/usr/local/lib/python3.10/dist-packages/ipykernel/ipkernel.py:283: DeprecationWarning: `should_run_async` will not call `transform_cell` automatically in the future. Please pass the result to `transformed_cell` argument and any exception that happen during thetransform in `preprocessing_exc_tuple` in IPython 7.17 and above.\n",
            "  and should_run_async(code)\n"
          ]
        }
      ]
    },
    {
      "cell_type": "code",
      "source": [
        "def compute_coherence_values(dictionary, corpus, texts, limit, start=2, step=1):\n",
        "    for num_topics in range(start, limit, step):\n",
        "#         model = pyLDAvis.gensim_models.wrappers.LdaMallet(mallet_path, corpus=corpus, num_topics=num_topics, id2word=id2word)\n",
        "#         model = gensim.models.wrappers.LdaMallet(mallet_path, corpus=corpus, num_topics=num_topics, id2word=id2word)\n",
        "        model = LdaModel(corpus=corpus, id2word=dictionary, num_topics=num_topics)\n",
        "        model_list.append(model)\n",
        "        coherencemodel = CoherenceModel(model=model, texts=texts, dictionary=dictionary, coherence='c_v')\n",
        "        coherence_values.append(coherencemodel.get_coherence())\n",
        "\n",
        "    return model_list, coherence_values"
      ],
      "metadata": {
        "colab": {
          "base_uri": "https://localhost:8080/"
        },
        "id": "8ZLIgjIXM_yL",
        "outputId": "f5b614c0-a5cd-4e9f-c124-8f2f4230dad3"
      },
      "execution_count": null,
      "outputs": [
        {
          "output_type": "stream",
          "name": "stderr",
          "text": [
            "/usr/local/lib/python3.10/dist-packages/ipykernel/ipkernel.py:283: DeprecationWarning: `should_run_async` will not call `transform_cell` automatically in the future. Please pass the result to `transformed_cell` argument and any exception that happen during thetransform in `preprocessing_exc_tuple` in IPython 7.17 and above.\n",
            "  and should_run_async(code)\n"
          ]
        }
      ]
    },
    {
      "cell_type": "code",
      "source": [
        "def find_optimal_number_of_topics(dictionary, corpus, processed_data, limit=8):\n",
        "    start = 1;\n",
        "    step = 1;\n",
        "\n",
        "    model_list, coherence_values = compute_coherence_values(dictionary=dictionary, corpus=corpus, texts=processed_data, start=start, limit=limit, step=step)\n",
        "\n",
        "    x = range(start, limit, step)\n",
        "    plt.plot(x, coherence_values)\n",
        "    plt.xlabel(\"Num Topics\")\n",
        "    plt.ylabel(\"Coherence score\")\n",
        "    plt.legend((\"coherence_values\"), loc='best')\n",
        "\n",
        "    dic = { coherence_values:x for x, coherence_values in zip(x, coherence_values) }\n",
        "\n",
        "    plt.text(dic[max(coherence_values)],min(coherence_values),\n",
        "             str(dic[max(coherence_values)]) + ' at MAX',\n",
        "             color='r',\n",
        "             horizontalalignment='center',\n",
        "             verticalalignment='bottom')\n",
        "\n",
        "    plt.show()\n",
        "\n",
        "    return dic[max(coherence_values)]"
      ],
      "metadata": {
        "colab": {
          "base_uri": "https://localhost:8080/"
        },
        "id": "oBnIegT2NBFB",
        "outputId": "ae0b1422-96f6-4098-d0b5-185352331886"
      },
      "execution_count": null,
      "outputs": [
        {
          "output_type": "stream",
          "name": "stderr",
          "text": [
            "/usr/local/lib/python3.10/dist-packages/ipykernel/ipkernel.py:283: DeprecationWarning: `should_run_async` will not call `transform_cell` automatically in the future. Please pass the result to `transformed_cell` argument and any exception that happen during thetransform in `preprocessing_exc_tuple` in IPython 7.17 and above.\n",
            "  and should_run_async(code)\n"
          ]
        }
      ]
    },
    {
      "cell_type": "code",
      "source": [
        "import ast\n",
        "\n",
        "Media_data['ProcessedData'] = Media_data['ProcessedData'].apply(ast.literal_eval)\n",
        "\n",
        "dictionary = corpora.Dictionary(Media_data['ProcessedData'])\n",
        "\n",
        "corpus = [dictionary.doc2bow(text) for text in Media_data['ProcessedData']]\n",
        "\n",
        "processed_data = Media_data['ProcessedData'].tolist()"
      ],
      "metadata": {
        "colab": {
          "base_uri": "https://localhost:8080/"
        },
        "id": "1SBE1Vea-Ptk",
        "outputId": "4cc15df0-a5c8-4e2d-a516-c3441cfc0a7b"
      },
      "execution_count": null,
      "outputs": [
        {
          "output_type": "stream",
          "name": "stderr",
          "text": [
            "/usr/local/lib/python3.10/dist-packages/ipykernel/ipkernel.py:283: DeprecationWarning: `should_run_async` will not call `transform_cell` automatically in the future. Please pass the result to `transformed_cell` argument and any exception that happen during thetransform in `preprocessing_exc_tuple` in IPython 7.17 and above.\n",
            "  and should_run_async(code)\n"
          ]
        }
      ]
    },
    {
      "cell_type": "code",
      "source": [
        "limit = 8\n",
        "NUM_TOPICS = find_optimal_number_of_topics(dictionary, corpus, processed_data, limit)"
      ],
      "metadata": {
        "colab": {
          "base_uri": "https://localhost:8080/",
          "height": 504
        },
        "id": "yoAxB2Dn-PwZ",
        "outputId": "883d092d-29c9-4461-da0d-313eed193455"
      },
      "execution_count": null,
      "outputs": [
        {
          "output_type": "stream",
          "name": "stderr",
          "text": [
            "/usr/local/lib/python3.10/dist-packages/ipykernel/ipkernel.py:283: DeprecationWarning: `should_run_async` will not call `transform_cell` automatically in the future. Please pass the result to `transformed_cell` argument and any exception that happen during thetransform in `preprocessing_exc_tuple` in IPython 7.17 and above.\n",
            "  and should_run_async(code)\n"
          ]
        },
        {
          "output_type": "display_data",
          "data": {
            "text/plain": [
              "<Figure size 640x480 with 1 Axes>"
            ],
            "image/png": "[encoded data removed]"
          },
          "metadata": {}
        }
      ]
    },
    {
      "cell_type": "code",
      "source": [
        "# LDA모델 생성\n",
        "lda_model = LatentDirichletAllocation(n_components=5, learning_method='online', random_state=42, max_iter=1)\n",
        "lda_top = lda_model.fit_transform(X)"
      ],
      "metadata": {
        "colab": {
          "base_uri": "https://localhost:8080/"
        },
        "id": "3JyxVZWA-zmu",
        "outputId": "e8dc6e08-64ba-4b8e-8742-f66ea3d3539c"
      },
      "execution_count": null,
      "outputs": [
        {
          "output_type": "stream",
          "name": "stderr",
          "text": [
            "/usr/local/lib/python3.10/dist-packages/ipykernel/ipkernel.py:283: DeprecationWarning: `should_run_async` will not call `transform_cell` automatically in the future. Please pass the result to `transformed_cell` argument and any exception that happen during thetransform in `preprocessing_exc_tuple` in IPython 7.17 and above.\n",
            "  and should_run_async(code)\n"
          ]
        }
      ]
    },
    {
      "cell_type": "code",
      "source": [
        "terms = vectorizer.get_feature_names_out()\n",
        "def get_topics2(components, terms):\n",
        "    topics = []\n",
        "    for topic_idx, topic in enumerate(components):\n",
        "        topic_terms = [(terms[i], topic[i]) for i in topic.argsort()[:-20 - 1:-1]]\n",
        "        topics.append((topic_idx, topic_terms))\n",
        "    return topics"
      ],
      "metadata": {
        "colab": {
          "base_uri": "https://localhost:8080/"
        },
        "id": "bAGs4FWc-zue",
        "outputId": "539298b5-fd99-4714-e795-beab946ff9f6"
      },
      "execution_count": null,
      "outputs": [
        {
          "output_type": "stream",
          "name": "stderr",
          "text": [
            "/usr/local/lib/python3.10/dist-packages/ipykernel/ipkernel.py:283: DeprecationWarning: `should_run_async` will not call `transform_cell` automatically in the future. Please pass the result to `transformed_cell` argument and any exception that happen during thetransform in `preprocessing_exc_tuple` in IPython 7.17 and above.\n",
            "  and should_run_async(code)\n"
          ]
        }
      ]
    },
    {
      "cell_type": "code",
      "source": [
        "Media_topics = get_topics2(lda_model.components_, terms)\n",
        "if Media_topics is not None:\n",
        "    df = pd.DataFrame(Media_topics, columns=['Topic', 'Terms'])\n",
        "else:\n",
        "    df = pd.DataFrame()"
      ],
      "metadata": {
        "colab": {
          "base_uri": "https://localhost:8080/"
        },
        "id": "B0tXyxLb-zxG",
        "outputId": "fcd50b7f-47eb-4009-817a-3fee47ab95ed"
      },
      "execution_count": null,
      "outputs": [
        {
          "output_type": "stream",
          "name": "stderr",
          "text": [
            "/usr/local/lib/python3.10/dist-packages/ipykernel/ipkernel.py:283: DeprecationWarning: `should_run_async` will not call `transform_cell` automatically in the future. Please pass the result to `transformed_cell` argument and any exception that happen during thetransform in `preprocessing_exc_tuple` in IPython 7.17 and above.\n",
            "  and should_run_async(code)\n"
          ]
        }
      ]
    },
    {
      "cell_type": "code",
      "source": [
        "Media_topics"
      ],
      "metadata": {
        "colab": {
          "base_uri": "https://localhost:8080/"
        },
        "id": "UJMjXHzX_HMc",
        "outputId": "1d43fd72-7f85-4d8a-858f-5c0b352f6f96"
      },
      "execution_count": null,
      "outputs": [
        {
          "output_type": "stream",
          "name": "stderr",
          "text": [
            "/usr/local/lib/python3.10/dist-packages/ipykernel/ipkernel.py:283: DeprecationWarning: `should_run_async` will not call `transform_cell` automatically in the future. Please pass the result to `transformed_cell` argument and any exception that happen during thetransform in `preprocessing_exc_tuple` in IPython 7.17 and above.\n",
            "  and should_run_async(code)\n"
          ]
        },
        {
          "output_type": "execute_result",
          "data": {
            "text/plain": [
              "[(0,\n",
              "  [('투자', 904.9936837444027),\n",
              "   ('기업', 764.6737645135673),\n",
              "   ('스타트업', 761.9348079359012),\n",
              "   ('콘텐츠', 695.0674401028085),\n",
              "   ('플랫', 632.7373452633567),\n",
              "   ('기자', 510.2682192628726),\n",
              "   ('기술', 479.8919866090376),\n",
              "   ('서비스', 458.8665592650404),\n",
              "   ('글로벌', 452.46936973000817),\n",
              "   ('국내', 408.20564042202915),\n",
              "   ('미디어', 400.10970801885094),\n",
              "   ('메타', 370.497149353631),\n",
              "   ('벤처', 364.2782446068203),\n",
              "   ('사업', 363.5621645680228),\n",
              "   ('대표', 351.19124200164276),\n",
              "   ('버스', 349.5845013203195),\n",
              "   ('시장', 347.1209507284285),\n",
              "   ('드라마', 338.1089439121813),\n",
              "   ('디지털', 322.6900636362139),\n",
              "   ('기사', 322.3583015970196)]),\n",
              " (1,\n",
              "  [('미국', 626.2643973004429),\n",
              "   ('현지', 543.8581952339806),\n",
              "   ('시간', 472.8714905864321),\n",
              "   ('중국', 431.0378810908805),\n",
              "   ('소셜', 322.0264703074633),\n",
              "   ('러시아', 316.27678960358537),\n",
              "   ('미디어', 305.8258514999157),\n",
              "   ('지수', 278.2819350050359),\n",
              "   ('우크라', 277.64905160959825),\n",
              "   ('삼성전자', 272.1610413757217),\n",
              "   ('스타', 255.32052118693844),\n",
              "   ('그룹', 253.06492090085248),\n",
              "   ('일본', 250.30404265521085),\n",
              "   ('증시', 249.99581693465737),\n",
              "   ('이날', 237.14882046953232),\n",
              "   ('영국', 236.52916845420563),\n",
              "   ('포인트', 235.2960495153637),\n",
              "   ('보도', 235.12729873542804),\n",
              "   ('올림픽', 215.13003365093275),\n",
              "   ('사진', 212.81168803385162)]),\n",
              " (2,\n",
              "  [('아트', 506.85258646124674),\n",
              "   ('전시', 450.4345026121724),\n",
              "   ('작가', 377.19351312280764),\n",
              "   ('작품', 368.26573090977075),\n",
              "   ('공연', 327.2501475043653),\n",
              "   ('미술관', 325.35009034750664),\n",
              "   ('예술', 318.887105622478),\n",
              "   ('미디어', 304.96344953183456),\n",
              "   ('축제', 296.9697529648135),\n",
              "   ('광장', 265.7280353803396),\n",
              "   ('문화', 263.83013691239006),\n",
              "   ('부산', 256.80583893008355),\n",
              "   ('공간', 251.52886664945356),\n",
              "   ('현대', 249.65561919130425),\n",
              "   ('지방', 246.03131930410805),\n",
              "   ('영화', 234.29498305720543),\n",
              "   ('개최', 203.08407846254732),\n",
              "   ('박물관', 202.415258338447),\n",
              "   ('제주', 196.37351660157123),\n",
              "   ('울산', 194.456536165579)]),\n",
              " (3,\n",
              "  [('교육', 640.1067666973973),\n",
              "   ('지역', 592.8290980202482),\n",
              "   ('문화', 551.0587947116092),\n",
              "   ('센터', 541.4549205519598),\n",
              "   ('미디어', 533.6677900773857),\n",
              "   ('기자', 384.30565708681854),\n",
              "   ('사업', 379.4318125870056),\n",
              "   ('도시', 362.68060522117827),\n",
              "   ('한국', 358.1297703302731),\n",
              "   ('지원', 355.2508398359751),\n",
              "   ('광주', 350.02722175758606),\n",
              "   ('관광', 326.1337841341029),\n",
              "   ('진행', 285.63180169605687),\n",
              "   ('서울시', 281.5613514940762),\n",
              "   ('재단', 280.4420740251175),\n",
              "   ('사회', 279.2059597027448),\n",
              "   ('대학', 273.36468419302605),\n",
              "   ('선정', 268.7252568856743),\n",
              "   ('대학교', 266.3043374626516),\n",
              "   ('경기', 265.3322373996914)]),\n",
              " (4,\n",
              "  [('국민', 481.30850307139633),\n",
              "   ('방송', 470.10166384814494),\n",
              "   ('후보', 435.83569719760663),\n",
              "   ('대통령', 380.1649154359536),\n",
              "   ('의원', 316.10053232759185),\n",
              "   ('민주당', 309.68759573901707),\n",
              "   ('선거', 292.2862502497251),\n",
              "   ('위원회', 271.70340186800587),\n",
              "   ('대선', 262.2488415475816),\n",
              "   ('윤석열', 259.27748693619066),\n",
              "   ('정부', 219.08152097935258),\n",
              "   ('위원장', 208.44912366334103),\n",
              "   ('변호사', 196.38907232160295),\n",
              "   ('뉴스', 192.63649636115383),\n",
              "   ('내용', 189.59688678697125),\n",
              "   ('조사', 187.917534802528),\n",
              "   ('언론', 186.02800634103934),\n",
              "   ('정치', 174.48099637324017),\n",
              "   ('라디오', 161.71650636960268),\n",
              "   ('기자', 153.1409595665781)])]"
            ]
          },
          "metadata": {},
          "execution_count": 106
        }
      ]
    },
    {
      "cell_type": "code",
      "source": [
        "topics_transformed = [(topic[0], word, value) for topic in Media_topics for word, value in topic[1]]\n",
        "df = pd.DataFrame(topics_transformed, columns=['Topic', 'Word', 'Value'])\n",
        "df.to_csv('/content/drive/MyDrive/졸업논문/AI Media/토픽분석_결과/Media_topics5.csv',index=False)"
      ],
      "metadata": {
        "colab": {
          "base_uri": "https://localhost:8080/"
        },
        "id": "3O0sN_dM-zzj",
        "outputId": "d222e477-0ba4-4a03-d610-186436b9d663"
      },
      "execution_count": null,
      "outputs": [
        {
          "output_type": "stream",
          "name": "stderr",
          "text": [
            "/usr/local/lib/python3.10/dist-packages/ipykernel/ipkernel.py:283: DeprecationWarning: `should_run_async` will not call `transform_cell` automatically in the future. Please pass the result to `transformed_cell` argument and any exception that happen during thetransform in `preprocessing_exc_tuple` in IPython 7.17 and above.\n",
            "  and should_run_async(code)\n"
          ]
        }
      ]
    }
  ]
}